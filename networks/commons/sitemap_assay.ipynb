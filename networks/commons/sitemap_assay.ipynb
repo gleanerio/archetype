{
 "cells": [
  {
   "cell_type": "markdown",
   "id": "51aacee9",
   "metadata": {},
   "source": [
    "# Sitemap Assay\n",
    "\n",
    "The start of a simple notebook that could hosted for peeopl to test out their sitemaps (and robots.txt) files with.\n",
    "\n",
    "References:\n",
    "* [AdvTools](https://advertools.readthedocs.io/en/master/advertools.sitemaps.html)\n",
    "* [Sitemap viz](https://www.ayima.com/us/insights/analytics-and-cro/how-to-visualize-an-xml-sitemap-using-python.html)\n",
    "\n",
    "\n",
    "<a href=\"https://githubtocolab.com/gee-community/geemap/blob/master/examples/notebooks/35_geemap_colab.ipynb\" target=\"_parent\"><img src=\"https://colab.research.google.com/assets/colab-badge.svg\" alt=\"Open in Colab\"/></a>\n",
    "\n"
   ]
  },
  {
   "cell_type": "markdown",
   "id": "bf9819de-30ca-47ff-a13d-263ef0333bd0",
   "metadata": {},
   "source": [
    "## Notes\n",
    "\n",
    "has json-ld :  https://researchdata.edu.au/imos-soop-underway-sep-2017/970828\n",
    "Validation:  https://validator.schema.org/#url=https%3A%2F%2Fresearchdata.edu.au%2Fimos-soop-underway-sep-2017%2F970828  \n",
    "\n",
    "\n",
    "doesn't:  https://researchdata.edu.au/heupel-michelle/1709766\n",
    "\n",
    "Validation   https://validator.schema.org/#url=https%3A%2F%2Fresearchdata.edu.au%2Fheupel-michelle%2F1709766\n",
    "\n",
    "\n",
    "Context as map:  https://www.w3.org/TR/json-ld/#context-definitions\n",
    "\n",
    "\n",
    "\n"
   ]
  },
  {
   "cell_type": "code",
   "execution_count": 1,
   "id": "ef1f0a5d",
   "metadata": {
    "tags": [],
    "ExecuteTime": {
     "end_time": "2023-10-12T16:10:19.656013287Z",
     "start_time": "2023-10-12T16:10:18.124167156Z"
    }
   },
   "outputs": [],
   "source": [
    "import warnings\n",
    "warnings.simplefilter(action='ignore', category=FutureWarning)\n",
    "\n",
    "import advertools as adv\n",
    "import json\n",
    "import requests\n",
    "from pyld import jsonld\n",
    "from bs4 import BeautifulSoup\n",
    "import urllib.request\n",
    "import logging\n",
    "import traceback\n",
    "import kglab\n",
    "import pandas as pd\n"
   ]
  },
  {
   "cell_type": "code",
   "execution_count": 2,
   "id": "ee61d05a",
   "metadata": {
    "tags": [],
    "ExecuteTime": {
     "end_time": "2023-10-12T16:10:27.013945235Z",
     "start_time": "2023-10-12T16:10:26.750112235Z"
    }
   },
   "outputs": [
    {
     "name": "stderr",
     "output_type": "stream",
     "text": [
      "2023-10-12 11:10:27,003 | INFO | sitemaps.py:536 | sitemap_to_df | Getting https://raw.githubusercontent.com/LTREB-reservoirs/vera4cast/gh-pages/sitemap.xml\n"
     ]
    },
    {
     "name": "stdout",
     "output_type": "stream",
     "text": [
      "CPU times: user 28.2 ms, sys: 2.13 ms, total: 30.3 ms\n",
      "Wall time: 257 ms\n"
     ]
    }
   ],
   "source": [
    "%%time \n",
    "\n",
    "# smurl = 'https://opencoredata.org/sitemap_0.xml'\n",
    "# smurl = 'https://www.bco-dmo.org/sitemap.xml'\n",
    "# smurl = 'https://opentopography.org/sitemap.xml'\n",
    "# smurl = 'https://www2.earthref.org/MagIC/contributions.sitemap.xml'\n",
    "# smurl = 'https://oceanscape.org/organisation-sitemap.xml'\n",
    "# smurl = 'https://catalogue.cioosatlantic.ca/sitemap/sitemap-1.xml'\n",
    "# smurl = 'https://obis.org/sitemap/sitemap_datasets.xml'\n",
    "# smurl = 'https://infohub.eurocean.net/sitemap/vessels'\n",
    "# smurl = 'https://raw.githubusercontent.com/iodepo/odis-arch/schema-dev-jm/code/notebooks/Exploration/data-pacificdatahub/sitemap.xml'\n",
    "# smurl = 'https://catalogue.cioospacific.ca/sitemap/sitemap-1.xml'\n",
    "# smurl = 'https://geonode.nodc.id/sitemap.xml'\n",
    "# smurl = \"https://lipdverse.org/sitemap.xml\"\n",
    "# smurl = \"https://pacificdata.org/organization/sitemap.xml\"\n",
    "# smurl = \"https://pacificdata.org/data/sitemap/cookislands-data/sitemap.xml\"\n",
    "# smurl = 'https://geoconnex.us/sitemap/ref/states/states__0.xml'\n",
    "# smurl = \"https://oceanscape.org/organisation-sitemap.xml\"\n",
    "# smurl = \"https://catalogue.cioos.ca/sitemap/sitemap.xml\"\n",
    "# smurl = \"https://geoconnex.us/sitemap.xml\"\n",
    "# smurl = \"https://ioc-africa.org/sitemap.xml\"\n",
    "# smurl = \"https://researchdata.edu.au/home/sitemap/?ds=64\"\n",
    "# smurl = \"https://uatweb.spc.links.com.au/sitemap.xml\"\n",
    "# smurl = \"https://uatweb.spc.links.com.au/sitemap.xml\"\n",
    "# smurl = \"https://pacificdata.org/organization/sitemap.xml\"\n",
    "# smurl = \"https://raw.githubusercontent.com/BeBOP-OBON/odis-interface/main/sitemap.xml\"\n",
    "# smurl = \"https://researchdata.edu.au/home/sitemap/?ds=64\"\n",
    "# smurl = \"https://catalogue.cioos.ca/sitemap/sitemap.xml\"\n",
    "# smurl = \"https://api.linked-systems.uk/sitemap_pap_api.xml\"\n",
    "# smurl = \"https://pacific-data.sprep.org/sitemap.xml\"\n",
    "# smurl = \"https://metadata.naturalsciences.be/geonetwork/srv/api/sitemap\"\n",
    "# smurl = \"https://emodnet.ec.europa.eu/geonetwork/srv/eng/portal.sitemap\"\n",
    "smurl = \"https://raw.githubusercontent.com/LTREB-reservoirs/vera4cast/gh-pages/sitemap.xml\"\n",
    "\n",
    "iow_sitemap = adv.sitemap_to_df(smurl) # load sitemap to dataframe via advertools\n",
    "# iow_sitemap.info()\n",
    "# iow_sitemap.head()"
   ]
  },
  {
   "cell_type": "markdown",
   "id": "8a46fe1a",
   "metadata": {},
   "source": [
    "## Analyzing the URLs\n",
    "\n",
    "We can quickly grab the unique URLs from the sitemap column and see how many unique sitemap.xml files we are working with\n",
    "\n",
    "We can also dive into the URL structure for the resources a bit."
   ]
  },
  {
   "cell_type": "code",
   "execution_count": 3,
   "id": "dea7c700-abf3-468a-b435-83fac93a4279",
   "metadata": {
    "tags": [],
    "ExecuteTime": {
     "end_time": "2023-10-12T16:10:28.145670250Z",
     "start_time": "2023-10-12T16:10:28.138238308Z"
    }
   },
   "outputs": [
    {
     "name": "stdout",
     "output_type": "stream",
     "text": [
      "1 unique sitemap XML file(s) pointing to 29 unique resource(s).\n"
     ]
    }
   ],
   "source": [
    "usm = iow_sitemap.sitemap.unique()\n",
    "uloc = iow_sitemap[\"loc\"].unique()\n",
    "print(\"{} unique sitemap XML file(s) pointing to {} unique resource(s).\".format(len(usm), len(uloc)))\n"
   ]
  },
  {
   "cell_type": "code",
   "execution_count": 4,
   "id": "710a7602",
   "metadata": {
    "collapsed": false,
    "tags": [],
    "ExecuteTime": {
     "end_time": "2023-10-12T16:10:28.510050305Z",
     "start_time": "2023-10-12T16:10:28.503191569Z"
    }
   },
   "outputs": [],
   "source": [
    "\n",
    "from urllib.parse import urlparse\n",
    "\n",
    "invalid_urls = []\n",
    "\n",
    "for url in uloc:\n",
    "    try:\n",
    "        result = urlparse(url)\n",
    "        if all([result.scheme, result.netloc]):\n",
    "            pass\n",
    "        else:\n",
    "            invalid_urls.append(url)\n",
    "    except ValueError:\n",
    "        print(f\"{url} is an exception URL\")\n",
    "        invalid_urls.append(url)\n",
    "\n",
    "\n",
    "df = pd.DataFrame({'Invalid URLs': invalid_urls})\n"
   ]
  },
  {
   "cell_type": "code",
   "execution_count": 5,
   "id": "0860ce39",
   "metadata": {
    "collapsed": false,
    "tags": [],
    "ExecuteTime": {
     "end_time": "2023-10-12T16:10:29.252686685Z",
     "start_time": "2023-10-12T16:10:29.246860688Z"
    }
   },
   "outputs": [
    {
     "data": {
      "text/plain": "Empty DataFrame\nColumns: [Invalid URLs]\nIndex: []",
      "text/html": "<div>\n<style scoped>\n    .dataframe tbody tr th:only-of-type {\n        vertical-align: middle;\n    }\n\n    .dataframe tbody tr th {\n        vertical-align: top;\n    }\n\n    .dataframe thead th {\n        text-align: right;\n    }\n</style>\n<table border=\"1\" class=\"dataframe\">\n  <thead>\n    <tr style=\"text-align: right;\">\n      <th></th>\n      <th>Invalid URLs</th>\n    </tr>\n  </thead>\n  <tbody>\n  </tbody>\n</table>\n</div>"
     },
     "execution_count": 5,
     "metadata": {},
     "output_type": "execute_result"
    }
   ],
   "source": [
    "df.head()"
   ]
  },
  {
   "cell_type": "code",
   "execution_count": 6,
   "id": "7bc2195f-c945-4c97-ae54-42195d19d8ee",
   "metadata": {
    "tags": [],
    "ExecuteTime": {
     "end_time": "2023-10-12T16:10:30.241396556Z",
     "start_time": "2023-10-12T16:10:30.234849667Z"
    }
   },
   "outputs": [],
   "source": [
    "from urllib.parse import urlparse\n",
    "\n",
    "valid_urls = []\n",
    "\n",
    "\n",
    "for url in uloc:\n",
    "    try:\n",
    "        result = urlparse(url)\n",
    "        if all([result.scheme, result.netloc]):\n",
    "            valid_urls.append(url)\n",
    "        else:\n",
    "            print(f\"Invalid URL: {url}\")\n",
    "    except ValueError:\n",
    "        print(f\"Invalid URL: {url}\")\n"
   ]
  },
  {
   "cell_type": "code",
   "execution_count": 7,
   "id": "74b21613",
   "metadata": {
    "collapsed": false,
    "tags": [],
    "ExecuteTime": {
     "end_time": "2023-10-12T16:10:31.692888187Z",
     "start_time": "2023-10-12T16:10:31.685638129Z"
    }
   },
   "outputs": [
    {
     "name": "stdout",
     "output_type": "stream",
     "text": [
      "<class 'pandas.core.frame.DataFrame'>\n",
      "RangeIndex: 29 entries, 0 to 28\n",
      "Data columns (total 10 columns):\n",
      " #   Column    Non-Null Count  Dtype  \n",
      "---  ------    --------------  -----  \n",
      " 0   url       29 non-null     object \n",
      " 1   scheme    29 non-null     object \n",
      " 2   netloc    29 non-null     object \n",
      " 3   path      29 non-null     object \n",
      " 4   query     0 non-null      float64\n",
      " 5   fragment  25 non-null     object \n",
      " 6   hostname  4 non-null      object \n",
      " 7   dir_1     29 non-null     object \n",
      " 8   dir_2     4 non-null      object \n",
      " 9   last_dir  29 non-null     object \n",
      "dtypes: float64(1), object(9)\n",
      "memory usage: 2.4+ KB\n"
     ]
    }
   ],
   "source": [
    "\n",
    "# Break down all the URL into their path parts\n",
    "urldf = adv.url_to_df(list(iow_sitemap['loc']))\n",
    "# urldf = adv.url_to_df(list(uloc))\n",
    "\n",
    "urldf.info()"
   ]
  },
  {
   "cell_type": "code",
   "execution_count": 8,
   "outputs": [
    {
     "data": {
      "text/plain": "                                                 url scheme  \\\n0  https://LTREB-reservoirs.github.io/vera4cast/c...  https   \n1  https://LTREB-reservoirs.github.io/vera4cast/i...  https   \n2  https://LTREB-reservoirs.github.io/vera4cast/d...  https   \n3  https://LTREB-reservoirs.github.io/vera4cast/i...  https   \n4  https://radiantearth.github.io/stac-browser/#/...  https   \n\n                       netloc                          path  query  \\\n0  LTREB-reservoirs.github.io       /vera4cast/catalog.html    NaN   \n1  LTREB-reservoirs.github.io  /vera4cast/instructions.html    NaN   \n2  LTREB-reservoirs.github.io         /vera4cast/daily.html    NaN   \n3  LTREB-reservoirs.github.io         /vera4cast/index.html    NaN   \n4      radiantearth.github.io                /stac-browser/    NaN   \n\n                                            fragment  \\\n0                                                NaN   \n1                                                NaN   \n2                                                NaN   \n3                                                NaN   \n4  /external/raw.githubusercontent.com/LTREB-rese...   \n\n                     hostname         dir_1              dir_2  \\\n0  ltreb-reservoirs.github.io     vera4cast       catalog.html   \n1  ltreb-reservoirs.github.io     vera4cast  instructions.html   \n2  ltreb-reservoirs.github.io     vera4cast         daily.html   \n3  ltreb-reservoirs.github.io     vera4cast         index.html   \n4                         NaN  stac-browser                NaN   \n\n            last_dir  \n0       catalog.html  \n1  instructions.html  \n2         daily.html  \n3         index.html  \n4       stac-browser  ",
      "text/html": "<div>\n<style scoped>\n    .dataframe tbody tr th:only-of-type {\n        vertical-align: middle;\n    }\n\n    .dataframe tbody tr th {\n        vertical-align: top;\n    }\n\n    .dataframe thead th {\n        text-align: right;\n    }\n</style>\n<table border=\"1\" class=\"dataframe\">\n  <thead>\n    <tr style=\"text-align: right;\">\n      <th></th>\n      <th>url</th>\n      <th>scheme</th>\n      <th>netloc</th>\n      <th>path</th>\n      <th>query</th>\n      <th>fragment</th>\n      <th>hostname</th>\n      <th>dir_1</th>\n      <th>dir_2</th>\n      <th>last_dir</th>\n    </tr>\n  </thead>\n  <tbody>\n    <tr>\n      <th>0</th>\n      <td>https://LTREB-reservoirs.github.io/vera4cast/c...</td>\n      <td>https</td>\n      <td>LTREB-reservoirs.github.io</td>\n      <td>/vera4cast/catalog.html</td>\n      <td>NaN</td>\n      <td>NaN</td>\n      <td>ltreb-reservoirs.github.io</td>\n      <td>vera4cast</td>\n      <td>catalog.html</td>\n      <td>catalog.html</td>\n    </tr>\n    <tr>\n      <th>1</th>\n      <td>https://LTREB-reservoirs.github.io/vera4cast/i...</td>\n      <td>https</td>\n      <td>LTREB-reservoirs.github.io</td>\n      <td>/vera4cast/instructions.html</td>\n      <td>NaN</td>\n      <td>NaN</td>\n      <td>ltreb-reservoirs.github.io</td>\n      <td>vera4cast</td>\n      <td>instructions.html</td>\n      <td>instructions.html</td>\n    </tr>\n    <tr>\n      <th>2</th>\n      <td>https://LTREB-reservoirs.github.io/vera4cast/d...</td>\n      <td>https</td>\n      <td>LTREB-reservoirs.github.io</td>\n      <td>/vera4cast/daily.html</td>\n      <td>NaN</td>\n      <td>NaN</td>\n      <td>ltreb-reservoirs.github.io</td>\n      <td>vera4cast</td>\n      <td>daily.html</td>\n      <td>daily.html</td>\n    </tr>\n    <tr>\n      <th>3</th>\n      <td>https://LTREB-reservoirs.github.io/vera4cast/i...</td>\n      <td>https</td>\n      <td>LTREB-reservoirs.github.io</td>\n      <td>/vera4cast/index.html</td>\n      <td>NaN</td>\n      <td>NaN</td>\n      <td>ltreb-reservoirs.github.io</td>\n      <td>vera4cast</td>\n      <td>index.html</td>\n      <td>index.html</td>\n    </tr>\n    <tr>\n      <th>4</th>\n      <td>https://radiantearth.github.io/stac-browser/#/...</td>\n      <td>https</td>\n      <td>radiantearth.github.io</td>\n      <td>/stac-browser/</td>\n      <td>NaN</td>\n      <td>/external/raw.githubusercontent.com/LTREB-rese...</td>\n      <td>NaN</td>\n      <td>stac-browser</td>\n      <td>NaN</td>\n      <td>stac-browser</td>\n    </tr>\n  </tbody>\n</table>\n</div>"
     },
     "execution_count": 8,
     "metadata": {},
     "output_type": "execute_result"
    }
   ],
   "source": [
    "urldf.head()\n"
   ],
   "metadata": {
    "collapsed": false,
    "ExecuteTime": {
     "end_time": "2023-10-12T16:10:32.836205718Z",
     "start_time": "2023-10-12T16:10:32.825378101Z"
    }
   },
   "id": "28759c5d73b659bf"
  },
  {
   "cell_type": "markdown",
   "id": "9e806ba0",
   "metadata": {},
   "source": [
    "## Sample and test sitemap entries"
   ]
  },
  {
   "cell_type": "code",
   "execution_count": 9,
   "id": "20e46dd2",
   "metadata": {
    "tags": [],
    "ExecuteTime": {
     "end_time": "2023-10-12T16:10:36.850175938Z",
     "start_time": "2023-10-12T16:10:36.842032985Z"
    }
   },
   "outputs": [],
   "source": [
    "# sample the previously generated url data frame\n",
    "sample_size = 5\n",
    "# sample_df = urldf.groupby(\"dir_1\").sample(n=sample_size, random_state=1, replace=True)\n",
    "sample_df = urldf.sample(n=sample_size, random_state=1, replace=True)"
   ]
  },
  {
   "cell_type": "code",
   "execution_count": 10,
   "id": "b725c4ca",
   "metadata": {
    "tags": [],
    "ExecuteTime": {
     "end_time": "2023-10-12T16:10:37.292617717Z",
     "start_time": "2023-10-12T16:10:37.288943947Z"
    }
   },
   "outputs": [
    {
     "data": {
      "text/plain": "                                                  url scheme  \\\n5   https://radiantearth.github.io/stac-browser/#/...  https   \n11  https://radiantearth.github.io/stac-browser/#/...  https   \n12  https://radiantearth.github.io/stac-browser/#/...  https   \n8   https://radiantearth.github.io/stac-browser/#/...  https   \n9   https://radiantearth.github.io/stac-browser/#/...  https   \n\n                    netloc            path  query  \\\n5   radiantearth.github.io  /stac-browser/    NaN   \n11  radiantearth.github.io  /stac-browser/    NaN   \n12  radiantearth.github.io  /stac-browser/    NaN   \n8   radiantearth.github.io  /stac-browser/    NaN   \n9   radiantearth.github.io  /stac-browser/    NaN   \n\n                                             fragment hostname         dir_1  \\\n5   /external/raw.githubusercontent.com/LTREB-rese...      NaN  stac-browser   \n11  /external/raw.githubusercontent.com/LTREB-rese...      NaN  stac-browser   \n12  /external/raw.githubusercontent.com/LTREB-rese...      NaN  stac-browser   \n8   /external/raw.githubusercontent.com/LTREB-rese...      NaN  stac-browser   \n9   /external/raw.githubusercontent.com/LTREB-rese...      NaN  stac-browser   \n\n   dir_2      last_dir  \n5    NaN  stac-browser  \n11   NaN  stac-browser  \n12   NaN  stac-browser  \n8    NaN  stac-browser  \n9    NaN  stac-browser  ",
      "text/html": "<div>\n<style scoped>\n    .dataframe tbody tr th:only-of-type {\n        vertical-align: middle;\n    }\n\n    .dataframe tbody tr th {\n        vertical-align: top;\n    }\n\n    .dataframe thead th {\n        text-align: right;\n    }\n</style>\n<table border=\"1\" class=\"dataframe\">\n  <thead>\n    <tr style=\"text-align: right;\">\n      <th></th>\n      <th>url</th>\n      <th>scheme</th>\n      <th>netloc</th>\n      <th>path</th>\n      <th>query</th>\n      <th>fragment</th>\n      <th>hostname</th>\n      <th>dir_1</th>\n      <th>dir_2</th>\n      <th>last_dir</th>\n    </tr>\n  </thead>\n  <tbody>\n    <tr>\n      <th>5</th>\n      <td>https://radiantearth.github.io/stac-browser/#/...</td>\n      <td>https</td>\n      <td>radiantearth.github.io</td>\n      <td>/stac-browser/</td>\n      <td>NaN</td>\n      <td>/external/raw.githubusercontent.com/LTREB-rese...</td>\n      <td>NaN</td>\n      <td>stac-browser</td>\n      <td>NaN</td>\n      <td>stac-browser</td>\n    </tr>\n    <tr>\n      <th>11</th>\n      <td>https://radiantearth.github.io/stac-browser/#/...</td>\n      <td>https</td>\n      <td>radiantearth.github.io</td>\n      <td>/stac-browser/</td>\n      <td>NaN</td>\n      <td>/external/raw.githubusercontent.com/LTREB-rese...</td>\n      <td>NaN</td>\n      <td>stac-browser</td>\n      <td>NaN</td>\n      <td>stac-browser</td>\n    </tr>\n    <tr>\n      <th>12</th>\n      <td>https://radiantearth.github.io/stac-browser/#/...</td>\n      <td>https</td>\n      <td>radiantearth.github.io</td>\n      <td>/stac-browser/</td>\n      <td>NaN</td>\n      <td>/external/raw.githubusercontent.com/LTREB-rese...</td>\n      <td>NaN</td>\n      <td>stac-browser</td>\n      <td>NaN</td>\n      <td>stac-browser</td>\n    </tr>\n    <tr>\n      <th>8</th>\n      <td>https://radiantearth.github.io/stac-browser/#/...</td>\n      <td>https</td>\n      <td>radiantearth.github.io</td>\n      <td>/stac-browser/</td>\n      <td>NaN</td>\n      <td>/external/raw.githubusercontent.com/LTREB-rese...</td>\n      <td>NaN</td>\n      <td>stac-browser</td>\n      <td>NaN</td>\n      <td>stac-browser</td>\n    </tr>\n    <tr>\n      <th>9</th>\n      <td>https://radiantearth.github.io/stac-browser/#/...</td>\n      <td>https</td>\n      <td>radiantearth.github.io</td>\n      <td>/stac-browser/</td>\n      <td>NaN</td>\n      <td>/external/raw.githubusercontent.com/LTREB-rese...</td>\n      <td>NaN</td>\n      <td>stac-browser</td>\n      <td>NaN</td>\n      <td>stac-browser</td>\n    </tr>\n  </tbody>\n</table>\n</div>"
     },
     "execution_count": 10,
     "metadata": {},
     "output_type": "execute_result"
    }
   ],
   "source": [
    "sample_df.head(5)"
   ]
  },
  {
   "cell_type": "markdown",
   "id": "c58bee8f",
   "metadata": {},
   "source": [
    "### See if the URLs resolve"
   ]
  },
  {
   "cell_type": "code",
   "execution_count": 11,
   "id": "0c22245d",
   "metadata": {
    "tags": [],
    "ExecuteTime": {
     "end_time": "2023-10-12T16:10:43.592340539Z",
     "start_time": "2023-10-12T16:10:43.219770118Z"
    }
   },
   "outputs": [
    {
     "name": "stdout",
     "output_type": "stream",
     "text": [
      "URL: https://radiantearth.github.io/stac-browser/#/external/raw.githubusercontent.com/LTREB-reservoirs/vera4cast/main/catalog/forecasts/Biological/Chla_ugL_mean/collection.json \n",
      "URL: https://radiantearth.github.io/stac-browser/#/external/raw.githubusercontent.com/LTREB-reservoirs/vera4cast/main/catalog/forecasts/models/model_items/TESTclimatology.json \n",
      "URL: https://radiantearth.github.io/stac-browser/#/external/raw.githubusercontent.com/LTREB-reservoirs/vera4cast/main/catalog/forecasts/models/model_items/climatology.json \n",
      "URL: https://radiantearth.github.io/stac-browser/#/external/raw.githubusercontent.com/LTREB-reservoirs/vera4cast/main/catalog/forecasts/Physical/collection.json \n",
      "URL: https://radiantearth.github.io/stac-browser/#/external/raw.githubusercontent.com/LTREB-reservoirs/vera4cast/main/catalog/forecasts/collection.json \n"
     ]
    }
   ],
   "source": [
    "import urllib.request\n",
    "import requests\n",
    "\n",
    "ul = sample_df[\"url\"]\n",
    "\n",
    "for item in ul:\n",
    "    # user_agent = 'Mozilla/5.0 (Windows; U; Windows NT 5.1; en-US; rv:1.9.0.7) Gecko/2009021910 Firefox/3.0.7'\n",
    "    # headers={'User-Agent':user_agent,}\n",
    "\n",
    "    headers= {'User-Agent': 'Mozilla/5.0 (X11; Linux x86_64) '\n",
    "                           'AppleWebKit/537.11 (KHTML, like Gecko) '\n",
    "                           'Chrome/23.0.1271.64 Safari/537.11',\n",
    "             'Accept': 'text/html,application/xhtml+xml,application/xml;q=0.9,*/*;q=0.8',\n",
    "             'Accept-Charset': 'ISO-8859-1,utf-8;q=0.7,*;q=0.3',\n",
    "             'Accept-Encoding': 'none',\n",
    "             'Accept-Language': 'en-US,en;q=0.8',\n",
    "             'Connection': 'keep-alive'}\n",
    "\n",
    "    try:\n",
    "        # x = requests.get(item)\n",
    "        # code = x.status_code\n",
    "        request=urllib.request.Request(url=item, headers=headers) #The assembled request\n",
    "        with urllib.request.urlopen(request) as response:\n",
    "            info = response.info()\n",
    "            dtype = info.get_content_type()    # -> text/html\n",
    "         # headers = x.headers()\n",
    "        # print(\"URL: {} \\ninfo : {}\\n --\".format(item, info))\n",
    "        print(\"URL: {} \".format(item))\n",
    "    except Exception as e:\n",
    "        # code = x.status_code\n",
    "        # dtype = info.get_content_type()\n",
    "\n",
    "        print(\"Exception on: {} \\nerrors : {}\\n --\".format(item, str(e)))\n"
   ]
  },
  {
   "cell_type": "markdown",
   "id": "ed2bcab8",
   "metadata": {},
   "source": [
    "### See if they have JSON-LD (static check only, no dynamically loaded JSON-LD yet)"
   ]
  },
  {
   "cell_type": "code",
   "execution_count": 12,
   "id": "cd25210a",
   "metadata": {
    "tags": [],
    "ExecuteTime": {
     "end_time": "2023-10-12T16:10:45.528629103Z",
     "start_time": "2023-10-12T16:10:45.212119223Z"
    }
   },
   "outputs": [
    {
     "name": "stderr",
     "output_type": "stream",
     "text": [
      "2023-10-12 11:10:45,267 | ERROR | <ipython-input-12-7deccc5a4788>:25 | <module> | Traceback (most recent call last):\n",
      "  File \"<ipython-input-12-7deccc5a4788>\", line 23, in <module>\n",
      "    print(\"JSON byte size: {} \".format(len(p.contents[0])))\n",
      "AttributeError: 'NoneType' object has no attribute 'contents'\n",
      "\n",
      "2023-10-12 11:10:45,321 | ERROR | <ipython-input-12-7deccc5a4788>:25 | <module> | Traceback (most recent call last):\n",
      "  File \"<ipython-input-12-7deccc5a4788>\", line 23, in <module>\n",
      "    print(\"JSON byte size: {} \".format(len(p.contents[0])))\n",
      "AttributeError: 'NoneType' object has no attribute 'contents'\n",
      "\n",
      "2023-10-12 11:10:45,375 | ERROR | <ipython-input-12-7deccc5a4788>:25 | <module> | Traceback (most recent call last):\n",
      "  File \"<ipython-input-12-7deccc5a4788>\", line 23, in <module>\n",
      "    print(\"JSON byte size: {} \".format(len(p.contents[0])))\n",
      "AttributeError: 'NoneType' object has no attribute 'contents'\n",
      "\n"
     ]
    },
    {
     "name": "stdout",
     "output_type": "stream",
     "text": [
      "https://radiantearth.github.io/stac-browser/#/external/raw.githubusercontent.com/LTREB-reservoirs/vera4cast/main/catalog/forecasts/Biological/Chla_ugL_mean/collection.json\n",
      "None\n",
      "https://radiantearth.github.io/stac-browser/#/external/raw.githubusercontent.com/LTREB-reservoirs/vera4cast/main/catalog/forecasts/models/model_items/TESTclimatology.json\n",
      "None\n",
      "https://radiantearth.github.io/stac-browser/#/external/raw.githubusercontent.com/LTREB-reservoirs/vera4cast/main/catalog/forecasts/models/model_items/climatology.json\n",
      "None\n",
      "https://radiantearth.github.io/stac-browser/#/external/raw.githubusercontent.com/LTREB-reservoirs/vera4cast/main/catalog/forecasts/Physical/collection.json\n"
     ]
    },
    {
     "name": "stderr",
     "output_type": "stream",
     "text": [
      "2023-10-12 11:10:45,430 | ERROR | <ipython-input-12-7deccc5a4788>:25 | <module> | Traceback (most recent call last):\n",
      "  File \"<ipython-input-12-7deccc5a4788>\", line 23, in <module>\n",
      "    print(\"JSON byte size: {} \".format(len(p.contents[0])))\n",
      "AttributeError: 'NoneType' object has no attribute 'contents'\n",
      "\n",
      "2023-10-12 11:10:45,484 | ERROR | <ipython-input-12-7deccc5a4788>:25 | <module> | Traceback (most recent call last):\n",
      "  File \"<ipython-input-12-7deccc5a4788>\", line 23, in <module>\n",
      "    print(\"JSON byte size: {} \".format(len(p.contents[0])))\n",
      "AttributeError: 'NoneType' object has no attribute 'contents'\n",
      "\n"
     ]
    },
    {
     "name": "stdout",
     "output_type": "stream",
     "text": [
      "None\n",
      "https://radiantearth.github.io/stac-browser/#/external/raw.githubusercontent.com/LTREB-reservoirs/vera4cast/main/catalog/forecasts/collection.json\n",
      "None\n"
     ]
    }
   ],
   "source": [
    "ul = sample_df[\"url\"]\n",
    "\n",
    "headers= {'User-Agent': 'Mozilla/5.0 (X11; Linux x86_64) '\n",
    "                        'AppleWebKit/537.11 (KHTML, like Gecko) '\n",
    "                        'Chrome/23.0.1271.64 Safari/537.11',\n",
    "          'Accept': 'application/ld+json,text/html,application/xhtml+xml,application/xml;q=0.9,*/*;q=0.8',\n",
    "          'Accept-Charset': 'ISO-8859-1,utf-8;q=0.7,*;q=0.3',\n",
    "          'Accept-Encoding': 'none',\n",
    "          'Accept-Language': 'en-US,en;q=0.8',\n",
    "          'Connection': 'keep-alive'}\n",
    "\n",
    "for item in ul:\n",
    "    print(item)\n",
    "    request=urllib.request.Request(url=item, headers=headers)\n",
    "    # p = urllib.request.urlopen(request).read()\n",
    "    \n",
    "    html = urllib.request.urlopen(request).read()\n",
    "    soup = BeautifulSoup(html, \"html.parser\")\n",
    "    p = soup.find('script', {'type':'application/ld+json'})\n",
    "    try:\n",
    "        # print(\"JSON byte size: {} \".format(len(p)))\n",
    "        print(p)\n",
    "        print(\"JSON byte size: {} \".format(len(p.contents[0])))\n",
    "    except Exception as e:\n",
    "        logging.error(traceback.format_exc())"
   ]
  },
  {
   "cell_type": "markdown",
   "id": "b8875457",
   "metadata": {},
   "source": [
    "### Check JSON-LD structure (static check only, no dynamically loaded JSON-LD yet)"
   ]
  },
  {
   "cell_type": "code",
   "execution_count": 13,
   "id": "cd83aa38-7d5f-48d1-bdb2-12cadd72a9dc",
   "metadata": {
    "tags": [],
    "ExecuteTime": {
     "end_time": "2023-10-12T16:10:50.405426392Z",
     "start_time": "2023-10-12T16:10:50.098423666Z"
    }
   },
   "outputs": [
    {
     "name": "stderr",
     "output_type": "stream",
     "text": [
      "2023-10-12 11:10:50,151 | ERROR | <ipython-input-13-9d11dcc3fcb5>:34 | <module> | Traceback (most recent call last):\n",
      "  File \"<ipython-input-13-9d11dcc3fcb5>\", line 26, in <module>\n",
      "    jld = json.loads(p.contents[0])\n",
      "AttributeError: 'NoneType' object has no attribute 'contents'\n",
      "\n",
      "2023-10-12 11:10:50,205 | ERROR | <ipython-input-13-9d11dcc3fcb5>:34 | <module> | Traceback (most recent call last):\n",
      "  File \"<ipython-input-13-9d11dcc3fcb5>\", line 26, in <module>\n",
      "    jld = json.loads(p.contents[0])\n",
      "AttributeError: 'NoneType' object has no attribute 'contents'\n",
      "\n",
      "2023-10-12 11:10:50,257 | ERROR | <ipython-input-13-9d11dcc3fcb5>:34 | <module> | Traceback (most recent call last):\n",
      "  File \"<ipython-input-13-9d11dcc3fcb5>\", line 26, in <module>\n",
      "    jld = json.loads(p.contents[0])\n",
      "AttributeError: 'NoneType' object has no attribute 'contents'\n",
      "\n",
      "2023-10-12 11:10:50,310 | ERROR | <ipython-input-13-9d11dcc3fcb5>:34 | <module> | Traceback (most recent call last):\n",
      "  File \"<ipython-input-13-9d11dcc3fcb5>\", line 26, in <module>\n",
      "    jld = json.loads(p.contents[0])\n",
      "AttributeError: 'NoneType' object has no attribute 'contents'\n",
      "\n"
     ]
    },
    {
     "name": "stdout",
     "output_type": "stream",
     "text": [
      "Exception\n",
      "Exception\n",
      "Exception\n",
      "Exception\n"
     ]
    },
    {
     "name": "stderr",
     "output_type": "stream",
     "text": [
      "2023-10-12 11:10:50,363 | ERROR | <ipython-input-13-9d11dcc3fcb5>:34 | <module> | Traceback (most recent call last):\n",
      "  File \"<ipython-input-13-9d11dcc3fcb5>\", line 26, in <module>\n",
      "    jld = json.loads(p.contents[0])\n",
      "AttributeError: 'NoneType' object has no attribute 'contents'\n",
      "\n"
     ]
    },
    {
     "name": "stdout",
     "output_type": "stream",
     "text": [
      "Exception\n"
     ]
    }
   ],
   "source": [
    "ul = sample_df[\"url\"]\n",
    "\n",
    "myframe =  {\n",
    "    \"@context\":{\"@vocab\": \"http://schema.org/\"},\n",
    "    \"@type\": \"Dataset\",\n",
    "}\n",
    "\n",
    "context =  { \"@vocab\": \"http://schema.org/\" }\n",
    "\n",
    "headers= {'User-Agent': 'Mozilla/5.0 (X11; Linux x86_64) '\n",
    "                        'AppleWebKit/537.11 (KHTML, like Gecko) '\n",
    "                        'Chrome/23.0.1271.64 Safari/537.11',\n",
    "          'Accept': 'application/ld+json,text/html,application/xhtml+xml,application/xml;q=0.9,*/*;q=0.8',\n",
    "          'Accept-Charset': 'ISO-8859-1,utf-8;q=0.7,*;q=0.3',\n",
    "          'Accept-Encoding': 'none',\n",
    "          'Accept-Language': 'en-US,en;q=0.8',\n",
    "          'Connection': 'keep-alive'}\n",
    "\n",
    "for item in ul:\n",
    "    request=urllib.request.Request(url=item, headers=headers)\n",
    "    # p = urllib.request.urlopen(request).read()\n",
    "    html = urllib.request.urlopen(request).read()\n",
    "    soup = BeautifulSoup(html, \"html.parser\")\n",
    "    p = soup.find('script', {'type':'application/ld+json'})\n",
    "    try:\n",
    "        jld = json.loads(p.contents[0])\n",
    "        # jld = json.loads(p)\n",
    "\n",
    "        # print(str(jld))\n",
    "        # compacted = jsonld.compact(str(jld), context)\n",
    "        # print(len(json.dumps(compacted, indent=2)))\n",
    "    except Exception as e:\n",
    "        print(\"Exception\")\n",
    "        logging.error(traceback.format_exc())"
   ]
  },
  {
   "cell_type": "markdown",
   "id": "c3c3f714",
   "metadata": {},
   "source": [
    "## Load to Graph\"\n",
    "\n",
    "Looad a sample set of triples into RDF lib and run a sample SPARQL query on them.\n",
    "\n",
    "### Note\n",
    "This is the same loop as above but now we will load into a KG graph"
   ]
  },
  {
   "cell_type": "code",
   "execution_count": 19,
   "id": "e39214e2",
   "metadata": {
    "collapsed": false,
    "ExecuteTime": {
     "end_time": "2023-08-16T13:22:37.188522665Z",
     "start_time": "2023-08-16T13:22:37.109090786Z"
    }
   },
   "outputs": [
    {
     "ename": "HTTPError",
     "evalue": "HTTP Error 403: Forbidden",
     "output_type": "error",
     "traceback": [
      "\u001B[0;31m---------------------------------------------------------------------------\u001B[0m",
      "\u001B[0;31mHTTPError\u001B[0m                                 Traceback (most recent call last)",
      "\u001B[0;32m/tmp/ipykernel_289335/2256870413.py\u001B[0m in \u001B[0;36m<module>\u001B[0;34m\u001B[0m\n\u001B[1;32m     15\u001B[0m \u001B[0;34m\u001B[0m\u001B[0m\n\u001B[1;32m     16\u001B[0m \u001B[0;32mfor\u001B[0m \u001B[0mitem\u001B[0m \u001B[0;32min\u001B[0m \u001B[0mul\u001B[0m\u001B[0;34m:\u001B[0m\u001B[0;34m\u001B[0m\u001B[0;34m\u001B[0m\u001B[0m\n\u001B[0;32m---> 17\u001B[0;31m     \u001B[0mhtml\u001B[0m \u001B[0;34m=\u001B[0m \u001B[0murllib\u001B[0m\u001B[0;34m.\u001B[0m\u001B[0mrequest\u001B[0m\u001B[0;34m.\u001B[0m\u001B[0murlopen\u001B[0m\u001B[0;34m(\u001B[0m\u001B[0mitem\u001B[0m\u001B[0;34m)\u001B[0m\u001B[0;34m.\u001B[0m\u001B[0mread\u001B[0m\u001B[0;34m(\u001B[0m\u001B[0;34m)\u001B[0m\u001B[0;34m\u001B[0m\u001B[0;34m\u001B[0m\u001B[0m\n\u001B[0m\u001B[1;32m     18\u001B[0m     \u001B[0msoup\u001B[0m \u001B[0;34m=\u001B[0m \u001B[0mBeautifulSoup\u001B[0m\u001B[0;34m(\u001B[0m\u001B[0mhtml\u001B[0m\u001B[0;34m,\u001B[0m \u001B[0;34m\"html.parser\"\u001B[0m\u001B[0;34m)\u001B[0m\u001B[0;34m\u001B[0m\u001B[0;34m\u001B[0m\u001B[0m\n\u001B[1;32m     19\u001B[0m     \u001B[0mp\u001B[0m \u001B[0;34m=\u001B[0m \u001B[0msoup\u001B[0m\u001B[0;34m.\u001B[0m\u001B[0mfind\u001B[0m\u001B[0;34m(\u001B[0m\u001B[0;34m'script'\u001B[0m\u001B[0;34m,\u001B[0m \u001B[0;34m{\u001B[0m\u001B[0;34m'type'\u001B[0m\u001B[0;34m:\u001B[0m\u001B[0;34m'application/ld+json'\u001B[0m\u001B[0;34m}\u001B[0m\u001B[0;34m)\u001B[0m\u001B[0;34m\u001B[0m\u001B[0;34m\u001B[0m\u001B[0m\n",
      "\u001B[0;32m~/.conda/envs/dev/lib/python3.10/urllib/request.py\u001B[0m in \u001B[0;36murlopen\u001B[0;34m(url, data, timeout, cafile, capath, cadefault, context)\u001B[0m\n\u001B[1;32m    214\u001B[0m     \u001B[0;32melse\u001B[0m\u001B[0;34m:\u001B[0m\u001B[0;34m\u001B[0m\u001B[0;34m\u001B[0m\u001B[0m\n\u001B[1;32m    215\u001B[0m         \u001B[0mopener\u001B[0m \u001B[0;34m=\u001B[0m \u001B[0m_opener\u001B[0m\u001B[0;34m\u001B[0m\u001B[0;34m\u001B[0m\u001B[0m\n\u001B[0;32m--> 216\u001B[0;31m     \u001B[0;32mreturn\u001B[0m \u001B[0mopener\u001B[0m\u001B[0;34m.\u001B[0m\u001B[0mopen\u001B[0m\u001B[0;34m(\u001B[0m\u001B[0murl\u001B[0m\u001B[0;34m,\u001B[0m \u001B[0mdata\u001B[0m\u001B[0;34m,\u001B[0m \u001B[0mtimeout\u001B[0m\u001B[0;34m)\u001B[0m\u001B[0;34m\u001B[0m\u001B[0;34m\u001B[0m\u001B[0m\n\u001B[0m\u001B[1;32m    217\u001B[0m \u001B[0;34m\u001B[0m\u001B[0m\n\u001B[1;32m    218\u001B[0m \u001B[0;32mdef\u001B[0m \u001B[0minstall_opener\u001B[0m\u001B[0;34m(\u001B[0m\u001B[0mopener\u001B[0m\u001B[0;34m)\u001B[0m\u001B[0;34m:\u001B[0m\u001B[0;34m\u001B[0m\u001B[0;34m\u001B[0m\u001B[0m\n",
      "\u001B[0;32m~/.conda/envs/dev/lib/python3.10/urllib/request.py\u001B[0m in \u001B[0;36mopen\u001B[0;34m(self, fullurl, data, timeout)\u001B[0m\n\u001B[1;32m    523\u001B[0m         \u001B[0;32mfor\u001B[0m \u001B[0mprocessor\u001B[0m \u001B[0;32min\u001B[0m \u001B[0mself\u001B[0m\u001B[0;34m.\u001B[0m\u001B[0mprocess_response\u001B[0m\u001B[0;34m.\u001B[0m\u001B[0mget\u001B[0m\u001B[0;34m(\u001B[0m\u001B[0mprotocol\u001B[0m\u001B[0;34m,\u001B[0m \u001B[0;34m[\u001B[0m\u001B[0;34m]\u001B[0m\u001B[0;34m)\u001B[0m\u001B[0;34m:\u001B[0m\u001B[0;34m\u001B[0m\u001B[0;34m\u001B[0m\u001B[0m\n\u001B[1;32m    524\u001B[0m             \u001B[0mmeth\u001B[0m \u001B[0;34m=\u001B[0m \u001B[0mgetattr\u001B[0m\u001B[0;34m(\u001B[0m\u001B[0mprocessor\u001B[0m\u001B[0;34m,\u001B[0m \u001B[0mmeth_name\u001B[0m\u001B[0;34m)\u001B[0m\u001B[0;34m\u001B[0m\u001B[0;34m\u001B[0m\u001B[0m\n\u001B[0;32m--> 525\u001B[0;31m             \u001B[0mresponse\u001B[0m \u001B[0;34m=\u001B[0m \u001B[0mmeth\u001B[0m\u001B[0;34m(\u001B[0m\u001B[0mreq\u001B[0m\u001B[0;34m,\u001B[0m \u001B[0mresponse\u001B[0m\u001B[0;34m)\u001B[0m\u001B[0;34m\u001B[0m\u001B[0;34m\u001B[0m\u001B[0m\n\u001B[0m\u001B[1;32m    526\u001B[0m \u001B[0;34m\u001B[0m\u001B[0m\n\u001B[1;32m    527\u001B[0m         \u001B[0;32mreturn\u001B[0m \u001B[0mresponse\u001B[0m\u001B[0;34m\u001B[0m\u001B[0;34m\u001B[0m\u001B[0m\n",
      "\u001B[0;32m~/.conda/envs/dev/lib/python3.10/urllib/request.py\u001B[0m in \u001B[0;36mhttp_response\u001B[0;34m(self, request, response)\u001B[0m\n\u001B[1;32m    632\u001B[0m         \u001B[0;31m# request was successfully received, understood, and accepted.\u001B[0m\u001B[0;34m\u001B[0m\u001B[0;34m\u001B[0m\u001B[0m\n\u001B[1;32m    633\u001B[0m         \u001B[0;32mif\u001B[0m \u001B[0;32mnot\u001B[0m \u001B[0;34m(\u001B[0m\u001B[0;36m200\u001B[0m \u001B[0;34m<=\u001B[0m \u001B[0mcode\u001B[0m \u001B[0;34m<\u001B[0m \u001B[0;36m300\u001B[0m\u001B[0;34m)\u001B[0m\u001B[0;34m:\u001B[0m\u001B[0;34m\u001B[0m\u001B[0;34m\u001B[0m\u001B[0m\n\u001B[0;32m--> 634\u001B[0;31m             response = self.parent.error(\n\u001B[0m\u001B[1;32m    635\u001B[0m                 'http', request, response, code, msg, hdrs)\n\u001B[1;32m    636\u001B[0m \u001B[0;34m\u001B[0m\u001B[0m\n",
      "\u001B[0;32m~/.conda/envs/dev/lib/python3.10/urllib/request.py\u001B[0m in \u001B[0;36merror\u001B[0;34m(self, proto, *args)\u001B[0m\n\u001B[1;32m    561\u001B[0m         \u001B[0;32mif\u001B[0m \u001B[0mhttp_err\u001B[0m\u001B[0;34m:\u001B[0m\u001B[0;34m\u001B[0m\u001B[0;34m\u001B[0m\u001B[0m\n\u001B[1;32m    562\u001B[0m             \u001B[0margs\u001B[0m \u001B[0;34m=\u001B[0m \u001B[0;34m(\u001B[0m\u001B[0mdict\u001B[0m\u001B[0;34m,\u001B[0m \u001B[0;34m'default'\u001B[0m\u001B[0;34m,\u001B[0m \u001B[0;34m'http_error_default'\u001B[0m\u001B[0;34m)\u001B[0m \u001B[0;34m+\u001B[0m \u001B[0morig_args\u001B[0m\u001B[0;34m\u001B[0m\u001B[0;34m\u001B[0m\u001B[0m\n\u001B[0;32m--> 563\u001B[0;31m             \u001B[0;32mreturn\u001B[0m \u001B[0mself\u001B[0m\u001B[0;34m.\u001B[0m\u001B[0m_call_chain\u001B[0m\u001B[0;34m(\u001B[0m\u001B[0;34m*\u001B[0m\u001B[0margs\u001B[0m\u001B[0;34m)\u001B[0m\u001B[0;34m\u001B[0m\u001B[0;34m\u001B[0m\u001B[0m\n\u001B[0m\u001B[1;32m    564\u001B[0m \u001B[0;34m\u001B[0m\u001B[0m\n\u001B[1;32m    565\u001B[0m \u001B[0;31m# XXX probably also want an abstract factory that knows when it makes\u001B[0m\u001B[0;34m\u001B[0m\u001B[0;34m\u001B[0m\u001B[0m\n",
      "\u001B[0;32m~/.conda/envs/dev/lib/python3.10/urllib/request.py\u001B[0m in \u001B[0;36m_call_chain\u001B[0;34m(self, chain, kind, meth_name, *args)\u001B[0m\n\u001B[1;32m    494\u001B[0m         \u001B[0;32mfor\u001B[0m \u001B[0mhandler\u001B[0m \u001B[0;32min\u001B[0m \u001B[0mhandlers\u001B[0m\u001B[0;34m:\u001B[0m\u001B[0;34m\u001B[0m\u001B[0;34m\u001B[0m\u001B[0m\n\u001B[1;32m    495\u001B[0m             \u001B[0mfunc\u001B[0m \u001B[0;34m=\u001B[0m \u001B[0mgetattr\u001B[0m\u001B[0;34m(\u001B[0m\u001B[0mhandler\u001B[0m\u001B[0;34m,\u001B[0m \u001B[0mmeth_name\u001B[0m\u001B[0;34m)\u001B[0m\u001B[0;34m\u001B[0m\u001B[0;34m\u001B[0m\u001B[0m\n\u001B[0;32m--> 496\u001B[0;31m             \u001B[0mresult\u001B[0m \u001B[0;34m=\u001B[0m \u001B[0mfunc\u001B[0m\u001B[0;34m(\u001B[0m\u001B[0;34m*\u001B[0m\u001B[0margs\u001B[0m\u001B[0;34m)\u001B[0m\u001B[0;34m\u001B[0m\u001B[0;34m\u001B[0m\u001B[0m\n\u001B[0m\u001B[1;32m    497\u001B[0m             \u001B[0;32mif\u001B[0m \u001B[0mresult\u001B[0m \u001B[0;32mis\u001B[0m \u001B[0;32mnot\u001B[0m \u001B[0;32mNone\u001B[0m\u001B[0;34m:\u001B[0m\u001B[0;34m\u001B[0m\u001B[0;34m\u001B[0m\u001B[0m\n\u001B[1;32m    498\u001B[0m                 \u001B[0;32mreturn\u001B[0m \u001B[0mresult\u001B[0m\u001B[0;34m\u001B[0m\u001B[0;34m\u001B[0m\u001B[0m\n",
      "\u001B[0;32m~/.conda/envs/dev/lib/python3.10/urllib/request.py\u001B[0m in \u001B[0;36mhttp_error_default\u001B[0;34m(self, req, fp, code, msg, hdrs)\u001B[0m\n\u001B[1;32m    641\u001B[0m \u001B[0;32mclass\u001B[0m \u001B[0mHTTPDefaultErrorHandler\u001B[0m\u001B[0;34m(\u001B[0m\u001B[0mBaseHandler\u001B[0m\u001B[0;34m)\u001B[0m\u001B[0;34m:\u001B[0m\u001B[0;34m\u001B[0m\u001B[0;34m\u001B[0m\u001B[0m\n\u001B[1;32m    642\u001B[0m     \u001B[0;32mdef\u001B[0m \u001B[0mhttp_error_default\u001B[0m\u001B[0;34m(\u001B[0m\u001B[0mself\u001B[0m\u001B[0;34m,\u001B[0m \u001B[0mreq\u001B[0m\u001B[0;34m,\u001B[0m \u001B[0mfp\u001B[0m\u001B[0;34m,\u001B[0m \u001B[0mcode\u001B[0m\u001B[0;34m,\u001B[0m \u001B[0mmsg\u001B[0m\u001B[0;34m,\u001B[0m \u001B[0mhdrs\u001B[0m\u001B[0;34m)\u001B[0m\u001B[0;34m:\u001B[0m\u001B[0;34m\u001B[0m\u001B[0;34m\u001B[0m\u001B[0m\n\u001B[0;32m--> 643\u001B[0;31m         \u001B[0;32mraise\u001B[0m \u001B[0mHTTPError\u001B[0m\u001B[0;34m(\u001B[0m\u001B[0mreq\u001B[0m\u001B[0;34m.\u001B[0m\u001B[0mfull_url\u001B[0m\u001B[0;34m,\u001B[0m \u001B[0mcode\u001B[0m\u001B[0;34m,\u001B[0m \u001B[0mmsg\u001B[0m\u001B[0;34m,\u001B[0m \u001B[0mhdrs\u001B[0m\u001B[0;34m,\u001B[0m \u001B[0mfp\u001B[0m\u001B[0;34m)\u001B[0m\u001B[0;34m\u001B[0m\u001B[0;34m\u001B[0m\u001B[0m\n\u001B[0m\u001B[1;32m    644\u001B[0m \u001B[0;34m\u001B[0m\u001B[0m\n\u001B[1;32m    645\u001B[0m \u001B[0;32mclass\u001B[0m \u001B[0mHTTPRedirectHandler\u001B[0m\u001B[0;34m(\u001B[0m\u001B[0mBaseHandler\u001B[0m\u001B[0;34m)\u001B[0m\u001B[0;34m:\u001B[0m\u001B[0;34m\u001B[0m\u001B[0;34m\u001B[0m\u001B[0m\n",
      "\u001B[0;31mHTTPError\u001B[0m: HTTP Error 403: Forbidden"
     ]
    }
   ],
   "source": [
    "ul = sample_df[\"url\"]\n",
    "\n",
    "# Test loading into a graph\n",
    "namespaces = {\n",
    "    \"schema\":  \"http://schema.org/\",\n",
    "    \"schemaold\":  \"http://schema.org/\",\n",
    "    \"shacl\":   \"http://www.w3.org/ns/shacl#\" ,\n",
    "}\n",
    "\n",
    "kg = kglab.KnowledgeGraph(\n",
    "    name = \"Schema.org shacl eval datagraph\",\n",
    "    base_uri = \"https://example.org/id/\",\n",
    "    namespaces = namespaces,\n",
    ")\n",
    "\n",
    "for item in ul:\n",
    "    html = urllib.request.urlopen(item).read()\n",
    "    soup = BeautifulSoup(html, \"html.parser\")\n",
    "    p = soup.find('script', {'type':'application/ld+json'})\n",
    "    try:\n",
    "        print(\"JSON byte size: {} \".format(len(p.contents[0])))\n",
    "        kg.load_rdf_text(data=p.contents[0], format=\"json-ld\")\n",
    "        print(p.contents[0])\n",
    "    except Exception as e:\n",
    "        logging.error(traceback.format_exc())"
   ]
  },
  {
   "cell_type": "code",
   "execution_count": 20,
   "id": "da74b0db-9224-4a58-80b3-d0932087a6e4",
   "metadata": {
    "ExecuteTime": {
     "end_time": "2023-08-16T13:22:38.478038811Z",
     "start_time": "2023-08-16T13:22:37.843458272Z"
    }
   },
   "outputs": [
    {
     "ename": "AttributeError",
     "evalue": "'DataFrame' object has no attribute 'to_pandas'",
     "output_type": "error",
     "traceback": [
      "\u001B[0;31m---------------------------------------------------------------------------\u001B[0m",
      "\u001B[0;31mAttributeError\u001B[0m                            Traceback (most recent call last)",
      "\u001B[0;32m/tmp/ipykernel_289335/3005825302.py\u001B[0m in \u001B[0;36m<module>\u001B[0;34m\u001B[0m\n\u001B[1;32m     13\u001B[0m \u001B[0;31m#     ?s schema:description ?description.\u001B[0m\u001B[0;34m\u001B[0m\u001B[0;34m\u001B[0m\u001B[0m\n\u001B[1;32m     14\u001B[0m \u001B[0;34m\u001B[0m\u001B[0m\n\u001B[0;32m---> 15\u001B[0;31m \u001B[0mdf\u001B[0m \u001B[0;34m=\u001B[0m \u001B[0mkg\u001B[0m\u001B[0;34m.\u001B[0m\u001B[0mquery_as_df\u001B[0m\u001B[0;34m(\u001B[0m\u001B[0msparql\u001B[0m\u001B[0;34m)\u001B[0m\u001B[0;34m.\u001B[0m\u001B[0mto_pandas\u001B[0m\u001B[0;34m(\u001B[0m\u001B[0;34m)\u001B[0m\u001B[0;34m\u001B[0m\u001B[0;34m\u001B[0m\u001B[0m\n\u001B[0m\u001B[1;32m     16\u001B[0m \u001B[0;34m\u001B[0m\u001B[0m\n\u001B[1;32m     17\u001B[0m \u001B[0mdf\u001B[0m\u001B[0;34m.\u001B[0m\u001B[0mhead\u001B[0m\u001B[0;34m(\u001B[0m\u001B[0;34m)\u001B[0m\u001B[0;34m\u001B[0m\u001B[0;34m\u001B[0m\u001B[0m\n",
      "\u001B[0;32m~/.conda/envs/dev/lib/python3.10/site-packages/pandas/core/generic.py\u001B[0m in \u001B[0;36m__getattr__\u001B[0;34m(self, name)\u001B[0m\n\u001B[1;32m   5900\u001B[0m         ):\n\u001B[1;32m   5901\u001B[0m             \u001B[0;32mreturn\u001B[0m \u001B[0mself\u001B[0m\u001B[0;34m[\u001B[0m\u001B[0mname\u001B[0m\u001B[0;34m]\u001B[0m\u001B[0;34m\u001B[0m\u001B[0;34m\u001B[0m\u001B[0m\n\u001B[0;32m-> 5902\u001B[0;31m         \u001B[0;32mreturn\u001B[0m \u001B[0mobject\u001B[0m\u001B[0;34m.\u001B[0m\u001B[0m__getattribute__\u001B[0m\u001B[0;34m(\u001B[0m\u001B[0mself\u001B[0m\u001B[0;34m,\u001B[0m \u001B[0mname\u001B[0m\u001B[0;34m)\u001B[0m\u001B[0;34m\u001B[0m\u001B[0;34m\u001B[0m\u001B[0m\n\u001B[0m\u001B[1;32m   5903\u001B[0m \u001B[0;34m\u001B[0m\u001B[0m\n\u001B[1;32m   5904\u001B[0m     \u001B[0;32mdef\u001B[0m \u001B[0m__setattr__\u001B[0m\u001B[0;34m(\u001B[0m\u001B[0mself\u001B[0m\u001B[0;34m,\u001B[0m \u001B[0mname\u001B[0m\u001B[0;34m:\u001B[0m \u001B[0mstr\u001B[0m\u001B[0;34m,\u001B[0m \u001B[0mvalue\u001B[0m\u001B[0;34m)\u001B[0m \u001B[0;34m->\u001B[0m \u001B[0;32mNone\u001B[0m\u001B[0;34m:\u001B[0m\u001B[0;34m\u001B[0m\u001B[0;34m\u001B[0m\u001B[0m\n",
      "\u001B[0;31mAttributeError\u001B[0m: 'DataFrame' object has no attribute 'to_pandas'"
     ]
    }
   ],
   "source": [
    "sparql = \"\"\"\n",
    "PREFIX schema: <http://schema.org/>\n",
    "SELECT ?s ?name ?description ?type\n",
    "  WHERE {\n",
    "    ?s a ?type .    \n",
    "    ?s schema:name ?name .\n",
    "    ?s schema:description ?description.\n",
    "  }\n",
    "\"\"\"\n",
    "\n",
    "#  schema:Dataset \n",
    "# ?s schema:name ?name .\n",
    "#     ?s schema:description ?description.\n",
    "\n",
    "df = kg.query_as_df(sparql).to_pandas()\n",
    "\n",
    "df.head()"
   ]
  },
  {
   "cell_type": "code",
   "execution_count": null,
   "id": "b800b41b",
   "metadata": {
    "collapsed": false
   },
   "outputs": [],
   "source": []
  },
  {
   "cell_type": "code",
   "execution_count": null,
   "id": "279795a0-f8e5-4654-b06a-d33ff761cf68",
   "metadata": {},
   "outputs": [],
   "source": []
  }
 ],
 "metadata": {
  "interpreter": {
   "hash": "7a8db6ed8e976d23fd2e6a73e187eaf8286829efb4aa61f09abf75e2f487f948"
  },
  "kernelspec": {
   "display_name": "Python 3 (ipykernel)",
   "language": "python",
   "name": "python3"
  },
  "language_info": {
   "codemirror_mode": {
    "name": "ipython",
    "version": 3
   },
   "file_extension": ".py",
   "mimetype": "text/x-python",
   "name": "python",
   "nbconvert_exporter": "python",
   "pygments_lexer": "ipython3",
   "version": "3.10.8"
  }
 },
 "nbformat": 4,
 "nbformat_minor": 5
}
