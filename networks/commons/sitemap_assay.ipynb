{
 "cells": [
  {
   "cell_type": "markdown",
   "id": "51aacee9",
   "metadata": {
    "id": "51aacee9"
   },
   "source": [
    "# Sitemap Assay\n",
    "\n",
    "The start of a simple notebook that could hosted for peeopl to test out their sitemaps (and robots.txt) files with.\n",
    "\n",
    "References:\n",
    "* [AdvTools](https://advertools.readthedocs.io/en/master/advertools.sitemaps.html)\n",
    "* [Sitemap viz](https://www.ayima.com/us/insights/analytics-and-cro/how-to-visualize-an-xml-sitemap-using-python.html)\n",
    "\n",
    "\n",
    "<a href=\"https://githubtocolab.com/gleanerio/archetype/blob/master/networks/commons/sitemap_assay.ipynb\" target=\"_parent\"><img src=\"https://colab.research.google.com/assets/colab-badge.png\" alt=\"Open in Colab\"/></a>\n",
    "\n",
    "[![Binder](https://mybinder.org/badge_logo.svg)](https://mybinder.org/v2/gh/gleanerio/archetype/HEAD?labpath=networks/commons/sitemap_assay.ipynb)\n",
    "\n"
   ]
  },
  {
   "cell_type": "markdown",
   "id": "bf9819de-30ca-47ff-a13d-263ef0333bd0",
   "metadata": {
    "id": "bf9819de-30ca-47ff-a13d-263ef0333bd0"
   },
   "source": [
    "## Notes\n",
    "\n",
    "has json-ld :  https://researchdata.edu.au/imos-soop-underway-sep-2017/970828\n",
    "Validation:  https://validator.schema.org/#url=https%3A%2F%2Fresearchdata.edu.au%2Fimos-soop-underway-sep-2017%2F970828  \n",
    "\n",
    "\n",
    "doesn't:  https://researchdata.edu.au/heupel-michelle/1709766\n",
    "\n",
    "Validation   https://validator.schema.org/#url=https%3A%2F%2Fresearchdata.edu.au%2Fheupel-michelle%2F1709766\n",
    "\n",
    "\n",
    "Context as map:  https://www.w3.org/TR/json-ld/#context-definitions\n",
    "\n",
    "\n",
    "\n"
   ]
  },
  {
   "cell_type": "code",
   "execution_count": 3,
   "id": "S7umVCrN9UYi",
   "metadata": {
    "colab": {
     "base_uri": "https://localhost:8080/",
     "height": 1000
    },
    "collapsed": true,
    "id": "S7umVCrN9UYi",
    "jupyter": {
     "outputs_hidden": true
    },
    "outputId": "1d9aa4d2-08b6-4d31-ae30-9380a0cdcca8",
    "tags": []
   },
   "outputs": [
    {
     "name": "stdout",
     "output_type": "stream",
     "text": [
      "Collecting advertools\n",
      "  Downloading advertools-0.13.5-py2.py3-none-any.whl (312 kB)\n",
      "\u001B[2K     \u001B[90m━━━━━━━━━━━━━━━━━━━━━━━━━━━━━━━━━━━━━━━━\u001B[0m \u001B[32m312.1/312.1 kB\u001B[0m \u001B[31m5.1 MB/s\u001B[0m eta \u001B[36m0:00:00\u001B[0m\n",
      "\u001B[?25hRequirement already satisfied: pandas>=1.1.0 in /usr/local/lib/python3.10/dist-packages (from advertools) (1.5.3)\n",
      "Requirement already satisfied: pyasn1>=0.4 in /usr/local/lib/python3.10/dist-packages (from advertools) (0.5.0)\n",
      "Collecting scrapy>=2.5.0 (from advertools)\n",
      "  Downloading Scrapy-2.11.0-py2.py3-none-any.whl (286 kB)\n",
      "\u001B[2K     \u001B[90m━━━━━━━━━━━━━━━━━━━━━━━━━━━━━━━━━━━━━━━━\u001B[0m \u001B[32m286.4/286.4 kB\u001B[0m \u001B[31m20.9 MB/s\u001B[0m eta \u001B[36m0:00:00\u001B[0m\n",
      "\u001B[?25hCollecting twython>=3.8.0 (from advertools)\n",
      "  Downloading twython-3.9.1-py3-none-any.whl (33 kB)\n",
      "Requirement already satisfied: pyarrow>=5.0.0 in /usr/local/lib/python3.10/dist-packages (from advertools) (9.0.0)\n",
      "Requirement already satisfied: python-dateutil>=2.8.1 in /usr/local/lib/python3.10/dist-packages (from pandas>=1.1.0->advertools) (2.8.2)\n",
      "Requirement already satisfied: pytz>=2020.1 in /usr/local/lib/python3.10/dist-packages (from pandas>=1.1.0->advertools) (2023.3.post1)\n",
      "Requirement already satisfied: numpy>=1.21.0 in /usr/local/lib/python3.10/dist-packages (from pandas>=1.1.0->advertools) (1.23.5)\n",
      "Collecting Twisted<23.8.0,>=18.9.0 (from scrapy>=2.5.0->advertools)\n",
      "  Downloading Twisted-22.10.0-py3-none-any.whl (3.1 MB)\n",
      "\u001B[2K     \u001B[90m━━━━━━━━━━━━━━━━━━━━━━━━━━━━━━━━━━━━━━━━\u001B[0m \u001B[32m3.1/3.1 MB\u001B[0m \u001B[31m52.5 MB/s\u001B[0m eta \u001B[36m0:00:00\u001B[0m\n",
      "\u001B[?25hRequirement already satisfied: cryptography>=36.0.0 in /usr/local/lib/python3.10/dist-packages (from scrapy>=2.5.0->advertools) (41.0.5)\n",
      "Collecting cssselect>=0.9.1 (from scrapy>=2.5.0->advertools)\n",
      "  Downloading cssselect-1.2.0-py2.py3-none-any.whl (18 kB)\n",
      "Collecting itemloaders>=1.0.1 (from scrapy>=2.5.0->advertools)\n",
      "  Downloading itemloaders-1.1.0-py3-none-any.whl (11 kB)\n",
      "Collecting parsel>=1.5.0 (from scrapy>=2.5.0->advertools)\n",
      "  Downloading parsel-1.8.1-py2.py3-none-any.whl (17 kB)\n",
      "Requirement already satisfied: pyOpenSSL>=21.0.0 in /usr/local/lib/python3.10/dist-packages (from scrapy>=2.5.0->advertools) (23.3.0)\n",
      "Collecting queuelib>=1.4.2 (from scrapy>=2.5.0->advertools)\n",
      "  Downloading queuelib-1.6.2-py2.py3-none-any.whl (13 kB)\n",
      "Collecting service-identity>=18.1.0 (from scrapy>=2.5.0->advertools)\n",
      "  Downloading service_identity-23.1.0-py3-none-any.whl (12 kB)\n",
      "Collecting w3lib>=1.17.0 (from scrapy>=2.5.0->advertools)\n",
      "  Downloading w3lib-2.1.2-py3-none-any.whl (21 kB)\n",
      "Collecting zope.interface>=5.1.0 (from scrapy>=2.5.0->advertools)\n",
      "  Downloading zope.interface-6.1-cp310-cp310-manylinux_2_5_x86_64.manylinux1_x86_64.manylinux_2_17_x86_64.manylinux2014_x86_64.whl (247 kB)\n",
      "\u001B[2K     \u001B[90m━━━━━━━━━━━━━━━━━━━━━━━━━━━━━━━━━━━━━━━━\u001B[0m \u001B[32m247.1/247.1 kB\u001B[0m \u001B[31m23.4 MB/s\u001B[0m eta \u001B[36m0:00:00\u001B[0m\n",
      "\u001B[?25hCollecting protego>=0.1.15 (from scrapy>=2.5.0->advertools)\n",
      "  Downloading Protego-0.3.0-py2.py3-none-any.whl (8.5 kB)\n",
      "Collecting itemadapter>=0.1.0 (from scrapy>=2.5.0->advertools)\n",
      "  Downloading itemadapter-0.8.0-py3-none-any.whl (11 kB)\n",
      "Requirement already satisfied: setuptools in /usr/local/lib/python3.10/dist-packages (from scrapy>=2.5.0->advertools) (67.7.2)\n",
      "Requirement already satisfied: packaging in /usr/local/lib/python3.10/dist-packages (from scrapy>=2.5.0->advertools) (23.2)\n",
      "Collecting tldextract (from scrapy>=2.5.0->advertools)\n",
      "  Downloading tldextract-5.1.1-py3-none-any.whl (97 kB)\n",
      "\u001B[2K     \u001B[90m━━━━━━━━━━━━━━━━━━━━━━━━━━━━━━━━━━━━━━━━\u001B[0m \u001B[32m97.7/97.7 kB\u001B[0m \u001B[31m10.8 MB/s\u001B[0m eta \u001B[36m0:00:00\u001B[0m\n",
      "\u001B[?25hRequirement already satisfied: lxml>=4.4.1 in /usr/local/lib/python3.10/dist-packages (from scrapy>=2.5.0->advertools) (4.9.3)\n",
      "Collecting PyDispatcher>=2.0.5 (from scrapy>=2.5.0->advertools)\n",
      "  Downloading PyDispatcher-2.0.7-py3-none-any.whl (12 kB)\n",
      "Requirement already satisfied: requests>=2.1.0 in /usr/local/lib/python3.10/dist-packages (from twython>=3.8.0->advertools) (2.31.0)\n",
      "Requirement already satisfied: requests-oauthlib>=0.4.0 in /usr/local/lib/python3.10/dist-packages (from twython>=3.8.0->advertools) (1.3.1)\n",
      "Requirement already satisfied: cffi>=1.12 in /usr/local/lib/python3.10/dist-packages (from cryptography>=36.0.0->scrapy>=2.5.0->advertools) (1.16.0)\n",
      "Collecting jmespath>=0.9.5 (from itemloaders>=1.0.1->scrapy>=2.5.0->advertools)\n",
      "  Downloading jmespath-1.0.1-py3-none-any.whl (20 kB)\n",
      "Requirement already satisfied: six>=1.5 in /usr/local/lib/python3.10/dist-packages (from python-dateutil>=2.8.1->pandas>=1.1.0->advertools) (1.16.0)\n",
      "Requirement already satisfied: charset-normalizer<4,>=2 in /usr/local/lib/python3.10/dist-packages (from requests>=2.1.0->twython>=3.8.0->advertools) (3.3.2)\n",
      "Requirement already satisfied: idna<4,>=2.5 in /usr/local/lib/python3.10/dist-packages (from requests>=2.1.0->twython>=3.8.0->advertools) (3.4)\n",
      "Requirement already satisfied: urllib3<3,>=1.21.1 in /usr/local/lib/python3.10/dist-packages (from requests>=2.1.0->twython>=3.8.0->advertools) (2.0.7)\n",
      "Requirement already satisfied: certifi>=2017.4.17 in /usr/local/lib/python3.10/dist-packages (from requests>=2.1.0->twython>=3.8.0->advertools) (2023.7.22)\n",
      "Requirement already satisfied: oauthlib>=3.0.0 in /usr/local/lib/python3.10/dist-packages (from requests-oauthlib>=0.4.0->twython>=3.8.0->advertools) (3.2.2)\n",
      "Requirement already satisfied: attrs>=19.1.0 in /usr/local/lib/python3.10/dist-packages (from service-identity>=18.1.0->scrapy>=2.5.0->advertools) (23.1.0)\n",
      "Requirement already satisfied: pyasn1-modules in /usr/local/lib/python3.10/dist-packages (from service-identity>=18.1.0->scrapy>=2.5.0->advertools) (0.3.0)\n",
      "Collecting constantly>=15.1 (from Twisted<23.8.0,>=18.9.0->scrapy>=2.5.0->advertools)\n",
      "  Downloading constantly-23.10.4-py3-none-any.whl (13 kB)\n",
      "Collecting incremental>=21.3.0 (from Twisted<23.8.0,>=18.9.0->scrapy>=2.5.0->advertools)\n",
      "  Downloading incremental-22.10.0-py2.py3-none-any.whl (16 kB)\n",
      "Collecting Automat>=0.8.0 (from Twisted<23.8.0,>=18.9.0->scrapy>=2.5.0->advertools)\n",
      "  Downloading Automat-22.10.0-py2.py3-none-any.whl (26 kB)\n",
      "Collecting hyperlink>=17.1.1 (from Twisted<23.8.0,>=18.9.0->scrapy>=2.5.0->advertools)\n",
      "  Downloading hyperlink-21.0.0-py2.py3-none-any.whl (74 kB)\n",
      "\u001B[2K     \u001B[90m━━━━━━━━━━━━━━━━━━━━━━━━━━━━━━━━━━━━━━━━\u001B[0m \u001B[32m74.6/74.6 kB\u001B[0m \u001B[31m7.6 MB/s\u001B[0m eta \u001B[36m0:00:00\u001B[0m\n",
      "\u001B[?25hRequirement already satisfied: typing-extensions>=3.6.5 in /usr/local/lib/python3.10/dist-packages (from Twisted<23.8.0,>=18.9.0->scrapy>=2.5.0->advertools) (4.5.0)\n",
      "Collecting requests-file>=1.4 (from tldextract->scrapy>=2.5.0->advertools)\n",
      "  Downloading requests_file-1.5.1-py2.py3-none-any.whl (3.7 kB)\n",
      "Requirement already satisfied: filelock>=3.0.8 in /usr/local/lib/python3.10/dist-packages (from tldextract->scrapy>=2.5.0->advertools) (3.13.1)\n",
      "Requirement already satisfied: pycparser in /usr/local/lib/python3.10/dist-packages (from cffi>=1.12->cryptography>=36.0.0->scrapy>=2.5.0->advertools) (2.21)\n",
      "Installing collected packages: PyDispatcher, incremental, zope.interface, w3lib, queuelib, protego, jmespath, itemadapter, hyperlink, cssselect, constantly, Automat, Twisted, requests-file, parsel, twython, tldextract, service-identity, itemloaders, scrapy, advertools\n",
      "Successfully installed Automat-22.10.0 PyDispatcher-2.0.7 Twisted-22.10.0 advertools-0.13.5 constantly-23.10.4 cssselect-1.2.0 hyperlink-21.0.0 incremental-22.10.0 itemadapter-0.8.0 itemloaders-1.1.0 jmespath-1.0.1 parsel-1.8.1 protego-0.3.0 queuelib-1.6.2 requests-file-1.5.1 scrapy-2.11.0 service-identity-23.1.0 tldextract-5.1.1 twython-3.9.1 w3lib-2.1.2 zope.interface-6.1\n",
      "Collecting pyld\n",
      "  Downloading PyLD-2.0.3.tar.gz (70 kB)\n",
      "\u001B[2K     \u001B[90m━━━━━━━━━━━━━━━━━━━━━━━━━━━━━━━━━━━━━━━━\u001B[0m \u001B[32m70.2/70.2 kB\u001B[0m \u001B[31m1.7 MB/s\u001B[0m eta \u001B[36m0:00:00\u001B[0m\n",
      "\u001B[?25h  Preparing metadata (setup.py) ... \u001B[?25l\u001B[?25hdone\n",
      "Requirement already satisfied: cachetools in /usr/local/lib/python3.10/dist-packages (from pyld) (5.3.2)\n",
      "Requirement already satisfied: frozendict in /usr/local/lib/python3.10/dist-packages (from pyld) (2.3.8)\n",
      "Requirement already satisfied: lxml in /usr/local/lib/python3.10/dist-packages (from pyld) (4.9.3)\n",
      "Building wheels for collected packages: pyld\n",
      "  Building wheel for pyld (setup.py) ... \u001B[?25l\u001B[?25hdone\n",
      "  Created wheel for pyld: filename=PyLD-2.0.3-py3-none-any.whl size=70847 sha256=62699825eb3f9b3f5ce6f08d9ec81b40590999b6c3a6248d1aed43ad4809587e\n",
      "  Stored in directory: /root/.cache/pip/wheels/83/f1/37/b168e54c94545d0d41ddbcca7008cbd6f51fc967be7414309b\n",
      "Successfully built pyld\n",
      "Installing collected packages: pyld\n",
      "Successfully installed pyld-2.0.3\n",
      "Collecting kglab\n",
      "  Downloading kglab-0.6.6-py3-none-any.whl (57 kB)\n",
      "\u001B[2K     \u001B[90m━━━━━━━━━━━━━━━━━━━━━━━━━━━━━━━━━━━━━━━━\u001B[0m \u001B[32m57.4/57.4 kB\u001B[0m \u001B[31m1.2 MB/s\u001B[0m eta \u001B[36m0:00:00\u001B[0m\n",
      "\u001B[?25hRequirement already satisfied: aiohttp>=3.8 in /usr/local/lib/python3.10/dist-packages (from kglab) (3.8.6)\n",
      "Collecting chocolate>=0.0.2 (from kglab)\n",
      "  Downloading chocolate-0.0.2-py3-none-any.whl (2.1 kB)\n",
      "Collecting csvwlib>=0.3.2 (from kglab)\n",
      "  Downloading csvwlib-0.3.2-py3-none-any.whl (32 kB)\n",
      "Requirement already satisfied: cryptography>=35.0 in /usr/local/lib/python3.10/dist-packages (from kglab) (41.0.5)\n",
      "Collecting decorator>=5.1 (from kglab)\n",
      "  Downloading decorator-5.1.1-py3-none-any.whl (9.1 kB)\n",
      "Requirement already satisfied: fsspec[gs,s3]>=2022.2 in /usr/local/lib/python3.10/dist-packages (from kglab) (2023.6.0)\n",
      "Requirement already satisfied: gcsfs>=2022.2 in /usr/local/lib/python3.10/dist-packages (from kglab) (2023.6.0)\n",
      "Collecting icecream>=2.1 (from kglab)\n",
      "  Downloading icecream-2.1.3-py2.py3-none-any.whl (8.4 kB)\n",
      "Collecting morph-kgc>=2.0.0 (from kglab)\n",
      "  Downloading morph_kgc-2.6.3-py3-none-any.whl (53 kB)\n",
      "\u001B[2K     \u001B[90m━━━━━━━━━━━━━━━━━━━━━━━━━━━━━━━━━━━━━━━━\u001B[0m \u001B[32m53.2/53.2 kB\u001B[0m \u001B[31m5.1 MB/s\u001B[0m eta \u001B[36m0:00:00\u001B[0m\n",
      "\u001B[?25hRequirement already satisfied: networkx>=2.7 in /usr/local/lib/python3.10/dist-packages (from kglab) (3.2.1)\n",
      "Requirement already satisfied: numpy>=1.23.0 in /usr/local/lib/python3.10/dist-packages (from kglab) (1.23.5)\n",
      "Collecting owlrl>=6.0.2 (from kglab)\n",
      "  Downloading owlrl-6.0.2-py3-none-any.whl (54 kB)\n",
      "\u001B[2K     \u001B[90m━━━━━━━━━━━━━━━━━━━━━━━━━━━━━━━━━━━━━━━━\u001B[0m \u001B[32m54.5/54.5 kB\u001B[0m \u001B[31m6.6 MB/s\u001B[0m eta \u001B[36m0:00:00\u001B[0m\n",
      "\u001B[?25hCollecting oxrdflib>=0.3.1 (from kglab)\n",
      "  Downloading oxrdflib-0.3.6-py3-none-any.whl (7.2 kB)\n",
      "Requirement already satisfied: pandas>=1.4 in /usr/local/lib/python3.10/dist-packages (from kglab) (1.5.3)\n",
      "Collecting pslpython>=2.2.2 (from kglab)\n",
      "  Downloading pslpython-2.4.0-py3-none-any.whl (23.5 MB)\n",
      "\u001B[2K     \u001B[90m━━━━━━━━━━━━━━━━━━━━━━━━━━━━━━━━━━━━━━━━\u001B[0m \u001B[32m23.5/23.5 MB\u001B[0m \u001B[31m59.5 MB/s\u001B[0m eta \u001B[36m0:00:00\u001B[0m\n",
      "\u001B[?25hRequirement already satisfied: pyarrow>=7.0 in /usr/local/lib/python3.10/dist-packages (from kglab) (9.0.0)\n",
      "Collecting pynvml>=11.4 (from kglab)\n",
      "  Downloading pynvml-11.5.0-py3-none-any.whl (53 kB)\n",
      "\u001B[2K     \u001B[90m━━━━━━━━━━━━━━━━━━━━━━━━━━━━━━━━━━━━━━━━\u001B[0m \u001B[32m53.1/53.1 kB\u001B[0m \u001B[31m7.3 MB/s\u001B[0m eta \u001B[36m0:00:00\u001B[0m\n",
      "\u001B[?25hCollecting pyshacl>=0.18 (from kglab)\n",
      "  Downloading pyshacl-0.24.0-py3-none-any.whl (1.2 MB)\n",
      "\u001B[2K     \u001B[90m━━━━━━━━━━━━━━━━━━━━━━━━━━━━━━━━━━━━━━━━\u001B[0m \u001B[32m1.2/1.2 MB\u001B[0m \u001B[31m66.9 MB/s\u001B[0m eta \u001B[36m0:00:00\u001B[0m\n",
      "\u001B[?25hRequirement already satisfied: python-dateutil>=2.8 in /usr/local/lib/python3.10/dist-packages (from kglab) (2.8.2)\n",
      "Collecting pyvis>=0.1.9 (from kglab)\n",
      "  Downloading pyvis-0.3.2-py3-none-any.whl (756 kB)\n",
      "\u001B[2K     \u001B[90m━━━━━━━━━━━━━━━━━━━━━━━━━━━━━━━━━━━━━━━━\u001B[0m \u001B[32m756.0/756.0 kB\u001B[0m \u001B[31m64.3 MB/s\u001B[0m eta \u001B[36m0:00:00\u001B[0m\n",
      "\u001B[?25hCollecting rdflib>=6.1 (from kglab)\n",
      "  Downloading rdflib-7.0.0-py3-none-any.whl (531 kB)\n",
      "\u001B[2K     \u001B[90m━━━━━━━━━━━━━━━━━━━━━━━━━━━━━━━━━━━━━━━━\u001B[0m \u001B[32m531.9/531.9 kB\u001B[0m \u001B[31m45.5 MB/s\u001B[0m eta \u001B[36m0:00:00\u001B[0m\n",
      "\u001B[?25hRequirement already satisfied: requests>=2.27 in /usr/local/lib/python3.10/dist-packages (from kglab) (2.31.0)\n",
      "Collecting scikit-learn==1.1.3 (from kglab)\n",
      "  Downloading scikit_learn-1.1.3-cp310-cp310-manylinux_2_17_x86_64.manylinux2014_x86_64.whl (30.5 MB)\n",
      "\u001B[2K     \u001B[90m━━━━━━━━━━━━━━━━━━━━━━━━━━━━━━━━━━━━━━━━\u001B[0m \u001B[32m30.5/30.5 MB\u001B[0m \u001B[31m16.6 MB/s\u001B[0m eta \u001B[36m0:00:00\u001B[0m\n",
      "\u001B[?25hRequirement already satisfied: scipy>=1.8.0 in /usr/local/lib/python3.10/dist-packages (from kglab) (1.11.3)\n",
      "Requirement already satisfied: statsmodels>=0.13 in /usr/local/lib/python3.10/dist-packages (from kglab) (0.14.0)\n",
      "Requirement already satisfied: tqdm>=4.63 in /usr/local/lib/python3.10/dist-packages (from kglab) (4.66.1)\n",
      "Collecting urlpath>=1.2 (from kglab)\n",
      "  Downloading urlpath-1.2.0-py3-none-any.whl (8.3 kB)\n",
      "Requirement already satisfied: joblib>=1.0.0 in /usr/local/lib/python3.10/dist-packages (from scikit-learn==1.1.3->kglab) (1.3.2)\n",
      "Requirement already satisfied: threadpoolctl>=2.0.0 in /usr/local/lib/python3.10/dist-packages (from scikit-learn==1.1.3->kglab) (3.2.0)\n",
      "Requirement already satisfied: attrs>=17.3.0 in /usr/local/lib/python3.10/dist-packages (from aiohttp>=3.8->kglab) (23.1.0)\n",
      "Requirement already satisfied: charset-normalizer<4.0,>=2.0 in /usr/local/lib/python3.10/dist-packages (from aiohttp>=3.8->kglab) (3.3.2)\n",
      "Requirement already satisfied: multidict<7.0,>=4.5 in /usr/local/lib/python3.10/dist-packages (from aiohttp>=3.8->kglab) (6.0.4)\n",
      "Requirement already satisfied: async-timeout<5.0,>=4.0.0a3 in /usr/local/lib/python3.10/dist-packages (from aiohttp>=3.8->kglab) (4.0.3)\n",
      "Requirement already satisfied: yarl<2.0,>=1.0 in /usr/local/lib/python3.10/dist-packages (from aiohttp>=3.8->kglab) (1.9.2)\n",
      "Requirement already satisfied: frozenlist>=1.1.1 in /usr/local/lib/python3.10/dist-packages (from aiohttp>=3.8->kglab) (1.4.0)\n",
      "Requirement already satisfied: aiosignal>=1.1.2 in /usr/local/lib/python3.10/dist-packages (from aiohttp>=3.8->kglab) (1.3.1)\n",
      "Requirement already satisfied: cffi>=1.12 in /usr/local/lib/python3.10/dist-packages (from cryptography>=35.0->kglab) (1.16.0)\n",
      "Collecting rdflib-jsonld>=0.4.0 (from csvwlib>=0.3.2->kglab)\n",
      "  Downloading rdflib_jsonld-0.6.2-py2.py3-none-any.whl (4.0 kB)\n",
      "Requirement already satisfied: uritemplate>=3.0.0 in /usr/local/lib/python3.10/dist-packages (from csvwlib>=0.3.2->kglab) (4.1.1)\n",
      "Collecting language-tags>=0.4.3 (from csvwlib>=0.3.2->kglab)\n",
      "  Downloading language_tags-1.2.0-py3-none-any.whl (213 kB)\n",
      "\u001B[2K     \u001B[90m━━━━━━━━━━━━━━━━━━━━━━━━━━━━━━━━━━━━━━━━\u001B[0m \u001B[32m213.4/213.4 kB\u001B[0m \u001B[31m19.4 MB/s\u001B[0m eta \u001B[36m0:00:00\u001B[0m\n",
      "\u001B[?25hCollecting s3fs (from fsspec[gs,s3]>=2022.2->kglab)\n",
      "  Downloading s3fs-2023.10.0-py3-none-any.whl (28 kB)\n",
      "Requirement already satisfied: google-auth>=1.2 in /usr/local/lib/python3.10/dist-packages (from gcsfs>=2022.2->kglab) (2.17.3)\n",
      "Requirement already satisfied: google-auth-oauthlib in /usr/local/lib/python3.10/dist-packages (from gcsfs>=2022.2->kglab) (1.0.0)\n",
      "Requirement already satisfied: google-cloud-storage in /usr/local/lib/python3.10/dist-packages (from gcsfs>=2022.2->kglab) (2.8.0)\n",
      "Collecting colorama>=0.3.9 (from icecream>=2.1->kglab)\n",
      "  Downloading colorama-0.4.6-py2.py3-none-any.whl (25 kB)\n",
      "Requirement already satisfied: pygments>=2.2.0 in /usr/local/lib/python3.10/dist-packages (from icecream>=2.1->kglab) (2.16.1)\n",
      "Collecting executing>=0.3.1 (from icecream>=2.1->kglab)\n",
      "  Downloading executing-2.0.1-py2.py3-none-any.whl (24 kB)\n",
      "Collecting asttokens>=2.0.1 (from icecream>=2.1->kglab)\n",
      "  Downloading asttokens-2.4.1-py2.py3-none-any.whl (27 kB)\n",
      "Collecting duckdb<0.8.0,>=0.7.0 (from morph-kgc>=2.0.0->kglab)\n",
      "  Downloading duckdb-0.7.1-cp310-cp310-manylinux_2_17_x86_64.manylinux2014_x86_64.whl (15.2 MB)\n",
      "\u001B[2K     \u001B[90m━━━━━━━━━━━━━━━━━━━━━━━━━━━━━━━━━━━━━━━━\u001B[0m \u001B[32m15.2/15.2 MB\u001B[0m \u001B[31m76.1 MB/s\u001B[0m eta \u001B[36m0:00:00\u001B[0m\n",
      "\u001B[?25hCollecting elementpath<5.0.0,>=4.0.0 (from morph-kgc>=2.0.0->kglab)\n",
      "  Downloading elementpath-4.1.5-py3-none-any.whl (216 kB)\n",
      "\u001B[2K     \u001B[90m━━━━━━━━━━━━━━━━━━━━━━━━━━━━━━━━━━━━━━━━\u001B[0m \u001B[32m216.4/216.4 kB\u001B[0m \u001B[31m19.9 MB/s\u001B[0m eta \u001B[36m0:00:00\u001B[0m\n",
      "\u001B[?25hCollecting falcon<4.0.0,>=3.0.0 (from morph-kgc>=2.0.0->kglab)\n",
      "  Downloading falcon-3.1.1-cp310-cp310-manylinux_2_5_x86_64.manylinux1_x86_64.manylinux_2_17_x86_64.manylinux2014_x86_64.whl (8.2 MB)\n",
      "\u001B[2K     \u001B[90m━━━━━━━━━━━━━━━━━━━━━━━━━━━━━━━━━━━━━━━━\u001B[0m \u001B[32m8.2/8.2 MB\u001B[0m \u001B[31m107.9 MB/s\u001B[0m eta \u001B[36m0:00:00\u001B[0m\n",
      "\u001B[?25hCollecting jsonpath-python<2.0.0,>=1.0.6 (from morph-kgc>=2.0.0->kglab)\n",
      "  Downloading jsonpath_python-1.0.6-py3-none-any.whl (7.6 kB)\n",
      "Collecting pandas>=1.4 (from kglab)\n",
      "  Downloading pandas-2.1.3-cp310-cp310-manylinux_2_17_x86_64.manylinux2014_x86_64.whl (12.3 MB)\n",
      "\u001B[2K     \u001B[90m━━━━━━━━━━━━━━━━━━━━━━━━━━━━━━━━━━━━━━━━\u001B[0m \u001B[32m12.3/12.3 MB\u001B[0m \u001B[31m83.0 MB/s\u001B[0m eta \u001B[36m0:00:00\u001B[0m\n",
      "\u001B[?25hCollecting pyoxigraph<0.4.0,>=0.3.0 (from morph-kgc>=2.0.0->kglab)\n",
      "  Downloading pyoxigraph-0.3.20-cp310-cp310-manylinux_2_17_x86_64.manylinux2014_x86_64.whl (6.8 MB)\n",
      "\u001B[2K     \u001B[90m━━━━━━━━━━━━━━━━━━━━━━━━━━━━━━━━━━━━━━━━\u001B[0m \u001B[32m6.8/6.8 MB\u001B[0m \u001B[31m83.0 MB/s\u001B[0m eta \u001B[36m0:00:00\u001B[0m\n",
      "\u001B[?25hCollecting ruamel-yaml<1.0.0,>=0.17.0 (from morph-kgc>=2.0.0->kglab)\n",
      "  Downloading ruamel.yaml-0.18.5-py3-none-any.whl (116 kB)\n",
      "\u001B[2K     \u001B[90m━━━━━━━━━━━━━━━━━━━━━━━━━━━━━━━━━━━━━━━━\u001B[0m \u001B[32m116.4/116.4 kB\u001B[0m \u001B[31m15.6 MB/s\u001B[0m eta \u001B[36m0:00:00\u001B[0m\n",
      "\u001B[?25hCollecting sql-metadata<3.0.0,>=2.6.0 (from morph-kgc>=2.0.0->kglab)\n",
      "  Downloading sql_metadata-2.10.0-py3-none-any.whl (22 kB)\n",
      "Requirement already satisfied: sqlalchemy<3.0.0,>=2.0.0 in /usr/local/lib/python3.10/dist-packages (from morph-kgc>=2.0.0->kglab) (2.0.23)\n",
      "Requirement already satisfied: pytz>=2020.1 in /usr/local/lib/python3.10/dist-packages (from pandas>=1.4->kglab) (2023.3.post1)\n",
      "Collecting tzdata>=2022.1 (from pandas>=1.4->kglab)\n",
      "  Downloading tzdata-2023.3-py2.py3-none-any.whl (341 kB)\n",
      "\u001B[2K     \u001B[90m━━━━━━━━━━━━━━━━━━━━━━━━━━━━━━━━━━━━━━━━\u001B[0m \u001B[32m341.8/341.8 kB\u001B[0m \u001B[31m35.3 MB/s\u001B[0m eta \u001B[36m0:00:00\u001B[0m\n",
      "\u001B[?25hCollecting JPype1==1.4.0 (from pslpython>=2.2.2->kglab)\n",
      "  Downloading JPype1-1.4.0-cp310-cp310-manylinux_2_12_x86_64.manylinux2010_x86_64.whl (465 kB)\n",
      "\u001B[2K     \u001B[90m━━━━━━━━━━━━━━━━━━━━━━━━━━━━━━━━━━━━━━━━\u001B[0m \u001B[32m465.1/465.1 kB\u001B[0m \u001B[31m38.8 MB/s\u001B[0m eta \u001B[36m0:00:00\u001B[0m\n",
      "\u001B[?25hRequirement already satisfied: html5lib<2,>=1.1 in /usr/local/lib/python3.10/dist-packages (from pyshacl>=0.18->kglab) (1.1)\n",
      "Collecting importlib-metadata==4.13 (from pyshacl>=0.18->kglab)\n",
      "  Downloading importlib_metadata-4.13.0-py3-none-any.whl (23 kB)\n",
      "Requirement already satisfied: packaging>=21.3 in /usr/local/lib/python3.10/dist-packages (from pyshacl>=0.18->kglab) (23.2)\n",
      "Requirement already satisfied: prettytable>=3.5.0 in /usr/local/lib/python3.10/dist-packages (from pyshacl>=0.18->kglab) (3.9.0)\n",
      "Requirement already satisfied: zipp>=0.5 in /usr/local/lib/python3.10/dist-packages (from importlib-metadata==4.13->pyshacl>=0.18->kglab) (3.17.0)\n",
      "Requirement already satisfied: six>=1.5 in /usr/local/lib/python3.10/dist-packages (from python-dateutil>=2.8->kglab) (1.16.0)\n",
      "Requirement already satisfied: ipython>=5.3.0 in /usr/local/lib/python3.10/dist-packages (from pyvis>=0.1.9->kglab) (7.34.0)\n",
      "Requirement already satisfied: jinja2>=2.9.6 in /usr/local/lib/python3.10/dist-packages (from pyvis>=0.1.9->kglab) (3.1.2)\n",
      "Requirement already satisfied: jsonpickle>=1.4.1 in /usr/local/lib/python3.10/dist-packages (from pyvis>=0.1.9->kglab) (3.0.2)\n",
      "Collecting isodate<0.7.0,>=0.6.0 (from rdflib>=6.1->kglab)\n",
      "  Downloading isodate-0.6.1-py2.py3-none-any.whl (41 kB)\n",
      "\u001B[2K     \u001B[90m━━━━━━━━━━━━━━━━━━━━━━━━━━━━━━━━━━━━━━━━\u001B[0m \u001B[32m41.7/41.7 kB\u001B[0m \u001B[31m4.6 MB/s\u001B[0m eta \u001B[36m0:00:00\u001B[0m\n",
      "\u001B[?25hRequirement already satisfied: pyparsing<4,>=2.1.0 in /usr/local/lib/python3.10/dist-packages (from rdflib>=6.1->kglab) (3.1.1)\n",
      "Requirement already satisfied: idna<4,>=2.5 in /usr/local/lib/python3.10/dist-packages (from requests>=2.27->kglab) (3.4)\n",
      "Requirement already satisfied: urllib3<3,>=1.21.1 in /usr/local/lib/python3.10/dist-packages (from requests>=2.27->kglab) (2.0.7)\n",
      "Requirement already satisfied: certifi>=2017.4.17 in /usr/local/lib/python3.10/dist-packages (from requests>=2.27->kglab) (2023.7.22)\n",
      "Requirement already satisfied: patsy>=0.5.2 in /usr/local/lib/python3.10/dist-packages (from statsmodels>=0.13->kglab) (0.5.3)\n",
      "Requirement already satisfied: pycparser in /usr/local/lib/python3.10/dist-packages (from cffi>=1.12->cryptography>=35.0->kglab) (2.21)\n",
      "Requirement already satisfied: cachetools<6.0,>=2.0.0 in /usr/local/lib/python3.10/dist-packages (from google-auth>=1.2->gcsfs>=2022.2->kglab) (5.3.2)\n",
      "Requirement already satisfied: pyasn1-modules>=0.2.1 in /usr/local/lib/python3.10/dist-packages (from google-auth>=1.2->gcsfs>=2022.2->kglab) (0.3.0)\n",
      "Requirement already satisfied: rsa<5,>=3.1.4 in /usr/local/lib/python3.10/dist-packages (from google-auth>=1.2->gcsfs>=2022.2->kglab) (4.9)\n",
      "Requirement already satisfied: webencodings in /usr/local/lib/python3.10/dist-packages (from html5lib<2,>=1.1->pyshacl>=0.18->kglab) (0.5.1)\n",
      "Requirement already satisfied: setuptools>=18.5 in /usr/local/lib/python3.10/dist-packages (from ipython>=5.3.0->pyvis>=0.1.9->kglab) (67.7.2)\n",
      "Collecting jedi>=0.16 (from ipython>=5.3.0->pyvis>=0.1.9->kglab)\n",
      "  Downloading jedi-0.19.1-py2.py3-none-any.whl (1.6 MB)\n",
      "\u001B[2K     \u001B[90m━━━━━━━━━━━━━━━━━━━━━━━━━━━━━━━━━━━━━━━━\u001B[0m \u001B[32m1.6/1.6 MB\u001B[0m \u001B[31m66.9 MB/s\u001B[0m eta \u001B[36m0:00:00\u001B[0m\n",
      "\u001B[?25hRequirement already satisfied: pickleshare in /usr/local/lib/python3.10/dist-packages (from ipython>=5.3.0->pyvis>=0.1.9->kglab) (0.7.5)\n",
      "Requirement already satisfied: traitlets>=4.2 in /usr/local/lib/python3.10/dist-packages (from ipython>=5.3.0->pyvis>=0.1.9->kglab) (5.7.1)\n",
      "Requirement already satisfied: prompt-toolkit!=3.0.0,!=3.0.1,<3.1.0,>=2.0.0 in /usr/local/lib/python3.10/dist-packages (from ipython>=5.3.0->pyvis>=0.1.9->kglab) (3.0.41)\n",
      "Requirement already satisfied: backcall in /usr/local/lib/python3.10/dist-packages (from ipython>=5.3.0->pyvis>=0.1.9->kglab) (0.2.0)\n",
      "Requirement already satisfied: matplotlib-inline in /usr/local/lib/python3.10/dist-packages (from ipython>=5.3.0->pyvis>=0.1.9->kglab) (0.1.6)\n",
      "Requirement already satisfied: pexpect>4.3 in /usr/local/lib/python3.10/dist-packages (from ipython>=5.3.0->pyvis>=0.1.9->kglab) (4.8.0)\n",
      "Requirement already satisfied: MarkupSafe>=2.0 in /usr/local/lib/python3.10/dist-packages (from jinja2>=2.9.6->pyvis>=0.1.9->kglab) (2.1.3)\n",
      "Requirement already satisfied: wcwidth in /usr/local/lib/python3.10/dist-packages (from prettytable>=3.5.0->pyshacl>=0.18->kglab) (0.2.10)\n",
      "Collecting ruamel.yaml.clib>=0.2.7 (from ruamel-yaml<1.0.0,>=0.17.0->morph-kgc>=2.0.0->kglab)\n",
      "  Downloading ruamel.yaml.clib-0.2.8-cp310-cp310-manylinux_2_17_x86_64.manylinux2014_x86_64.manylinux_2_24_x86_64.whl (526 kB)\n",
      "\u001B[2K     \u001B[90m━━━━━━━━━━━━━━━━━━━━━━━━━━━━━━━━━━━━━━━━\u001B[0m \u001B[32m526.7/526.7 kB\u001B[0m \u001B[31m42.0 MB/s\u001B[0m eta \u001B[36m0:00:00\u001B[0m\n",
      "\u001B[?25hRequirement already satisfied: sqlparse<0.5.0,>=0.4.1 in /usr/local/lib/python3.10/dist-packages (from sql-metadata<3.0.0,>=2.6.0->morph-kgc>=2.0.0->kglab) (0.4.4)\n",
      "Requirement already satisfied: typing-extensions>=4.2.0 in /usr/local/lib/python3.10/dist-packages (from sqlalchemy<3.0.0,>=2.0.0->morph-kgc>=2.0.0->kglab) (4.5.0)\n",
      "Requirement already satisfied: greenlet!=0.4.17 in /usr/local/lib/python3.10/dist-packages (from sqlalchemy<3.0.0,>=2.0.0->morph-kgc>=2.0.0->kglab) (3.0.1)\n",
      "Requirement already satisfied: requests-oauthlib>=0.7.0 in /usr/local/lib/python3.10/dist-packages (from google-auth-oauthlib->gcsfs>=2022.2->kglab) (1.3.1)\n",
      "Requirement already satisfied: google-api-core!=2.0.*,!=2.1.*,!=2.2.*,!=2.3.0,<3.0.0dev,>=1.31.5 in /usr/local/lib/python3.10/dist-packages (from google-cloud-storage->gcsfs>=2022.2->kglab) (2.11.1)\n",
      "Requirement already satisfied: google-cloud-core<3.0dev,>=2.3.0 in /usr/local/lib/python3.10/dist-packages (from google-cloud-storage->gcsfs>=2022.2->kglab) (2.3.3)\n",
      "Requirement already satisfied: google-resumable-media>=2.3.2 in /usr/local/lib/python3.10/dist-packages (from google-cloud-storage->gcsfs>=2022.2->kglab) (2.6.0)\n",
      "Collecting aiobotocore~=2.7.0 (from s3fs->fsspec[gs,s3]>=2022.2->kglab)\n",
      "  Downloading aiobotocore-2.7.0-py3-none-any.whl (73 kB)\n",
      "\u001B[2K     \u001B[90m━━━━━━━━━━━━━━━━━━━━━━━━━━━━━━━━━━━━━━━━\u001B[0m \u001B[32m73.5/73.5 kB\u001B[0m \u001B[31m8.6 MB/s\u001B[0m eta \u001B[36m0:00:00\u001B[0m\n",
      "\u001B[?25hINFO: pip is looking at multiple versions of s3fs to determine which version is compatible with other requirements. This could take a while.\n",
      "Collecting s3fs (from fsspec[gs,s3]>=2022.2->kglab)\n",
      "  Downloading s3fs-2023.9.2-py3-none-any.whl (28 kB)\n",
      "Collecting aiobotocore~=2.5.4 (from s3fs->fsspec[gs,s3]>=2022.2->kglab)\n",
      "  Downloading aiobotocore-2.5.4-py3-none-any.whl (73 kB)\n",
      "\u001B[2K     \u001B[90m━━━━━━━━━━━━━━━━━━━━━━━━━━━━━━━━━━━━━━━━\u001B[0m \u001B[32m73.4/73.4 kB\u001B[0m \u001B[31m8.5 MB/s\u001B[0m eta \u001B[36m0:00:00\u001B[0m\n",
      "\u001B[?25hCollecting s3fs (from fsspec[gs,s3]>=2022.2->kglab)\n",
      "  Downloading s3fs-2023.9.1-py3-none-any.whl (28 kB)\n",
      "  Downloading s3fs-2023.9.0-py3-none-any.whl (28 kB)\n",
      "  Downloading s3fs-2023.6.0-py3-none-any.whl (28 kB)\n",
      "Collecting botocore<1.31.18,>=1.31.17 (from aiobotocore~=2.5.4->s3fs->fsspec[gs,s3]>=2022.2->kglab)\n",
      "  Downloading botocore-1.31.17-py3-none-any.whl (11.1 MB)\n",
      "\u001B[2K     \u001B[90m━━━━━━━━━━━━━━━━━━━━━━━━━━━━━━━━━━━━━━━━\u001B[0m \u001B[32m11.1/11.1 MB\u001B[0m \u001B[31m67.0 MB/s\u001B[0m eta \u001B[36m0:00:00\u001B[0m\n",
      "\u001B[?25hRequirement already satisfied: wrapt<2.0.0,>=1.10.10 in /usr/local/lib/python3.10/dist-packages (from aiobotocore~=2.5.4->s3fs->fsspec[gs,s3]>=2022.2->kglab) (1.14.1)\n",
      "Collecting aioitertools<1.0.0,>=0.5.1 (from aiobotocore~=2.5.4->s3fs->fsspec[gs,s3]>=2022.2->kglab)\n",
      "  Downloading aioitertools-0.11.0-py3-none-any.whl (23 kB)\n",
      "Requirement already satisfied: googleapis-common-protos<2.0.dev0,>=1.56.2 in /usr/local/lib/python3.10/dist-packages (from google-api-core!=2.0.*,!=2.1.*,!=2.2.*,!=2.3.0,<3.0.0dev,>=1.31.5->google-cloud-storage->gcsfs>=2022.2->kglab) (1.61.0)\n",
      "Requirement already satisfied: protobuf!=3.20.0,!=3.20.1,!=4.21.0,!=4.21.1,!=4.21.2,!=4.21.3,!=4.21.4,!=4.21.5,<5.0.0.dev0,>=3.19.5 in /usr/local/lib/python3.10/dist-packages (from google-api-core!=2.0.*,!=2.1.*,!=2.2.*,!=2.3.0,<3.0.0dev,>=1.31.5->google-cloud-storage->gcsfs>=2022.2->kglab) (3.20.3)\n",
      "Requirement already satisfied: google-crc32c<2.0dev,>=1.0 in /usr/local/lib/python3.10/dist-packages (from google-resumable-media>=2.3.2->google-cloud-storage->gcsfs>=2022.2->kglab) (1.5.0)\n",
      "Requirement already satisfied: parso<0.9.0,>=0.8.3 in /usr/local/lib/python3.10/dist-packages (from jedi>=0.16->ipython>=5.3.0->pyvis>=0.1.9->kglab) (0.8.3)\n",
      "Requirement already satisfied: ptyprocess>=0.5 in /usr/local/lib/python3.10/dist-packages (from pexpect>4.3->ipython>=5.3.0->pyvis>=0.1.9->kglab) (0.7.0)\n",
      "Requirement already satisfied: pyasn1<0.6.0,>=0.4.6 in /usr/local/lib/python3.10/dist-packages (from pyasn1-modules>=0.2.1->google-auth>=1.2->gcsfs>=2022.2->kglab) (0.5.0)\n",
      "Requirement already satisfied: oauthlib>=3.0.0 in /usr/local/lib/python3.10/dist-packages (from requests-oauthlib>=0.7.0->google-auth-oauthlib->gcsfs>=2022.2->kglab) (3.2.2)\n",
      "Requirement already satisfied: jmespath<2.0.0,>=0.7.1 in /usr/local/lib/python3.10/dist-packages (from botocore<1.31.18,>=1.31.17->aiobotocore~=2.5.4->s3fs->fsspec[gs,s3]>=2022.2->kglab) (1.0.1)\n",
      "Collecting urllib3<3,>=1.21.1 (from requests>=2.27->kglab)\n",
      "  Downloading urllib3-1.26.18-py2.py3-none-any.whl (143 kB)\n",
      "\u001B[2K     \u001B[90m━━━━━━━━━━━━━━━━━━━━━━━━━━━━━━━━━━━━━━━━\u001B[0m \u001B[32m143.8/143.8 kB\u001B[0m \u001B[31m15.7 MB/s\u001B[0m eta \u001B[36m0:00:00\u001B[0m\n",
      "\u001B[?25hInstalling collected packages: language-tags, duckdb, urllib3, tzdata, sql-metadata, ruamel.yaml.clib, pyoxigraph, pynvml, jsonpath-python, JPype1, jedi, isodate, importlib-metadata, falcon, executing, elementpath, decorator, colorama, chocolate, asttokens, aioitertools, scikit-learn, ruamel-yaml, rdflib, pandas, icecream, botocore, urlpath, rdflib-jsonld, pyvis, pslpython, oxrdflib, owlrl, morph-kgc, aiobotocore, s3fs, pyshacl, csvwlib, kglab\n",
      "  Attempting uninstall: duckdb\n",
      "    Found existing installation: duckdb 0.9.2\n",
      "    Uninstalling duckdb-0.9.2:\n",
      "      Successfully uninstalled duckdb-0.9.2\n",
      "  Attempting uninstall: urllib3\n",
      "    Found existing installation: urllib3 2.0.7\n",
      "    Uninstalling urllib3-2.0.7:\n",
      "      Successfully uninstalled urllib3-2.0.7\n",
      "  Attempting uninstall: importlib-metadata\n",
      "    Found existing installation: importlib-metadata 6.8.0\n",
      "    Uninstalling importlib-metadata-6.8.0:\n",
      "      Successfully uninstalled importlib-metadata-6.8.0\n",
      "  Attempting uninstall: decorator\n",
      "    Found existing installation: decorator 4.4.2\n",
      "    Uninstalling decorator-4.4.2:\n",
      "      Successfully uninstalled decorator-4.4.2\n",
      "  Attempting uninstall: scikit-learn\n",
      "    Found existing installation: scikit-learn 1.2.2\n",
      "    Uninstalling scikit-learn-1.2.2:\n",
      "      Successfully uninstalled scikit-learn-1.2.2\n",
      "  Attempting uninstall: pandas\n",
      "    Found existing installation: pandas 1.5.3\n",
      "    Uninstalling pandas-1.5.3:\n",
      "      Successfully uninstalled pandas-1.5.3\n",
      "\u001B[31mERROR: pip's dependency resolver does not currently take into account all the packages that are installed. This behaviour is the source of the following dependency conflicts.\n",
      "lida 0.0.10 requires fastapi, which is not installed.\n",
      "lida 0.0.10 requires kaleido, which is not installed.\n",
      "lida 0.0.10 requires python-multipart, which is not installed.\n",
      "lida 0.0.10 requires uvicorn, which is not installed.\n",
      "bigframes 0.13.0 requires scikit-learn>=1.2.2, but you have scikit-learn 1.1.3 which is incompatible.\n",
      "google-colab 1.0.0 requires pandas==1.5.3, but you have pandas 2.1.3 which is incompatible.\n",
      "malloy 2023.1064 requires duckdb<1.0.0,>=0.8.0, but you have duckdb 0.7.1 which is incompatible.\n",
      "moviepy 1.0.3 requires decorator<5.0,>=4.0.2, but you have decorator 5.1.1 which is incompatible.\u001B[0m\u001B[31m\n",
      "\u001B[0mSuccessfully installed JPype1-1.4.0 aiobotocore-2.5.4 aioitertools-0.11.0 asttokens-2.4.1 botocore-1.31.17 chocolate-0.0.2 colorama-0.4.6 csvwlib-0.3.2 decorator-5.1.1 duckdb-0.7.1 elementpath-4.1.5 executing-2.0.1 falcon-3.1.1 icecream-2.1.3 importlib-metadata-4.13.0 isodate-0.6.1 jedi-0.19.1 jsonpath-python-1.0.6 kglab-0.6.6 language-tags-1.2.0 morph-kgc-2.6.3 owlrl-6.0.2 oxrdflib-0.3.6 pandas-2.1.3 pslpython-2.4.0 pynvml-11.5.0 pyoxigraph-0.3.20 pyshacl-0.24.0 pyvis-0.3.2 rdflib-7.0.0 rdflib-jsonld-0.6.2 ruamel-yaml-0.18.5 ruamel.yaml.clib-0.2.8 s3fs-2023.6.0 scikit-learn-1.1.3 sql-metadata-2.10.0 tzdata-2023.3 urllib3-1.26.18 urlpath-1.2.0\n"
     ]
    },
    {
     "data": {
      "application/vnd.colab-display-data+json": {
       "pip_warning": {
        "packages": [
         "decorator"
        ]
       }
      }
     },
     "metadata": {},
     "output_type": "display_data"
    },
    {
     "name": "stdout",
     "output_type": "stream",
     "text": [
      "Requirement already satisfied: requests in /usr/local/lib/python3.10/dist-packages (2.31.0)\n",
      "Requirement already satisfied: charset-normalizer<4,>=2 in /usr/local/lib/python3.10/dist-packages (from requests) (3.3.2)\n",
      "Requirement already satisfied: idna<4,>=2.5 in /usr/local/lib/python3.10/dist-packages (from requests) (3.4)\n",
      "Requirement already satisfied: urllib3<3,>=1.21.1 in /usr/local/lib/python3.10/dist-packages (from requests) (1.26.18)\n",
      "Requirement already satisfied: certifi>=2017.4.17 in /usr/local/lib/python3.10/dist-packages (from requests) (2023.7.22)\n",
      "\u001B[31mERROR: Could not find a version that satisfies the requirement json (from versions: none)\u001B[0m\u001B[31m\n",
      "\u001B[0m\u001B[31mERROR: No matching distribution found for json\u001B[0m\u001B[31m\n",
      "\u001B[0m"
     ]
    }
   ],
   "source": [
    "!pip -q install advertools\n",
    "!pip -q install pyld\n",
    "!pip -q install kglab\n",
    "!pip - qinstall requests\n",
    "!pip -q install json"
   ]
  },
  {
   "cell_type": "code",
   "execution_count": 2,
   "id": "ef1f0a5d",
   "metadata": {
    "id": "ef1f0a5d",
    "tags": [],
    "ExecuteTime": {
     "end_time": "2023-12-07T16:31:05.772565716Z",
     "start_time": "2023-12-07T16:31:05.725996561Z"
    }
   },
   "outputs": [],
   "source": [
    "import warnings\n",
    "warnings.simplefilter(action='ignore', category=FutureWarning)\n",
    "\n",
    "import advertools as adv\n",
    "import json\n",
    "import requests\n",
    "from pyld import jsonld\n",
    "from bs4 import BeautifulSoup\n",
    "import urllib.request\n",
    "import logging\n",
    "import traceback\n",
    "import kglab\n",
    "import pandas as pd\n"
   ]
  },
  {
   "cell_type": "code",
   "execution_count": 3,
   "id": "ee61d05a",
   "metadata": {
    "colab": {
     "base_uri": "https://localhost:8080/"
    },
    "id": "ee61d05a",
    "outputId": "c50647f3-aac2-45ee-ad6b-11989d0ca0fd",
    "tags": [],
    "ExecuteTime": {
     "end_time": "2023-12-07T16:31:09.768324015Z",
     "start_time": "2023-12-07T16:31:06.392243655Z"
    }
   },
   "outputs": [
    {
     "name": "stderr",
     "output_type": "stream",
     "text": [
      "2023-12-07 10:31:07,818 | INFO | sitemaps.py:536 | sitemap_to_df | Getting https://www.oceanexpert.org/assets/sitemaps/sitemapTraining.xml\n",
      "2023-12-07 10:31:08,522 | INFO | sitemaps.py:536 | sitemap_to_df | Getting https://www.oceanexpert.org/assets/sitemaps/sitemapEvents.xml\n",
      "2023-12-07 10:31:08,522 | INFO | sitemaps.py:536 | sitemap_to_df | Getting https://www.oceanexpert.org/assets/sitemaps/sitemapInstitutions.xml\n",
      "2023-12-07 10:31:09,302 | INFO | sitemaps.py:536 | sitemap_to_df | Getting https://www.oceanexpert.org/assets/sitemaps/sitemapExperts.xml\n"
     ]
    },
    {
     "name": "stdout",
     "output_type": "stream",
     "text": [
      "<class 'pandas.core.frame.DataFrame'>\n",
      "RangeIndex: 38785 entries, 0 to 38784\n",
      "Data columns (total 9 columns):\n",
      " #   Column                 Non-Null Count  Dtype              \n",
      "---  ------                 --------------  -----              \n",
      " 0   loc                    38785 non-null  object             \n",
      " 1   lastmod                38785 non-null  datetime64[ns, UTC]\n",
      " 2   changefreq             38785 non-null  object             \n",
      " 3   priority               38785 non-null  float64            \n",
      " 4   sitemap                38785 non-null  object             \n",
      " 5   etag                   38785 non-null  object             \n",
      " 6   sitemap_last_modified  38785 non-null  datetime64[ns, UTC]\n",
      " 7   sitemap_size_mb        38785 non-null  float64            \n",
      " 8   download_date          38785 non-null  datetime64[ns, UTC]\n",
      "dtypes: datetime64[ns, UTC](3), float64(2), object(4)\n",
      "memory usage: 2.7+ MB\n",
      "CPU times: user 1.6 s, sys: 60.3 ms, total: 1.66 s\n",
      "Wall time: 3.37 s\n"
     ]
    }
   ],
   "source": [
    "%%time\n",
    "\n",
    "# smurl = 'https://opencoredata.org/sitemap_0.xml'\n",
    "# smurl = 'https://www.bco-dmo.org/sitemap.xml'\n",
    "# smurl = 'https://opentopography.org/sitemap.xml'\n",
    "# smurl = 'https://www2.earthref.org/MagIC/contributions.sitemap.xml'\n",
    "# smurl = 'https://oceanscape.org/organisation-sitemap.xml'\n",
    "# smurl = 'https://catalogue.cioosatlantic.ca/sitemap/sitemap-1.xml'\n",
    "# smurl = 'https://obis.org/sitemap/sitemap_datasets.xml'\n",
    "# smurl = 'https://infohub.eurocean.net/sitemap/vessels'\n",
    "# smurl = 'https://raw.githubusercontent.com/iodepo/odis-arch/schema-dev-jm/code/notebooks/Exploration/data-pacificdatahub/sitemap.xml'\n",
    "# smurl = 'https://catalogue.cioospacific.ca/sitemap/sitemap-1.xml'\n",
    "# smurl = 'https://geonode.nodc.id/sitemap.xml'\n",
    "# smurl = \"https://lipdverse.org/sitemap.xml\"\n",
    "# smurl = \"https://pacificdata.org/organization/sitemap.xml\"\n",
    "# smurl = \"https://pacificdata.org/data/sitemap/cookislands-data/sitemap.xml\"\n",
    "# smurl = 'https://geoconnex.us/sitemap/ref/states/states__0.xml'\n",
    "# smurl = \"https://oceanscape.org/organisation-sitemap.xml\"\n",
    "# smurl = \"https://catalogue.cioos.ca/sitemap/sitemap.xml\"\n",
    "# smurl = \"https://geoconnex.us/sitemap.xml\"\n",
    "# smurl = \"https://ioc-africa.org/sitemap.xml\"\n",
    "# smurl = \"https://researchdata.edu.au/home/sitemap/?ds=64\"\n",
    "# smurl = \"https://uatweb.spc.links.com.au/sitemap.xml\"\n",
    "# smurl = \"https://uatweb.spc.links.com.au/sitemap.xml\"\n",
    "# smurl = \"https://pacificdata.org/organization/sitemap.xml\"\n",
    "# smurl = \"https://raw.githubusercontent.com/BeBOP-OBON/odis-interface/main/sitemap.xml\"\n",
    "# smurl = \"https://researchdata.edu.au/home/sitemap/?ds=64\"\n",
    "# smurl = \"https://catalogue.cioos.ca/sitemap/sitemap.xml\"\n",
    "# smurl = \"https://api.linked-systems.uk/sitemap_pap_api.xml\"\n",
    "# smurl = \"https://pacific-data.sprep.org/sitemap.xml\"\n",
    "# smurl = \"https://metadata.naturalsciences.be/geonetwork/srv/api/sitemap\"\n",
    "# smurl = \"https://emodnet.ec.europa.eu/geonetwork/srv/eng/portal.sitemap\"\n",
    "smurl = \"https://oceanexpert.org/assets/sitemaps/sitemapIndex.xml\"\n",
    "\n",
    "iow_sitemap = adv.sitemap_to_df(smurl) # load sitemap to dataframe via advertools\n",
    "iow_sitemap.info()\n",
    "# iow_sitemap.head()"
   ]
  },
  {
   "cell_type": "markdown",
   "id": "8a46fe1a",
   "metadata": {
    "id": "8a46fe1a"
   },
   "source": [
    "## Analyzing the URLs\n",
    "\n",
    "We can quickly grab the unique URLs from the sitemap column and see how many unique sitemap.xml files we are working with\n",
    "\n",
    "We can also dive into the URL structure for the resources a bit."
   ]
  },
  {
   "cell_type": "code",
   "execution_count": 4,
   "id": "dea7c700-abf3-468a-b435-83fac93a4279",
   "metadata": {
    "id": "dea7c700-abf3-468a-b435-83fac93a4279",
    "outputId": "731d9dce-af20-463d-ba6d-1b85fa472d8b",
    "tags": [],
    "ExecuteTime": {
     "end_time": "2023-12-07T16:31:15.628569696Z",
     "start_time": "2023-12-07T16:31:15.613329989Z"
    }
   },
   "outputs": [
    {
     "name": "stdout",
     "output_type": "stream",
     "text": [
      "4 unique sitemap XML file(s) pointing to 38189 unique resource(s).\n"
     ]
    }
   ],
   "source": [
    "usm = iow_sitemap.sitemap.unique()\n",
    "uloc = iow_sitemap[\"loc\"].unique()\n",
    "print(\"{} unique sitemap XML file(s) pointing to {} unique resource(s).\".format(len(usm), len(uloc)))\n"
   ]
  },
  {
   "cell_type": "code",
   "execution_count": 24,
   "id": "710a7602",
   "metadata": {
    "ExecuteTime": {
     "end_time": "2023-10-12T16:10:28.510050305Z",
     "start_time": "2023-10-12T16:10:28.503191569Z"
    },
    "id": "710a7602",
    "tags": []
   },
   "outputs": [
    {
     "ename": "AttributeError",
     "evalue": "'float' object has no attribute 'decode'",
     "output_type": "error",
     "traceback": [
      "\u001B[0;31m---------------------------------------------------------------------------\u001B[0m",
      "\u001B[0;31mAttributeError\u001B[0m                            Traceback (most recent call last)",
      "\u001B[0;32m<ipython-input-24-5ed87d354d0b>\u001B[0m in \u001B[0;36m<module>\u001B[0;34m\u001B[0m\n\u001B[1;32m      5\u001B[0m \u001B[0;32mfor\u001B[0m \u001B[0murl\u001B[0m \u001B[0;32min\u001B[0m \u001B[0muloc\u001B[0m\u001B[0;34m:\u001B[0m\u001B[0;34m\u001B[0m\u001B[0;34m\u001B[0m\u001B[0m\n\u001B[1;32m      6\u001B[0m     \u001B[0;32mtry\u001B[0m\u001B[0;34m:\u001B[0m\u001B[0;34m\u001B[0m\u001B[0;34m\u001B[0m\u001B[0m\n\u001B[0;32m----> 7\u001B[0;31m         \u001B[0mresult\u001B[0m \u001B[0;34m=\u001B[0m \u001B[0murlparse\u001B[0m\u001B[0;34m(\u001B[0m\u001B[0murl\u001B[0m\u001B[0;34m)\u001B[0m\u001B[0;34m\u001B[0m\u001B[0;34m\u001B[0m\u001B[0m\n\u001B[0m\u001B[1;32m      8\u001B[0m         \u001B[0;32mif\u001B[0m \u001B[0mall\u001B[0m\u001B[0;34m(\u001B[0m\u001B[0;34m[\u001B[0m\u001B[0mresult\u001B[0m\u001B[0;34m.\u001B[0m\u001B[0mscheme\u001B[0m\u001B[0;34m,\u001B[0m \u001B[0mresult\u001B[0m\u001B[0;34m.\u001B[0m\u001B[0mnetloc\u001B[0m\u001B[0;34m]\u001B[0m\u001B[0;34m)\u001B[0m\u001B[0;34m:\u001B[0m\u001B[0;34m\u001B[0m\u001B[0;34m\u001B[0m\u001B[0m\n\u001B[1;32m      9\u001B[0m             \u001B[0;32mpass\u001B[0m\u001B[0;34m\u001B[0m\u001B[0;34m\u001B[0m\u001B[0m\n",
      "\u001B[0;32m~/.conda/envs/dev/lib/python3.10/urllib/parse.py\u001B[0m in \u001B[0;36murlparse\u001B[0;34m(url, scheme, allow_fragments)\u001B[0m\n\u001B[1;32m    397\u001B[0m     \u001B[0mNote\u001B[0m \u001B[0mthat\u001B[0m \u001B[0;34m%\u001B[0m \u001B[0mescapes\u001B[0m \u001B[0mare\u001B[0m \u001B[0;32mnot\u001B[0m \u001B[0mexpanded\u001B[0m\u001B[0;34m.\u001B[0m\u001B[0;34m\u001B[0m\u001B[0;34m\u001B[0m\u001B[0m\n\u001B[1;32m    398\u001B[0m     \"\"\"\n\u001B[0;32m--> 399\u001B[0;31m     \u001B[0murl\u001B[0m\u001B[0;34m,\u001B[0m \u001B[0mscheme\u001B[0m\u001B[0;34m,\u001B[0m \u001B[0m_coerce_result\u001B[0m \u001B[0;34m=\u001B[0m \u001B[0m_coerce_args\u001B[0m\u001B[0;34m(\u001B[0m\u001B[0murl\u001B[0m\u001B[0;34m,\u001B[0m \u001B[0mscheme\u001B[0m\u001B[0;34m)\u001B[0m\u001B[0;34m\u001B[0m\u001B[0;34m\u001B[0m\u001B[0m\n\u001B[0m\u001B[1;32m    400\u001B[0m     \u001B[0msplitresult\u001B[0m \u001B[0;34m=\u001B[0m \u001B[0murlsplit\u001B[0m\u001B[0;34m(\u001B[0m\u001B[0murl\u001B[0m\u001B[0;34m,\u001B[0m \u001B[0mscheme\u001B[0m\u001B[0;34m,\u001B[0m \u001B[0mallow_fragments\u001B[0m\u001B[0;34m)\u001B[0m\u001B[0;34m\u001B[0m\u001B[0;34m\u001B[0m\u001B[0m\n\u001B[1;32m    401\u001B[0m     \u001B[0mscheme\u001B[0m\u001B[0;34m,\u001B[0m \u001B[0mnetloc\u001B[0m\u001B[0;34m,\u001B[0m \u001B[0murl\u001B[0m\u001B[0;34m,\u001B[0m \u001B[0mquery\u001B[0m\u001B[0;34m,\u001B[0m \u001B[0mfragment\u001B[0m \u001B[0;34m=\u001B[0m \u001B[0msplitresult\u001B[0m\u001B[0;34m\u001B[0m\u001B[0;34m\u001B[0m\u001B[0m\n",
      "\u001B[0;32m~/.conda/envs/dev/lib/python3.10/urllib/parse.py\u001B[0m in \u001B[0;36m_coerce_args\u001B[0;34m(*args)\u001B[0m\n\u001B[1;32m    134\u001B[0m     \u001B[0;32mif\u001B[0m \u001B[0mstr_input\u001B[0m\u001B[0;34m:\u001B[0m\u001B[0;34m\u001B[0m\u001B[0;34m\u001B[0m\u001B[0m\n\u001B[1;32m    135\u001B[0m         \u001B[0;32mreturn\u001B[0m \u001B[0margs\u001B[0m \u001B[0;34m+\u001B[0m \u001B[0;34m(\u001B[0m\u001B[0m_noop\u001B[0m\u001B[0;34m,\u001B[0m\u001B[0;34m)\u001B[0m\u001B[0;34m\u001B[0m\u001B[0;34m\u001B[0m\u001B[0m\n\u001B[0;32m--> 136\u001B[0;31m     \u001B[0;32mreturn\u001B[0m \u001B[0m_decode_args\u001B[0m\u001B[0;34m(\u001B[0m\u001B[0margs\u001B[0m\u001B[0;34m)\u001B[0m \u001B[0;34m+\u001B[0m \u001B[0;34m(\u001B[0m\u001B[0m_encode_result\u001B[0m\u001B[0;34m,\u001B[0m\u001B[0;34m)\u001B[0m\u001B[0;34m\u001B[0m\u001B[0;34m\u001B[0m\u001B[0m\n\u001B[0m\u001B[1;32m    137\u001B[0m \u001B[0;34m\u001B[0m\u001B[0m\n\u001B[1;32m    138\u001B[0m \u001B[0;31m# Result objects are more helpful than simple tuples\u001B[0m\u001B[0;34m\u001B[0m\u001B[0;34m\u001B[0m\u001B[0m\n",
      "\u001B[0;32m~/.conda/envs/dev/lib/python3.10/urllib/parse.py\u001B[0m in \u001B[0;36m_decode_args\u001B[0;34m(args, encoding, errors)\u001B[0m\n\u001B[1;32m    118\u001B[0m def _decode_args(args, encoding=_implicit_encoding,\n\u001B[1;32m    119\u001B[0m                        errors=_implicit_errors):\n\u001B[0;32m--> 120\u001B[0;31m     \u001B[0;32mreturn\u001B[0m \u001B[0mtuple\u001B[0m\u001B[0;34m(\u001B[0m\u001B[0mx\u001B[0m\u001B[0;34m.\u001B[0m\u001B[0mdecode\u001B[0m\u001B[0;34m(\u001B[0m\u001B[0mencoding\u001B[0m\u001B[0;34m,\u001B[0m \u001B[0merrors\u001B[0m\u001B[0;34m)\u001B[0m \u001B[0;32mif\u001B[0m \u001B[0mx\u001B[0m \u001B[0;32melse\u001B[0m \u001B[0;34m''\u001B[0m \u001B[0;32mfor\u001B[0m \u001B[0mx\u001B[0m \u001B[0;32min\u001B[0m \u001B[0margs\u001B[0m\u001B[0;34m)\u001B[0m\u001B[0;34m\u001B[0m\u001B[0;34m\u001B[0m\u001B[0m\n\u001B[0m\u001B[1;32m    121\u001B[0m \u001B[0;34m\u001B[0m\u001B[0m\n\u001B[1;32m    122\u001B[0m \u001B[0;32mdef\u001B[0m \u001B[0m_coerce_args\u001B[0m\u001B[0;34m(\u001B[0m\u001B[0;34m*\u001B[0m\u001B[0margs\u001B[0m\u001B[0;34m)\u001B[0m\u001B[0;34m:\u001B[0m\u001B[0;34m\u001B[0m\u001B[0;34m\u001B[0m\u001B[0m\n",
      "\u001B[0;32m~/.conda/envs/dev/lib/python3.10/urllib/parse.py\u001B[0m in \u001B[0;36m<genexpr>\u001B[0;34m(.0)\u001B[0m\n\u001B[1;32m    118\u001B[0m def _decode_args(args, encoding=_implicit_encoding,\n\u001B[1;32m    119\u001B[0m                        errors=_implicit_errors):\n\u001B[0;32m--> 120\u001B[0;31m     \u001B[0;32mreturn\u001B[0m \u001B[0mtuple\u001B[0m\u001B[0;34m(\u001B[0m\u001B[0mx\u001B[0m\u001B[0;34m.\u001B[0m\u001B[0mdecode\u001B[0m\u001B[0;34m(\u001B[0m\u001B[0mencoding\u001B[0m\u001B[0;34m,\u001B[0m \u001B[0merrors\u001B[0m\u001B[0;34m)\u001B[0m \u001B[0;32mif\u001B[0m \u001B[0mx\u001B[0m \u001B[0;32melse\u001B[0m \u001B[0;34m''\u001B[0m \u001B[0;32mfor\u001B[0m \u001B[0mx\u001B[0m \u001B[0;32min\u001B[0m \u001B[0margs\u001B[0m\u001B[0;34m)\u001B[0m\u001B[0;34m\u001B[0m\u001B[0;34m\u001B[0m\u001B[0m\n\u001B[0m\u001B[1;32m    121\u001B[0m \u001B[0;34m\u001B[0m\u001B[0m\n\u001B[1;32m    122\u001B[0m \u001B[0;32mdef\u001B[0m \u001B[0m_coerce_args\u001B[0m\u001B[0;34m(\u001B[0m\u001B[0;34m*\u001B[0m\u001B[0margs\u001B[0m\u001B[0;34m)\u001B[0m\u001B[0;34m:\u001B[0m\u001B[0;34m\u001B[0m\u001B[0;34m\u001B[0m\u001B[0m\n",
      "\u001B[0;31mAttributeError\u001B[0m: 'float' object has no attribute 'decode'"
     ]
    }
   ],
   "source": [
    "\n",
    "from urllib.parse import urlparse\n",
    "\n",
    "invalid_urls = []\n",
    "\n",
    "for url in uloc:\n",
    "    try:\n",
    "        result = urlparse(url)\n",
    "        if all([result.scheme, result.netloc]):\n",
    "            pass\n",
    "        else:\n",
    "            invalid_urls.append(url)\n",
    "    except ValueError:\n",
    "        print(f\"{url} is an exception URL\")\n",
    "        invalid_urls.append(url)\n",
    "\n",
    "\n",
    "df = pd.DataFrame({'Invalid URLs': invalid_urls})\n"
   ]
  },
  {
   "cell_type": "code",
   "execution_count": 25,
   "id": "0860ce39",
   "metadata": {
    "ExecuteTime": {
     "end_time": "2023-10-12T16:10:29.252686685Z",
     "start_time": "2023-10-12T16:10:29.246860688Z"
    },
    "id": "0860ce39",
    "outputId": "59634fed-96b2-4176-a98f-6a72bedccf54",
    "tags": []
   },
   "outputs": [
    {
     "data": {
      "text/html": [
       "<div>\n",
       "<style scoped>\n",
       "    .dataframe tbody tr th:only-of-type {\n",
       "        vertical-align: middle;\n",
       "    }\n",
       "\n",
       "    .dataframe tbody tr th {\n",
       "        vertical-align: top;\n",
       "    }\n",
       "\n",
       "    .dataframe thead th {\n",
       "        text-align: right;\n",
       "    }\n",
       "</style>\n",
       "<table border=\"1\" class=\"dataframe\">\n",
       "  <thead>\n",
       "    <tr style=\"text-align: right;\">\n",
       "      <th></th>\n",
       "      <th>Invalid URLs</th>\n",
       "    </tr>\n",
       "  </thead>\n",
       "  <tbody>\n",
       "  </tbody>\n",
       "</table>\n",
       "</div>"
      ],
      "text/plain": [
       "Empty DataFrame\n",
       "Columns: [Invalid URLs]\n",
       "Index: []"
      ]
     },
     "execution_count": 25,
     "metadata": {},
     "output_type": "execute_result"
    }
   ],
   "source": [
    "df.head()"
   ]
  },
  {
   "cell_type": "code",
   "execution_count": 26,
   "id": "7bc2195f-c945-4c97-ae54-42195d19d8ee",
   "metadata": {
    "ExecuteTime": {
     "end_time": "2023-10-12T16:10:30.241396556Z",
     "start_time": "2023-10-12T16:10:30.234849667Z"
    },
    "id": "7bc2195f-c945-4c97-ae54-42195d19d8ee",
    "tags": []
   },
   "outputs": [
    {
     "ename": "AttributeError",
     "evalue": "'float' object has no attribute 'decode'",
     "output_type": "error",
     "traceback": [
      "\u001B[0;31m---------------------------------------------------------------------------\u001B[0m",
      "\u001B[0;31mAttributeError\u001B[0m                            Traceback (most recent call last)",
      "\u001B[0;32m<ipython-input-26-6fc9ff462bb4>\u001B[0m in \u001B[0;36m<module>\u001B[0;34m\u001B[0m\n\u001B[1;32m      6\u001B[0m \u001B[0;32mfor\u001B[0m \u001B[0murl\u001B[0m \u001B[0;32min\u001B[0m \u001B[0muloc\u001B[0m\u001B[0;34m:\u001B[0m\u001B[0;34m\u001B[0m\u001B[0;34m\u001B[0m\u001B[0m\n\u001B[1;32m      7\u001B[0m     \u001B[0;32mtry\u001B[0m\u001B[0;34m:\u001B[0m\u001B[0;34m\u001B[0m\u001B[0;34m\u001B[0m\u001B[0m\n\u001B[0;32m----> 8\u001B[0;31m         \u001B[0mresult\u001B[0m \u001B[0;34m=\u001B[0m \u001B[0murlparse\u001B[0m\u001B[0;34m(\u001B[0m\u001B[0murl\u001B[0m\u001B[0;34m)\u001B[0m\u001B[0;34m\u001B[0m\u001B[0;34m\u001B[0m\u001B[0m\n\u001B[0m\u001B[1;32m      9\u001B[0m         \u001B[0;32mif\u001B[0m \u001B[0mall\u001B[0m\u001B[0;34m(\u001B[0m\u001B[0;34m[\u001B[0m\u001B[0mresult\u001B[0m\u001B[0;34m.\u001B[0m\u001B[0mscheme\u001B[0m\u001B[0;34m,\u001B[0m \u001B[0mresult\u001B[0m\u001B[0;34m.\u001B[0m\u001B[0mnetloc\u001B[0m\u001B[0;34m]\u001B[0m\u001B[0;34m)\u001B[0m\u001B[0;34m:\u001B[0m\u001B[0;34m\u001B[0m\u001B[0;34m\u001B[0m\u001B[0m\n\u001B[1;32m     10\u001B[0m             \u001B[0mvalid_urls\u001B[0m\u001B[0;34m.\u001B[0m\u001B[0mappend\u001B[0m\u001B[0;34m(\u001B[0m\u001B[0murl\u001B[0m\u001B[0;34m)\u001B[0m\u001B[0;34m\u001B[0m\u001B[0;34m\u001B[0m\u001B[0m\n",
      "\u001B[0;32m~/.conda/envs/dev/lib/python3.10/urllib/parse.py\u001B[0m in \u001B[0;36murlparse\u001B[0;34m(url, scheme, allow_fragments)\u001B[0m\n\u001B[1;32m    397\u001B[0m     \u001B[0mNote\u001B[0m \u001B[0mthat\u001B[0m \u001B[0;34m%\u001B[0m \u001B[0mescapes\u001B[0m \u001B[0mare\u001B[0m \u001B[0;32mnot\u001B[0m \u001B[0mexpanded\u001B[0m\u001B[0;34m.\u001B[0m\u001B[0;34m\u001B[0m\u001B[0;34m\u001B[0m\u001B[0m\n\u001B[1;32m    398\u001B[0m     \"\"\"\n\u001B[0;32m--> 399\u001B[0;31m     \u001B[0murl\u001B[0m\u001B[0;34m,\u001B[0m \u001B[0mscheme\u001B[0m\u001B[0;34m,\u001B[0m \u001B[0m_coerce_result\u001B[0m \u001B[0;34m=\u001B[0m \u001B[0m_coerce_args\u001B[0m\u001B[0;34m(\u001B[0m\u001B[0murl\u001B[0m\u001B[0;34m,\u001B[0m \u001B[0mscheme\u001B[0m\u001B[0;34m)\u001B[0m\u001B[0;34m\u001B[0m\u001B[0;34m\u001B[0m\u001B[0m\n\u001B[0m\u001B[1;32m    400\u001B[0m     \u001B[0msplitresult\u001B[0m \u001B[0;34m=\u001B[0m \u001B[0murlsplit\u001B[0m\u001B[0;34m(\u001B[0m\u001B[0murl\u001B[0m\u001B[0;34m,\u001B[0m \u001B[0mscheme\u001B[0m\u001B[0;34m,\u001B[0m \u001B[0mallow_fragments\u001B[0m\u001B[0;34m)\u001B[0m\u001B[0;34m\u001B[0m\u001B[0;34m\u001B[0m\u001B[0m\n\u001B[1;32m    401\u001B[0m     \u001B[0mscheme\u001B[0m\u001B[0;34m,\u001B[0m \u001B[0mnetloc\u001B[0m\u001B[0;34m,\u001B[0m \u001B[0murl\u001B[0m\u001B[0;34m,\u001B[0m \u001B[0mquery\u001B[0m\u001B[0;34m,\u001B[0m \u001B[0mfragment\u001B[0m \u001B[0;34m=\u001B[0m \u001B[0msplitresult\u001B[0m\u001B[0;34m\u001B[0m\u001B[0;34m\u001B[0m\u001B[0m\n",
      "\u001B[0;32m~/.conda/envs/dev/lib/python3.10/urllib/parse.py\u001B[0m in \u001B[0;36m_coerce_args\u001B[0;34m(*args)\u001B[0m\n\u001B[1;32m    134\u001B[0m     \u001B[0;32mif\u001B[0m \u001B[0mstr_input\u001B[0m\u001B[0;34m:\u001B[0m\u001B[0;34m\u001B[0m\u001B[0;34m\u001B[0m\u001B[0m\n\u001B[1;32m    135\u001B[0m         \u001B[0;32mreturn\u001B[0m \u001B[0margs\u001B[0m \u001B[0;34m+\u001B[0m \u001B[0;34m(\u001B[0m\u001B[0m_noop\u001B[0m\u001B[0;34m,\u001B[0m\u001B[0;34m)\u001B[0m\u001B[0;34m\u001B[0m\u001B[0;34m\u001B[0m\u001B[0m\n\u001B[0;32m--> 136\u001B[0;31m     \u001B[0;32mreturn\u001B[0m \u001B[0m_decode_args\u001B[0m\u001B[0;34m(\u001B[0m\u001B[0margs\u001B[0m\u001B[0;34m)\u001B[0m \u001B[0;34m+\u001B[0m \u001B[0;34m(\u001B[0m\u001B[0m_encode_result\u001B[0m\u001B[0;34m,\u001B[0m\u001B[0;34m)\u001B[0m\u001B[0;34m\u001B[0m\u001B[0;34m\u001B[0m\u001B[0m\n\u001B[0m\u001B[1;32m    137\u001B[0m \u001B[0;34m\u001B[0m\u001B[0m\n\u001B[1;32m    138\u001B[0m \u001B[0;31m# Result objects are more helpful than simple tuples\u001B[0m\u001B[0;34m\u001B[0m\u001B[0;34m\u001B[0m\u001B[0m\n",
      "\u001B[0;32m~/.conda/envs/dev/lib/python3.10/urllib/parse.py\u001B[0m in \u001B[0;36m_decode_args\u001B[0;34m(args, encoding, errors)\u001B[0m\n\u001B[1;32m    118\u001B[0m def _decode_args(args, encoding=_implicit_encoding,\n\u001B[1;32m    119\u001B[0m                        errors=_implicit_errors):\n\u001B[0;32m--> 120\u001B[0;31m     \u001B[0;32mreturn\u001B[0m \u001B[0mtuple\u001B[0m\u001B[0;34m(\u001B[0m\u001B[0mx\u001B[0m\u001B[0;34m.\u001B[0m\u001B[0mdecode\u001B[0m\u001B[0;34m(\u001B[0m\u001B[0mencoding\u001B[0m\u001B[0;34m,\u001B[0m \u001B[0merrors\u001B[0m\u001B[0;34m)\u001B[0m \u001B[0;32mif\u001B[0m \u001B[0mx\u001B[0m \u001B[0;32melse\u001B[0m \u001B[0;34m''\u001B[0m \u001B[0;32mfor\u001B[0m \u001B[0mx\u001B[0m \u001B[0;32min\u001B[0m \u001B[0margs\u001B[0m\u001B[0;34m)\u001B[0m\u001B[0;34m\u001B[0m\u001B[0;34m\u001B[0m\u001B[0m\n\u001B[0m\u001B[1;32m    121\u001B[0m \u001B[0;34m\u001B[0m\u001B[0m\n\u001B[1;32m    122\u001B[0m \u001B[0;32mdef\u001B[0m \u001B[0m_coerce_args\u001B[0m\u001B[0;34m(\u001B[0m\u001B[0;34m*\u001B[0m\u001B[0margs\u001B[0m\u001B[0;34m)\u001B[0m\u001B[0;34m:\u001B[0m\u001B[0;34m\u001B[0m\u001B[0;34m\u001B[0m\u001B[0m\n",
      "\u001B[0;32m~/.conda/envs/dev/lib/python3.10/urllib/parse.py\u001B[0m in \u001B[0;36m<genexpr>\u001B[0;34m(.0)\u001B[0m\n\u001B[1;32m    118\u001B[0m def _decode_args(args, encoding=_implicit_encoding,\n\u001B[1;32m    119\u001B[0m                        errors=_implicit_errors):\n\u001B[0;32m--> 120\u001B[0;31m     \u001B[0;32mreturn\u001B[0m \u001B[0mtuple\u001B[0m\u001B[0;34m(\u001B[0m\u001B[0mx\u001B[0m\u001B[0;34m.\u001B[0m\u001B[0mdecode\u001B[0m\u001B[0;34m(\u001B[0m\u001B[0mencoding\u001B[0m\u001B[0;34m,\u001B[0m \u001B[0merrors\u001B[0m\u001B[0;34m)\u001B[0m \u001B[0;32mif\u001B[0m \u001B[0mx\u001B[0m \u001B[0;32melse\u001B[0m \u001B[0;34m''\u001B[0m \u001B[0;32mfor\u001B[0m \u001B[0mx\u001B[0m \u001B[0;32min\u001B[0m \u001B[0margs\u001B[0m\u001B[0;34m)\u001B[0m\u001B[0;34m\u001B[0m\u001B[0;34m\u001B[0m\u001B[0m\n\u001B[0m\u001B[1;32m    121\u001B[0m \u001B[0;34m\u001B[0m\u001B[0m\n\u001B[1;32m    122\u001B[0m \u001B[0;32mdef\u001B[0m \u001B[0m_coerce_args\u001B[0m\u001B[0;34m(\u001B[0m\u001B[0;34m*\u001B[0m\u001B[0margs\u001B[0m\u001B[0;34m)\u001B[0m\u001B[0;34m:\u001B[0m\u001B[0;34m\u001B[0m\u001B[0;34m\u001B[0m\u001B[0m\n",
      "\u001B[0;31mAttributeError\u001B[0m: 'float' object has no attribute 'decode'"
     ]
    }
   ],
   "source": [
    "from urllib.parse import urlparse\n",
    "\n",
    "valid_urls = []\n",
    "\n",
    "\n",
    "for url in uloc:\n",
    "    try:\n",
    "        result = urlparse(url)\n",
    "        if all([result.scheme, result.netloc]):\n",
    "            valid_urls.append(url)\n",
    "        else:\n",
    "            print(f\"Invalid URL: {url}\")\n",
    "    except ValueError:\n",
    "        print(f\"Invalid URL: {url}\")\n"
   ]
  },
  {
   "cell_type": "code",
   "execution_count": 27,
   "id": "74b21613",
   "metadata": {
    "ExecuteTime": {
     "end_time": "2023-10-12T16:10:31.692888187Z",
     "start_time": "2023-10-12T16:10:31.685638129Z"
    },
    "id": "74b21613",
    "outputId": "d7984d82-db08-40a5-9467-4ba2ac0617b9",
    "tags": []
   },
   "outputs": [
    {
     "ename": "TypeError",
     "evalue": "argument of type 'float' is not iterable",
     "output_type": "error",
     "traceback": [
      "\u001B[0;31m---------------------------------------------------------------------------\u001B[0m",
      "\u001B[0;31mTypeError\u001B[0m                                 Traceback (most recent call last)",
      "\u001B[0;32m<ipython-input-27-7c9a551dfdbf>\u001B[0m in \u001B[0;36m<module>\u001B[0;34m\u001B[0m\n\u001B[1;32m      1\u001B[0m \u001B[0;31m# Break down all the URL into their path parts\u001B[0m\u001B[0;34m\u001B[0m\u001B[0;34m\u001B[0m\u001B[0m\n\u001B[0;32m----> 2\u001B[0;31m \u001B[0murldf\u001B[0m \u001B[0;34m=\u001B[0m \u001B[0madv\u001B[0m\u001B[0;34m.\u001B[0m\u001B[0murl_to_df\u001B[0m\u001B[0;34m(\u001B[0m\u001B[0mlist\u001B[0m\u001B[0;34m(\u001B[0m\u001B[0miow_sitemap\u001B[0m\u001B[0;34m[\u001B[0m\u001B[0;34m'loc'\u001B[0m\u001B[0;34m]\u001B[0m\u001B[0;34m)\u001B[0m\u001B[0;34m)\u001B[0m\u001B[0;34m\u001B[0m\u001B[0;34m\u001B[0m\u001B[0m\n\u001B[0m\u001B[1;32m      3\u001B[0m \u001B[0;31m# urldf = adv.url_to_df(list(uloc))\u001B[0m\u001B[0;34m\u001B[0m\u001B[0;34m\u001B[0m\u001B[0m\n\u001B[1;32m      4\u001B[0m \u001B[0;34m\u001B[0m\u001B[0m\n\u001B[1;32m      5\u001B[0m \u001B[0murldf\u001B[0m\u001B[0;34m.\u001B[0m\u001B[0minfo\u001B[0m\u001B[0;34m(\u001B[0m\u001B[0;34m)\u001B[0m\u001B[0;34m\u001B[0m\u001B[0;34m\u001B[0m\u001B[0m\n",
      "\u001B[0;32m~/.local/lib/python3.10/site-packages/advertools/urlytics.py\u001B[0m in \u001B[0;36murl_to_df\u001B[0;34m(urls, decode)\u001B[0m\n\u001B[1;32m    165\u001B[0m     \u001B[0msplit_list\u001B[0m \u001B[0;34m=\u001B[0m \u001B[0;34m[\u001B[0m\u001B[0;34m]\u001B[0m\u001B[0;34m\u001B[0m\u001B[0;34m\u001B[0m\u001B[0m\n\u001B[1;32m    166\u001B[0m     \u001B[0;32mfor\u001B[0m \u001B[0murl\u001B[0m \u001B[0;32min\u001B[0m \u001B[0murls\u001B[0m\u001B[0;34m:\u001B[0m\u001B[0;34m\u001B[0m\u001B[0;34m\u001B[0m\u001B[0m\n\u001B[0;32m--> 167\u001B[0;31m         \u001B[0msplit\u001B[0m \u001B[0;34m=\u001B[0m \u001B[0murlsplit\u001B[0m\u001B[0;34m(\u001B[0m\u001B[0mdecode\u001B[0m\u001B[0;34m(\u001B[0m\u001B[0murl\u001B[0m\u001B[0;34m)\u001B[0m\u001B[0;34m)\u001B[0m\u001B[0;34m\u001B[0m\u001B[0;34m\u001B[0m\u001B[0m\n\u001B[0m\u001B[1;32m    168\u001B[0m         \u001B[0mport\u001B[0m \u001B[0;34m=\u001B[0m \u001B[0msplit\u001B[0m\u001B[0;34m.\u001B[0m\u001B[0mport\u001B[0m\u001B[0;34m\u001B[0m\u001B[0;34m\u001B[0m\u001B[0m\n\u001B[1;32m    169\u001B[0m         \u001B[0mhostname\u001B[0m \u001B[0;34m=\u001B[0m \u001B[0msplit\u001B[0m\u001B[0;34m.\u001B[0m\u001B[0mhostname\u001B[0m \u001B[0;32mif\u001B[0m \u001B[0msplit\u001B[0m\u001B[0;34m.\u001B[0m\u001B[0mhostname\u001B[0m \u001B[0;34m!=\u001B[0m \u001B[0msplit\u001B[0m\u001B[0;34m.\u001B[0m\u001B[0mnetloc\u001B[0m \u001B[0;32melse\u001B[0m \u001B[0;32mNone\u001B[0m\u001B[0;34m\u001B[0m\u001B[0;34m\u001B[0m\u001B[0m\n",
      "\u001B[0;32m~/.conda/envs/dev/lib/python3.10/urllib/parse.py\u001B[0m in \u001B[0;36munquote\u001B[0;34m(string, encoding, errors)\u001B[0m\n\u001B[1;32m    665\u001B[0m     \u001B[0;32mif\u001B[0m \u001B[0misinstance\u001B[0m\u001B[0;34m(\u001B[0m\u001B[0mstring\u001B[0m\u001B[0;34m,\u001B[0m \u001B[0mbytes\u001B[0m\u001B[0;34m)\u001B[0m\u001B[0;34m:\u001B[0m\u001B[0;34m\u001B[0m\u001B[0;34m\u001B[0m\u001B[0m\n\u001B[1;32m    666\u001B[0m         \u001B[0;32mreturn\u001B[0m \u001B[0munquote_to_bytes\u001B[0m\u001B[0;34m(\u001B[0m\u001B[0mstring\u001B[0m\u001B[0;34m)\u001B[0m\u001B[0;34m.\u001B[0m\u001B[0mdecode\u001B[0m\u001B[0;34m(\u001B[0m\u001B[0mencoding\u001B[0m\u001B[0;34m,\u001B[0m \u001B[0merrors\u001B[0m\u001B[0;34m)\u001B[0m\u001B[0;34m\u001B[0m\u001B[0;34m\u001B[0m\u001B[0m\n\u001B[0;32m--> 667\u001B[0;31m     \u001B[0;32mif\u001B[0m \u001B[0;34m'%'\u001B[0m \u001B[0;32mnot\u001B[0m \u001B[0;32min\u001B[0m \u001B[0mstring\u001B[0m\u001B[0;34m:\u001B[0m\u001B[0;34m\u001B[0m\u001B[0;34m\u001B[0m\u001B[0m\n\u001B[0m\u001B[1;32m    668\u001B[0m         \u001B[0mstring\u001B[0m\u001B[0;34m.\u001B[0m\u001B[0msplit\u001B[0m\u001B[0;34m\u001B[0m\u001B[0;34m\u001B[0m\u001B[0m\n\u001B[1;32m    669\u001B[0m         \u001B[0;32mreturn\u001B[0m \u001B[0mstring\u001B[0m\u001B[0;34m\u001B[0m\u001B[0;34m\u001B[0m\u001B[0m\n",
      "\u001B[0;31mTypeError\u001B[0m: argument of type 'float' is not iterable"
     ]
    }
   ],
   "source": [
    "\n",
    "# Break down all the URL into their path parts\n",
    "urldf = adv.url_to_df(list(iow_sitemap['loc']))\n",
    "# urldf = adv.url_to_df(list(uloc))\n",
    "\n",
    "urldf.info()"
   ]
  },
  {
   "cell_type": "code",
   "execution_count": 9,
   "id": "28759c5d73b659bf",
   "metadata": {
    "ExecuteTime": {
     "end_time": "2023-10-12T16:10:32.836205718Z",
     "start_time": "2023-10-12T16:10:32.825378101Z"
    },
    "id": "28759c5d73b659bf",
    "outputId": "7089a4b3-bcce-45d0-ec79-16d5d0584ad0",
    "tags": []
   },
   "outputs": [
    {
     "data": {
      "text/html": [
       "<div>\n",
       "<style scoped>\n",
       "    .dataframe tbody tr th:only-of-type {\n",
       "        vertical-align: middle;\n",
       "    }\n",
       "\n",
       "    .dataframe tbody tr th {\n",
       "        vertical-align: top;\n",
       "    }\n",
       "\n",
       "    .dataframe thead th {\n",
       "        text-align: right;\n",
       "    }\n",
       "</style>\n",
       "<table border=\"1\" class=\"dataframe\">\n",
       "  <thead>\n",
       "    <tr style=\"text-align: right;\">\n",
       "      <th></th>\n",
       "      <th>url</th>\n",
       "      <th>scheme</th>\n",
       "      <th>netloc</th>\n",
       "      <th>path</th>\n",
       "      <th>query</th>\n",
       "      <th>fragment</th>\n",
       "      <th>dir_1</th>\n",
       "      <th>dir_2</th>\n",
       "      <th>dir_3</th>\n",
       "      <th>last_dir</th>\n",
       "    </tr>\n",
       "  </thead>\n",
       "  <tbody>\n",
       "    <tr>\n",
       "      <th>0</th>\n",
       "      <td>https://www.ltreb-reservoirs.org/vera4cast//ca...</td>\n",
       "      <td>https</td>\n",
       "      <td>www.ltreb-reservoirs.org</td>\n",
       "      <td>/vera4cast//catalog.html</td>\n",
       "      <td>NaN</td>\n",
       "      <td>NaN</td>\n",
       "      <td>vera4cast</td>\n",
       "      <td>NaN</td>\n",
       "      <td>catalog.html</td>\n",
       "      <td>catalog.html</td>\n",
       "    </tr>\n",
       "    <tr>\n",
       "      <th>1</th>\n",
       "      <td>https://www.ltreb-reservoirs.org/vera4cast//in...</td>\n",
       "      <td>https</td>\n",
       "      <td>www.ltreb-reservoirs.org</td>\n",
       "      <td>/vera4cast//instructions.html</td>\n",
       "      <td>NaN</td>\n",
       "      <td>NaN</td>\n",
       "      <td>vera4cast</td>\n",
       "      <td>NaN</td>\n",
       "      <td>instructions.html</td>\n",
       "      <td>instructions.html</td>\n",
       "    </tr>\n",
       "    <tr>\n",
       "      <th>2</th>\n",
       "      <td>https://www.ltreb-reservoirs.org/vera4cast//pe...</td>\n",
       "      <td>https</td>\n",
       "      <td>www.ltreb-reservoirs.org</td>\n",
       "      <td>/vera4cast//performance.html</td>\n",
       "      <td>NaN</td>\n",
       "      <td>NaN</td>\n",
       "      <td>vera4cast</td>\n",
       "      <td>NaN</td>\n",
       "      <td>performance.html</td>\n",
       "      <td>performance.html</td>\n",
       "    </tr>\n",
       "    <tr>\n",
       "      <th>3</th>\n",
       "      <td>https://www.ltreb-reservoirs.org/vera4cast//in...</td>\n",
       "      <td>https</td>\n",
       "      <td>www.ltreb-reservoirs.org</td>\n",
       "      <td>/vera4cast//index.html</td>\n",
       "      <td>NaN</td>\n",
       "      <td>NaN</td>\n",
       "      <td>vera4cast</td>\n",
       "      <td>NaN</td>\n",
       "      <td>index.html</td>\n",
       "      <td>index.html</td>\n",
       "    </tr>\n",
       "    <tr>\n",
       "      <th>4</th>\n",
       "      <td>https://radiantearth.github.io/stac-browser/#/...</td>\n",
       "      <td>https</td>\n",
       "      <td>radiantearth.github.io</td>\n",
       "      <td>/stac-browser/</td>\n",
       "      <td>NaN</td>\n",
       "      <td>/external/raw.githubusercontent.com/LTREB-rese...</td>\n",
       "      <td>stac-browser</td>\n",
       "      <td>NaN</td>\n",
       "      <td>NaN</td>\n",
       "      <td>stac-browser</td>\n",
       "    </tr>\n",
       "  </tbody>\n",
       "</table>\n",
       "</div>"
      ],
      "text/plain": [
       "                                                 url scheme  \\\n",
       "0  https://www.ltreb-reservoirs.org/vera4cast//ca...  https   \n",
       "1  https://www.ltreb-reservoirs.org/vera4cast//in...  https   \n",
       "2  https://www.ltreb-reservoirs.org/vera4cast//pe...  https   \n",
       "3  https://www.ltreb-reservoirs.org/vera4cast//in...  https   \n",
       "4  https://radiantearth.github.io/stac-browser/#/...  https   \n",
       "\n",
       "                     netloc                           path  query  \\\n",
       "0  www.ltreb-reservoirs.org       /vera4cast//catalog.html    NaN   \n",
       "1  www.ltreb-reservoirs.org  /vera4cast//instructions.html    NaN   \n",
       "2  www.ltreb-reservoirs.org   /vera4cast//performance.html    NaN   \n",
       "3  www.ltreb-reservoirs.org         /vera4cast//index.html    NaN   \n",
       "4    radiantearth.github.io                 /stac-browser/    NaN   \n",
       "\n",
       "                                            fragment         dir_1  dir_2  \\\n",
       "0                                                NaN     vera4cast    NaN   \n",
       "1                                                NaN     vera4cast    NaN   \n",
       "2                                                NaN     vera4cast    NaN   \n",
       "3                                                NaN     vera4cast    NaN   \n",
       "4  /external/raw.githubusercontent.com/LTREB-rese...  stac-browser    NaN   \n",
       "\n",
       "               dir_3           last_dir  \n",
       "0       catalog.html       catalog.html  \n",
       "1  instructions.html  instructions.html  \n",
       "2   performance.html   performance.html  \n",
       "3         index.html         index.html  \n",
       "4                NaN       stac-browser  "
      ]
     },
     "execution_count": 9,
     "metadata": {},
     "output_type": "execute_result"
    }
   ],
   "source": [
    "urldf.head()\n"
   ]
  },
  {
   "cell_type": "markdown",
   "id": "9e806ba0",
   "metadata": {
    "id": "9e806ba0"
   },
   "source": [
    "## Sample and test sitemap entries"
   ]
  },
  {
   "cell_type": "code",
   "execution_count": 10,
   "id": "20e46dd2",
   "metadata": {
    "ExecuteTime": {
     "end_time": "2023-10-12T16:10:36.850175938Z",
     "start_time": "2023-10-12T16:10:36.842032985Z"
    },
    "id": "20e46dd2",
    "tags": []
   },
   "outputs": [],
   "source": [
    "# sample the previously generated url data frame\n",
    "sample_size = 5\n",
    "# sample_df = urldf.groupby(\"dir_1\").sample(n=sample_size, random_state=1, replace=True)\n",
    "sample_df = urldf.sample(n=sample_size, random_state=1, replace=True)"
   ]
  },
  {
   "cell_type": "code",
   "execution_count": 11,
   "id": "b725c4ca",
   "metadata": {
    "ExecuteTime": {
     "end_time": "2023-10-12T16:10:37.292617717Z",
     "start_time": "2023-10-12T16:10:37.288943947Z"
    },
    "id": "b725c4ca",
    "outputId": "8de96bca-ce97-4260-c3eb-0a20f7b98904",
    "tags": []
   },
   "outputs": [
    {
     "data": {
      "text/html": [
       "<div>\n",
       "<style scoped>\n",
       "    .dataframe tbody tr th:only-of-type {\n",
       "        vertical-align: middle;\n",
       "    }\n",
       "\n",
       "    .dataframe tbody tr th {\n",
       "        vertical-align: top;\n",
       "    }\n",
       "\n",
       "    .dataframe thead th {\n",
       "        text-align: right;\n",
       "    }\n",
       "</style>\n",
       "<table border=\"1\" class=\"dataframe\">\n",
       "  <thead>\n",
       "    <tr style=\"text-align: right;\">\n",
       "      <th></th>\n",
       "      <th>url</th>\n",
       "      <th>scheme</th>\n",
       "      <th>netloc</th>\n",
       "      <th>path</th>\n",
       "      <th>query</th>\n",
       "      <th>fragment</th>\n",
       "      <th>dir_1</th>\n",
       "      <th>dir_2</th>\n",
       "      <th>dir_3</th>\n",
       "      <th>last_dir</th>\n",
       "    </tr>\n",
       "  </thead>\n",
       "  <tbody>\n",
       "    <tr>\n",
       "      <th>37</th>\n",
       "      <td>https://radiantearth.github.io/stac-browser/#/...</td>\n",
       "      <td>https</td>\n",
       "      <td>radiantearth.github.io</td>\n",
       "      <td>/stac-browser/</td>\n",
       "      <td>NaN</td>\n",
       "      <td>/external/raw.githubusercontent.com/LTREB-rese...</td>\n",
       "      <td>stac-browser</td>\n",
       "      <td>NaN</td>\n",
       "      <td>NaN</td>\n",
       "      <td>stac-browser</td>\n",
       "    </tr>\n",
       "    <tr>\n",
       "      <th>12</th>\n",
       "      <td>https://radiantearth.github.io/stac-browser/#/...</td>\n",
       "      <td>https</td>\n",
       "      <td>radiantearth.github.io</td>\n",
       "      <td>/stac-browser/</td>\n",
       "      <td>NaN</td>\n",
       "      <td>/external/raw.githubusercontent.com/LTREB-rese...</td>\n",
       "      <td>stac-browser</td>\n",
       "      <td>NaN</td>\n",
       "      <td>NaN</td>\n",
       "      <td>stac-browser</td>\n",
       "    </tr>\n",
       "    <tr>\n",
       "      <th>72</th>\n",
       "      <td>https://radiantearth.github.io/stac-browser/#/...</td>\n",
       "      <td>https</td>\n",
       "      <td>radiantearth.github.io</td>\n",
       "      <td>/stac-browser/</td>\n",
       "      <td>NaN</td>\n",
       "      <td>/external/raw.githubusercontent.com/LTREB-rese...</td>\n",
       "      <td>stac-browser</td>\n",
       "      <td>NaN</td>\n",
       "      <td>NaN</td>\n",
       "      <td>stac-browser</td>\n",
       "    </tr>\n",
       "    <tr>\n",
       "      <th>9</th>\n",
       "      <td>https://radiantearth.github.io/stac-browser/#/...</td>\n",
       "      <td>https</td>\n",
       "      <td>radiantearth.github.io</td>\n",
       "      <td>/stac-browser/</td>\n",
       "      <td>NaN</td>\n",
       "      <td>/external/raw.githubusercontent.com/LTREB-rese...</td>\n",
       "      <td>stac-browser</td>\n",
       "      <td>NaN</td>\n",
       "      <td>NaN</td>\n",
       "      <td>stac-browser</td>\n",
       "    </tr>\n",
       "    <tr>\n",
       "      <th>75</th>\n",
       "      <td>https://radiantearth.github.io/stac-browser/#/...</td>\n",
       "      <td>https</td>\n",
       "      <td>radiantearth.github.io</td>\n",
       "      <td>/stac-browser/</td>\n",
       "      <td>NaN</td>\n",
       "      <td>/external/raw.githubusercontent.com/LTREB-rese...</td>\n",
       "      <td>stac-browser</td>\n",
       "      <td>NaN</td>\n",
       "      <td>NaN</td>\n",
       "      <td>stac-browser</td>\n",
       "    </tr>\n",
       "  </tbody>\n",
       "</table>\n",
       "</div>"
      ],
      "text/plain": [
       "                                                  url scheme  \\\n",
       "37  https://radiantearth.github.io/stac-browser/#/...  https   \n",
       "12  https://radiantearth.github.io/stac-browser/#/...  https   \n",
       "72  https://radiantearth.github.io/stac-browser/#/...  https   \n",
       "9   https://radiantearth.github.io/stac-browser/#/...  https   \n",
       "75  https://radiantearth.github.io/stac-browser/#/...  https   \n",
       "\n",
       "                    netloc            path  query  \\\n",
       "37  radiantearth.github.io  /stac-browser/    NaN   \n",
       "12  radiantearth.github.io  /stac-browser/    NaN   \n",
       "72  radiantearth.github.io  /stac-browser/    NaN   \n",
       "9   radiantearth.github.io  /stac-browser/    NaN   \n",
       "75  radiantearth.github.io  /stac-browser/    NaN   \n",
       "\n",
       "                                             fragment         dir_1  dir_2  \\\n",
       "37  /external/raw.githubusercontent.com/LTREB-rese...  stac-browser    NaN   \n",
       "12  /external/raw.githubusercontent.com/LTREB-rese...  stac-browser    NaN   \n",
       "72  /external/raw.githubusercontent.com/LTREB-rese...  stac-browser    NaN   \n",
       "9   /external/raw.githubusercontent.com/LTREB-rese...  stac-browser    NaN   \n",
       "75  /external/raw.githubusercontent.com/LTREB-rese...  stac-browser    NaN   \n",
       "\n",
       "   dir_3      last_dir  \n",
       "37   NaN  stac-browser  \n",
       "12   NaN  stac-browser  \n",
       "72   NaN  stac-browser  \n",
       "9    NaN  stac-browser  \n",
       "75   NaN  stac-browser  "
      ]
     },
     "execution_count": 11,
     "metadata": {},
     "output_type": "execute_result"
    }
   ],
   "source": [
    "sample_df.head(5)"
   ]
  },
  {
   "cell_type": "markdown",
   "id": "c58bee8f",
   "metadata": {
    "id": "c58bee8f"
   },
   "source": [
    "### See if the URLs resolve"
   ]
  },
  {
   "cell_type": "code",
   "execution_count": 12,
   "id": "0c22245d",
   "metadata": {
    "ExecuteTime": {
     "end_time": "2023-10-12T16:10:43.592340539Z",
     "start_time": "2023-10-12T16:10:43.219770118Z"
    },
    "id": "0c22245d",
    "outputId": "050d3908-5d1d-4d2b-e953-0b47a2e8a330",
    "tags": []
   },
   "outputs": [
    {
     "name": "stdout",
     "output_type": "stream",
     "text": [
      "URL: https://radiantearth.github.io/stac-browser/#/external/raw.githubusercontent.com/LTREB-reservoirs/vera4cast/main/catalog/noaa_forecasts/Stage1-stats/collection.json \n",
      "URL: https://radiantearth.github.io/stac-browser/#/external/raw.githubusercontent.com/LTREB-reservoirs/vera4cast/main/catalog/forecasts/Physical/Daily_Water_temperature/collection.json \n",
      "URL: https://radiantearth.github.io/stac-browser/#/external/raw.githubusercontent.com/LTREB-reservoirs/vera4cast/main/catalog/summaries/Biological/Daily_Chlorophyll-a/collection.json \n",
      "URL: https://radiantearth.github.io/stac-browser/#/external/raw.githubusercontent.com/LTREB-reservoirs/vera4cast/main/catalog/forecasts/Chemical/Daily_oxygen_concentration/collection.json \n",
      "URL: https://radiantearth.github.io/stac-browser/#/external/raw.githubusercontent.com/LTREB-reservoirs/vera4cast/main/catalog/summaries/Chemical/collection.json \n"
     ]
    }
   ],
   "source": [
    "import urllib.request\n",
    "import requests\n",
    "\n",
    "ul = sample_df[\"url\"]\n",
    "\n",
    "for item in ul:\n",
    "    # user_agent = 'Mozilla/5.0 (Windows; U; Windows NT 5.1; en-US; rv:1.9.0.7) Gecko/2009021910 Firefox/3.0.7'\n",
    "    # headers={'User-Agent':user_agent,}\n",
    "\n",
    "    headers= {'User-Agent': 'Mozilla/5.0 (X11; Linux x86_64) '\n",
    "                           'AppleWebKit/537.11 (KHTML, like Gecko) '\n",
    "                           'Chrome/23.0.1271.64 Safari/537.11',\n",
    "             'Accept': 'text/html,application/xhtml+xml,application/xml;q=0.9,*/*;q=0.8',\n",
    "             'Accept-Charset': 'ISO-8859-1,utf-8;q=0.7,*;q=0.3',\n",
    "             'Accept-Encoding': 'none',\n",
    "             'Accept-Language': 'en-US,en;q=0.8',\n",
    "             'Connection': 'keep-alive'}\n",
    "\n",
    "    try:\n",
    "        # x = requests.get(item)\n",
    "        # code = x.status_code\n",
    "        request=urllib.request.Request(url=item, headers=headers) #The assembled request\n",
    "        with urllib.request.urlopen(request) as response:\n",
    "            info = response.info()\n",
    "            dtype = info.get_content_type()    # -> text/html\n",
    "         # headers = x.headers()\n",
    "        # print(\"URL: {} \\ninfo : {}\\n --\".format(item, info))\n",
    "        print(\"URL: {} \".format(item))\n",
    "    except Exception as e:\n",
    "        # code = x.status_code\n",
    "        # dtype = info.get_content_type()\n",
    "\n",
    "        print(\"Exception on: {} \\nerrors : {}\\n --\".format(item, str(e)))\n"
   ]
  },
  {
   "cell_type": "markdown",
   "id": "ed2bcab8",
   "metadata": {
    "id": "ed2bcab8"
   },
   "source": [
    "### See if they have JSON-LD (static check only, no dynamically loaded JSON-LD yet)"
   ]
  },
  {
   "cell_type": "code",
   "execution_count": 13,
   "id": "cd25210a",
   "metadata": {
    "ExecuteTime": {
     "end_time": "2023-10-12T16:10:45.528629103Z",
     "start_time": "2023-10-12T16:10:45.212119223Z"
    },
    "id": "cd25210a",
    "outputId": "0e43588f-ed7d-4074-cec8-23a25f6f5ce1",
    "tags": []
   },
   "outputs": [
    {
     "name": "stderr",
     "output_type": "stream",
     "text": [
      "2023-12-03 18:54:40,306 | ERROR | <ipython-input-13-d236e4a390d7>:25 | <module> | Traceback (most recent call last):\n",
      "  File \"<ipython-input-13-d236e4a390d7>\", line 23, in <module>\n",
      "    print(\"JSON byte size: {} \".format(len(p.contents[0])))\n",
      "AttributeError: 'NoneType' object has no attribute 'contents'\n",
      "\n",
      "2023-12-03 18:54:40,356 | ERROR | <ipython-input-13-d236e4a390d7>:25 | <module> | Traceback (most recent call last):\n",
      "  File \"<ipython-input-13-d236e4a390d7>\", line 23, in <module>\n",
      "    print(\"JSON byte size: {} \".format(len(p.contents[0])))\n",
      "AttributeError: 'NoneType' object has no attribute 'contents'\n",
      "\n",
      "2023-12-03 18:54:40,405 | ERROR | <ipython-input-13-d236e4a390d7>:25 | <module> | Traceback (most recent call last):\n",
      "  File \"<ipython-input-13-d236e4a390d7>\", line 23, in <module>\n",
      "    print(\"JSON byte size: {} \".format(len(p.contents[0])))\n",
      "AttributeError: 'NoneType' object has no attribute 'contents'\n",
      "\n",
      "2023-12-03 18:54:40,454 | ERROR | <ipython-input-13-d236e4a390d7>:25 | <module> | Traceback (most recent call last):\n",
      "  File \"<ipython-input-13-d236e4a390d7>\", line 23, in <module>\n",
      "    print(\"JSON byte size: {} \".format(len(p.contents[0])))\n",
      "AttributeError: 'NoneType' object has no attribute 'contents'\n",
      "\n"
     ]
    },
    {
     "name": "stdout",
     "output_type": "stream",
     "text": [
      "https://radiantearth.github.io/stac-browser/#/external/raw.githubusercontent.com/LTREB-reservoirs/vera4cast/main/catalog/noaa_forecasts/Stage1-stats/collection.json\n",
      "None\n",
      "https://radiantearth.github.io/stac-browser/#/external/raw.githubusercontent.com/LTREB-reservoirs/vera4cast/main/catalog/forecasts/Physical/Daily_Water_temperature/collection.json\n",
      "None\n",
      "https://radiantearth.github.io/stac-browser/#/external/raw.githubusercontent.com/LTREB-reservoirs/vera4cast/main/catalog/summaries/Biological/Daily_Chlorophyll-a/collection.json\n",
      "None\n",
      "https://radiantearth.github.io/stac-browser/#/external/raw.githubusercontent.com/LTREB-reservoirs/vera4cast/main/catalog/forecasts/Chemical/Daily_oxygen_concentration/collection.json\n",
      "None\n",
      "https://radiantearth.github.io/stac-browser/#/external/raw.githubusercontent.com/LTREB-reservoirs/vera4cast/main/catalog/summaries/Chemical/collection.json\n"
     ]
    },
    {
     "name": "stderr",
     "output_type": "stream",
     "text": [
      "2023-12-03 18:54:40,510 | ERROR | <ipython-input-13-d236e4a390d7>:25 | <module> | Traceback (most recent call last):\n",
      "  File \"<ipython-input-13-d236e4a390d7>\", line 23, in <module>\n",
      "    print(\"JSON byte size: {} \".format(len(p.contents[0])))\n",
      "AttributeError: 'NoneType' object has no attribute 'contents'\n",
      "\n"
     ]
    },
    {
     "name": "stdout",
     "output_type": "stream",
     "text": [
      "None\n"
     ]
    }
   ],
   "source": [
    "ul = sample_df[\"url\"]\n",
    "\n",
    "headers= {'User-Agent': 'Mozilla/5.0 (X11; Linux x86_64) '\n",
    "                        'AppleWebKit/537.11 (KHTML, like Gecko) '\n",
    "                        'Chrome/23.0.1271.64 Safari/537.11',\n",
    "          'Accept': 'application/ld+json,text/html,application/xhtml+xml,application/xml;q=0.9,*/*;q=0.8',\n",
    "          'Accept-Charset': 'ISO-8859-1,utf-8;q=0.7,*;q=0.3',\n",
    "          'Accept-Encoding': 'none',\n",
    "          'Accept-Language': 'en-US,en;q=0.8',\n",
    "          'Connection': 'keep-alive'}\n",
    "\n",
    "for item in ul:\n",
    "    print(item)\n",
    "    request=urllib.request.Request(url=item, headers=headers)\n",
    "    # p = urllib.request.urlopen(request).read()\n",
    "\n",
    "    html = urllib.request.urlopen(request).read()\n",
    "    soup = BeautifulSoup(html, \"html.parser\")\n",
    "    p = soup.find('script', {'type':'application/ld+json'})\n",
    "    try:\n",
    "        # print(\"JSON byte size: {} \".format(len(p)))\n",
    "        print(p)\n",
    "        print(\"JSON byte size: {} \".format(len(p.contents[0])))\n",
    "    except Exception as e:\n",
    "        logging.error(traceback.format_exc())"
   ]
  },
  {
   "cell_type": "markdown",
   "id": "b8875457",
   "metadata": {
    "id": "b8875457"
   },
   "source": [
    "### Check JSON-LD structure (static check only, no dynamically loaded JSON-LD yet)"
   ]
  },
  {
   "cell_type": "code",
   "execution_count": 14,
   "id": "cd83aa38-7d5f-48d1-bdb2-12cadd72a9dc",
   "metadata": {
    "ExecuteTime": {
     "end_time": "2023-10-12T16:10:50.405426392Z",
     "start_time": "2023-10-12T16:10:50.098423666Z"
    },
    "id": "cd83aa38-7d5f-48d1-bdb2-12cadd72a9dc",
    "outputId": "cddf8813-9244-44b3-af15-fadc68c73a3b",
    "tags": []
   },
   "outputs": [
    {
     "name": "stderr",
     "output_type": "stream",
     "text": [
      "2023-12-03 18:54:42,270 | ERROR | <ipython-input-14-9d11dcc3fcb5>:34 | <module> | Traceback (most recent call last):\n",
      "  File \"<ipython-input-14-9d11dcc3fcb5>\", line 26, in <module>\n",
      "    jld = json.loads(p.contents[0])\n",
      "AttributeError: 'NoneType' object has no attribute 'contents'\n",
      "\n",
      "2023-12-03 18:54:42,319 | ERROR | <ipython-input-14-9d11dcc3fcb5>:34 | <module> | Traceback (most recent call last):\n",
      "  File \"<ipython-input-14-9d11dcc3fcb5>\", line 26, in <module>\n",
      "    jld = json.loads(p.contents[0])\n",
      "AttributeError: 'NoneType' object has no attribute 'contents'\n",
      "\n",
      "2023-12-03 18:54:42,368 | ERROR | <ipython-input-14-9d11dcc3fcb5>:34 | <module> | Traceback (most recent call last):\n",
      "  File \"<ipython-input-14-9d11dcc3fcb5>\", line 26, in <module>\n",
      "    jld = json.loads(p.contents[0])\n",
      "AttributeError: 'NoneType' object has no attribute 'contents'\n",
      "\n",
      "2023-12-03 18:54:42,427 | ERROR | <ipython-input-14-9d11dcc3fcb5>:34 | <module> | Traceback (most recent call last):\n",
      "  File \"<ipython-input-14-9d11dcc3fcb5>\", line 26, in <module>\n",
      "    jld = json.loads(p.contents[0])\n",
      "AttributeError: 'NoneType' object has no attribute 'contents'\n",
      "\n"
     ]
    },
    {
     "name": "stdout",
     "output_type": "stream",
     "text": [
      "Exception\n",
      "Exception\n",
      "Exception\n",
      "Exception\n"
     ]
    },
    {
     "name": "stderr",
     "output_type": "stream",
     "text": [
      "2023-12-03 18:54:42,475 | ERROR | <ipython-input-14-9d11dcc3fcb5>:34 | <module> | Traceback (most recent call last):\n",
      "  File \"<ipython-input-14-9d11dcc3fcb5>\", line 26, in <module>\n",
      "    jld = json.loads(p.contents[0])\n",
      "AttributeError: 'NoneType' object has no attribute 'contents'\n",
      "\n"
     ]
    },
    {
     "name": "stdout",
     "output_type": "stream",
     "text": [
      "Exception\n"
     ]
    }
   ],
   "source": [
    "ul = sample_df[\"url\"]\n",
    "\n",
    "myframe =  {\n",
    "    \"@context\":{\"@vocab\": \"http://schema.org/\"},\n",
    "    \"@type\": \"Dataset\",\n",
    "}\n",
    "\n",
    "context =  { \"@vocab\": \"http://schema.org/\" }\n",
    "\n",
    "headers= {'User-Agent': 'Mozilla/5.0 (X11; Linux x86_64) '\n",
    "                        'AppleWebKit/537.11 (KHTML, like Gecko) '\n",
    "                        'Chrome/23.0.1271.64 Safari/537.11',\n",
    "          'Accept': 'application/ld+json,text/html,application/xhtml+xml,application/xml;q=0.9,*/*;q=0.8',\n",
    "          'Accept-Charset': 'ISO-8859-1,utf-8;q=0.7,*;q=0.3',\n",
    "          'Accept-Encoding': 'none',\n",
    "          'Accept-Language': 'en-US,en;q=0.8',\n",
    "          'Connection': 'keep-alive'}\n",
    "\n",
    "for item in ul:\n",
    "    request=urllib.request.Request(url=item, headers=headers)\n",
    "    # p = urllib.request.urlopen(request).read()\n",
    "    html = urllib.request.urlopen(request).read()\n",
    "    soup = BeautifulSoup(html, \"html.parser\")\n",
    "    p = soup.find('script', {'type':'application/ld+json'})\n",
    "    try:\n",
    "        jld = json.loads(p.contents[0])\n",
    "        # jld = json.loads(p)\n",
    "\n",
    "        # print(str(jld))\n",
    "        # compacted = jsonld.compact(str(jld), context)\n",
    "        # print(len(json.dumps(compacted, indent=2)))\n",
    "    except Exception as e:\n",
    "        print(\"Exception\")\n",
    "        logging.error(traceback.format_exc())"
   ]
  },
  {
   "cell_type": "markdown",
   "id": "c3c3f714",
   "metadata": {
    "id": "c3c3f714"
   },
   "source": [
    "## Load to Graph\"\n",
    "\n",
    "Looad a sample set of triples into RDF lib and run a sample SPARQL query on them.\n",
    "\n",
    "### Note\n",
    "This is the same loop as above but now we will load into a KG graph"
   ]
  },
  {
   "cell_type": "code",
   "execution_count": null,
   "id": "e39214e2",
   "metadata": {
    "ExecuteTime": {
     "end_time": "2023-08-16T13:22:37.188522665Z",
     "start_time": "2023-08-16T13:22:37.109090786Z"
    },
    "id": "e39214e2",
    "outputId": "a2877637-3da7-4ffd-ba55-23d90b8a9602"
   },
   "outputs": [
    {
     "ename": "HTTPError",
     "evalue": "HTTP Error 403: Forbidden",
     "output_type": "error",
     "traceback": [
      "\u001B[0;31m---------------------------------------------------------------------------\u001B[0m",
      "\u001B[0;31mHTTPError\u001B[0m                                 Traceback (most recent call last)",
      "\u001B[0;32m/tmp/ipykernel_289335/2256870413.py\u001B[0m in \u001B[0;36m<module>\u001B[0;34m\u001B[0m\n\u001B[1;32m     15\u001B[0m \u001B[0;34m\u001B[0m\u001B[0m\n\u001B[1;32m     16\u001B[0m \u001B[0;32mfor\u001B[0m \u001B[0mitem\u001B[0m \u001B[0;32min\u001B[0m \u001B[0mul\u001B[0m\u001B[0;34m:\u001B[0m\u001B[0;34m\u001B[0m\u001B[0;34m\u001B[0m\u001B[0m\n\u001B[0;32m---> 17\u001B[0;31m     \u001B[0mhtml\u001B[0m \u001B[0;34m=\u001B[0m \u001B[0murllib\u001B[0m\u001B[0;34m.\u001B[0m\u001B[0mrequest\u001B[0m\u001B[0;34m.\u001B[0m\u001B[0murlopen\u001B[0m\u001B[0;34m(\u001B[0m\u001B[0mitem\u001B[0m\u001B[0;34m)\u001B[0m\u001B[0;34m.\u001B[0m\u001B[0mread\u001B[0m\u001B[0;34m(\u001B[0m\u001B[0;34m)\u001B[0m\u001B[0;34m\u001B[0m\u001B[0;34m\u001B[0m\u001B[0m\n\u001B[0m\u001B[1;32m     18\u001B[0m     \u001B[0msoup\u001B[0m \u001B[0;34m=\u001B[0m \u001B[0mBeautifulSoup\u001B[0m\u001B[0;34m(\u001B[0m\u001B[0mhtml\u001B[0m\u001B[0;34m,\u001B[0m \u001B[0;34m\"html.parser\"\u001B[0m\u001B[0;34m)\u001B[0m\u001B[0;34m\u001B[0m\u001B[0;34m\u001B[0m\u001B[0m\n\u001B[1;32m     19\u001B[0m     \u001B[0mp\u001B[0m \u001B[0;34m=\u001B[0m \u001B[0msoup\u001B[0m\u001B[0;34m.\u001B[0m\u001B[0mfind\u001B[0m\u001B[0;34m(\u001B[0m\u001B[0;34m'script'\u001B[0m\u001B[0;34m,\u001B[0m \u001B[0;34m{\u001B[0m\u001B[0;34m'type'\u001B[0m\u001B[0;34m:\u001B[0m\u001B[0;34m'application/ld+json'\u001B[0m\u001B[0;34m}\u001B[0m\u001B[0;34m)\u001B[0m\u001B[0;34m\u001B[0m\u001B[0;34m\u001B[0m\u001B[0m\n",
      "\u001B[0;32m~/.conda/envs/dev/lib/python3.10/urllib/request.py\u001B[0m in \u001B[0;36murlopen\u001B[0;34m(url, data, timeout, cafile, capath, cadefault, context)\u001B[0m\n\u001B[1;32m    214\u001B[0m     \u001B[0;32melse\u001B[0m\u001B[0;34m:\u001B[0m\u001B[0;34m\u001B[0m\u001B[0;34m\u001B[0m\u001B[0m\n\u001B[1;32m    215\u001B[0m         \u001B[0mopener\u001B[0m \u001B[0;34m=\u001B[0m \u001B[0m_opener\u001B[0m\u001B[0;34m\u001B[0m\u001B[0;34m\u001B[0m\u001B[0m\n\u001B[0;32m--> 216\u001B[0;31m     \u001B[0;32mreturn\u001B[0m \u001B[0mopener\u001B[0m\u001B[0;34m.\u001B[0m\u001B[0mopen\u001B[0m\u001B[0;34m(\u001B[0m\u001B[0murl\u001B[0m\u001B[0;34m,\u001B[0m \u001B[0mdata\u001B[0m\u001B[0;34m,\u001B[0m \u001B[0mtimeout\u001B[0m\u001B[0;34m)\u001B[0m\u001B[0;34m\u001B[0m\u001B[0;34m\u001B[0m\u001B[0m\n\u001B[0m\u001B[1;32m    217\u001B[0m \u001B[0;34m\u001B[0m\u001B[0m\n\u001B[1;32m    218\u001B[0m \u001B[0;32mdef\u001B[0m \u001B[0minstall_opener\u001B[0m\u001B[0;34m(\u001B[0m\u001B[0mopener\u001B[0m\u001B[0;34m)\u001B[0m\u001B[0;34m:\u001B[0m\u001B[0;34m\u001B[0m\u001B[0;34m\u001B[0m\u001B[0m\n",
      "\u001B[0;32m~/.conda/envs/dev/lib/python3.10/urllib/request.py\u001B[0m in \u001B[0;36mopen\u001B[0;34m(self, fullurl, data, timeout)\u001B[0m\n\u001B[1;32m    523\u001B[0m         \u001B[0;32mfor\u001B[0m \u001B[0mprocessor\u001B[0m \u001B[0;32min\u001B[0m \u001B[0mself\u001B[0m\u001B[0;34m.\u001B[0m\u001B[0mprocess_response\u001B[0m\u001B[0;34m.\u001B[0m\u001B[0mget\u001B[0m\u001B[0;34m(\u001B[0m\u001B[0mprotocol\u001B[0m\u001B[0;34m,\u001B[0m \u001B[0;34m[\u001B[0m\u001B[0;34m]\u001B[0m\u001B[0;34m)\u001B[0m\u001B[0;34m:\u001B[0m\u001B[0;34m\u001B[0m\u001B[0;34m\u001B[0m\u001B[0m\n\u001B[1;32m    524\u001B[0m             \u001B[0mmeth\u001B[0m \u001B[0;34m=\u001B[0m \u001B[0mgetattr\u001B[0m\u001B[0;34m(\u001B[0m\u001B[0mprocessor\u001B[0m\u001B[0;34m,\u001B[0m \u001B[0mmeth_name\u001B[0m\u001B[0;34m)\u001B[0m\u001B[0;34m\u001B[0m\u001B[0;34m\u001B[0m\u001B[0m\n\u001B[0;32m--> 525\u001B[0;31m             \u001B[0mresponse\u001B[0m \u001B[0;34m=\u001B[0m \u001B[0mmeth\u001B[0m\u001B[0;34m(\u001B[0m\u001B[0mreq\u001B[0m\u001B[0;34m,\u001B[0m \u001B[0mresponse\u001B[0m\u001B[0;34m)\u001B[0m\u001B[0;34m\u001B[0m\u001B[0;34m\u001B[0m\u001B[0m\n\u001B[0m\u001B[1;32m    526\u001B[0m \u001B[0;34m\u001B[0m\u001B[0m\n\u001B[1;32m    527\u001B[0m         \u001B[0;32mreturn\u001B[0m \u001B[0mresponse\u001B[0m\u001B[0;34m\u001B[0m\u001B[0;34m\u001B[0m\u001B[0m\n",
      "\u001B[0;32m~/.conda/envs/dev/lib/python3.10/urllib/request.py\u001B[0m in \u001B[0;36mhttp_response\u001B[0;34m(self, request, response)\u001B[0m\n\u001B[1;32m    632\u001B[0m         \u001B[0;31m# request was successfully received, understood, and accepted.\u001B[0m\u001B[0;34m\u001B[0m\u001B[0;34m\u001B[0m\u001B[0m\n\u001B[1;32m    633\u001B[0m         \u001B[0;32mif\u001B[0m \u001B[0;32mnot\u001B[0m \u001B[0;34m(\u001B[0m\u001B[0;36m200\u001B[0m \u001B[0;34m<=\u001B[0m \u001B[0mcode\u001B[0m \u001B[0;34m<\u001B[0m \u001B[0;36m300\u001B[0m\u001B[0;34m)\u001B[0m\u001B[0;34m:\u001B[0m\u001B[0;34m\u001B[0m\u001B[0;34m\u001B[0m\u001B[0m\n\u001B[0;32m--> 634\u001B[0;31m             response = self.parent.error(\n\u001B[0m\u001B[1;32m    635\u001B[0m                 'http', request, response, code, msg, hdrs)\n\u001B[1;32m    636\u001B[0m \u001B[0;34m\u001B[0m\u001B[0m\n",
      "\u001B[0;32m~/.conda/envs/dev/lib/python3.10/urllib/request.py\u001B[0m in \u001B[0;36merror\u001B[0;34m(self, proto, *args)\u001B[0m\n\u001B[1;32m    561\u001B[0m         \u001B[0;32mif\u001B[0m \u001B[0mhttp_err\u001B[0m\u001B[0;34m:\u001B[0m\u001B[0;34m\u001B[0m\u001B[0;34m\u001B[0m\u001B[0m\n\u001B[1;32m    562\u001B[0m             \u001B[0margs\u001B[0m \u001B[0;34m=\u001B[0m \u001B[0;34m(\u001B[0m\u001B[0mdict\u001B[0m\u001B[0;34m,\u001B[0m \u001B[0;34m'default'\u001B[0m\u001B[0;34m,\u001B[0m \u001B[0;34m'http_error_default'\u001B[0m\u001B[0;34m)\u001B[0m \u001B[0;34m+\u001B[0m \u001B[0morig_args\u001B[0m\u001B[0;34m\u001B[0m\u001B[0;34m\u001B[0m\u001B[0m\n\u001B[0;32m--> 563\u001B[0;31m             \u001B[0;32mreturn\u001B[0m \u001B[0mself\u001B[0m\u001B[0;34m.\u001B[0m\u001B[0m_call_chain\u001B[0m\u001B[0;34m(\u001B[0m\u001B[0;34m*\u001B[0m\u001B[0margs\u001B[0m\u001B[0;34m)\u001B[0m\u001B[0;34m\u001B[0m\u001B[0;34m\u001B[0m\u001B[0m\n\u001B[0m\u001B[1;32m    564\u001B[0m \u001B[0;34m\u001B[0m\u001B[0m\n\u001B[1;32m    565\u001B[0m \u001B[0;31m# XXX probably also want an abstract factory that knows when it makes\u001B[0m\u001B[0;34m\u001B[0m\u001B[0;34m\u001B[0m\u001B[0m\n",
      "\u001B[0;32m~/.conda/envs/dev/lib/python3.10/urllib/request.py\u001B[0m in \u001B[0;36m_call_chain\u001B[0;34m(self, chain, kind, meth_name, *args)\u001B[0m\n\u001B[1;32m    494\u001B[0m         \u001B[0;32mfor\u001B[0m \u001B[0mhandler\u001B[0m \u001B[0;32min\u001B[0m \u001B[0mhandlers\u001B[0m\u001B[0;34m:\u001B[0m\u001B[0;34m\u001B[0m\u001B[0;34m\u001B[0m\u001B[0m\n\u001B[1;32m    495\u001B[0m             \u001B[0mfunc\u001B[0m \u001B[0;34m=\u001B[0m \u001B[0mgetattr\u001B[0m\u001B[0;34m(\u001B[0m\u001B[0mhandler\u001B[0m\u001B[0;34m,\u001B[0m \u001B[0mmeth_name\u001B[0m\u001B[0;34m)\u001B[0m\u001B[0;34m\u001B[0m\u001B[0;34m\u001B[0m\u001B[0m\n\u001B[0;32m--> 496\u001B[0;31m             \u001B[0mresult\u001B[0m \u001B[0;34m=\u001B[0m \u001B[0mfunc\u001B[0m\u001B[0;34m(\u001B[0m\u001B[0;34m*\u001B[0m\u001B[0margs\u001B[0m\u001B[0;34m)\u001B[0m\u001B[0;34m\u001B[0m\u001B[0;34m\u001B[0m\u001B[0m\n\u001B[0m\u001B[1;32m    497\u001B[0m             \u001B[0;32mif\u001B[0m \u001B[0mresult\u001B[0m \u001B[0;32mis\u001B[0m \u001B[0;32mnot\u001B[0m \u001B[0;32mNone\u001B[0m\u001B[0;34m:\u001B[0m\u001B[0;34m\u001B[0m\u001B[0;34m\u001B[0m\u001B[0m\n\u001B[1;32m    498\u001B[0m                 \u001B[0;32mreturn\u001B[0m \u001B[0mresult\u001B[0m\u001B[0;34m\u001B[0m\u001B[0;34m\u001B[0m\u001B[0m\n",
      "\u001B[0;32m~/.conda/envs/dev/lib/python3.10/urllib/request.py\u001B[0m in \u001B[0;36mhttp_error_default\u001B[0;34m(self, req, fp, code, msg, hdrs)\u001B[0m\n\u001B[1;32m    641\u001B[0m \u001B[0;32mclass\u001B[0m \u001B[0mHTTPDefaultErrorHandler\u001B[0m\u001B[0;34m(\u001B[0m\u001B[0mBaseHandler\u001B[0m\u001B[0;34m)\u001B[0m\u001B[0;34m:\u001B[0m\u001B[0;34m\u001B[0m\u001B[0;34m\u001B[0m\u001B[0m\n\u001B[1;32m    642\u001B[0m     \u001B[0;32mdef\u001B[0m \u001B[0mhttp_error_default\u001B[0m\u001B[0;34m(\u001B[0m\u001B[0mself\u001B[0m\u001B[0;34m,\u001B[0m \u001B[0mreq\u001B[0m\u001B[0;34m,\u001B[0m \u001B[0mfp\u001B[0m\u001B[0;34m,\u001B[0m \u001B[0mcode\u001B[0m\u001B[0;34m,\u001B[0m \u001B[0mmsg\u001B[0m\u001B[0;34m,\u001B[0m \u001B[0mhdrs\u001B[0m\u001B[0;34m)\u001B[0m\u001B[0;34m:\u001B[0m\u001B[0;34m\u001B[0m\u001B[0;34m\u001B[0m\u001B[0m\n\u001B[0;32m--> 643\u001B[0;31m         \u001B[0;32mraise\u001B[0m \u001B[0mHTTPError\u001B[0m\u001B[0;34m(\u001B[0m\u001B[0mreq\u001B[0m\u001B[0;34m.\u001B[0m\u001B[0mfull_url\u001B[0m\u001B[0;34m,\u001B[0m \u001B[0mcode\u001B[0m\u001B[0;34m,\u001B[0m \u001B[0mmsg\u001B[0m\u001B[0;34m,\u001B[0m \u001B[0mhdrs\u001B[0m\u001B[0;34m,\u001B[0m \u001B[0mfp\u001B[0m\u001B[0;34m)\u001B[0m\u001B[0;34m\u001B[0m\u001B[0;34m\u001B[0m\u001B[0m\n\u001B[0m\u001B[1;32m    644\u001B[0m \u001B[0;34m\u001B[0m\u001B[0m\n\u001B[1;32m    645\u001B[0m \u001B[0;32mclass\u001B[0m \u001B[0mHTTPRedirectHandler\u001B[0m\u001B[0;34m(\u001B[0m\u001B[0mBaseHandler\u001B[0m\u001B[0;34m)\u001B[0m\u001B[0;34m:\u001B[0m\u001B[0;34m\u001B[0m\u001B[0;34m\u001B[0m\u001B[0m\n",
      "\u001B[0;31mHTTPError\u001B[0m: HTTP Error 403: Forbidden"
     ]
    }
   ],
   "source": [
    "ul = sample_df[\"url\"]\n",
    "\n",
    "# Test loading into a graph\n",
    "namespaces = {\n",
    "    \"schema\":  \"http://schema.org/\",\n",
    "    \"schemaold\":  \"http://schema.org/\",\n",
    "    \"shacl\":   \"http://www.w3.org/ns/shacl#\" ,\n",
    "}\n",
    "\n",
    "kg = kglab.KnowledgeGraph(\n",
    "    name = \"Schema.org shacl eval datagraph\",\n",
    "    base_uri = \"https://example.org/id/\",\n",
    "    namespaces = namespaces,\n",
    ")\n",
    "\n",
    "for item in ul:\n",
    "    html = urllib.request.urlopen(item).read()\n",
    "    soup = BeautifulSoup(html, \"html.parser\")\n",
    "    p = soup.find('script', {'type':'application/ld+json'})\n",
    "    try:\n",
    "        print(\"JSON byte size: {} \".format(len(p.contents[0])))\n",
    "        kg.load_rdf_text(data=p.contents[0], format=\"json-ld\")\n",
    "        print(p.contents[0])\n",
    "    except Exception as e:\n",
    "        logging.error(traceback.format_exc())"
   ]
  },
  {
   "cell_type": "code",
   "execution_count": null,
   "id": "da74b0db-9224-4a58-80b3-d0932087a6e4",
   "metadata": {
    "ExecuteTime": {
     "end_time": "2023-08-16T13:22:38.478038811Z",
     "start_time": "2023-08-16T13:22:37.843458272Z"
    },
    "id": "da74b0db-9224-4a58-80b3-d0932087a6e4",
    "outputId": "54147123-8345-495f-cc90-b7b0274ac1c5"
   },
   "outputs": [
    {
     "ename": "AttributeError",
     "evalue": "'DataFrame' object has no attribute 'to_pandas'",
     "output_type": "error",
     "traceback": [
      "\u001B[0;31m---------------------------------------------------------------------------\u001B[0m",
      "\u001B[0;31mAttributeError\u001B[0m                            Traceback (most recent call last)",
      "\u001B[0;32m/tmp/ipykernel_289335/3005825302.py\u001B[0m in \u001B[0;36m<module>\u001B[0;34m\u001B[0m\n\u001B[1;32m     13\u001B[0m \u001B[0;31m#     ?s schema:description ?description.\u001B[0m\u001B[0;34m\u001B[0m\u001B[0;34m\u001B[0m\u001B[0m\n\u001B[1;32m     14\u001B[0m \u001B[0;34m\u001B[0m\u001B[0m\n\u001B[0;32m---> 15\u001B[0;31m \u001B[0mdf\u001B[0m \u001B[0;34m=\u001B[0m \u001B[0mkg\u001B[0m\u001B[0;34m.\u001B[0m\u001B[0mquery_as_df\u001B[0m\u001B[0;34m(\u001B[0m\u001B[0msparql\u001B[0m\u001B[0;34m)\u001B[0m\u001B[0;34m.\u001B[0m\u001B[0mto_pandas\u001B[0m\u001B[0;34m(\u001B[0m\u001B[0;34m)\u001B[0m\u001B[0;34m\u001B[0m\u001B[0;34m\u001B[0m\u001B[0m\n\u001B[0m\u001B[1;32m     16\u001B[0m \u001B[0;34m\u001B[0m\u001B[0m\n\u001B[1;32m     17\u001B[0m \u001B[0mdf\u001B[0m\u001B[0;34m.\u001B[0m\u001B[0mhead\u001B[0m\u001B[0;34m(\u001B[0m\u001B[0;34m)\u001B[0m\u001B[0;34m\u001B[0m\u001B[0;34m\u001B[0m\u001B[0m\n",
      "\u001B[0;32m~/.conda/envs/dev/lib/python3.10/site-packages/pandas/core/generic.py\u001B[0m in \u001B[0;36m__getattr__\u001B[0;34m(self, name)\u001B[0m\n\u001B[1;32m   5900\u001B[0m         ):\n\u001B[1;32m   5901\u001B[0m             \u001B[0;32mreturn\u001B[0m \u001B[0mself\u001B[0m\u001B[0;34m[\u001B[0m\u001B[0mname\u001B[0m\u001B[0;34m]\u001B[0m\u001B[0;34m\u001B[0m\u001B[0;34m\u001B[0m\u001B[0m\n\u001B[0;32m-> 5902\u001B[0;31m         \u001B[0;32mreturn\u001B[0m \u001B[0mobject\u001B[0m\u001B[0;34m.\u001B[0m\u001B[0m__getattribute__\u001B[0m\u001B[0;34m(\u001B[0m\u001B[0mself\u001B[0m\u001B[0;34m,\u001B[0m \u001B[0mname\u001B[0m\u001B[0;34m)\u001B[0m\u001B[0;34m\u001B[0m\u001B[0;34m\u001B[0m\u001B[0m\n\u001B[0m\u001B[1;32m   5903\u001B[0m \u001B[0;34m\u001B[0m\u001B[0m\n\u001B[1;32m   5904\u001B[0m     \u001B[0;32mdef\u001B[0m \u001B[0m__setattr__\u001B[0m\u001B[0;34m(\u001B[0m\u001B[0mself\u001B[0m\u001B[0;34m,\u001B[0m \u001B[0mname\u001B[0m\u001B[0;34m:\u001B[0m \u001B[0mstr\u001B[0m\u001B[0;34m,\u001B[0m \u001B[0mvalue\u001B[0m\u001B[0;34m)\u001B[0m \u001B[0;34m->\u001B[0m \u001B[0;32mNone\u001B[0m\u001B[0;34m:\u001B[0m\u001B[0;34m\u001B[0m\u001B[0;34m\u001B[0m\u001B[0m\n",
      "\u001B[0;31mAttributeError\u001B[0m: 'DataFrame' object has no attribute 'to_pandas'"
     ]
    }
   ],
   "source": [
    "sparql = \"\"\"\n",
    "PREFIX schema: <http://schema.org/>\n",
    "SELECT ?s ?name ?description ?type\n",
    "  WHERE {\n",
    "    ?s a ?type .\n",
    "    ?s schema:name ?name .\n",
    "    ?s schema:description ?description.\n",
    "  }\n",
    "\"\"\"\n",
    "\n",
    "#  schema:Dataset\n",
    "# ?s schema:name ?name .\n",
    "#     ?s schema:description ?description.\n",
    "\n",
    "df = kg.query_as_df(sparql).to_pandas()\n",
    "\n",
    "df.head()"
   ]
  },
  {
   "cell_type": "code",
   "execution_count": null,
   "id": "b800b41b",
   "metadata": {
    "id": "b800b41b"
   },
   "outputs": [],
   "source": []
  },
  {
   "cell_type": "code",
   "execution_count": null,
   "id": "279795a0-f8e5-4654-b06a-d33ff761cf68",
   "metadata": {
    "id": "279795a0-f8e5-4654-b06a-d33ff761cf68"
   },
   "outputs": [],
   "source": []
  }
 ],
 "metadata": {
  "colab": {
   "provenance": []
  },
  "interpreter": {
   "hash": "7a8db6ed8e976d23fd2e6a73e187eaf8286829efb4aa61f09abf75e2f487f948"
  },
  "kernelspec": {
   "display_name": "Python 3",
   "language": "python",
   "name": "python3"
  },
  "language_info": {
   "codemirror_mode": {
    "name": "ipython",
    "version": 3
   },
   "file_extension": ".py",
   "mimetype": "text/x-python",
   "name": "python",
   "nbconvert_exporter": "python",
   "pygments_lexer": "ipython3",
   "version": "3.10.12"
  }
 },
 "nbformat": 4,
 "nbformat_minor": 5
}
