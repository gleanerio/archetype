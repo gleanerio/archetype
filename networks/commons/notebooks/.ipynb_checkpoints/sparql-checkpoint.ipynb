{
 "cells": [
  {
   "cell_type": "markdown",
   "metadata": {
    "tags": []
   },
   "source": [
    "# SPARQL Playground\n",
    "\n",
    "<a href=\"https://githubtocolab.com/gleanerio/archetype/blob/master/networks/commons/sparql.ipynb\" target=\"_parent\"><img src=\"https://colab.research.google.com/assets/colab-badge.png\" alt=\"Open in Colab\"/></a>\n"
   ]
  },
  {
   "cell_type": "markdown",
   "metadata": {},
   "source": [
    "## requirements.txt"
   ]
  },
  {
   "cell_type": "code",
   "execution_count": null,
   "metadata": {
    "collapsed": false
   },
   "outputs": [],
   "source": [
    "!pip install -q minio\n",
    "!pip install -q kglab\n",
    "!pip install -q sparqlwrapper\n",
    "!pip install -q pygraphml\n"
   ]
  },
  {
   "cell_type": "markdown",
   "metadata": {},
   "source": [
    "## imports"
   ]
  },
  {
   "cell_type": "code",
   "execution_count": 1,
   "metadata": {
    "collapsed": false,
    "tags": [],
    "ExecuteTime": {
     "end_time": "2023-12-12T14:08:29.911440135Z",
     "start_time": "2023-12-12T14:08:29.033056415Z"
    }
   },
   "outputs": [],
   "source": [
    "import warnings\n",
    "warnings.simplefilter(action='ignore', category=FutureWarning)  ## remove pandas future warning\n",
    "import kglab\n",
    "from minio import Minio\n",
    "from rdflib import Graph, plugin\n",
    "import plotly.express as px\n",
    "import pandas as pd\n",
    "from urllib.request import urlopen\n",
    "import os,json\n",
    "\n",
    "from pygraphml import GraphMLParser\n",
    "from pygraphml import Graph as GraphML "
   ]
  },
  {
   "cell_type": "code",
   "execution_count": 2,
   "metadata": {
    "collapsed": false,
    "tags": [],
    "ExecuteTime": {
     "end_time": "2023-12-12T14:08:29.916292829Z",
     "start_time": "2023-12-12T14:08:29.914005039Z"
    }
   },
   "outputs": [],
   "source": [
    "def ensure_directory_exists(path):\n",
    "    if not os.path.exists(path):\n",
    "        os.makedirs(path)\n",
    "\n",
    "def popper(input):\n",
    "    lines = input.decode().split('\\n') # Split input into separate lines\n",
    "    modified_lines = []\n",
    "\n",
    "    for line in lines:\n",
    "        newline = line.replace(\"http://schema.org\", \"https://schema.org\")\n",
    "        segments = newline.split(' ')\n",
    "\n",
    "        if len(segments) > 3:\n",
    "            segments.pop()   # Remove the last two segment\n",
    "            segments.pop()\n",
    "            new_line = ' '.join(segments) + ' .'\n",
    "            modified_lines.append(new_line)\n",
    "\n",
    "    result_string = '\\n'.join(modified_lines)\n",
    "\n",
    "    return(result_string)\n",
    "\n",
    "def publicurls(client, bucket, prefix):\n",
    "    urls = []\n",
    "    objects = client.list_objects(bucket, prefix=prefix, recursive=True)\n",
    "    for obj in objects:\n",
    "        result = client.stat_object(bucket, obj.object_name)\n",
    "\n",
    "        if result.size > 0:  #  how to tell if an objet   obj.is_public  ?????\n",
    "            url = client.presigned_get_object(bucket, obj.object_name)\n",
    "            # print(f\"Public URL for object: {url}\")\n",
    "            urls.append(url)\n",
    "\n",
    "    return urls\n"
   ]
  },
  {
   "cell_type": "markdown",
   "source": [
    "## Local file\n"
   ],
   "metadata": {
    "collapsed": false
   }
  },
  {
   "cell_type": "code",
   "execution_count": 3,
   "metadata": {
    "tags": [],
    "ExecuteTime": {
     "end_time": "2023-12-12T14:08:31.682235564Z",
     "start_time": "2023-12-12T14:08:31.679370210Z"
    }
   },
   "outputs": [],
   "source": [
    "# Check for using GPU, in case you want to ensure your GPU is used\n",
    "# gc = kglab.get_gpu_count()\n",
    "# print(gc)"
   ]
  },
  {
   "cell_type": "code",
   "execution_count": 4,
   "metadata": {
    "collapsed": false,
    "tags": [],
    "ExecuteTime": {
     "end_time": "2023-12-12T14:08:34.391852217Z",
     "start_time": "2023-12-12T14:08:31.931035402Z"
    }
   },
   "outputs": [
    {
     "name": "stdout",
     "output_type": "stream",
     "text": [
      "http://ossapi.oceaninfohub.org/public/graphs/summonedafricaioc_v1_release.nq\n",
      "http://ossapi.oceaninfohub.org/public/graphs/summonedaquadocs_v1_release.nq\n",
      "http://ossapi.oceaninfohub.org/public/graphs/summonedcioos_v1_release.nq\n",
      "http://ossapi.oceaninfohub.org/public/graphs/summonededmerp_v1_release.nq\n",
      "http://ossapi.oceaninfohub.org/public/graphs/summonededmo_v1_release.nq\n",
      "http://ossapi.oceaninfohub.org/public/graphs/summonedemodnet_v1_release.nq\n",
      "http://ossapi.oceaninfohub.org/public/graphs/summonedinanodc_v1_release.nq\n",
      "http://ossapi.oceaninfohub.org/public/graphs/summonedinvemardocuments_v1_release.nq\n",
      "http://ossapi.oceaninfohub.org/public/graphs/summonedinvemarexperts_v1_release.nq\n",
      "http://ossapi.oceaninfohub.org/public/graphs/summonedinvemarinstitutions_v1_release.nq\n",
      "http://ossapi.oceaninfohub.org/public/graphs/summonedinvemartraining_v1_release.nq\n",
      "http://ossapi.oceaninfohub.org/public/graphs/summonedinvemarvessels_v1_release.nq\n",
      "http://ossapi.oceaninfohub.org/public/graphs/summonedmarinetraining_v1_release.nq\n",
      "http://ossapi.oceaninfohub.org/public/graphs/summonedobis_v1_release.nq\n",
      "http://ossapi.oceaninfohub.org/public/graphs/summonedobps_v1_release.nq\n",
      "http://ossapi.oceaninfohub.org/public/graphs/summonedoceanexperts_v1_release.nq\n",
      "http://ossapi.oceaninfohub.org/public/graphs/summonedpdh_v1_release.nq\n"
     ]
    }
   ],
   "source": [
    "# if you need to list the current URLs as a public S3, use something like this to get it\n",
    "\n",
    "client = Minio(\"ossapi.oceaninfohub.org:80\",  secure=False) # Create client with anonymous access.\n",
    "urls = publicurls(client, \"public\", \"graph\")\n",
    "for u in urls:\n",
    "    print(u)"
   ]
  },
  {
   "cell_type": "markdown",
   "metadata": {},
   "source": [
    "## URLs\n",
    "\n",
    "At this point we have the URLs, and we could either loop load all of them or pull one out manually and use.  This code could\n",
    "be used as a basis for any of these approaches.\n"
   ]
  },
  {
   "cell_type": "code",
   "execution_count": 5,
   "metadata": {
    "tags": [],
    "ExecuteTime": {
     "end_time": "2023-12-12T14:08:38.467334935Z",
     "start_time": "2023-12-12T14:08:35.394965582Z"
    }
   },
   "outputs": [],
   "source": [
    "dgurl = \"http://ossapi.oceaninfohub.org/public/graphs/summonedcioos_v1_release.nq\"\n",
    "# df = urlopen(dgurl)\n",
    "dg = urlopen(dgurl).read()\n",
    "rp = popper(dg)"
   ]
  },
  {
   "cell_type": "code",
   "execution_count": 6,
   "metadata": {
    "tags": [],
    "ExecuteTime": {
     "end_time": "2023-12-12T14:09:04.132225376Z",
     "start_time": "2023-12-12T14:08:52.460895306Z"
    }
   },
   "outputs": [
    {
     "name": "stdout",
     "output_type": "stream",
     "text": [
      "Graph loaded with 145779 triples\n"
     ]
    }
   ],
   "source": [
    "namespaces = {\n",
    "    \"sh\":   \"http://www.w3.org/ns/shacl#\" ,\n",
    "    \"schema\": \"https://schema.org/\"\n",
    "}\n",
    "\n",
    "kg = kglab.KnowledgeGraph(\n",
    "    name = \"Schema.org based datagraph\",\n",
    "    base_uri = \"https://example.org/id/\",\n",
    "    namespaces = namespaces,\n",
    ")\n",
    "\n",
    "try:\n",
    "    g = Graph().parse(data=rp, format='nt')\n",
    "    r = g.serialize(format='nt')\n",
    "    kg.load_rdf_text(r)\n",
    "except Exception as e:\n",
    "    print(\"Exception: {}\\n --\".format(str(e)))\n",
    "    raise e\n",
    "\n",
    "print(\"Graph loaded with {} triples\".format(len(g)))"
   ]
  },
  {
   "cell_type": "code",
   "execution_count": 7,
   "metadata": {
    "tags": [],
    "ExecuteTime": {
     "end_time": "2023-12-12T14:09:11.067604713Z",
     "start_time": "2023-12-12T14:09:09.516842775Z"
    }
   },
   "outputs": [],
   "source": [
    "sparql = \"\"\"\n",
    "PREFIX rdf: <http://www.w3.org/1999/02/22-rdf-syntax-ns#>\n",
    "PREFIX rdfs: <http://www.w3.org/2000/01/rdf-schema#>\n",
    "PREFIX xsd: <http://www.w3.org/2001/XMLSchema#>\n",
    "\n",
    "\n",
    "SELECT ?p (COUNT(?p) as ?count)\n",
    "WHERE\n",
    "{\n",
    "  ?s ?p ?o .\n",
    "}\n",
    "GROUP BY ?p ORDER BY DESC(?count)\n",
    "\"\"\"\n",
    "\n",
    "pdf = kg.query_as_df(sparql)\n",
    "# df = pdf   # .to_pandas()  #  breaks with papermill for reasons unknown at this time if to_pandas() is used, needed in my kglab conda env\n"
   ]
  },
  {
   "cell_type": "code",
   "execution_count": 8,
   "metadata": {
    "tags": [],
    "ExecuteTime": {
     "end_time": "2023-12-12T14:09:11.682290629Z",
     "start_time": "2023-12-12T14:09:11.677088514Z"
    }
   },
   "outputs": [
    {
     "data": {
      "text/plain": "                    p  count\n0            rdf:type  25425\n1     schema:keywords  19507\n2         schema:name  14406\n3          schema:url   8505\n4  schema:description   6168",
      "text/html": "<div>\n<style scoped>\n    .dataframe tbody tr th:only-of-type {\n        vertical-align: middle;\n    }\n\n    .dataframe tbody tr th {\n        vertical-align: top;\n    }\n\n    .dataframe thead th {\n        text-align: right;\n    }\n</style>\n<table border=\"1\" class=\"dataframe\">\n  <thead>\n    <tr style=\"text-align: right;\">\n      <th></th>\n      <th>p</th>\n      <th>count</th>\n    </tr>\n  </thead>\n  <tbody>\n    <tr>\n      <th>0</th>\n      <td>rdf:type</td>\n      <td>25425</td>\n    </tr>\n    <tr>\n      <th>1</th>\n      <td>schema:keywords</td>\n      <td>19507</td>\n    </tr>\n    <tr>\n      <th>2</th>\n      <td>schema:name</td>\n      <td>14406</td>\n    </tr>\n    <tr>\n      <th>3</th>\n      <td>schema:url</td>\n      <td>8505</td>\n    </tr>\n    <tr>\n      <th>4</th>\n      <td>schema:description</td>\n      <td>6168</td>\n    </tr>\n  </tbody>\n</table>\n</div>"
     },
     "execution_count": 8,
     "metadata": {},
     "output_type": "execute_result"
    }
   ],
   "source": [
    "pdf.head()"
   ]
  },
  {
   "cell_type": "code",
   "execution_count": 11,
   "metadata": {
    "tags": [],
    "ExecuteTime": {
     "end_time": "2023-12-12T14:09:35.943567989Z",
     "start_time": "2023-12-12T14:09:34.762547189Z"
    }
   },
   "outputs": [],
   "source": [
    "sparql = \"\"\"\n",
    "PREFIX schema: <https://schema.org/>\n",
    "\n",
    "\n",
    "SELECT DISTINCT ?s ?desc ?name\n",
    "WHERE\n",
    "{\n",
    " ?s rdf:type ?type\n",
    "   FILTER ( ?type IN (schema:ResearchProject, schema:Project, schema:Organization, \n",
    "   schema:Dataset, schema:CreativeWork, schema:Person, schema:Map, schema:Course,\n",
    "   schema:CourseInstance, schema:Event, schema:Vehicle) )\n",
    "   ?s schema:description ?desc .\n",
    "   ?s schema:name ?name\n",
    "\n",
    "}\n",
    "\"\"\"\n",
    "\n",
    "pdf = kg.query_as_df(sparql)\n",
    "# df = pdf   # .to_pandas()  #  breaks with papermill for reasons unknown at this time if to_pandas() is used, needed in my kglab conda env\n"
   ]
  },
  {
   "cell_type": "code",
   "execution_count": 12,
   "metadata": {
    "tags": [],
    "ExecuteTime": {
     "end_time": "2023-12-12T14:09:36.592941050Z",
     "start_time": "2023-12-12T14:09:36.590552412Z"
    }
   },
   "outputs": [
    {
     "data": {
      "text/plain": "                                                    s  \\\n0   <https://catalogue.cioos.ca/dataset/ab3684f1-7...   \n1   <https://catalogue.cioos.ca/dataset/ab3684f1-7...   \n2   <https://catalogue.cioos.ca/dataset/ab3684f1-7...   \n3   <https://catalogue.cioos.ca/dataset/ab3684f1-7...   \n4   <https://catalogue.cioos.ca/dataset/2580e0b0-d...   \n5   <https://catalogue.cioos.ca/dataset/2580e0b0-d...   \n6   <https://catalogue.cioos.ca/dataset/2580e0b0-d...   \n7   <https://catalogue.cioos.ca/dataset/2580e0b0-d...   \n8   <https://catalogue.cioos.ca/dataset/ca-cioos_e...   \n9   <https://catalogue.cioos.ca/dataset/ca-cioos_e...   \n10  <https://catalogue.cioos.ca/dataset/ca-cioos_e...   \n11  <https://catalogue.cioos.ca/dataset/ca-cioos_e...   \n12  <https://catalogue.ogsl.ca/dataset/ca-cioos_44...   \n13  <https://catalogue.cioos.ca/dataset/0b05b373-d...   \n14  <https://catalogue.cioos.ca/dataset/0b05b373-d...   \n15  <https://catalogue.cioos.ca/dataset/0b05b373-d...   \n16  <https://catalogue.cioos.ca/dataset/0b05b373-d...   \n17  <https://catalogue.cioos.ca/dataset/915ec6f9-a...   \n18  <https://catalogue.cioos.ca/dataset/915ec6f9-a...   \n19  <https://catalogue.cioos.ca/dataset/915ec6f9-a...   \n\n                                                 desc  \\\n0   The Sea-Bird SeaCAT SBE16plus V2 5270 was depl...   \n1   The Sea-Bird SeaCAT SBE16plus V2 5270 was depl...   \n2   Ce Sea-Bird SeaCAT SBE16plus V2 5270 a été dép...   \n3   Ce Sea-Bird SeaCAT SBE16plus V2 5270 a été dép...   \n4   Ce Sea-Bird SeaCAT SBE19plus V2 6813 a été dép...   \n5   Ce Sea-Bird SeaCAT SBE19plus V2 6813 a été dép...   \n6   The Sea-Bird SeaCAT SBE19plus V2 6813 was depl...   \n7   The Sea-Bird SeaCAT SBE19plus V2 6813 was depl...   \n8   La température et la position de la surface de...   \n9   La température et la position de la surface de...   \n10  Sea surface temperature and position are provi...   \n11  Sea surface temperature and position are provi...   \n12  The Comité ZIP Saguenay-Charlevoix has been wo...   \n13  Ce Sea-Bird SeaCAT SBE16plus 6935 a été déploy...   \n14  Ce Sea-Bird SeaCAT SBE16plus 6935 a été déploy...   \n15  The Sea-Bird SeaCAT SBE16plus 6935 was deploye...   \n16  The Sea-Bird SeaCAT SBE16plus 6935 was deploye...   \n17  Ce WET Labs ECO FLNTUS 3441 a été déployé le 2...   \n18  Ce WET Labs ECO FLNTUS 3441 a été déployé le 2...   \n19  The WET Labs ECO FLNTUS 3441 was deployed on 2...   \n\n                                                 name  \n0   Strait of Georgia East Conductivity Temperatur...  \n1   Strait of Georgia East Conductivité/Températur...  \n2   Strait of Georgia East Conductivity Temperatur...  \n3   Strait of Georgia East Conductivité/Températur...  \n4   Barkley Canyon Upper Slope Conductivité/Tempér...  \n5   Barkley Upper Slope Conductivity Temperature D...  \n6   Barkley Canyon Upper Slope Conductivité/Tempér...  \n7   Barkley Upper Slope Conductivity Temperature D...  \n8   Déploiement de dispositifs dérivants suivis pa...  \n9   Argos Satellite Tracked Drifters deployed from...  \n10  Déploiement de dispositifs dérivants suivis pa...  \n11  Argos Satellite Tracked Drifters deployed from...  \n12  Characterization of the Saint-Joseph-de-la-Riv...  \n13  Strait of Georgia East Conductivity Temperatur...  \n14  Strait of Georgia East Conductivité/Températur...  \n15  Strait of Georgia East Conductivity Temperatur...  \n16  Strait of Georgia East Conductivité/Températur...  \n17  Strait of Georgia Central Fluorometer Turbidit...  \n18  Strait of Georgia Central Fluorimètre et Turbi...  \n19  Strait of Georgia Central Fluorometer Turbidit...  ",
      "text/html": "<div>\n<style scoped>\n    .dataframe tbody tr th:only-of-type {\n        vertical-align: middle;\n    }\n\n    .dataframe tbody tr th {\n        vertical-align: top;\n    }\n\n    .dataframe thead th {\n        text-align: right;\n    }\n</style>\n<table border=\"1\" class=\"dataframe\">\n  <thead>\n    <tr style=\"text-align: right;\">\n      <th></th>\n      <th>s</th>\n      <th>desc</th>\n      <th>name</th>\n    </tr>\n  </thead>\n  <tbody>\n    <tr>\n      <th>0</th>\n      <td>&lt;https://catalogue.cioos.ca/dataset/ab3684f1-7...</td>\n      <td>The Sea-Bird SeaCAT SBE16plus V2 5270 was depl...</td>\n      <td>Strait of Georgia East Conductivity Temperatur...</td>\n    </tr>\n    <tr>\n      <th>1</th>\n      <td>&lt;https://catalogue.cioos.ca/dataset/ab3684f1-7...</td>\n      <td>The Sea-Bird SeaCAT SBE16plus V2 5270 was depl...</td>\n      <td>Strait of Georgia East Conductivité/Températur...</td>\n    </tr>\n    <tr>\n      <th>2</th>\n      <td>&lt;https://catalogue.cioos.ca/dataset/ab3684f1-7...</td>\n      <td>Ce Sea-Bird SeaCAT SBE16plus V2 5270 a été dép...</td>\n      <td>Strait of Georgia East Conductivity Temperatur...</td>\n    </tr>\n    <tr>\n      <th>3</th>\n      <td>&lt;https://catalogue.cioos.ca/dataset/ab3684f1-7...</td>\n      <td>Ce Sea-Bird SeaCAT SBE16plus V2 5270 a été dép...</td>\n      <td>Strait of Georgia East Conductivité/Températur...</td>\n    </tr>\n    <tr>\n      <th>4</th>\n      <td>&lt;https://catalogue.cioos.ca/dataset/2580e0b0-d...</td>\n      <td>Ce Sea-Bird SeaCAT SBE19plus V2 6813 a été dép...</td>\n      <td>Barkley Canyon Upper Slope Conductivité/Tempér...</td>\n    </tr>\n    <tr>\n      <th>5</th>\n      <td>&lt;https://catalogue.cioos.ca/dataset/2580e0b0-d...</td>\n      <td>Ce Sea-Bird SeaCAT SBE19plus V2 6813 a été dép...</td>\n      <td>Barkley Upper Slope Conductivity Temperature D...</td>\n    </tr>\n    <tr>\n      <th>6</th>\n      <td>&lt;https://catalogue.cioos.ca/dataset/2580e0b0-d...</td>\n      <td>The Sea-Bird SeaCAT SBE19plus V2 6813 was depl...</td>\n      <td>Barkley Canyon Upper Slope Conductivité/Tempér...</td>\n    </tr>\n    <tr>\n      <th>7</th>\n      <td>&lt;https://catalogue.cioos.ca/dataset/2580e0b0-d...</td>\n      <td>The Sea-Bird SeaCAT SBE19plus V2 6813 was depl...</td>\n      <td>Barkley Upper Slope Conductivity Temperature D...</td>\n    </tr>\n    <tr>\n      <th>8</th>\n      <td>&lt;https://catalogue.cioos.ca/dataset/ca-cioos_e...</td>\n      <td>La température et la position de la surface de...</td>\n      <td>Déploiement de dispositifs dérivants suivis pa...</td>\n    </tr>\n    <tr>\n      <th>9</th>\n      <td>&lt;https://catalogue.cioos.ca/dataset/ca-cioos_e...</td>\n      <td>La température et la position de la surface de...</td>\n      <td>Argos Satellite Tracked Drifters deployed from...</td>\n    </tr>\n    <tr>\n      <th>10</th>\n      <td>&lt;https://catalogue.cioos.ca/dataset/ca-cioos_e...</td>\n      <td>Sea surface temperature and position are provi...</td>\n      <td>Déploiement de dispositifs dérivants suivis pa...</td>\n    </tr>\n    <tr>\n      <th>11</th>\n      <td>&lt;https://catalogue.cioos.ca/dataset/ca-cioos_e...</td>\n      <td>Sea surface temperature and position are provi...</td>\n      <td>Argos Satellite Tracked Drifters deployed from...</td>\n    </tr>\n    <tr>\n      <th>12</th>\n      <td>&lt;https://catalogue.ogsl.ca/dataset/ca-cioos_44...</td>\n      <td>The Comité ZIP Saguenay-Charlevoix has been wo...</td>\n      <td>Characterization of the Saint-Joseph-de-la-Riv...</td>\n    </tr>\n    <tr>\n      <th>13</th>\n      <td>&lt;https://catalogue.cioos.ca/dataset/0b05b373-d...</td>\n      <td>Ce Sea-Bird SeaCAT SBE16plus 6935 a été déploy...</td>\n      <td>Strait of Georgia East Conductivity Temperatur...</td>\n    </tr>\n    <tr>\n      <th>14</th>\n      <td>&lt;https://catalogue.cioos.ca/dataset/0b05b373-d...</td>\n      <td>Ce Sea-Bird SeaCAT SBE16plus 6935 a été déploy...</td>\n      <td>Strait of Georgia East Conductivité/Températur...</td>\n    </tr>\n    <tr>\n      <th>15</th>\n      <td>&lt;https://catalogue.cioos.ca/dataset/0b05b373-d...</td>\n      <td>The Sea-Bird SeaCAT SBE16plus 6935 was deploye...</td>\n      <td>Strait of Georgia East Conductivity Temperatur...</td>\n    </tr>\n    <tr>\n      <th>16</th>\n      <td>&lt;https://catalogue.cioos.ca/dataset/0b05b373-d...</td>\n      <td>The Sea-Bird SeaCAT SBE16plus 6935 was deploye...</td>\n      <td>Strait of Georgia East Conductivité/Températur...</td>\n    </tr>\n    <tr>\n      <th>17</th>\n      <td>&lt;https://catalogue.cioos.ca/dataset/915ec6f9-a...</td>\n      <td>Ce WET Labs ECO FLNTUS 3441 a été déployé le 2...</td>\n      <td>Strait of Georgia Central Fluorometer Turbidit...</td>\n    </tr>\n    <tr>\n      <th>18</th>\n      <td>&lt;https://catalogue.cioos.ca/dataset/915ec6f9-a...</td>\n      <td>Ce WET Labs ECO FLNTUS 3441 a été déployé le 2...</td>\n      <td>Strait of Georgia Central Fluorimètre et Turbi...</td>\n    </tr>\n    <tr>\n      <th>19</th>\n      <td>&lt;https://catalogue.cioos.ca/dataset/915ec6f9-a...</td>\n      <td>The WET Labs ECO FLNTUS 3441 was deployed on 2...</td>\n      <td>Strait of Georgia Central Fluorometer Turbidit...</td>\n    </tr>\n  </tbody>\n</table>\n</div>"
     },
     "execution_count": 12,
     "metadata": {},
     "output_type": "execute_result"
    }
   ],
   "source": [
    "pdf.head(20)"
   ]
  },
  {
   "cell_type": "code",
   "execution_count": 13,
   "metadata": {
    "tags": [],
    "ExecuteTime": {
     "end_time": "2023-12-12T14:10:11.446382196Z",
     "start_time": "2023-12-12T14:10:09.928509800Z"
    }
   },
   "outputs": [
    {
     "data": {
      "text/plain": "                         p  pCount\n0                 rdf:type   25425\n1  schema:variableMeasured    2933\n2               schema:url    8505\n3              schema:name   14406\n4          schema:keywords   19507",
      "text/html": "<div>\n<style scoped>\n    .dataframe tbody tr th:only-of-type {\n        vertical-align: middle;\n    }\n\n    .dataframe tbody tr th {\n        vertical-align: top;\n    }\n\n    .dataframe thead th {\n        text-align: right;\n    }\n</style>\n<table border=\"1\" class=\"dataframe\">\n  <thead>\n    <tr style=\"text-align: right;\">\n      <th></th>\n      <th>p</th>\n      <th>pCount</th>\n    </tr>\n  </thead>\n  <tbody>\n    <tr>\n      <th>0</th>\n      <td>rdf:type</td>\n      <td>25425</td>\n    </tr>\n    <tr>\n      <th>1</th>\n      <td>schema:variableMeasured</td>\n      <td>2933</td>\n    </tr>\n    <tr>\n      <th>2</th>\n      <td>schema:url</td>\n      <td>8505</td>\n    </tr>\n    <tr>\n      <th>3</th>\n      <td>schema:name</td>\n      <td>14406</td>\n    </tr>\n    <tr>\n      <th>4</th>\n      <td>schema:keywords</td>\n      <td>19507</td>\n    </tr>\n  </tbody>\n</table>\n</div>"
     },
     "execution_count": 13,
     "metadata": {},
     "output_type": "execute_result"
    }
   ],
   "source": [
    "rq_pcount = \"\"\"SELECT ?p (COUNT(?p) as ?pCount)\n",
    "WHERE\n",
    "{\n",
    "  ?s ?p ?o .\n",
    "}\n",
    "GROUP BY ?p \n",
    "ORDER BY DESC(?count)\n",
    "\"\"\"\n",
    "\n",
    "pdf = kg.query_as_df(rq_pcount)\n",
    "pdf.head()"
   ]
  },
  {
   "cell_type": "code",
   "execution_count": 14,
   "metadata": {
    "tags": [],
    "ExecuteTime": {
     "end_time": "2023-12-12T14:10:19.791534605Z",
     "start_time": "2023-12-12T14:10:19.772357491Z"
    }
   },
   "outputs": [
    {
     "data": {
      "text/plain": "                                                   s  \\\n0  <https://catalogue.cioos.ca/dataset/ab3684f1-7...   \n1  <https://catalogue.cioos.ca/dataset/ab3684f1-7...   \n2  <https://catalogue.cioos.ca/dataset/ab3684f1-7...   \n3  <https://catalogue.cioos.ca/dataset/ab3684f1-7...   \n4  <https://catalogue.cioos.ca/dataset/2580e0b0-d...   \n5  <https://catalogue.cioos.ca/dataset/2580e0b0-d...   \n6  <https://catalogue.cioos.ca/dataset/2580e0b0-d...   \n7  <https://catalogue.cioos.ca/dataset/2580e0b0-d...   \n8  <https://catalogue.cioos.ca/dataset/ca-cioos_e...   \n9  <https://catalogue.cioos.ca/dataset/ca-cioos_e...   \n\n                                                name  \\\n0  Strait of Georgia East Conductivity Temperatur...   \n1  Strait of Georgia East Conductivité/Températur...   \n2  Strait of Georgia East Conductivity Temperatur...   \n3  Strait of Georgia East Conductivité/Températur...   \n4  Barkley Canyon Upper Slope Conductivité/Tempér...   \n5  Barkley Upper Slope Conductivity Temperature D...   \n6  Barkley Canyon Upper Slope Conductivité/Tempér...   \n7  Barkley Upper Slope Conductivity Temperature D...   \n8  Déploiement de dispositifs dérivants suivis pa...   \n9  Argos Satellite Tracked Drifters deployed from...   \n\n                                                desc  \n0  The Sea-Bird SeaCAT SBE16plus V2 5270 was depl...  \n1  The Sea-Bird SeaCAT SBE16plus V2 5270 was depl...  \n2  Ce Sea-Bird SeaCAT SBE16plus V2 5270 a été dép...  \n3  Ce Sea-Bird SeaCAT SBE16plus V2 5270 a été dép...  \n4  Ce Sea-Bird SeaCAT SBE19plus V2 6813 a été dép...  \n5  Ce Sea-Bird SeaCAT SBE19plus V2 6813 a été dép...  \n6  The Sea-Bird SeaCAT SBE19plus V2 6813 was depl...  \n7  The Sea-Bird SeaCAT SBE19plus V2 6813 was depl...  \n8  La température et la position de la surface de...  \n9  La température et la position de la surface de...  ",
      "text/html": "<div>\n<style scoped>\n    .dataframe tbody tr th:only-of-type {\n        vertical-align: middle;\n    }\n\n    .dataframe tbody tr th {\n        vertical-align: top;\n    }\n\n    .dataframe thead th {\n        text-align: right;\n    }\n</style>\n<table border=\"1\" class=\"dataframe\">\n  <thead>\n    <tr style=\"text-align: right;\">\n      <th></th>\n      <th>s</th>\n      <th>name</th>\n      <th>desc</th>\n    </tr>\n  </thead>\n  <tbody>\n    <tr>\n      <th>0</th>\n      <td>&lt;https://catalogue.cioos.ca/dataset/ab3684f1-7...</td>\n      <td>Strait of Georgia East Conductivity Temperatur...</td>\n      <td>The Sea-Bird SeaCAT SBE16plus V2 5270 was depl...</td>\n    </tr>\n    <tr>\n      <th>1</th>\n      <td>&lt;https://catalogue.cioos.ca/dataset/ab3684f1-7...</td>\n      <td>Strait of Georgia East Conductivité/Températur...</td>\n      <td>The Sea-Bird SeaCAT SBE16plus V2 5270 was depl...</td>\n    </tr>\n    <tr>\n      <th>2</th>\n      <td>&lt;https://catalogue.cioos.ca/dataset/ab3684f1-7...</td>\n      <td>Strait of Georgia East Conductivity Temperatur...</td>\n      <td>Ce Sea-Bird SeaCAT SBE16plus V2 5270 a été dép...</td>\n    </tr>\n    <tr>\n      <th>3</th>\n      <td>&lt;https://catalogue.cioos.ca/dataset/ab3684f1-7...</td>\n      <td>Strait of Georgia East Conductivité/Températur...</td>\n      <td>Ce Sea-Bird SeaCAT SBE16plus V2 5270 a été dép...</td>\n    </tr>\n    <tr>\n      <th>4</th>\n      <td>&lt;https://catalogue.cioos.ca/dataset/2580e0b0-d...</td>\n      <td>Barkley Canyon Upper Slope Conductivité/Tempér...</td>\n      <td>Ce Sea-Bird SeaCAT SBE19plus V2 6813 a été dép...</td>\n    </tr>\n    <tr>\n      <th>5</th>\n      <td>&lt;https://catalogue.cioos.ca/dataset/2580e0b0-d...</td>\n      <td>Barkley Upper Slope Conductivity Temperature D...</td>\n      <td>Ce Sea-Bird SeaCAT SBE19plus V2 6813 a été dép...</td>\n    </tr>\n    <tr>\n      <th>6</th>\n      <td>&lt;https://catalogue.cioos.ca/dataset/2580e0b0-d...</td>\n      <td>Barkley Canyon Upper Slope Conductivité/Tempér...</td>\n      <td>The Sea-Bird SeaCAT SBE19plus V2 6813 was depl...</td>\n    </tr>\n    <tr>\n      <th>7</th>\n      <td>&lt;https://catalogue.cioos.ca/dataset/2580e0b0-d...</td>\n      <td>Barkley Upper Slope Conductivity Temperature D...</td>\n      <td>The Sea-Bird SeaCAT SBE19plus V2 6813 was depl...</td>\n    </tr>\n    <tr>\n      <th>8</th>\n      <td>&lt;https://catalogue.cioos.ca/dataset/ca-cioos_e...</td>\n      <td>Déploiement de dispositifs dérivants suivis pa...</td>\n      <td>La température et la position de la surface de...</td>\n    </tr>\n    <tr>\n      <th>9</th>\n      <td>&lt;https://catalogue.cioos.ca/dataset/ca-cioos_e...</td>\n      <td>Argos Satellite Tracked Drifters deployed from...</td>\n      <td>La température et la position de la surface de...</td>\n    </tr>\n  </tbody>\n</table>\n</div>"
     },
     "execution_count": 14,
     "metadata": {},
     "output_type": "execute_result"
    }
   ],
   "source": [
    "rq_desc = \"\"\"PREFIX rdf: <http://www.w3.org/1999/02/22-rdf-syntax-ns#>\n",
    "PREFIX rdfs: <http://www.w3.org/2000/01/rdf-schema#>\n",
    "SELECT ?s ?name ?desc\n",
    "WHERE\n",
    "{\n",
    "  ?s <https://schema.org/name> ?name .\n",
    "  ?s rdf:type <https://schema.org/Dataset> .\n",
    "  ?s <https://schema.org/description> ?desc .\n",
    "}\n",
    "LIMIT 200\n",
    "\"\"\"\n",
    "\n",
    "pdf = kg.query_as_df(rq_desc)\n",
    "pdf.head(10)"
   ]
  },
  {
   "cell_type": "markdown",
   "source": [
    "## Remote SPARQL server"
   ],
   "metadata": {
    "collapsed": false
   }
  },
  {
   "cell_type": "code",
   "execution_count": 15,
   "outputs": [],
   "source": [
    "#@title\n",
    "def get_sparql_dataframe(service, query):\n",
    "    \"\"\"\n",
    "    Helper function to convert SPARQL results into a Pandas data frame.\n",
    "    \"\"\"\n",
    "    sparql = SPARQLWrapper(service)\n",
    "    sparql.setQuery(query)\n",
    "    sparql.setReturnFormat(JSON)\n",
    "    result = sparql.query()\n",
    "\n",
    "    processed_results = json.load(result.response)\n",
    "    cols = processed_results['head']['vars']\n",
    "\n",
    "    out = []\n",
    "    for row in processed_results['results']['bindings']:\n",
    "        item = []\n",
    "        for c in cols:\n",
    "            item.append(row.get(c, {}).get('value'))\n",
    "        out.append(item)\n",
    "\n",
    "    return pd.DataFrame(out, columns=cols)"
   ],
   "metadata": {
    "collapsed": false,
    "ExecuteTime": {
     "end_time": "2023-12-12T14:10:22.946314648Z",
     "start_time": "2023-12-12T14:10:22.942724503Z"
    }
   }
  },
  {
   "cell_type": "code",
   "execution_count": 16,
   "outputs": [
    {
     "ename": "NameError",
     "evalue": "name 'SPARQLWrapper' is not defined",
     "output_type": "error",
     "traceback": [
      "\u001B[0;31m---------------------------------------------------------------------------\u001B[0m",
      "\u001B[0;31mNameError\u001B[0m                                 Traceback (most recent call last)",
      "\u001B[0;32m<ipython-input-16-fd89f5598ed8>\u001B[0m in \u001B[0;36m<module>\u001B[0;34m\u001B[0m\n\u001B[1;32m     20\u001B[0m \u001B[0mep\u001B[0m \u001B[0;34m=\u001B[0m \u001B[0;34m\"http://0.0.0.0:7878/query\"\u001B[0m\u001B[0;34m\u001B[0m\u001B[0;34m\u001B[0m\u001B[0m\n\u001B[1;32m     21\u001B[0m \u001B[0;34m\u001B[0m\u001B[0m\n\u001B[0;32m---> 22\u001B[0;31m \u001B[0mdf\u001B[0m \u001B[0;34m=\u001B[0m \u001B[0mget_sparql_dataframe\u001B[0m\u001B[0;34m(\u001B[0m\u001B[0mep\u001B[0m\u001B[0;34m,\u001B[0m \u001B[0mrp1\u001B[0m\u001B[0;34m)\u001B[0m\u001B[0;34m\u001B[0m\u001B[0;34m\u001B[0m\u001B[0m\n\u001B[0m\u001B[1;32m     23\u001B[0m \u001B[0mdf\u001B[0m\u001B[0;34m.\u001B[0m\u001B[0mhead\u001B[0m\u001B[0;34m(\u001B[0m\u001B[0;36m10\u001B[0m\u001B[0;34m)\u001B[0m\u001B[0;34m\u001B[0m\u001B[0;34m\u001B[0m\u001B[0m\n",
      "\u001B[0;32m<ipython-input-15-3acd1e5c198e>\u001B[0m in \u001B[0;36mget_sparql_dataframe\u001B[0;34m(service, query)\u001B[0m\n\u001B[1;32m      4\u001B[0m     \u001B[0mHelper\u001B[0m \u001B[0mfunction\u001B[0m \u001B[0mto\u001B[0m \u001B[0mconvert\u001B[0m \u001B[0mSPARQL\u001B[0m \u001B[0mresults\u001B[0m \u001B[0minto\u001B[0m \u001B[0ma\u001B[0m \u001B[0mPandas\u001B[0m \u001B[0mdata\u001B[0m \u001B[0mframe\u001B[0m\u001B[0;34m.\u001B[0m\u001B[0;34m\u001B[0m\u001B[0;34m\u001B[0m\u001B[0m\n\u001B[1;32m      5\u001B[0m     \"\"\"\n\u001B[0;32m----> 6\u001B[0;31m     \u001B[0msparql\u001B[0m \u001B[0;34m=\u001B[0m \u001B[0mSPARQLWrapper\u001B[0m\u001B[0;34m(\u001B[0m\u001B[0mservice\u001B[0m\u001B[0;34m)\u001B[0m\u001B[0;34m\u001B[0m\u001B[0;34m\u001B[0m\u001B[0m\n\u001B[0m\u001B[1;32m      7\u001B[0m     \u001B[0msparql\u001B[0m\u001B[0;34m.\u001B[0m\u001B[0msetQuery\u001B[0m\u001B[0;34m(\u001B[0m\u001B[0mquery\u001B[0m\u001B[0;34m)\u001B[0m\u001B[0;34m\u001B[0m\u001B[0;34m\u001B[0m\u001B[0m\n\u001B[1;32m      8\u001B[0m     \u001B[0msparql\u001B[0m\u001B[0;34m.\u001B[0m\u001B[0msetReturnFormat\u001B[0m\u001B[0;34m(\u001B[0m\u001B[0mJSON\u001B[0m\u001B[0;34m)\u001B[0m\u001B[0;34m\u001B[0m\u001B[0;34m\u001B[0m\u001B[0m\n",
      "\u001B[0;31mNameError\u001B[0m: name 'SPARQLWrapper' is not defined"
     ]
    }
   ],
   "source": [
    "rp1 = \"\"\"\n",
    "PREFIX rdf: <http://www.w3.org/1999/02/22-rdf-syntax-ns#>\n",
    "PREFIX rdfs: <http://www.w3.org/2000/01/rdf-schema#>\n",
    "PREFIX xsd: <http://www.w3.org/2001/XMLSchema#>\n",
    "PREFIX schema: <https://schema.org/>\n",
    "\n",
    "SELECT DISTINCT ?source ?type ?target ?sType ?tType\n",
    "WHERE {\n",
    "  graph ?g {\n",
    "    ?source a ?sType .\n",
    "    ?target a ?tType .\n",
    "    ?source ?type ?target .\n",
    "    FILTER((?sType) IN (schema:Person, schema:Organization, schema:Dataset, schema:Course, schema:Document))\n",
    "    FILTER((?tType) IN (schema:Person, schema:Organization, schema:Dataset, schema:Course, schema:Document))\n",
    "  }\n",
    "}\n",
    "\n",
    "\"\"\"\n",
    "\n",
    "ep = \"http://0.0.0.0:7878/query\"\n",
    "\n",
    "df = get_sparql_dataframe(ep, rp1)\n",
    "df.head(10)"
   ],
   "metadata": {
    "collapsed": false,
    "ExecuteTime": {
     "end_time": "2023-12-12T14:10:24.727317005Z",
     "start_time": "2023-12-12T14:10:24.590410954Z"
    }
   }
  },
  {
   "cell_type": "code",
   "execution_count": 37,
   "outputs": [],
   "source": [
    "g = GraphML()\n",
    "\n",
    "#  yeah, I get it...   don't iterate rows...  PR's welcome for this, being bad is too easy!  \n",
    "# for index, row in nodes.iterrows():\n",
    "#    g.add_node(row['Id'])\n",
    "\n",
    "for index, row in df.iterrows():\n",
    "    n1 = g.add_node(row['source'])\n",
    "    n1['type'] = row['sType']\n",
    "    n2 = g.add_node(row['target'])\n",
    "    n2['type'] = row['tType']\n",
    "    e = g.add_edge(n1, n2)\n",
    "    e['predicate'] = row['type']\n"
   ],
   "metadata": {
    "collapsed": false,
    "ExecuteTime": {
     "end_time": "2023-12-04T22:48:16.674055143Z",
     "start_time": "2023-12-04T22:48:14.921754028Z"
    }
   }
  },
  {
   "cell_type": "code",
   "execution_count": 38,
   "outputs": [],
   "source": [
    "fname = \"./output/testGraphML.xml\"\n",
    "parser = GraphMLParser()\n",
    "parser.write(g, fname)"
   ],
   "metadata": {
    "collapsed": false,
    "ExecuteTime": {
     "end_time": "2023-12-04T22:48:18.301426566Z",
     "start_time": "2023-12-04T22:48:17.371079701Z"
    }
   }
  },
  {
   "cell_type": "code",
   "execution_count": null,
   "outputs": [],
   "source": [],
   "metadata": {
    "collapsed": false
   }
  }
 ],
 "metadata": {
  "kernelspec": {
   "display_name": "Python 3",
   "language": "python",
   "name": "python3"
  },
  "language_info": {
   "codemirror_mode": {
    "name": "ipython",
    "version": 3
   },
   "file_extension": ".py",
   "mimetype": "text/x-python",
   "name": "python",
   "nbconvert_exporter": "python",
   "pygments_lexer": "ipython3",
   "version": "3.10.12"
  }
 },
 "nbformat": 4,
 "nbformat_minor": 4
}
