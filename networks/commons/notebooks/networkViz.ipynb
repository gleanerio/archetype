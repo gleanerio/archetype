{
 "cells": [
  {
   "cell_type": "markdown",
   "id": "f3e6d6344164a35f",
   "metadata": {},
   "source": [
    "# Graph Visualization\n",
    "\n",
    "<a href=\"https://githubtocolab.com/gleanerio/archetype/blob/master/networks/commons/notebooks/networkViz.ipynb\" target=\"_parent\"><img src=\"https://colab.research.google.com/assets/colab-badge.png\" alt=\"Open in Colab\"/></a>"
   ]
  },
  {
   "cell_type": "markdown",
   "id": "a93b42e26bbe4d49",
   "metadata": {},
   "source": [
    "## requirements.txt\n"
   ]
  },
  {
   "cell_type": "code",
   "execution_count": null,
   "id": "491673eea3c08f57",
   "metadata": {
    "collapsed": false,
    "jupyter": {
     "outputs_hidden": false
    }
   },
   "outputs": [],
   "source": [
    "!pip install -q minio\n",
    "!pip install -q kglab\n",
    "!pip install -q sparqlwrapper\n",
    "!pip install -q pygraphml\n",
    "!pip install -q ipysigma"
   ]
  },
  {
   "cell_type": "code",
   "execution_count": 1,
   "id": "73ae8326ecb53b81",
   "metadata": {
    "ExecuteTime": {
     "end_time": "2023-12-14T14:51:41.910244786Z",
     "start_time": "2023-12-14T14:51:39.326006209Z"
    },
    "collapsed": false,
    "jupyter": {
     "outputs_hidden": false
    },
    "tags": []
   },
   "outputs": [],
   "source": [
    "import warnings\n",
    "warnings.simplefilter(action='ignore', category=FutureWarning)  ## remove pandas future warning\n",
    "import kglab\n",
    "from minio import Minio\n",
    "from rdflib import Graph, plugin\n",
    "import plotly.express as px\n",
    "import pandas as pd\n",
    "from urllib.request import urlopen\n",
    "import os,json\n",
    "\n",
    "from pygraphml import GraphMLParser\n",
    "from pygraphml import Graph as GraphML \n",
    "import networkx as nx\n",
    "from ipysigma import Sigma\n",
    "from SPARQLWrapper import SPARQLWrapper, JSON"
   ]
  },
  {
   "cell_type": "code",
   "execution_count": 2,
   "id": "10a8925854cddf20",
   "metadata": {
    "ExecuteTime": {
     "end_time": "2023-12-14T14:51:41.916791110Z",
     "start_time": "2023-12-14T14:51:41.911315177Z"
    },
    "collapsed": false,
    "jupyter": {
     "outputs_hidden": false
    },
    "tags": []
   },
   "outputs": [],
   "source": [
    "## Remote SPARQL server\n",
    "#@title\n",
    "def get_sparql_dataframe(service, query):\n",
    "    \"\"\"\n",
    "    Helper function to convert SPARQL results into a Pandas data frame.\n",
    "    \"\"\"\n",
    "    sparql = SPARQLWrapper(service)\n",
    "    sparql.setQuery(query)\n",
    "    sparql.setReturnFormat(JSON)\n",
    "    result = sparql.query()\n",
    "\n",
    "    processed_results = json.load(result.response)\n",
    "    cols = processed_results['head']['vars']\n",
    "\n",
    "    out = []\n",
    "    for row in processed_results['results']['bindings']:\n",
    "        item = []\n",
    "        for c in cols:\n",
    "            item.append(row.get(c, {}).get('value'))\n",
    "        out.append(item)\n",
    "\n",
    "    return pd.DataFrame(out, columns=cols)\n",
    "\n"
   ]
  },
  {
   "cell_type": "code",
   "execution_count": 3,
   "id": "e66aee68c498d6e2",
   "metadata": {
    "ExecuteTime": {
     "end_time": "2023-12-14T14:51:44.329654683Z",
     "start_time": "2023-12-14T14:51:41.913689967Z"
    },
    "collapsed": false,
    "jupyter": {
     "outputs_hidden": false
    },
    "tags": []
   },
   "outputs": [],
   "source": [
    "rp1 = \"\"\"\n",
    "PREFIX rdf: <http://www.w3.org/1999/02/22-rdf-syntax-ns#>\n",
    "PREFIX rdfs: <http://www.w3.org/2000/01/rdf-schema#>\n",
    "PREFIX xsd: <http://www.w3.org/2001/XMLSchema#>\n",
    "PREFIX schema: <https://schema.org/>\n",
    "\n",
    "SELECT DISTINCT ?source ?type ?target ?sType ?tType\n",
    "WHERE {\n",
    "  graph ?g {\n",
    "    ?source a ?sType .\n",
    "    ?target a ?tType .\n",
    "    ?source ?type ?target .\n",
    "    FILTER((?sType) IN (schema:Person, schema:Organization, schema:Dataset, schema:Course, schema:Document))\n",
    "    FILTER((?tType) IN (schema:Person, schema:Organization, schema:Dataset, schema:Course, schema:Document))\n",
    "  }\n",
    "    FILTER (!REGEX(STR(?g), \"bcodmo\"))\n",
    "\n",
    "}\n",
    "\n",
    "\"\"\"\n",
    "\n",
    "ep = \"http://0.0.0.0:7878/query\"\n",
    "\n",
    "df = get_sparql_dataframe(ep, rp1)\n"
   ]
  },
  {
   "cell_type": "code",
   "execution_count": 4,
   "id": "b8ad95d8-21cf-41c9-aef9-3d13441d471a",
   "metadata": {
    "ExecuteTime": {
     "end_time": "2023-12-14T14:51:44.343653266Z",
     "start_time": "2023-12-14T14:51:44.332529281Z"
    },
    "tags": []
   },
   "outputs": [
    {
     "data": {
      "text/html": [
       "<div>\n",
       "<style scoped>\n",
       "    .dataframe tbody tr th:only-of-type {\n",
       "        vertical-align: middle;\n",
       "    }\n",
       "\n",
       "    .dataframe tbody tr th {\n",
       "        vertical-align: top;\n",
       "    }\n",
       "\n",
       "    .dataframe thead th {\n",
       "        text-align: right;\n",
       "    }\n",
       "</style>\n",
       "<table border=\"1\" class=\"dataframe\">\n",
       "  <thead>\n",
       "    <tr style=\"text-align: right;\">\n",
       "      <th></th>\n",
       "      <th>source</th>\n",
       "      <th>type</th>\n",
       "      <th>target</th>\n",
       "      <th>sType</th>\n",
       "      <th>tType</th>\n",
       "    </tr>\n",
       "  </thead>\n",
       "  <tbody>\n",
       "    <tr>\n",
       "      <th>0</th>\n",
       "      <td>https://obis.org/dataset/35abcc7d-09c6-4189-98...</td>\n",
       "      <td>https://schema.org/provider</td>\n",
       "      <td>https://oceanexpert.org/institution/19457</td>\n",
       "      <td>https://schema.org/Dataset</td>\n",
       "      <td>https://schema.org/Organization</td>\n",
       "    </tr>\n",
       "    <tr>\n",
       "      <th>1</th>\n",
       "      <td>https://obis.org/dataset/35abcc7d-09c6-4189-98...</td>\n",
       "      <td>https://schema.org/provider</td>\n",
       "      <td>https://oceanexpert.org/institution/18705</td>\n",
       "      <td>https://schema.org/Dataset</td>\n",
       "      <td>https://schema.org/Organization</td>\n",
       "    </tr>\n",
       "    <tr>\n",
       "      <th>2</th>\n",
       "      <td>https://obis.org/dataset/35abcc7d-09c6-4189-98...</td>\n",
       "      <td>https://schema.org/provider</td>\n",
       "      <td>https://oceanexpert.org/institution/5163</td>\n",
       "      <td>https://schema.org/Dataset</td>\n",
       "      <td>https://schema.org/Organization</td>\n",
       "    </tr>\n",
       "    <tr>\n",
       "      <th>3</th>\n",
       "      <td>https://obis.org/dataset/5ec11ed9-4b39-4078-a7...</td>\n",
       "      <td>https://schema.org/provider</td>\n",
       "      <td>https://oceanexpert.org/institution/19299</td>\n",
       "      <td>https://schema.org/Dataset</td>\n",
       "      <td>https://schema.org/Organization</td>\n",
       "    </tr>\n",
       "    <tr>\n",
       "      <th>4</th>\n",
       "      <td>https://obis.org/dataset/f5eb3f1e-d0b9-4878-90...</td>\n",
       "      <td>https://schema.org/provider</td>\n",
       "      <td>https://oceanexpert.org/institution/19393</td>\n",
       "      <td>https://schema.org/Dataset</td>\n",
       "      <td>https://schema.org/Organization</td>\n",
       "    </tr>\n",
       "    <tr>\n",
       "      <th>5</th>\n",
       "      <td>https://obis.org/dataset/afb23951-7a91-44f5-9c...</td>\n",
       "      <td>https://schema.org/provider</td>\n",
       "      <td>https://oceanexpert.org/institution/20836</td>\n",
       "      <td>https://schema.org/Dataset</td>\n",
       "      <td>https://schema.org/Organization</td>\n",
       "    </tr>\n",
       "    <tr>\n",
       "      <th>6</th>\n",
       "      <td>https://obis.org/dataset/afb23951-7a91-44f5-9c...</td>\n",
       "      <td>https://schema.org/provider</td>\n",
       "      <td>https://oceanexpert.org/institution/23181</td>\n",
       "      <td>https://schema.org/Dataset</td>\n",
       "      <td>https://schema.org/Organization</td>\n",
       "    </tr>\n",
       "    <tr>\n",
       "      <th>7</th>\n",
       "      <td>https://obis.org/dataset/afb23951-7a91-44f5-9c...</td>\n",
       "      <td>https://schema.org/provider</td>\n",
       "      <td>https://oceanexpert.org/institution/19393</td>\n",
       "      <td>https://schema.org/Dataset</td>\n",
       "      <td>https://schema.org/Organization</td>\n",
       "    </tr>\n",
       "    <tr>\n",
       "      <th>8</th>\n",
       "      <td>https://obis.org/dataset/d6229742-b1bc-4db8-bb...</td>\n",
       "      <td>https://schema.org/provider</td>\n",
       "      <td>https://oceanexpert.org/institution/18704</td>\n",
       "      <td>https://schema.org/Dataset</td>\n",
       "      <td>https://schema.org/Organization</td>\n",
       "    </tr>\n",
       "    <tr>\n",
       "      <th>9</th>\n",
       "      <td>https://obis.org/dataset/1e69cd84-1703-4383-ae...</td>\n",
       "      <td>https://schema.org/provider</td>\n",
       "      <td>https://oceanexpert.org/institution/5028</td>\n",
       "      <td>https://schema.org/Dataset</td>\n",
       "      <td>https://schema.org/Organization</td>\n",
       "    </tr>\n",
       "  </tbody>\n",
       "</table>\n",
       "</div>"
      ],
      "text/plain": [
       "                                              source  \\\n",
       "0  https://obis.org/dataset/35abcc7d-09c6-4189-98...   \n",
       "1  https://obis.org/dataset/35abcc7d-09c6-4189-98...   \n",
       "2  https://obis.org/dataset/35abcc7d-09c6-4189-98...   \n",
       "3  https://obis.org/dataset/5ec11ed9-4b39-4078-a7...   \n",
       "4  https://obis.org/dataset/f5eb3f1e-d0b9-4878-90...   \n",
       "5  https://obis.org/dataset/afb23951-7a91-44f5-9c...   \n",
       "6  https://obis.org/dataset/afb23951-7a91-44f5-9c...   \n",
       "7  https://obis.org/dataset/afb23951-7a91-44f5-9c...   \n",
       "8  https://obis.org/dataset/d6229742-b1bc-4db8-bb...   \n",
       "9  https://obis.org/dataset/1e69cd84-1703-4383-ae...   \n",
       "\n",
       "                          type                                     target  \\\n",
       "0  https://schema.org/provider  https://oceanexpert.org/institution/19457   \n",
       "1  https://schema.org/provider  https://oceanexpert.org/institution/18705   \n",
       "2  https://schema.org/provider   https://oceanexpert.org/institution/5163   \n",
       "3  https://schema.org/provider  https://oceanexpert.org/institution/19299   \n",
       "4  https://schema.org/provider  https://oceanexpert.org/institution/19393   \n",
       "5  https://schema.org/provider  https://oceanexpert.org/institution/20836   \n",
       "6  https://schema.org/provider  https://oceanexpert.org/institution/23181   \n",
       "7  https://schema.org/provider  https://oceanexpert.org/institution/19393   \n",
       "8  https://schema.org/provider  https://oceanexpert.org/institution/18704   \n",
       "9  https://schema.org/provider   https://oceanexpert.org/institution/5028   \n",
       "\n",
       "                        sType                            tType  \n",
       "0  https://schema.org/Dataset  https://schema.org/Organization  \n",
       "1  https://schema.org/Dataset  https://schema.org/Organization  \n",
       "2  https://schema.org/Dataset  https://schema.org/Organization  \n",
       "3  https://schema.org/Dataset  https://schema.org/Organization  \n",
       "4  https://schema.org/Dataset  https://schema.org/Organization  \n",
       "5  https://schema.org/Dataset  https://schema.org/Organization  \n",
       "6  https://schema.org/Dataset  https://schema.org/Organization  \n",
       "7  https://schema.org/Dataset  https://schema.org/Organization  \n",
       "8  https://schema.org/Dataset  https://schema.org/Organization  \n",
       "9  https://schema.org/Dataset  https://schema.org/Organization  "
      ]
     },
     "execution_count": 4,
     "metadata": {},
     "output_type": "execute_result"
    }
   ],
   "source": [
    "df.head(10)\n"
   ]
  },
  {
   "cell_type": "code",
   "execution_count": 5,
   "id": "6edcf5a3e7e8a9d",
   "metadata": {
    "ExecuteTime": {
     "end_time": "2023-12-14T14:51:46.821461150Z",
     "start_time": "2023-12-14T14:51:44.344360919Z"
    },
    "collapsed": false,
    "jupyter": {
     "outputs_hidden": false
    },
    "tags": []
   },
   "outputs": [],
   "source": [
    "#  yeah, I get it...   don't iterate rows...  PR's welcome for this, being bad is too easy!  \n",
    "# for index, row in nodes.iterrows():\n",
    "#    g.add_node(row['Id'])\n",
    "g = GraphML()\n",
    "g.directed = False\n",
    "\n",
    "for index, row in df.iterrows():\n",
    "    n1 = g.add_node(row['source'])\n",
    "    n1['type'] = row['sType']\n",
    "    n2 = g.add_node(row['target'])\n",
    "    n2['type'] = row['tType']\n",
    "    e = g.add_edge(n1, n2)\n",
    "    e['predicate'] = row['type']\n",
    "\n",
    "fname = \"./output/testGraphML.xml\"\n",
    "parser = GraphMLParser()\n",
    "parser.write(g, fname)"
   ]
  },
  {
   "cell_type": "code",
   "execution_count": 6,
   "id": "ed7af016-bb24-43c4-84b3-e78f9f8e9cc3",
   "metadata": {
    "ExecuteTime": {
     "end_time": "2023-12-14T14:51:47.330211516Z",
     "start_time": "2023-12-14T14:51:46.822338725Z"
    },
    "tags": []
   },
   "outputs": [],
   "source": [
    "# g = nx.les_miserables_graph()\n",
    "g = nx.read_graphml(\"./output/testGraphML.xml\")"
   ]
  },
  {
   "cell_type": "code",
   "execution_count": 7,
   "id": "633c2831-ef4d-4c88-ae42-95c3189254db",
   "metadata": {
    "ExecuteTime": {
     "start_time": "2023-12-14T14:51:47.331565449Z"
    },
    "is_executing": true,
    "tags": []
   },
   "outputs": [
    {
     "data": {
      "application/vnd.jupyter.widget-view+json": {
       "model_id": "ef4147af00f144768e5d15f389e202c7",
       "version_major": 2,
       "version_minor": 0
      },
      "text/plain": [
       "Sigma(nx.Graph with 5,678 nodes and 8,461 edges)"
      ]
     },
     "metadata": {},
     "output_type": "display_data"
    }
   ],
   "source": [
    "Sigma(\n",
    "    g,\n",
    "    node_size=g.degree,\n",
    "    default_edge_type='curve',\n",
    "    node_border_color_from='node',\n",
    "    node_metrics=['louvain'],\n",
    "    node_color='louvain',\n",
    "    start_layout=5,\n",
    "    edge_size=lambda u, v: g.degree(u) + g.degree(v),\n",
    "    edge_size_range=(0.5, 5),\n",
    "    label_font='cursive',\n",
    "    node_label_size=g.degree,\n",
    "    label_density=3\n",
    ")\n",
    "\n"
   ]
  },
  {
   "cell_type": "code",
   "execution_count": 8,
   "id": "734d858724bd6a30",
   "metadata": {
    "ExecuteTime": {
     "end_time": "2023-12-14T14:55:11.455167413Z",
     "start_time": "2023-12-14T14:55:11.454273523Z"
    },
    "collapsed": false,
    "jupyter": {
     "outputs_hidden": false
    }
   },
   "outputs": [],
   "source": []
  },
  {
   "cell_type": "code",
   "execution_count": null,
   "id": "5ae8815403d298ad",
   "metadata": {
    "collapsed": false,
    "jupyter": {
     "outputs_hidden": false
    }
   },
   "outputs": [],
   "source": []
  }
 ],
 "metadata": {
  "kernelspec": {
   "display_name": "Python 3",
   "language": "python",
   "name": "python3"
  },
  "language_info": {
   "codemirror_mode": {
    "name": "ipython",
    "version": 3
   },
   "file_extension": ".py",
   "mimetype": "text/x-python",
   "name": "python",
   "nbconvert_exporter": "python",
   "pygments_lexer": "ipython3",
   "version": "3.10.12"
  }
 },
 "nbformat": 4,
 "nbformat_minor": 5
}
