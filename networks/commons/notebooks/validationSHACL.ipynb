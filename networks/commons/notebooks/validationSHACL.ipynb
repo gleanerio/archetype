{
 "cells": [
  {
   "cell_type": "markdown",
   "metadata": {
    "id": "y5aNiFkCLQeR"
   },
   "source": [
    "# Validation with SHACL\n",
    "\n",
    "<a href=\"https://githubtocolab.com/gleanerio/archetype/blob/master/networks/commons/validationSHACL.ipynb\" target=\"_parent\"><img src=\"https://colab.research.google.com/assets/colab-badge.png\" alt=\"Open in Colab\"/></a>\n",
    "\n"
   ]
  },
  {
   "cell_type": "markdown",
   "metadata": {},
   "source": [
    "## Requirements"
   ]
  },
  {
   "cell_type": "code",
   "execution_count": null,
   "metadata": {
    "id": "oouTTPLqLLaB"
   },
   "outputs": [],
   "source": [
    "!pip install -q rdflib\n",
    "!pip install -q shapely\n",
    "!pip install -q pyld\n",
    "!pip install -q kglab\n",
    "!pip install -q minio\n",
    "!pip install -q pyshacl\n",
    "!pip install -q tqdm"
   ]
  },
  {
   "cell_type": "markdown",
   "metadata": {},
   "source": [
    "## Imports"
   ]
  },
  {
   "cell_type": "code",
   "execution_count": 1,
   "metadata": {
    "ExecuteTime": {
     "end_time": "2023-12-12T13:17:23.364266559Z",
     "start_time": "2023-12-12T13:17:23.323944801Z"
    },
    "id": "StBd8If1LY2N",
    "tags": []
   },
   "outputs": [],
   "source": [
    "import warnings\n",
    "warnings.simplefilter(action='ignore', category=FutureWarning)  ## remove pandas future warning\n",
    "import kglab\n",
    "from minio import Minio\n",
    "from rdflib import Graph, plugin\n",
    "import plotly.express as px\n",
    "import pandas as pd\n",
    "from urllib.request import urlopen\n",
    "import os\n",
    "from tqdm import tqdm\n"
   ]
  },
  {
   "cell_type": "markdown",
   "metadata": {},
   "source": [
    "## Supporting functions"
   ]
  },
  {
   "cell_type": "code",
   "execution_count": 2,
   "metadata": {
    "ExecuteTime": {
     "end_time": "2023-12-12T13:12:15.399831627Z",
     "start_time": "2023-12-12T13:12:15.377433561Z"
    },
    "id": "l_KVXEsEBqPo",
    "tags": []
   },
   "outputs": [],
   "source": [
    "def ensure_directory_exists(path):\n",
    "    if not os.path.exists(path):\n",
    "        os.makedirs(path)\n",
    "        \n",
    "def popper(input):\n",
    "    lines = input.decode().split('\\n') # Split input into separate lines\n",
    "    modified_lines = []\n",
    "\n",
    "    for line in lines:\n",
    "        newline = line.replace(\"http://schema.org\", \"https://schema.org\")\n",
    "        segments = newline.split(' ')\n",
    "\n",
    "        if len(segments) > 3:\n",
    "            segments.pop()   # Remove the last two segment\n",
    "            segments.pop()\n",
    "            new_line = ' '.join(segments) + ' .'\n",
    "            modified_lines.append(new_line)\n",
    "\n",
    "    result_string = '\\n'.join(modified_lines)\n",
    "\n",
    "    return(result_string)\n",
    "\n",
    "def publicurls(client, bucket, prefix):\n",
    "    urls = []\n",
    "    objects = client.list_objects(bucket, prefix=prefix, recursive=True)\n",
    "    for obj in objects:\n",
    "        result = client.stat_object(bucket, obj.object_name)\n",
    "\n",
    "        if result.size > 0:  #  how to tell if an objet   obj.is_public  ?????\n",
    "            url = client.presigned_get_object(bucket, obj.object_name)\n",
    "            # print(f\"Public URL for object: {url}\")\n",
    "            urls.append(url)\n",
    "\n",
    "    return urls\n"
   ]
  },
  {
   "cell_type": "markdown",
   "metadata": {},
   "source": [
    "## Object store files"
   ]
  },
  {
   "cell_type": "code",
   "execution_count": 3,
   "metadata": {
    "ExecuteTime": {
     "end_time": "2023-12-12T13:12:20.722913945Z",
     "start_time": "2023-12-12T13:12:18.063999833Z"
    },
    "colab": {
     "base_uri": "https://localhost:8080/"
    },
    "id": "SYUjobB-BkOH",
    "outputId": "2fe95957-0ca5-4da2-d589-8d4adfd7db63",
    "tags": []
   },
   "outputs": [
    {
     "name": "stdout",
     "output_type": "stream",
     "text": [
      "http://ossapi.oceaninfohub.org/public/graphs/summonedafricaioc_v1_release.nq\n",
      "http://ossapi.oceaninfohub.org/public/graphs/summonedaquadocs_v1_release.nq\n",
      "http://ossapi.oceaninfohub.org/public/graphs/summonedcioos_v1_release.nq\n",
      "http://ossapi.oceaninfohub.org/public/graphs/summonededmerp_v1_release.nq\n",
      "http://ossapi.oceaninfohub.org/public/graphs/summonededmo_v1_release.nq\n",
      "http://ossapi.oceaninfohub.org/public/graphs/summonedemodnet_v1_release.nq\n",
      "http://ossapi.oceaninfohub.org/public/graphs/summonedinanodc_v1_release.nq\n",
      "http://ossapi.oceaninfohub.org/public/graphs/summonedinvemardocuments_v1_release.nq\n",
      "http://ossapi.oceaninfohub.org/public/graphs/summonedinvemarexperts_v1_release.nq\n",
      "http://ossapi.oceaninfohub.org/public/graphs/summonedinvemarinstitutions_v1_release.nq\n",
      "http://ossapi.oceaninfohub.org/public/graphs/summonedinvemartraining_v1_release.nq\n",
      "http://ossapi.oceaninfohub.org/public/graphs/summonedinvemarvessels_v1_release.nq\n",
      "http://ossapi.oceaninfohub.org/public/graphs/summonedmarinetraining_v1_release.nq\n",
      "http://ossapi.oceaninfohub.org/public/graphs/summonedobis_v1_release.nq\n",
      "http://ossapi.oceaninfohub.org/public/graphs/summonedobps_v1_release.nq\n",
      "http://ossapi.oceaninfohub.org/public/graphs/summonedoceanexperts_v1_release.nq\n",
      "http://ossapi.oceaninfohub.org/public/graphs/summonedpdh_v1_release.nq\n"
     ]
    }
   ],
   "source": [
    "# OIH testing graphs\n",
    "client = Minio(\"ossapi.oceaninfohub.org:80\",  secure=False) # Create client with anonymous access.\n",
    "urls = publicurls(client, \"public\", \"graph\")\n",
    "for u in urls:\n",
    "  print(u)\n",
    "  \n",
    "  \n",
    "# Local S3 server  "
   ]
  },
  {
   "cell_type": "markdown",
   "metadata": {},
   "source": [
    "## Load\n",
    "\n",
    "Load and align the schema.org context"
   ]
  },
  {
   "cell_type": "code",
   "execution_count": 5,
   "metadata": {
    "ExecuteTime": {
     "end_time": "2023-12-12T13:15:03.709668411Z",
     "start_time": "2023-12-12T13:15:00.705988667Z"
    },
    "id": "Uhfy7jewPzu8"
   },
   "outputs": [],
   "source": [
    "# set the Data Graph URL to what you want to validate\n",
    "dgurl = \"http://ossapi.oceaninfohub.org/public/graphs/summonedcioos_v1_release.nq\"\n",
    "# df = urlopen(dgurl)\n",
    "dg = urlopen(dgurl).read()\n",
    "rp = popper(dg)\n",
    "\n",
    "# Alternately, load from local disk\n",
    "# with open('./localRDF.nq', 'rb') as file:\n",
    "#     dg = file.read()\n",
    "# rp = popper(dg)"
   ]
  },
  {
   "cell_type": "code",
   "execution_count": 6,
   "metadata": {
    "ExecuteTime": {
     "end_time": "2023-12-12T13:15:15.803997913Z",
     "start_time": "2023-12-12T13:15:04.584743470Z"
    },
    "colab": {
     "base_uri": "https://localhost:8080/"
    },
    "id": "L-8A0UeNRbgv",
    "outputId": "3cfd4987-0aae-4025-f508-8d7d4f4916e2"
   },
   "outputs": [
    {
     "name": "stdout",
     "output_type": "stream",
     "text": [
      "Graph loaded with 145779 triples\n"
     ]
    }
   ],
   "source": [
    "namespaces = {\n",
    "    \"sh\":   \"http://www.w3.org/ns/shacl#\" ,\n",
    "    \"schema\": \"https://schema.org/\"\n",
    "    }\n",
    "\n",
    "kg = kglab.KnowledgeGraph(\n",
    "    name = \"Schema.org based datagraph\",\n",
    "    base_uri = \"https://example.org/id/\",\n",
    "    namespaces = namespaces,\n",
    "    )\n",
    "\n",
    "try:\n",
    "    g = Graph().parse(data=rp, format='nt')\n",
    "    r = g.serialize(format='nt')\n",
    "    kg.load_rdf_text(r)\n",
    "except Exception as e:\n",
    "    print(\"Exception: {}\\n --\".format(str(e)))\n",
    "    raise e\n",
    "\n",
    "print(\"Graph loaded with {} triples\".format(len(g)))"
   ]
  },
  {
   "cell_type": "markdown",
   "metadata": {},
   "source": [
    "## SPARQL Counts\n",
    "\n",
    "Do a simple count query to see what we have in our graph and also just to verify we all good to this point"
   ]
  },
  {
   "cell_type": "code",
   "execution_count": 7,
   "metadata": {
    "ExecuteTime": {
     "end_time": "2023-12-12T13:15:18.270026415Z",
     "start_time": "2023-12-12T13:15:17.034385214Z"
    },
    "id": "KvCQVxlO2UbH"
   },
   "outputs": [
    {
     "data": {
      "text/html": [
       "<div>\n",
       "<style scoped>\n",
       "    .dataframe tbody tr th:only-of-type {\n",
       "        vertical-align: middle;\n",
       "    }\n",
       "\n",
       "    .dataframe tbody tr th {\n",
       "        vertical-align: top;\n",
       "    }\n",
       "\n",
       "    .dataframe thead th {\n",
       "        text-align: right;\n",
       "    }\n",
       "</style>\n",
       "<table border=\"1\" class=\"dataframe\">\n",
       "  <thead>\n",
       "    <tr style=\"text-align: right;\">\n",
       "      <th></th>\n",
       "      <th>count</th>\n",
       "      <th>type</th>\n",
       "    </tr>\n",
       "  </thead>\n",
       "  <tbody>\n",
       "    <tr>\n",
       "      <th>0</th>\n",
       "      <td>2141</td>\n",
       "      <td>schema:Organization</td>\n",
       "    </tr>\n",
       "    <tr>\n",
       "      <th>1</th>\n",
       "      <td>2015</td>\n",
       "      <td>schema:Dataset</td>\n",
       "    </tr>\n",
       "    <tr>\n",
       "      <th>2</th>\n",
       "      <td>1372</td>\n",
       "      <td>schema:Person</td>\n",
       "    </tr>\n",
       "  </tbody>\n",
       "</table>\n",
       "</div>"
      ],
      "text/plain": [
       "   count                 type\n",
       "0   2141  schema:Organization\n",
       "1   2015       schema:Dataset\n",
       "2   1372        schema:Person"
      ]
     },
     "execution_count": 7,
     "metadata": {},
     "output_type": "execute_result"
    }
   ],
   "source": [
    "# For the radar plot later we will need to know the number of resources in the\n",
    "# graph that we will be checking.  We should break down the types too.\n",
    "# It might be a case where we do some radar plots only for given types.\n",
    "\n",
    "counts = \"\"\"PREFIX rdf: <http://www.w3.org/1999/02/22-rdf-syntax-ns#>\n",
    "PREFIX schema: <https://schema.org/>\n",
    "\n",
    "\n",
    "SELECT (COUNT(?type) as ?count) ?type\n",
    "WHERE {\n",
    "        ?s rdf:type ?type\n",
    "        FILTER (?type IN\n",
    "                (schema:ResearchProject, schema:Project, schema:Organization, schema:Dataset,\n",
    "                    schema:CreativeWork, schema:Person, schema:Map, schema:Course,\n",
    "                    schema:CourseInstance, schema:Event, schema:Vehicle)\n",
    "        )\n",
    "}\n",
    "GROUP BY ?type\n",
    "ORDER BY DESC(?count)\n",
    "\"\"\"\n",
    "\n",
    "countsdf = kg.query_as_df(counts)\n",
    "countsdf.head()\n",
    "# countsdf[\"count\"].sum()"
   ]
  },
  {
   "cell_type": "markdown",
   "metadata": {
    "id": "nrPRHWNY6DKn"
   },
   "source": [
    "## Shapes Section\n",
    "\n",
    "* Basic shape: (name, description)\n",
    "* connections shape: (url, Dataset:distribution)\n",
    "* id shape: dataset:identifier\n",
    "* licensing\n",
    "* geo shape:  dataset:geo  course:geo\n",
    "* temporal shape: dataset, shape\n",
    "* funding\n",
    "* citation\n",
    "* For GDPR (sp) look for type Person and identifier\n",
    "\n",
    "Could the shape help to identifie SG14 or EOV data.  Perharps this isn't a thing that SHACL can hep with?  wHAT is needed to much sucn resource alignment work/exist.\n",
    "\n",
    "How might this relate to the Match Making topic PLB spoke about.\n",
    "\n"
   ]
  },
  {
   "cell_type": "code",
   "execution_count": 8,
   "metadata": {
    "ExecuteTime": {
     "end_time": "2023-12-12T13:15:42.449596574Z",
     "start_time": "2023-12-12T13:15:42.408849623Z"
    },
    "id": "axu7Sd--MBO-"
   },
   "outputs": [],
   "source": [
    "basicShape = \"\"\"\n",
    "@prefix schema: <https://schema.org/> .\n",
    "@prefix rdf: <http://www.w3.org/1999/02/22-rdf-syntax-ns#> .\n",
    "@prefix shacl: <http://www.w3.org/ns/shacl#> .\n",
    "@prefix oihval: <https://oceans.collaborium.io/voc/validation/1.0.1/shacl#> .\n",
    "\n",
    "oihval:IDShape\n",
    "    a shacl:NodeShape ;\n",
    "    shacl:targetClass  schema:CreativeWork, schema:ResearchProject, schema:Person, schema:Course, schema:Organization, schema:Dataset, schema:Map, schema:Vehicle ;\n",
    "    shacl:message \"Graph requires ID\"@en ;\n",
    "    shacl:description \"URL OIH shape guidance\" ;\n",
    "    shacl:nodeKind shacl:IRI ;\n",
    "    .\n",
    "\n",
    "oihval:DatasetCommonShape\n",
    "    a shacl:NodeShape ;\n",
    "    shacl:targetClass  schema:CreativeWork, schema:ResearchProject, schema:Person, schema:Course, schema:Organization, schema:Dataset, schema:Map, schema:Vehicle ;\n",
    "    shacl:message \"OIH Resource to Query validation\" ;\n",
    "    shacl:description \"OIH shape guidance\" ;\n",
    "    shacl:property\n",
    "        oihval:nameResourceProperty,\n",
    "        oihval:descriptionResourceProperty ;\n",
    "    .\n",
    "\n",
    "oihval:nameResourceProperty\n",
    "    a shacl:PropertyShape ;\n",
    "    shacl:path schema:name ;\n",
    "    shacl:nodeKind shacl:Literal ;\n",
    "    shacl:minCount 1 ;\n",
    "    shacl:severity shacl:Warning ;\n",
    "    shacl:message \"Name is suggested \"@en ;\n",
    "    shacl:description \"https://foo.org\" ;\n",
    "    .\n",
    "\n",
    "oihval:descriptionResourceProperty\n",
    "    a shacl:PropertyShape ;\n",
    "    shacl:path schema:description;\n",
    "    shacl:nodeKind shacl:Literal ;\n",
    "    shacl:minCount 1 ;\n",
    "    shacl:message \"Description missing\"@en ;\n",
    "    shacl:description \"https://book.oceaninfohub.org/foundation/foundation.html#other-properties\" ;\n",
    "    .\n",
    "\"\"\"\n"
   ]
  },
  {
   "cell_type": "code",
   "execution_count": 9,
   "metadata": {
    "ExecuteTime": {
     "end_time": "2023-12-12T13:15:42.914250618Z",
     "start_time": "2023-12-12T13:15:42.909517168Z"
    },
    "id": "iTtlvlnojG7s"
   },
   "outputs": [],
   "source": [
    "connectionShape = \"\"\"\n",
    "@prefix schema: <https://schema.org/> .\n",
    "@prefix rdf: <http://www.w3.org/1999/02/22-rdf-syntax-ns#> .\n",
    "@prefix shacl: <http://www.w3.org/ns/shacl#> .\n",
    "@prefix oihval: <https://oceans.collaborium.io/voc/validation/1.0.1/shacl#> .\n",
    "\n",
    "oihval:DatasetCommonShape\n",
    "    a shacl:NodeShape ;\n",
    "    shacl:targetClass  schema:CreativeWork, schema:ResearchProject, schema:Person, schema:Course, schema:Organization, schema:Dataset, schema:Map, schema:Vehicle ;\n",
    "    shacl:message \"OIH Resource to Query validation\" ;\n",
    "    shacl:description \"OIH shape guidance\" ;\n",
    "    shacl:property\n",
    "        oihval:urlResourceProperty;\n",
    "    .\n",
    "\n",
    "\n",
    "oihval:urlResourceProperty\n",
    "    a shacl:PropertyShape ;\n",
    "    shacl:path schema:url ;\n",
    "    shacl:maxCount 1 ;\n",
    "    shacl:minCount 1 ;\n",
    "    shacl:nodeKind shacl:IRIOrLiteral ;\n",
    "    shacl:message \"URL missing\"@en ;\n",
    "    shacl:description \"https://foo.org\" ;\n",
    "    .\n",
    "\n",
    "\n",
    "\"\"\"\n"
   ]
  },
  {
   "cell_type": "code",
   "execution_count": 10,
   "metadata": {
    "ExecuteTime": {
     "end_time": "2023-12-12T13:15:43.404619005Z",
     "start_time": "2023-12-12T13:15:43.397734043Z"
    },
    "id": "PkJSdWtK_lyV"
   },
   "outputs": [],
   "source": [
    "licenseShape = \"\"\"\n",
    "@prefix schema: <https://schema.org/> .\n",
    "@prefix rdf: <http://www.w3.org/1999/02/22-rdf-syntax-ns#> .\n",
    "@prefix shacl: <http://www.w3.org/ns/shacl#> .\n",
    "@prefix oihval: <https://oceans.collaborium.io/voc/validation/1.0.1/shacl#> .\n",
    "\n",
    "oihval:DatasetCommonShape\n",
    "    a shacl:NodeShape ;\n",
    "    shacl:targetClass  schema:Dataset ;\n",
    "    shacl:message \"OIH Resource to Query validation\" ;\n",
    "    shacl:description \"OIH shape guidance\" ;\n",
    "    shacl:property\n",
    "        oihval:urlResourceProperty;\n",
    "    .\n",
    "\n",
    "\n",
    "oihval:urlResourceProperty\n",
    "    a shacl:PropertyShape ;\n",
    "    shacl:path schema:license ;\n",
    "    shacl:maxCount 1 ;\n",
    "    shacl:minCount 1 ;\n",
    "    shacl:message \"license missing\"@en ;\n",
    "    shacl:description \"https://foo.org\" ;\n",
    "    .\n",
    "\n",
    "\n",
    "\"\"\""
   ]
  },
  {
   "cell_type": "code",
   "execution_count": 11,
   "metadata": {
    "ExecuteTime": {
     "end_time": "2023-12-12T13:15:43.857542798Z",
     "start_time": "2023-12-12T13:15:43.851105368Z"
    },
    "id": "nuONIhCpjnNM"
   },
   "outputs": [],
   "source": [
    "identifierShape = \"\"\"\n",
    "@prefix schema: <https://schema.org/> .\n",
    "@prefix rdf: <http://www.w3.org/1999/02/22-rdf-syntax-ns#> .\n",
    "@prefix shacl: <http://www.w3.org/ns/shacl#> .\n",
    "@prefix oihval: <https://oceans.collaborium.io/voc/validation/1.0.1/shacl#> .\n",
    "\n",
    "oihval:DatasetCommonShape\n",
    "    a shacl:NodeShape ;\n",
    "    shacl:targetClass  schema:CreativeWork, schema:ResearchProject, schema:Person, schema:Course, schema:Organization, schema:Dataset, schema:Map, schema:Vehicle ;\n",
    "    shacl:message \"OIH Resource to Query validation\" ;\n",
    "    shacl:description \"OIH shape guidance\" ;\n",
    "    shacl:property\n",
    "        oihval:urlIdentifierProperty;\n",
    "    .\n",
    "\n",
    "\n",
    "oihval:urlIdentifierProperty\n",
    "    a shacl:PropertyShape ;\n",
    "    shacl:path schema:identifier ;\n",
    "    shacl:maxCount 1 ;\n",
    "    shacl:minCount 1 ;\n",
    "    shacl:nodeKind shacl:IRIOrLiteral ;\n",
    "    shacl:message \"Identifier missing\"@en ;\n",
    "    shacl:description \"https://foo.org\" ;\n",
    "    .\n",
    "\n",
    "\n",
    "\"\"\""
   ]
  },
  {
   "cell_type": "code",
   "execution_count": 12,
   "metadata": {
    "ExecuteTime": {
     "end_time": "2023-12-12T13:15:44.441754501Z",
     "start_time": "2023-12-12T13:15:44.437403703Z"
    },
    "id": "Cg4a7Cmg-pvW"
   },
   "outputs": [],
   "source": [
    "personIDShape = \"\"\"\n",
    "@prefix schema: <https://schema.org/> .\n",
    "@prefix rdf: <http://www.w3.org/1999/02/22-rdf-syntax-ns#> .\n",
    "@prefix shacl: <http://www.w3.org/ns/shacl#> .\n",
    "@prefix oihval: <https://oceans.collaborium.io/voc/validation/1.0.1/shacl#> .\n",
    "\n",
    "oihval:DatasetCommonShape\n",
    "    a shacl:NodeShape ;\n",
    "    shacl:targetClass  schema:Person ;\n",
    "    shacl:message \"OIH Resource to Query validation\" ;\n",
    "    shacl:description \"OIH shape guidance\" ;\n",
    "    shacl:property\n",
    "        oihval:urlIdentifierProperty;\n",
    "    .\n",
    "\n",
    "\n",
    "oihval:urlIdentifierProperty\n",
    "    a shacl:PropertyShape ;\n",
    "    shacl:path schema:identifier ;\n",
    "    shacl:maxCount 1 ;\n",
    "    shacl:minCount 1 ;\n",
    "    shacl:nodeKind shacl:IRIOrLiteral ;\n",
    "    shacl:message \"Identifier missing\"@en ;\n",
    "    shacl:description \"https://foo.org\" ;\n",
    "    .\n",
    "\n",
    "\n",
    "\"\"\""
   ]
  },
  {
   "cell_type": "code",
   "execution_count": 13,
   "metadata": {
    "ExecuteTime": {
     "end_time": "2023-12-12T13:15:45.108729100Z",
     "start_time": "2023-12-12T13:15:45.100028613Z"
    },
    "id": "23YBhOb78rQx"
   },
   "outputs": [],
   "source": [
    "geoShape = \"\"\"\n",
    "@prefix schema: <https://schema.org/> .\n",
    "@prefix rdf: <http://www.w3.org/1999/02/22-rdf-syntax-ns#> .\n",
    "@prefix shacl: <http://www.w3.org/ns/shacl#> .\n",
    "@prefix oihval: <https://oceans.collaborium.io/voc/validation/1.0.1/shacl#> .\n",
    "@prefix xsd: <http://www.w3.org/2001/XMLSchema#> .\n",
    "\n",
    "oihval:DatasetCommonShape\n",
    "    a shacl:NodeShape ;\n",
    "    shacl:targetClass  schema:Dataset ;\n",
    "    shacl:message \"OIH Resource to Query validation\" ;\n",
    "    shacl:description \"OIH shape guidance\" ;\n",
    "    shacl:property\n",
    "        oihval:geoProperty ;\n",
    "    .\n",
    "\n",
    "\n",
    "oihval:geoProperty\n",
    "    a shacl:PropertyShape ;\n",
    "    shacl:path schema:spatialCoverage ;\n",
    "    shacl:maxCount 1 ;\n",
    "    shacl:minCount 1 ;\n",
    "    shacl:message \"spatialCoverage missing\"@en ;\n",
    "    shacl:description \"https://foo.org\" ;\n",
    "    .\n",
    "\n",
    "\n",
    "\"\"\""
   ]
  },
  {
   "cell_type": "code",
   "execution_count": 14,
   "metadata": {
    "ExecuteTime": {
     "end_time": "2023-12-12T13:15:46.001266461Z",
     "start_time": "2023-12-12T13:15:45.997016775Z"
    },
    "id": "GLIJ9hxMj3pH"
   },
   "outputs": [],
   "source": [
    "geoPolygon = R\"\"\"\n",
    "@prefix schema: <https://schema.org/> .\n",
    "@prefix rdf: <http://www.w3.org/1999/02/22-rdf-syntax-ns#> .\n",
    "@prefix shacl: <http://www.w3.org/ns/shacl#> .\n",
    "@prefix oihval: <https://oceans.collaborium.io/voc/validation/1.0.1/shacl#> .\n",
    "@prefix xsd: <http://www.w3.org/2001/XMLSchema#> .\n",
    "\n",
    "oihval:DatasetCommonShape\n",
    "    a shacl:NodeShape ;\n",
    "    shacl:targetClass  schema:GeoShape ;\n",
    "    shacl:message \"OIH Resource to Query validation\" ;\n",
    "    shacl:description \"OIH shape guidance\" ;\n",
    "    shacl:property\n",
    "        oihval:polygonStringProperty,\n",
    "        oihval:polygonCloseProperty ;\n",
    "    .\n",
    "\n",
    "oihval:polygonStringProperty\n",
    "    a shacl:PropertyShape ;\n",
    "    shacl:path schema:polygon  ;\n",
    "    shacl:message \"The string must consists of numeric, space-separated items.\"@en ;\n",
    "    shacl:maxCount 1 ;\n",
    "    shacl:description \"https://foo.org\" ;\n",
    "    shacl:pattern \"^(?:\\\\d+\\\\s+)*\\\\d+$\" ;    .\n",
    "\n",
    "\n",
    "oihval:polygonCloseProperty\n",
    "    a shacl:PropertyShape ;\n",
    "    shacl:path schema:polygon ;\n",
    "    shacl:message \"The polygon string must have the first and last items are the same\"@en ;\n",
    "    shacl:maxCount 1 ;\n",
    "    shacl:description \"https://foo.org\" ;\n",
    "\t  shacl:pattern \"^(\\\\d+)\\\\s+(\\\\d+)(?:\\\\s+\\\\d+)+\\\\s+\\\\1$\" ;\n",
    "    .\n",
    "\"\"\""
   ]
  },
  {
   "cell_type": "code",
   "execution_count": 15,
   "metadata": {
    "ExecuteTime": {
     "end_time": "2023-12-12T13:15:53.343227081Z",
     "start_time": "2023-12-12T13:15:53.338142030Z"
    },
    "id": "OuXwU0hsmXAz"
   },
   "outputs": [],
   "source": [
    "# force check the presence of WKT\n",
    "\n",
    "geoSPARQL = R\"\"\"\n",
    "@prefix schema: <https://schema.org/> .\n",
    "@prefix rdf: <http://www.w3.org/1999/02/22-rdf-syntax-ns#> .\n",
    "@prefix shacl: <http://www.w3.org/ns/shacl#> .\n",
    "@prefix oihval: <https://oceans.collaborium.io/voc/validation/1.0.1/shacl#> .\n",
    "@prefix xsd: <http://www.w3.org/2001/XMLSchema#> .\n",
    "@prefix geosparql: <http://www.opengis.net/ont/geosparql#> .\n",
    "\n",
    "oihval:DatasetCommonShape\n",
    "    a shacl:NodeShape ;\n",
    "    shacl:targetClass  schema:Dataset ;\n",
    "    shacl:message \"OIH Resource to Query validation\" ;\n",
    "    shacl:description \"OIH shape guidance\" ;\n",
    "    shacl:property\n",
    "        oihval:pointProperty ;\n",
    "    .\n",
    "\n",
    "oihval:pointProperty\n",
    "    a geosparql:hasGeometry ;\n",
    "    shacl:path geosparql:asWKT  ;\n",
    "    shacl:message \"geoSPARQL POINT needs a WKT entry\"@en ;\n",
    "    shacl:maxCount 1 ;\n",
    "    shacl:description \"https://foo.org\" ; .\n",
    "\n",
    "\n",
    "\n",
    "\"\"\""
   ]
  },
  {
   "cell_type": "code",
   "execution_count": 16,
   "metadata": {
    "ExecuteTime": {
     "end_time": "2023-12-12T13:15:55.607166697Z",
     "start_time": "2023-12-12T13:15:55.603860062Z"
    },
    "id": "MhJbbw8U_5xv"
   },
   "outputs": [],
   "source": [
    "distributionShape = \"\"\"\n",
    "@prefix schema: <https://schema.org/> .\n",
    "@prefix rdf: <http://www.w3.org/1999/02/22-rdf-syntax-ns#> .\n",
    "@prefix shacl: <http://www.w3.org/ns/shacl#> .\n",
    "@prefix oihval: <https://oceans.collaborium.io/voc/validation/1.0.1/shacl#> .\n",
    "\n",
    "oihval:DatasetCommonShape\n",
    "    a shacl:NodeShape ;\n",
    "    shacl:targetClass  schema:Dataset ;\n",
    "    shacl:message \"OIH Resource to Query validation\" ;\n",
    "    shacl:description \"OIH shape guidance\" ;\n",
    "    shacl:property\n",
    "        oihval:urlResourceProperty;\n",
    "    .\n",
    "\n",
    "\n",
    "oihval:urlResourceProperty\n",
    "    a shacl:PropertyShape ;\n",
    "    shacl:path schema:distribution ;\n",
    "    shacl:maxCount 3 ;\n",
    "    shacl:minCount 3 ;\n",
    "    shacl:nodeKind shacl:IRIOrLiteral ;\n",
    "    shacl:severity shacl:Warning ;\n",
    "    shacl:message \"URL missing\"@en ;\n",
    "    shacl:description \"https://foo.org\" ;\n",
    "    .\n",
    "\n",
    "\n",
    "\"\"\""
   ]
  },
  {
   "cell_type": "code",
   "execution_count": 17,
   "metadata": {
    "ExecuteTime": {
     "end_time": "2023-12-12T13:15:58.902672345Z",
     "start_time": "2023-12-12T13:15:58.894208068Z"
    },
    "id": "3G5kN66xMyXq"
   },
   "outputs": [],
   "source": [
    "\n",
    "sparql = \"\"\"\n",
    "PREFIX shacl: <http://www.w3.org/ns/shacl#>\n",
    "\n",
    "SELECT  ?severity  ?constraint ?path ?message (STR(?focus) AS ?focusURL) ?focusType ?path ?value\n",
    "  WHERE {\n",
    "    ?id rdf:type shacl:ValidationResult .\n",
    "    ?id shacl:focusNode ?focus .\n",
    "     OPTIONAL {\n",
    "    ?focus rdf:type ?focusType .\n",
    "   }\n",
    "    ?id shacl:resultMessage ?message .\n",
    "    ?id shacl:resultSeverity ?severity .\n",
    "     OPTIONAL {\n",
    "    ?id shacl:sourceConstraintComponent ?constraint .\n",
    "    }\n",
    "    OPTIONAL {\n",
    "        ?id shacl:resultPath ?path .\n",
    "    }\n",
    "    OPTIONAL {\n",
    "        ?id shacl:value ?value .\n",
    "    }\n",
    "  }\n",
    "\"\"\"\n",
    "\n",
    "\n",
    "\n"
   ]
  },
  {
   "cell_type": "markdown",
   "metadata": {
    "id": "lpIkBnQ027mc"
   },
   "source": [
    "## Loop over all Frames"
   ]
  },
  {
   "cell_type": "code",
   "execution_count": 20,
   "metadata": {
    "ExecuteTime": {
     "end_time": "2023-12-12T13:18:06.799559755Z",
     "start_time": "2023-12-12T13:17:46.882799888Z"
    },
    "id": "jMOvGe_pMpxc"
   },
   "outputs": [
    {
     "name": "stderr",
     "output_type": "stream",
     "text": [
      "100%|██████████| 8/8 [00:19<00:00,  2.48s/it]\n"
     ]
    }
   ],
   "source": [
    "df = pd.DataFrame(columns=[\"severity\", \"constraint\", \"path\", \"message\", \"focusURL\", \"shape\"])\n",
    "m = {\"geoPolygon\": geoPolygon, \"geoShape\": geoShape, \"basicShape\": basicShape, \"connectionShape\": connectionShape, \"identifierShape\": identifierShape, \"personIDShape\": personIDShape, \"licenseShape\": licenseShape, \"distributionShape\": distributionShape}\n",
    "# m = {\"distributionShape\": distributionShape}\n",
    "\n",
    "# m = { \"geoPolygon\": geoPolygon}\n",
    "\n",
    "dfs_to_concat = []  # Create an empty list to store DataFrames\n",
    "\n",
    "for key, value in tqdm(m.items()):\n",
    "  conforms, report_graph, report_text = kg.validate(\n",
    "    shacl_graph=value,\n",
    "    shacl_graph_format=\"ttl\")\n",
    "  # print(report_text)\n",
    "  dfr = report_graph.query_as_df(sparql)\n",
    "  dfr['shape'] = key\n",
    "  dfs_to_concat.append(dfr)  # Append the current_df to the list\n",
    "\n",
    "df = pd.concat(dfs_to_concat, ignore_index=True)\n",
    "\n"
   ]
  },
  {
   "cell_type": "code",
   "execution_count": 21,
   "metadata": {
    "ExecuteTime": {
     "end_time": "2023-12-12T13:18:10.792616452Z",
     "start_time": "2023-12-12T13:18:10.778293373Z"
    },
    "colab": {
     "base_uri": "https://localhost:8080/",
     "height": 363
    },
    "id": "1R9nZr8yWV1A",
    "outputId": "b7bc237d-e09e-4956-be9e-e71f5da82633"
   },
   "outputs": [
    {
     "data": {
      "text/html": [
       "<div>\n",
       "<style scoped>\n",
       "    .dataframe tbody tr th:only-of-type {\n",
       "        vertical-align: middle;\n",
       "    }\n",
       "\n",
       "    .dataframe tbody tr th {\n",
       "        vertical-align: top;\n",
       "    }\n",
       "\n",
       "    .dataframe thead th {\n",
       "        text-align: right;\n",
       "    }\n",
       "</style>\n",
       "<table border=\"1\" class=\"dataframe\">\n",
       "  <thead>\n",
       "    <tr style=\"text-align: right;\">\n",
       "      <th></th>\n",
       "      <th>severity</th>\n",
       "      <th>constraint</th>\n",
       "      <th>path</th>\n",
       "      <th>message</th>\n",
       "      <th>focusURL</th>\n",
       "      <th>value</th>\n",
       "      <th>shape</th>\n",
       "    </tr>\n",
       "  </thead>\n",
       "  <tbody>\n",
       "    <tr>\n",
       "      <th>0</th>\n",
       "      <td>sh:Violation</td>\n",
       "      <td>sh:PatternConstraintComponent</td>\n",
       "      <td>schema:polygon</td>\n",
       "      <td>The polygon string must have the first and las...</td>\n",
       "      <td>https://gleaner.io/xid/genid/cggj3d3k59mc73f1k8jg</td>\n",
       "      <td>{'type': 'Point', 'coordinates': [-127.9697, 5...</td>\n",
       "      <td>geoPolygon</td>\n",
       "    </tr>\n",
       "    <tr>\n",
       "      <th>1</th>\n",
       "      <td>sh:Violation</td>\n",
       "      <td>sh:PatternConstraintComponent</td>\n",
       "      <td>schema:polygon</td>\n",
       "      <td>The polygon string must have the first and las...</td>\n",
       "      <td>https://gleaner.io/xid/genid/cggj4f3k59mc73f1pjc0</td>\n",
       "      <td>{'type': 'Polygon', 'coordinates': [[[-128.057...</td>\n",
       "      <td>geoPolygon</td>\n",
       "    </tr>\n",
       "    <tr>\n",
       "      <th>2</th>\n",
       "      <td>sh:Violation</td>\n",
       "      <td>sh:PatternConstraintComponent</td>\n",
       "      <td>schema:polygon</td>\n",
       "      <td>The string must consists of numeric, space-sep...</td>\n",
       "      <td>https://gleaner.io/xid/genid/cggj3fjk59mc73f1kkug</td>\n",
       "      <td>{'type': 'Polygon', 'coordinates': [[[-63.9925...</td>\n",
       "      <td>geoPolygon</td>\n",
       "    </tr>\n",
       "    <tr>\n",
       "      <th>3</th>\n",
       "      <td>sh:Violation</td>\n",
       "      <td>sh:PatternConstraintComponent</td>\n",
       "      <td>schema:polygon</td>\n",
       "      <td>The string must consists of numeric, space-sep...</td>\n",
       "      <td>https://gleaner.io/xid/genid/cggj3trk59mc73f1mr9g</td>\n",
       "      <td>{'type': 'Point', 'coordinates': [-124.769333,...</td>\n",
       "      <td>geoPolygon</td>\n",
       "    </tr>\n",
       "    <tr>\n",
       "      <th>4</th>\n",
       "      <td>sh:Violation</td>\n",
       "      <td>sh:PatternConstraintComponent</td>\n",
       "      <td>schema:polygon</td>\n",
       "      <td>The polygon string must have the first and las...</td>\n",
       "      <td>https://gleaner.io/xid/genid/cggj4jbk59mc73f1q960</td>\n",
       "      <td>{'type': 'Polygon', 'coordinates': [[[-55.2413...</td>\n",
       "      <td>geoPolygon</td>\n",
       "    </tr>\n",
       "    <tr>\n",
       "      <th>5</th>\n",
       "      <td>sh:Violation</td>\n",
       "      <td>sh:PatternConstraintComponent</td>\n",
       "      <td>schema:polygon</td>\n",
       "      <td>The polygon string must have the first and las...</td>\n",
       "      <td>https://gleaner.io/xid/genid/cggj3drk59mc73f1kc60</td>\n",
       "      <td>{'type': 'Polygon', 'coordinates': [[[-125.223...</td>\n",
       "      <td>geoPolygon</td>\n",
       "    </tr>\n",
       "    <tr>\n",
       "      <th>6</th>\n",
       "      <td>sh:Violation</td>\n",
       "      <td>sh:PatternConstraintComponent</td>\n",
       "      <td>schema:polygon</td>\n",
       "      <td>The string must consists of numeric, space-sep...</td>\n",
       "      <td>https://gleaner.io/xid/genid/cggj4a3k59mc73f1oppg</td>\n",
       "      <td>{'type': 'Polygon', 'coordinates': [[[-66.2641...</td>\n",
       "      <td>geoPolygon</td>\n",
       "    </tr>\n",
       "    <tr>\n",
       "      <th>7</th>\n",
       "      <td>sh:Violation</td>\n",
       "      <td>sh:PatternConstraintComponent</td>\n",
       "      <td>schema:polygon</td>\n",
       "      <td>The polygon string must have the first and las...</td>\n",
       "      <td>https://gleaner.io/xid/genid/cggj4ajk59mc73f1oscg</td>\n",
       "      <td>{'type': 'Polygon', 'coordinates': [[[-55.3782...</td>\n",
       "      <td>geoPolygon</td>\n",
       "    </tr>\n",
       "    <tr>\n",
       "      <th>8</th>\n",
       "      <td>sh:Violation</td>\n",
       "      <td>sh:PatternConstraintComponent</td>\n",
       "      <td>schema:polygon</td>\n",
       "      <td>The string must consists of numeric, space-sep...</td>\n",
       "      <td>https://gleaner.io/xid/genid/cggj47jk59mc73f1ocu0</td>\n",
       "      <td>{'type': 'Point', 'coordinates': [-126.847847,...</td>\n",
       "      <td>geoPolygon</td>\n",
       "    </tr>\n",
       "    <tr>\n",
       "      <th>9</th>\n",
       "      <td>sh:Violation</td>\n",
       "      <td>sh:PatternConstraintComponent</td>\n",
       "      <td>schema:polygon</td>\n",
       "      <td>The polygon string must have the first and las...</td>\n",
       "      <td>https://gleaner.io/xid/genid/cggj433k59mc73f1njq0</td>\n",
       "      <td>{'type': 'Point', 'coordinates': [-129.0823133...</td>\n",
       "      <td>geoPolygon</td>\n",
       "    </tr>\n",
       "  </tbody>\n",
       "</table>\n",
       "</div>"
      ],
      "text/plain": [
       "       severity                     constraint            path  \\\n",
       "0  sh:Violation  sh:PatternConstraintComponent  schema:polygon   \n",
       "1  sh:Violation  sh:PatternConstraintComponent  schema:polygon   \n",
       "2  sh:Violation  sh:PatternConstraintComponent  schema:polygon   \n",
       "3  sh:Violation  sh:PatternConstraintComponent  schema:polygon   \n",
       "4  sh:Violation  sh:PatternConstraintComponent  schema:polygon   \n",
       "5  sh:Violation  sh:PatternConstraintComponent  schema:polygon   \n",
       "6  sh:Violation  sh:PatternConstraintComponent  schema:polygon   \n",
       "7  sh:Violation  sh:PatternConstraintComponent  schema:polygon   \n",
       "8  sh:Violation  sh:PatternConstraintComponent  schema:polygon   \n",
       "9  sh:Violation  sh:PatternConstraintComponent  schema:polygon   \n",
       "\n",
       "                                             message  \\\n",
       "0  The polygon string must have the first and las...   \n",
       "1  The polygon string must have the first and las...   \n",
       "2  The string must consists of numeric, space-sep...   \n",
       "3  The string must consists of numeric, space-sep...   \n",
       "4  The polygon string must have the first and las...   \n",
       "5  The polygon string must have the first and las...   \n",
       "6  The string must consists of numeric, space-sep...   \n",
       "7  The polygon string must have the first and las...   \n",
       "8  The string must consists of numeric, space-sep...   \n",
       "9  The polygon string must have the first and las...   \n",
       "\n",
       "                                            focusURL  \\\n",
       "0  https://gleaner.io/xid/genid/cggj3d3k59mc73f1k8jg   \n",
       "1  https://gleaner.io/xid/genid/cggj4f3k59mc73f1pjc0   \n",
       "2  https://gleaner.io/xid/genid/cggj3fjk59mc73f1kkug   \n",
       "3  https://gleaner.io/xid/genid/cggj3trk59mc73f1mr9g   \n",
       "4  https://gleaner.io/xid/genid/cggj4jbk59mc73f1q960   \n",
       "5  https://gleaner.io/xid/genid/cggj3drk59mc73f1kc60   \n",
       "6  https://gleaner.io/xid/genid/cggj4a3k59mc73f1oppg   \n",
       "7  https://gleaner.io/xid/genid/cggj4ajk59mc73f1oscg   \n",
       "8  https://gleaner.io/xid/genid/cggj47jk59mc73f1ocu0   \n",
       "9  https://gleaner.io/xid/genid/cggj433k59mc73f1njq0   \n",
       "\n",
       "                                               value       shape  \n",
       "0  {'type': 'Point', 'coordinates': [-127.9697, 5...  geoPolygon  \n",
       "1  {'type': 'Polygon', 'coordinates': [[[-128.057...  geoPolygon  \n",
       "2  {'type': 'Polygon', 'coordinates': [[[-63.9925...  geoPolygon  \n",
       "3  {'type': 'Point', 'coordinates': [-124.769333,...  geoPolygon  \n",
       "4  {'type': 'Polygon', 'coordinates': [[[-55.2413...  geoPolygon  \n",
       "5  {'type': 'Polygon', 'coordinates': [[[-125.223...  geoPolygon  \n",
       "6  {'type': 'Polygon', 'coordinates': [[[-66.2641...  geoPolygon  \n",
       "7  {'type': 'Polygon', 'coordinates': [[[-55.3782...  geoPolygon  \n",
       "8  {'type': 'Point', 'coordinates': [-126.847847,...  geoPolygon  \n",
       "9  {'type': 'Point', 'coordinates': [-129.0823133...  geoPolygon  "
      ]
     },
     "execution_count": 21,
     "metadata": {},
     "output_type": "execute_result"
    }
   ],
   "source": [
    "df.head(10)"
   ]
  },
  {
   "cell_type": "code",
   "execution_count": 22,
   "metadata": {
    "ExecuteTime": {
     "end_time": "2023-12-12T13:18:19.852502382Z",
     "start_time": "2023-12-12T13:18:19.829147088Z"
    },
    "id": "teYe0CL5Xjxe"
   },
   "outputs": [],
   "source": [
    "summary = df.groupby([df[\"shape\"]]).count()\n",
    "summary.reset_index(level=0, inplace=True)\n",
    "summary['valid'] = summary['severity'].apply(lambda x: (countsdf[\"count\"].sum()) - x)"
   ]
  },
  {
   "cell_type": "code",
   "execution_count": 23,
   "metadata": {
    "ExecuteTime": {
     "end_time": "2023-12-12T13:18:21.346730070Z",
     "start_time": "2023-12-12T13:18:21.316729893Z"
    },
    "colab": {
     "base_uri": "https://localhost:8080/",
     "height": 269
    },
    "id": "f80kv6ATzaWh",
    "outputId": "925c5eca-b2be-4db2-885c-c8faef4a79dd"
   },
   "outputs": [
    {
     "data": {
      "text/html": [
       "<div>\n",
       "<style scoped>\n",
       "    .dataframe tbody tr th:only-of-type {\n",
       "        vertical-align: middle;\n",
       "    }\n",
       "\n",
       "    .dataframe tbody tr th {\n",
       "        vertical-align: top;\n",
       "    }\n",
       "\n",
       "    .dataframe thead th {\n",
       "        text-align: right;\n",
       "    }\n",
       "</style>\n",
       "<table border=\"1\" class=\"dataframe\">\n",
       "  <thead>\n",
       "    <tr style=\"text-align: right;\">\n",
       "      <th></th>\n",
       "      <th>shape</th>\n",
       "      <th>severity</th>\n",
       "      <th>constraint</th>\n",
       "      <th>path</th>\n",
       "      <th>message</th>\n",
       "      <th>focusURL</th>\n",
       "      <th>value</th>\n",
       "      <th>valid</th>\n",
       "    </tr>\n",
       "  </thead>\n",
       "  <tbody>\n",
       "    <tr>\n",
       "      <th>0</th>\n",
       "      <td>basicShape</td>\n",
       "      <td>3513</td>\n",
       "      <td>3513</td>\n",
       "      <td>3513</td>\n",
       "      <td>3513</td>\n",
       "      <td>3513</td>\n",
       "      <td>0</td>\n",
       "      <td>2015</td>\n",
       "    </tr>\n",
       "    <tr>\n",
       "      <th>1</th>\n",
       "      <td>connectionShape</td>\n",
       "      <td>3510</td>\n",
       "      <td>3510</td>\n",
       "      <td>3510</td>\n",
       "      <td>3510</td>\n",
       "      <td>3510</td>\n",
       "      <td>0</td>\n",
       "      <td>2018</td>\n",
       "    </tr>\n",
       "    <tr>\n",
       "      <th>2</th>\n",
       "      <td>distributionShape</td>\n",
       "      <td>1855</td>\n",
       "      <td>1855</td>\n",
       "      <td>1855</td>\n",
       "      <td>1855</td>\n",
       "      <td>1855</td>\n",
       "      <td>0</td>\n",
       "      <td>3673</td>\n",
       "    </tr>\n",
       "    <tr>\n",
       "      <th>3</th>\n",
       "      <td>geoPolygon</td>\n",
       "      <td>4076</td>\n",
       "      <td>4076</td>\n",
       "      <td>4076</td>\n",
       "      <td>4076</td>\n",
       "      <td>4076</td>\n",
       "      <td>4076</td>\n",
       "      <td>1452</td>\n",
       "    </tr>\n",
       "    <tr>\n",
       "      <th>4</th>\n",
       "      <td>geoShape</td>\n",
       "      <td>523</td>\n",
       "      <td>523</td>\n",
       "      <td>523</td>\n",
       "      <td>523</td>\n",
       "      <td>523</td>\n",
       "      <td>0</td>\n",
       "      <td>5005</td>\n",
       "    </tr>\n",
       "    <tr>\n",
       "      <th>5</th>\n",
       "      <td>identifierShape</td>\n",
       "      <td>4878</td>\n",
       "      <td>4878</td>\n",
       "      <td>4878</td>\n",
       "      <td>4878</td>\n",
       "      <td>4878</td>\n",
       "      <td>0</td>\n",
       "      <td>650</td>\n",
       "    </tr>\n",
       "    <tr>\n",
       "      <th>6</th>\n",
       "      <td>personIDShape</td>\n",
       "      <td>1372</td>\n",
       "      <td>1372</td>\n",
       "      <td>1372</td>\n",
       "      <td>1372</td>\n",
       "      <td>1372</td>\n",
       "      <td>0</td>\n",
       "      <td>4156</td>\n",
       "    </tr>\n",
       "  </tbody>\n",
       "</table>\n",
       "</div>"
      ],
      "text/plain": [
       "               shape  severity  constraint  path  message  focusURL  value  \\\n",
       "0         basicShape      3513        3513  3513     3513      3513      0   \n",
       "1    connectionShape      3510        3510  3510     3510      3510      0   \n",
       "2  distributionShape      1855        1855  1855     1855      1855      0   \n",
       "3         geoPolygon      4076        4076  4076     4076      4076   4076   \n",
       "4           geoShape       523         523   523      523       523      0   \n",
       "5    identifierShape      4878        4878  4878     4878      4878      0   \n",
       "6      personIDShape      1372        1372  1372     1372      1372      0   \n",
       "\n",
       "   valid  \n",
       "0   2015  \n",
       "1   2018  \n",
       "2   3673  \n",
       "3   1452  \n",
       "4   5005  \n",
       "5    650  \n",
       "6   4156  "
      ]
     },
     "execution_count": 23,
     "metadata": {},
     "output_type": "execute_result"
    }
   ],
   "source": [
    "summary.head(20)"
   ]
  },
  {
   "cell_type": "code",
   "execution_count": 27,
   "metadata": {
    "ExecuteTime": {
     "end_time": "2023-12-12T13:21:19.319103580Z",
     "start_time": "2023-12-12T13:21:19.277623073Z"
    },
    "colab": {
     "base_uri": "https://localhost:8080/",
     "height": 542
    },
    "id": "fHXa9qSGYHv8",
    "outputId": "28821a0e-b4f5-4ca5-b58a-f1ff8fe20d08"
   },
   "outputs": [
    {
     "data": {
      "application/vnd.plotly.v1+json": {
       "config": {
        "plotlyServerURL": "https://plot.ly"
       },
       "data": [
        {
         "fill": "toself",
         "hovertemplate": "r=%{r}<br>theta=%{theta}<extra></extra>",
         "legendgroup": "",
         "line": {
          "color": "#636efa",
          "dash": "solid"
         },
         "marker": {
          "symbol": "circle"
         },
         "mode": "lines",
         "name": "",
         "r": [
          3513,
          3510,
          1855,
          4076,
          523,
          4878,
          1372,
          3513
         ],
         "showlegend": false,
         "subplot": "polar",
         "theta": [
          "basicShape",
          "connectionShape",
          "distributionShape",
          "geoPolygon",
          "geoShape",
          "identifierShape",
          "personIDShape",
          "basicShape"
         ],
         "type": "scatterpolar"
        }
       ],
       "layout": {
        "autosize": true,
        "legend": {
         "tracegroupgap": 0
        },
        "margin": {
         "t": 60
        },
        "polar": {
         "angularaxis": {
          "direction": "clockwise",
          "rotation": 90,
          "type": "category"
         },
         "domain": {
          "x": [
           0,
           1
          ],
          "y": [
           0,
           1
          ]
         },
         "radialaxis": {
          "autorange": false,
          "range": [
           0,
           4878
          ],
          "type": "linear",
          "visible": true
         }
        },
        "showlegend": true,
        "template": {
         "data": {
          "bar": [
           {
            "error_x": {
             "color": "#2a3f5f"
            },
            "error_y": {
             "color": "#2a3f5f"
            },
            "marker": {
             "line": {
              "color": "#E5ECF6",
              "width": 0.5
             },
             "pattern": {
              "fillmode": "overlay",
              "size": 10,
              "solidity": 0.2
             }
            },
            "type": "bar"
           }
          ],
          "barpolar": [
           {
            "marker": {
             "line": {
              "color": "#E5ECF6",
              "width": 0.5
             },
             "pattern": {
              "fillmode": "overlay",
              "size": 10,
              "solidity": 0.2
             }
            },
            "type": "barpolar"
           }
          ],
          "carpet": [
           {
            "aaxis": {
             "endlinecolor": "#2a3f5f",
             "gridcolor": "white",
             "linecolor": "white",
             "minorgridcolor": "white",
             "startlinecolor": "#2a3f5f"
            },
            "baxis": {
             "endlinecolor": "#2a3f5f",
             "gridcolor": "white",
             "linecolor": "white",
             "minorgridcolor": "white",
             "startlinecolor": "#2a3f5f"
            },
            "type": "carpet"
           }
          ],
          "choropleth": [
           {
            "colorbar": {
             "outlinewidth": 0,
             "ticks": ""
            },
            "type": "choropleth"
           }
          ],
          "contour": [
           {
            "colorbar": {
             "outlinewidth": 0,
             "ticks": ""
            },
            "colorscale": [
             [
              0,
              "#0d0887"
             ],
             [
              0.1111111111111111,
              "#46039f"
             ],
             [
              0.2222222222222222,
              "#7201a8"
             ],
             [
              0.3333333333333333,
              "#9c179e"
             ],
             [
              0.4444444444444444,
              "#bd3786"
             ],
             [
              0.5555555555555556,
              "#d8576b"
             ],
             [
              0.6666666666666666,
              "#ed7953"
             ],
             [
              0.7777777777777778,
              "#fb9f3a"
             ],
             [
              0.8888888888888888,
              "#fdca26"
             ],
             [
              1,
              "#f0f921"
             ]
            ],
            "type": "contour"
           }
          ],
          "contourcarpet": [
           {
            "colorbar": {
             "outlinewidth": 0,
             "ticks": ""
            },
            "type": "contourcarpet"
           }
          ],
          "heatmap": [
           {
            "colorbar": {
             "outlinewidth": 0,
             "ticks": ""
            },
            "colorscale": [
             [
              0,
              "#0d0887"
             ],
             [
              0.1111111111111111,
              "#46039f"
             ],
             [
              0.2222222222222222,
              "#7201a8"
             ],
             [
              0.3333333333333333,
              "#9c179e"
             ],
             [
              0.4444444444444444,
              "#bd3786"
             ],
             [
              0.5555555555555556,
              "#d8576b"
             ],
             [
              0.6666666666666666,
              "#ed7953"
             ],
             [
              0.7777777777777778,
              "#fb9f3a"
             ],
             [
              0.8888888888888888,
              "#fdca26"
             ],
             [
              1,
              "#f0f921"
             ]
            ],
            "type": "heatmap"
           }
          ],
          "heatmapgl": [
           {
            "colorbar": {
             "outlinewidth": 0,
             "ticks": ""
            },
            "colorscale": [
             [
              0,
              "#0d0887"
             ],
             [
              0.1111111111111111,
              "#46039f"
             ],
             [
              0.2222222222222222,
              "#7201a8"
             ],
             [
              0.3333333333333333,
              "#9c179e"
             ],
             [
              0.4444444444444444,
              "#bd3786"
             ],
             [
              0.5555555555555556,
              "#d8576b"
             ],
             [
              0.6666666666666666,
              "#ed7953"
             ],
             [
              0.7777777777777778,
              "#fb9f3a"
             ],
             [
              0.8888888888888888,
              "#fdca26"
             ],
             [
              1,
              "#f0f921"
             ]
            ],
            "type": "heatmapgl"
           }
          ],
          "histogram": [
           {
            "marker": {
             "pattern": {
              "fillmode": "overlay",
              "size": 10,
              "solidity": 0.2
             }
            },
            "type": "histogram"
           }
          ],
          "histogram2d": [
           {
            "colorbar": {
             "outlinewidth": 0,
             "ticks": ""
            },
            "colorscale": [
             [
              0,
              "#0d0887"
             ],
             [
              0.1111111111111111,
              "#46039f"
             ],
             [
              0.2222222222222222,
              "#7201a8"
             ],
             [
              0.3333333333333333,
              "#9c179e"
             ],
             [
              0.4444444444444444,
              "#bd3786"
             ],
             [
              0.5555555555555556,
              "#d8576b"
             ],
             [
              0.6666666666666666,
              "#ed7953"
             ],
             [
              0.7777777777777778,
              "#fb9f3a"
             ],
             [
              0.8888888888888888,
              "#fdca26"
             ],
             [
              1,
              "#f0f921"
             ]
            ],
            "type": "histogram2d"
           }
          ],
          "histogram2dcontour": [
           {
            "colorbar": {
             "outlinewidth": 0,
             "ticks": ""
            },
            "colorscale": [
             [
              0,
              "#0d0887"
             ],
             [
              0.1111111111111111,
              "#46039f"
             ],
             [
              0.2222222222222222,
              "#7201a8"
             ],
             [
              0.3333333333333333,
              "#9c179e"
             ],
             [
              0.4444444444444444,
              "#bd3786"
             ],
             [
              0.5555555555555556,
              "#d8576b"
             ],
             [
              0.6666666666666666,
              "#ed7953"
             ],
             [
              0.7777777777777778,
              "#fb9f3a"
             ],
             [
              0.8888888888888888,
              "#fdca26"
             ],
             [
              1,
              "#f0f921"
             ]
            ],
            "type": "histogram2dcontour"
           }
          ],
          "mesh3d": [
           {
            "colorbar": {
             "outlinewidth": 0,
             "ticks": ""
            },
            "type": "mesh3d"
           }
          ],
          "parcoords": [
           {
            "line": {
             "colorbar": {
              "outlinewidth": 0,
              "ticks": ""
             }
            },
            "type": "parcoords"
           }
          ],
          "pie": [
           {
            "automargin": true,
            "type": "pie"
           }
          ],
          "scatter": [
           {
            "fillpattern": {
             "fillmode": "overlay",
             "size": 10,
             "solidity": 0.2
            },
            "type": "scatter"
           }
          ],
          "scatter3d": [
           {
            "line": {
             "colorbar": {
              "outlinewidth": 0,
              "ticks": ""
             }
            },
            "marker": {
             "colorbar": {
              "outlinewidth": 0,
              "ticks": ""
             }
            },
            "type": "scatter3d"
           }
          ],
          "scattercarpet": [
           {
            "marker": {
             "colorbar": {
              "outlinewidth": 0,
              "ticks": ""
             }
            },
            "type": "scattercarpet"
           }
          ],
          "scattergeo": [
           {
            "marker": {
             "colorbar": {
              "outlinewidth": 0,
              "ticks": ""
             }
            },
            "type": "scattergeo"
           }
          ],
          "scattergl": [
           {
            "marker": {
             "colorbar": {
              "outlinewidth": 0,
              "ticks": ""
             }
            },
            "type": "scattergl"
           }
          ],
          "scattermapbox": [
           {
            "marker": {
             "colorbar": {
              "outlinewidth": 0,
              "ticks": ""
             }
            },
            "type": "scattermapbox"
           }
          ],
          "scatterpolar": [
           {
            "marker": {
             "colorbar": {
              "outlinewidth": 0,
              "ticks": ""
             }
            },
            "type": "scatterpolar"
           }
          ],
          "scatterpolargl": [
           {
            "marker": {
             "colorbar": {
              "outlinewidth": 0,
              "ticks": ""
             }
            },
            "type": "scatterpolargl"
           }
          ],
          "scatterternary": [
           {
            "marker": {
             "colorbar": {
              "outlinewidth": 0,
              "ticks": ""
             }
            },
            "type": "scatterternary"
           }
          ],
          "surface": [
           {
            "colorbar": {
             "outlinewidth": 0,
             "ticks": ""
            },
            "colorscale": [
             [
              0,
              "#0d0887"
             ],
             [
              0.1111111111111111,
              "#46039f"
             ],
             [
              0.2222222222222222,
              "#7201a8"
             ],
             [
              0.3333333333333333,
              "#9c179e"
             ],
             [
              0.4444444444444444,
              "#bd3786"
             ],
             [
              0.5555555555555556,
              "#d8576b"
             ],
             [
              0.6666666666666666,
              "#ed7953"
             ],
             [
              0.7777777777777778,
              "#fb9f3a"
             ],
             [
              0.8888888888888888,
              "#fdca26"
             ],
             [
              1,
              "#f0f921"
             ]
            ],
            "type": "surface"
           }
          ],
          "table": [
           {
            "cells": {
             "fill": {
              "color": "#EBF0F8"
             },
             "line": {
              "color": "white"
             }
            },
            "header": {
             "fill": {
              "color": "#C8D4E3"
             },
             "line": {
              "color": "white"
             }
            },
            "type": "table"
           }
          ]
         },
         "layout": {
          "annotationdefaults": {
           "arrowcolor": "#2a3f5f",
           "arrowhead": 0,
           "arrowwidth": 1
          },
          "autotypenumbers": "strict",
          "coloraxis": {
           "colorbar": {
            "outlinewidth": 0,
            "ticks": ""
           }
          },
          "colorscale": {
           "diverging": [
            [
             0,
             "#8e0152"
            ],
            [
             0.1,
             "#c51b7d"
            ],
            [
             0.2,
             "#de77ae"
            ],
            [
             0.3,
             "#f1b6da"
            ],
            [
             0.4,
             "#fde0ef"
            ],
            [
             0.5,
             "#f7f7f7"
            ],
            [
             0.6,
             "#e6f5d0"
            ],
            [
             0.7,
             "#b8e186"
            ],
            [
             0.8,
             "#7fbc41"
            ],
            [
             0.9,
             "#4d9221"
            ],
            [
             1,
             "#276419"
            ]
           ],
           "sequential": [
            [
             0,
             "#0d0887"
            ],
            [
             0.1111111111111111,
             "#46039f"
            ],
            [
             0.2222222222222222,
             "#7201a8"
            ],
            [
             0.3333333333333333,
             "#9c179e"
            ],
            [
             0.4444444444444444,
             "#bd3786"
            ],
            [
             0.5555555555555556,
             "#d8576b"
            ],
            [
             0.6666666666666666,
             "#ed7953"
            ],
            [
             0.7777777777777778,
             "#fb9f3a"
            ],
            [
             0.8888888888888888,
             "#fdca26"
            ],
            [
             1,
             "#f0f921"
            ]
           ],
           "sequentialminus": [
            [
             0,
             "#0d0887"
            ],
            [
             0.1111111111111111,
             "#46039f"
            ],
            [
             0.2222222222222222,
             "#7201a8"
            ],
            [
             0.3333333333333333,
             "#9c179e"
            ],
            [
             0.4444444444444444,
             "#bd3786"
            ],
            [
             0.5555555555555556,
             "#d8576b"
            ],
            [
             0.6666666666666666,
             "#ed7953"
            ],
            [
             0.7777777777777778,
             "#fb9f3a"
            ],
            [
             0.8888888888888888,
             "#fdca26"
            ],
            [
             1,
             "#f0f921"
            ]
           ]
          },
          "colorway": [
           "#636efa",
           "#EF553B",
           "#00cc96",
           "#ab63fa",
           "#FFA15A",
           "#19d3f3",
           "#FF6692",
           "#B6E880",
           "#FF97FF",
           "#FECB52"
          ],
          "font": {
           "color": "#2a3f5f"
          },
          "geo": {
           "bgcolor": "white",
           "lakecolor": "white",
           "landcolor": "#E5ECF6",
           "showlakes": true,
           "showland": true,
           "subunitcolor": "white"
          },
          "hoverlabel": {
           "align": "left"
          },
          "hovermode": "closest",
          "mapbox": {
           "style": "light"
          },
          "paper_bgcolor": "white",
          "plot_bgcolor": "#E5ECF6",
          "polar": {
           "angularaxis": {
            "gridcolor": "white",
            "linecolor": "white",
            "ticks": ""
           },
           "bgcolor": "#E5ECF6",
           "radialaxis": {
            "gridcolor": "white",
            "linecolor": "white",
            "ticks": ""
           }
          },
          "scene": {
           "xaxis": {
            "backgroundcolor": "#E5ECF6",
            "gridcolor": "white",
            "gridwidth": 2,
            "linecolor": "white",
            "showbackground": true,
            "ticks": "",
            "zerolinecolor": "white"
           },
           "yaxis": {
            "backgroundcolor": "#E5ECF6",
            "gridcolor": "white",
            "gridwidth": 2,
            "linecolor": "white",
            "showbackground": true,
            "ticks": "",
            "zerolinecolor": "white"
           },
           "zaxis": {
            "backgroundcolor": "#E5ECF6",
            "gridcolor": "white",
            "gridwidth": 2,
            "linecolor": "white",
            "showbackground": true,
            "ticks": "",
            "zerolinecolor": "white"
           }
          },
          "shapedefaults": {
           "line": {
            "color": "#2a3f5f"
           }
          },
          "ternary": {
           "aaxis": {
            "gridcolor": "white",
            "linecolor": "white",
            "ticks": ""
           },
           "baxis": {
            "gridcolor": "white",
            "linecolor": "white",
            "ticks": ""
           },
           "bgcolor": "#E5ECF6",
           "caxis": {
            "gridcolor": "white",
            "linecolor": "white",
            "ticks": ""
           }
          },
          "title": {
           "x": 0.05
          },
          "xaxis": {
           "automargin": true,
           "gridcolor": "white",
           "linecolor": "white",
           "ticks": "",
           "title": {
            "standoff": 15
           },
           "zerolinecolor": "white",
           "zerolinewidth": 2
          },
          "yaxis": {
           "automargin": true,
           "gridcolor": "white",
           "linecolor": "white",
           "ticks": "",
           "title": {
            "standoff": 15
           },
           "zerolinecolor": "white",
           "zerolinewidth": 2
          }
         }
        },
        "title": {
         "text": "Shape Validation Summary (Closer to center is better)"
        }
       }
      },
      "image/png": "[encoded data removed]",
      "text/html": [
       "<div>                            <div id=\"d3af3abc-d875-4e8a-a1d2-f61b781a91b2\" class=\"plotly-graph-div\" style=\"height:525px; width:100%;\"></div>            <script type=\"text/javascript\">                require([\"plotly\"], function(Plotly) {                    window.PLOTLYENV=window.PLOTLYENV || {};                                    if (document.getElementById(\"d3af3abc-d875-4e8a-a1d2-f61b781a91b2\")) {                    Plotly.newPlot(                        \"d3af3abc-d875-4e8a-a1d2-f61b781a91b2\",                        [{\"hovertemplate\":\"r=%{r}<br>theta=%{theta}<extra></extra>\",\"legendgroup\":\"\",\"line\":{\"color\":\"#636efa\",\"dash\":\"solid\"},\"marker\":{\"symbol\":\"circle\"},\"mode\":\"lines\",\"name\":\"\",\"r\":[3513,3510,1855,4076,523,4878,1372,3513],\"showlegend\":false,\"subplot\":\"polar\",\"theta\":[\"basicShape\",\"connectionShape\",\"distributionShape\",\"geoPolygon\",\"geoShape\",\"identifierShape\",\"personIDShape\",\"basicShape\"],\"type\":\"scatterpolar\",\"fill\":\"toself\"}],                        {\"template\":{\"data\":{\"histogram2dcontour\":[{\"type\":\"histogram2dcontour\",\"colorbar\":{\"outlinewidth\":0,\"ticks\":\"\"},\"colorscale\":[[0.0,\"#0d0887\"],[0.1111111111111111,\"#46039f\"],[0.2222222222222222,\"#7201a8\"],[0.3333333333333333,\"#9c179e\"],[0.4444444444444444,\"#bd3786\"],[0.5555555555555556,\"#d8576b\"],[0.6666666666666666,\"#ed7953\"],[0.7777777777777778,\"#fb9f3a\"],[0.8888888888888888,\"#fdca26\"],[1.0,\"#f0f921\"]]}],\"choropleth\":[{\"type\":\"choropleth\",\"colorbar\":{\"outlinewidth\":0,\"ticks\":\"\"}}],\"histogram2d\":[{\"type\":\"histogram2d\",\"colorbar\":{\"outlinewidth\":0,\"ticks\":\"\"},\"colorscale\":[[0.0,\"#0d0887\"],[0.1111111111111111,\"#46039f\"],[0.2222222222222222,\"#7201a8\"],[0.3333333333333333,\"#9c179e\"],[0.4444444444444444,\"#bd3786\"],[0.5555555555555556,\"#d8576b\"],[0.6666666666666666,\"#ed7953\"],[0.7777777777777778,\"#fb9f3a\"],[0.8888888888888888,\"#fdca26\"],[1.0,\"#f0f921\"]]}],\"heatmap\":[{\"type\":\"heatmap\",\"colorbar\":{\"outlinewidth\":0,\"ticks\":\"\"},\"colorscale\":[[0.0,\"#0d0887\"],[0.1111111111111111,\"#46039f\"],[0.2222222222222222,\"#7201a8\"],[0.3333333333333333,\"#9c179e\"],[0.4444444444444444,\"#bd3786\"],[0.5555555555555556,\"#d8576b\"],[0.6666666666666666,\"#ed7953\"],[0.7777777777777778,\"#fb9f3a\"],[0.8888888888888888,\"#fdca26\"],[1.0,\"#f0f921\"]]}],\"heatmapgl\":[{\"type\":\"heatmapgl\",\"colorbar\":{\"outlinewidth\":0,\"ticks\":\"\"},\"colorscale\":[[0.0,\"#0d0887\"],[0.1111111111111111,\"#46039f\"],[0.2222222222222222,\"#7201a8\"],[0.3333333333333333,\"#9c179e\"],[0.4444444444444444,\"#bd3786\"],[0.5555555555555556,\"#d8576b\"],[0.6666666666666666,\"#ed7953\"],[0.7777777777777778,\"#fb9f3a\"],[0.8888888888888888,\"#fdca26\"],[1.0,\"#f0f921\"]]}],\"contourcarpet\":[{\"type\":\"contourcarpet\",\"colorbar\":{\"outlinewidth\":0,\"ticks\":\"\"}}],\"contour\":[{\"type\":\"contour\",\"colorbar\":{\"outlinewidth\":0,\"ticks\":\"\"},\"colorscale\":[[0.0,\"#0d0887\"],[0.1111111111111111,\"#46039f\"],[0.2222222222222222,\"#7201a8\"],[0.3333333333333333,\"#9c179e\"],[0.4444444444444444,\"#bd3786\"],[0.5555555555555556,\"#d8576b\"],[0.6666666666666666,\"#ed7953\"],[0.7777777777777778,\"#fb9f3a\"],[0.8888888888888888,\"#fdca26\"],[1.0,\"#f0f921\"]]}],\"surface\":[{\"type\":\"surface\",\"colorbar\":{\"outlinewidth\":0,\"ticks\":\"\"},\"colorscale\":[[0.0,\"#0d0887\"],[0.1111111111111111,\"#46039f\"],[0.2222222222222222,\"#7201a8\"],[0.3333333333333333,\"#9c179e\"],[0.4444444444444444,\"#bd3786\"],[0.5555555555555556,\"#d8576b\"],[0.6666666666666666,\"#ed7953\"],[0.7777777777777778,\"#fb9f3a\"],[0.8888888888888888,\"#fdca26\"],[1.0,\"#f0f921\"]]}],\"mesh3d\":[{\"type\":\"mesh3d\",\"colorbar\":{\"outlinewidth\":0,\"ticks\":\"\"}}],\"scatter\":[{\"fillpattern\":{\"fillmode\":\"overlay\",\"size\":10,\"solidity\":0.2},\"type\":\"scatter\"}],\"parcoords\":[{\"type\":\"parcoords\",\"line\":{\"colorbar\":{\"outlinewidth\":0,\"ticks\":\"\"}}}],\"scatterpolargl\":[{\"type\":\"scatterpolargl\",\"marker\":{\"colorbar\":{\"outlinewidth\":0,\"ticks\":\"\"}}}],\"bar\":[{\"error_x\":{\"color\":\"#2a3f5f\"},\"error_y\":{\"color\":\"#2a3f5f\"},\"marker\":{\"line\":{\"color\":\"#E5ECF6\",\"width\":0.5},\"pattern\":{\"fillmode\":\"overlay\",\"size\":10,\"solidity\":0.2}},\"type\":\"bar\"}],\"scattergeo\":[{\"type\":\"scattergeo\",\"marker\":{\"colorbar\":{\"outlinewidth\":0,\"ticks\":\"\"}}}],\"scatterpolar\":[{\"type\":\"scatterpolar\",\"marker\":{\"colorbar\":{\"outlinewidth\":0,\"ticks\":\"\"}}}],\"histogram\":[{\"marker\":{\"pattern\":{\"fillmode\":\"overlay\",\"size\":10,\"solidity\":0.2}},\"type\":\"histogram\"}],\"scattergl\":[{\"type\":\"scattergl\",\"marker\":{\"colorbar\":{\"outlinewidth\":0,\"ticks\":\"\"}}}],\"scatter3d\":[{\"type\":\"scatter3d\",\"line\":{\"colorbar\":{\"outlinewidth\":0,\"ticks\":\"\"}},\"marker\":{\"colorbar\":{\"outlinewidth\":0,\"ticks\":\"\"}}}],\"scattermapbox\":[{\"type\":\"scattermapbox\",\"marker\":{\"colorbar\":{\"outlinewidth\":0,\"ticks\":\"\"}}}],\"scatterternary\":[{\"type\":\"scatterternary\",\"marker\":{\"colorbar\":{\"outlinewidth\":0,\"ticks\":\"\"}}}],\"scattercarpet\":[{\"type\":\"scattercarpet\",\"marker\":{\"colorbar\":{\"outlinewidth\":0,\"ticks\":\"\"}}}],\"carpet\":[{\"aaxis\":{\"endlinecolor\":\"#2a3f5f\",\"gridcolor\":\"white\",\"linecolor\":\"white\",\"minorgridcolor\":\"white\",\"startlinecolor\":\"#2a3f5f\"},\"baxis\":{\"endlinecolor\":\"#2a3f5f\",\"gridcolor\":\"white\",\"linecolor\":\"white\",\"minorgridcolor\":\"white\",\"startlinecolor\":\"#2a3f5f\"},\"type\":\"carpet\"}],\"table\":[{\"cells\":{\"fill\":{\"color\":\"#EBF0F8\"},\"line\":{\"color\":\"white\"}},\"header\":{\"fill\":{\"color\":\"#C8D4E3\"},\"line\":{\"color\":\"white\"}},\"type\":\"table\"}],\"barpolar\":[{\"marker\":{\"line\":{\"color\":\"#E5ECF6\",\"width\":0.5},\"pattern\":{\"fillmode\":\"overlay\",\"size\":10,\"solidity\":0.2}},\"type\":\"barpolar\"}],\"pie\":[{\"automargin\":true,\"type\":\"pie\"}]},\"layout\":{\"autotypenumbers\":\"strict\",\"colorway\":[\"#636efa\",\"#EF553B\",\"#00cc96\",\"#ab63fa\",\"#FFA15A\",\"#19d3f3\",\"#FF6692\",\"#B6E880\",\"#FF97FF\",\"#FECB52\"],\"font\":{\"color\":\"#2a3f5f\"},\"hovermode\":\"closest\",\"hoverlabel\":{\"align\":\"left\"},\"paper_bgcolor\":\"white\",\"plot_bgcolor\":\"#E5ECF6\",\"polar\":{\"bgcolor\":\"#E5ECF6\",\"angularaxis\":{\"gridcolor\":\"white\",\"linecolor\":\"white\",\"ticks\":\"\"},\"radialaxis\":{\"gridcolor\":\"white\",\"linecolor\":\"white\",\"ticks\":\"\"}},\"ternary\":{\"bgcolor\":\"#E5ECF6\",\"aaxis\":{\"gridcolor\":\"white\",\"linecolor\":\"white\",\"ticks\":\"\"},\"baxis\":{\"gridcolor\":\"white\",\"linecolor\":\"white\",\"ticks\":\"\"},\"caxis\":{\"gridcolor\":\"white\",\"linecolor\":\"white\",\"ticks\":\"\"}},\"coloraxis\":{\"colorbar\":{\"outlinewidth\":0,\"ticks\":\"\"}},\"colorscale\":{\"sequential\":[[0.0,\"#0d0887\"],[0.1111111111111111,\"#46039f\"],[0.2222222222222222,\"#7201a8\"],[0.3333333333333333,\"#9c179e\"],[0.4444444444444444,\"#bd3786\"],[0.5555555555555556,\"#d8576b\"],[0.6666666666666666,\"#ed7953\"],[0.7777777777777778,\"#fb9f3a\"],[0.8888888888888888,\"#fdca26\"],[1.0,\"#f0f921\"]],\"sequentialminus\":[[0.0,\"#0d0887\"],[0.1111111111111111,\"#46039f\"],[0.2222222222222222,\"#7201a8\"],[0.3333333333333333,\"#9c179e\"],[0.4444444444444444,\"#bd3786\"],[0.5555555555555556,\"#d8576b\"],[0.6666666666666666,\"#ed7953\"],[0.7777777777777778,\"#fb9f3a\"],[0.8888888888888888,\"#fdca26\"],[1.0,\"#f0f921\"]],\"diverging\":[[0,\"#8e0152\"],[0.1,\"#c51b7d\"],[0.2,\"#de77ae\"],[0.3,\"#f1b6da\"],[0.4,\"#fde0ef\"],[0.5,\"#f7f7f7\"],[0.6,\"#e6f5d0\"],[0.7,\"#b8e186\"],[0.8,\"#7fbc41\"],[0.9,\"#4d9221\"],[1,\"#276419\"]]},\"xaxis\":{\"gridcolor\":\"white\",\"linecolor\":\"white\",\"ticks\":\"\",\"title\":{\"standoff\":15},\"zerolinecolor\":\"white\",\"automargin\":true,\"zerolinewidth\":2},\"yaxis\":{\"gridcolor\":\"white\",\"linecolor\":\"white\",\"ticks\":\"\",\"title\":{\"standoff\":15},\"zerolinecolor\":\"white\",\"automargin\":true,\"zerolinewidth\":2},\"scene\":{\"xaxis\":{\"backgroundcolor\":\"#E5ECF6\",\"gridcolor\":\"white\",\"linecolor\":\"white\",\"showbackground\":true,\"ticks\":\"\",\"zerolinecolor\":\"white\",\"gridwidth\":2},\"yaxis\":{\"backgroundcolor\":\"#E5ECF6\",\"gridcolor\":\"white\",\"linecolor\":\"white\",\"showbackground\":true,\"ticks\":\"\",\"zerolinecolor\":\"white\",\"gridwidth\":2},\"zaxis\":{\"backgroundcolor\":\"#E5ECF6\",\"gridcolor\":\"white\",\"linecolor\":\"white\",\"showbackground\":true,\"ticks\":\"\",\"zerolinecolor\":\"white\",\"gridwidth\":2}},\"shapedefaults\":{\"line\":{\"color\":\"#2a3f5f\"}},\"annotationdefaults\":{\"arrowcolor\":\"#2a3f5f\",\"arrowhead\":0,\"arrowwidth\":1},\"geo\":{\"bgcolor\":\"white\",\"landcolor\":\"#E5ECF6\",\"subunitcolor\":\"white\",\"showland\":true,\"showlakes\":true,\"lakecolor\":\"white\"},\"title\":{\"x\":0.05},\"mapbox\":{\"style\":\"light\"}}},\"polar\":{\"domain\":{\"x\":[0.0,1.0],\"y\":[0.0,1.0]},\"angularaxis\":{\"direction\":\"clockwise\",\"rotation\":90},\"radialaxis\":{\"visible\":true,\"range\":[0,4878]}},\"legend\":{\"tracegroupgap\":0},\"margin\":{\"t\":60},\"showlegend\":true,\"title\":{\"text\":\"Shape Validation Summary (Closer to center is better)\"}},                        {\"responsive\": true}                    ).then(function(){\n",
       "                            \n",
       "var gd = document.getElementById('d3af3abc-d875-4e8a-a1d2-f61b781a91b2');\n",
       "var x = new MutationObserver(function (mutations, observer) {{\n",
       "        var display = window.getComputedStyle(gd).display;\n",
       "        if (!display || display === 'none') {{\n",
       "            console.log([gd, 'removed!']);\n",
       "            Plotly.purge(gd);\n",
       "            observer.disconnect();\n",
       "        }}\n",
       "}});\n",
       "\n",
       "// Listen for the removal of the full notebook cells\n",
       "var notebookContainer = gd.closest('#notebook-container');\n",
       "if (notebookContainer) {{\n",
       "    x.observe(notebookContainer, {childList: true});\n",
       "}}\n",
       "\n",
       "// Listen for the clearing of the current output cell\n",
       "var outputEl = gd.closest('.output');\n",
       "if (outputEl) {{\n",
       "    x.observe(outputEl, {childList: true});\n",
       "}}\n",
       "\n",
       "                        })                };                });            </script>        </div>"
      ]
     },
     "metadata": {},
     "output_type": "display_data"
    }
   ],
   "source": [
    "dfr = pd.DataFrame(dict(\n",
    "    r=summary['severity'].tolist(),   # vs valid which is hard since num resources can be < errors (multiple errors in a resource)\n",
    "    theta=summary['shape'].tolist()))\n",
    "fig = px.line_polar(dfr, r='r', theta='theta',line_close=True)\n",
    "fig.update_traces(fill='toself')\n",
    "\n",
    "# fig.add_trace( name=\"Validation Summary\" )\n",
    "\n",
    "fig.update_layout(\n",
    "  polar=dict(\n",
    "    radialaxis=dict(\n",
    "      visible=True,\n",
    "      range=[0, summary[\"severity\"].max()]\n",
    "      # range=[0, countsdf[\"count\"].sum()]\n",
    "    )),\n",
    "  showlegend=True,\n",
    "  title=\"Shape Validation Summary (Closer to center is better)\"\n",
    ")\n",
    "\n",
    "fig.show()"
   ]
  },
  {
   "cell_type": "code",
   "execution_count": 28,
   "metadata": {
    "ExecuteTime": {
     "end_time": "2023-12-12T13:22:51.140821097Z",
     "start_time": "2023-12-12T13:22:51.070523701Z"
    },
    "id": "pOEI-uKyQaQT"
   },
   "outputs": [],
   "source": [
    "# Save to CSV and analyze with tools like OpenRefine\n",
    "ensure_directory_exists(\"./output\")\n",
    "df.to_csv('./output/report.csv', index=False)\n",
    "summary.to_csv('./output/summary.csv', index=False)"
   ]
  },
  {
   "cell_type": "code",
   "execution_count": null,
   "metadata": {
    "id": "_1-wjnAr6cqm"
   },
   "outputs": [],
   "source": []
  }
 ],
 "metadata": {
  "colab": {
   "provenance": []
  },
  "kernelspec": {
   "display_name": "Python 3",
   "language": "python",
   "name": "python3"
  },
  "language_info": {
   "codemirror_mode": {
    "name": "ipython",
    "version": 3
   },
   "file_extension": ".py",
   "mimetype": "text/x-python",
   "name": "python",
   "nbconvert_exporter": "python",
   "pygments_lexer": "ipython3",
   "version": "3.10.12"
  }
 },
 "nbformat": 4,
 "nbformat_minor": 4
}
