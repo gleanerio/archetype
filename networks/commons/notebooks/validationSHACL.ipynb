{
 "cells": [
  {
   "cell_type": "markdown",
   "metadata": {
    "id": "y5aNiFkCLQeR"
   },
   "source": [
    "# Validation with SHACL\n",
    "\n",
    "<a href=\"https://githubtocolab.com/gleanerio/archetype/blob/master/networks/commons/validationSHACL.ipynb\" target=\"_parent\"><img src=\"https://colab.research.google.com/assets/colab-badge.png\" alt=\"Open in Colab\"/></a>\n",
    "\n"
   ]
  },
  {
   "cell_type": "markdown",
   "source": [
    "## Requirements you may need"
   ],
   "metadata": {
    "collapsed": false
   }
  },
  {
   "cell_type": "code",
   "execution_count": null,
   "metadata": {
    "id": "oouTTPLqLLaB"
   },
   "outputs": [],
   "source": [
    "!pip install -q rdflib\n",
    "!pip install -q shapely\n",
    "!pip install -q pyld\n",
    "!pip install -q kglab\n",
    "!pip install -q minio\n",
    "!pip install -q pyshacl"
   ]
  },
  {
   "cell_type": "markdown",
   "source": [
    "## Imports"
   ],
   "metadata": {
    "collapsed": false
   }
  },
  {
   "cell_type": "code",
   "execution_count": 31,
   "metadata": {
    "id": "StBd8If1LY2N",
    "ExecuteTime": {
     "end_time": "2023-11-30T13:57:02.068283794Z",
     "start_time": "2023-11-30T13:57:02.027134447Z"
    }
   },
   "outputs": [],
   "source": [
    "import warnings\n",
    "warnings.simplefilter(action='ignore', category=FutureWarning)  ## remove pandas future warning\n",
    "import kglab\n",
    "from minio import Minio\n",
    "from rdflib import Graph, plugin\n",
    "import plotly.express as px\n",
    "import pandas as pd\n",
    "from urllib.request import urlopen\n",
    "import os"
   ]
  },
  {
   "cell_type": "markdown",
   "source": [
    "## Supporting functions"
   ],
   "metadata": {
    "collapsed": false
   }
  },
  {
   "cell_type": "code",
   "execution_count": 38,
   "metadata": {
    "id": "l_KVXEsEBqPo",
    "ExecuteTime": {
     "end_time": "2023-11-30T14:31:38.802518497Z",
     "start_time": "2023-11-30T14:31:38.761264239Z"
    }
   },
   "outputs": [],
   "source": [
    "def ensure_directory_exists(path):\n",
    "    if not os.path.exists(path):\n",
    "        os.makedirs(path)\n",
    "        \n",
    "def popper(input):\n",
    "    lines = input.decode().split('\\n') # Split input into separate lines\n",
    "    modified_lines = []\n",
    "\n",
    "    for line in lines:\n",
    "        newline = line.replace(\"http://schema.org\", \"https://schema.org\")\n",
    "        segments = newline.split(' ')\n",
    "\n",
    "        if len(segments) > 3:\n",
    "            segments.pop()   # Remove the last two segment\n",
    "            segments.pop()\n",
    "            new_line = ' '.join(segments) + ' .'\n",
    "            modified_lines.append(new_line)\n",
    "\n",
    "    result_string = '\\n'.join(modified_lines)\n",
    "\n",
    "    return(result_string)\n",
    "\n",
    "def publicurls(client, bucket, prefix):\n",
    "    urls = []\n",
    "    objects = client.list_objects(bucket, prefix=prefix, recursive=True)\n",
    "    for obj in objects:\n",
    "        result = client.stat_object(bucket, obj.object_name)\n",
    "\n",
    "        if result.size > 0:  #  how to tell if an objet   obj.is_public  ?????\n",
    "            url = client.presigned_get_object(bucket, obj.object_name)\n",
    "            # print(f\"Public URL for object: {url}\")\n",
    "            urls.append(url)\n",
    "\n",
    "    return urls\n"
   ]
  },
  {
   "cell_type": "markdown",
   "source": [
    "## Object store files"
   ],
   "metadata": {
    "collapsed": false
   }
  },
  {
   "cell_type": "code",
   "execution_count": 4,
   "metadata": {
    "id": "SYUjobB-BkOH",
    "colab": {
     "base_uri": "https://localhost:8080/"
    },
    "outputId": "2fe95957-0ca5-4da2-d589-8d4adfd7db63",
    "ExecuteTime": {
     "end_time": "2023-11-30T13:51:15.745586124Z",
     "start_time": "2023-11-30T13:51:13.185494567Z"
    }
   },
   "outputs": [
    {
     "name": "stdout",
     "output_type": "stream",
     "text": [
      "http://ossapi.oceaninfohub.org/public/graphs/summonedafricaioc_v1_release.nq\n",
      "http://ossapi.oceaninfohub.org/public/graphs/summonedaquadocs_v1_release.nq\n",
      "http://ossapi.oceaninfohub.org/public/graphs/summonedcioos_v1_release.nq\n",
      "http://ossapi.oceaninfohub.org/public/graphs/summonededmerp_v1_release.nq\n",
      "http://ossapi.oceaninfohub.org/public/graphs/summonededmo_v1_release.nq\n",
      "http://ossapi.oceaninfohub.org/public/graphs/summonedemodnet_v1_release.nq\n",
      "http://ossapi.oceaninfohub.org/public/graphs/summonedinanodc_v1_release.nq\n",
      "http://ossapi.oceaninfohub.org/public/graphs/summonedinvemardocuments_v1_release.nq\n",
      "http://ossapi.oceaninfohub.org/public/graphs/summonedinvemarexperts_v1_release.nq\n",
      "http://ossapi.oceaninfohub.org/public/graphs/summonedinvemarinstitutions_v1_release.nq\n",
      "http://ossapi.oceaninfohub.org/public/graphs/summonedinvemartraining_v1_release.nq\n",
      "http://ossapi.oceaninfohub.org/public/graphs/summonedinvemarvessels_v1_release.nq\n",
      "http://ossapi.oceaninfohub.org/public/graphs/summonedmarinetraining_v1_release.nq\n",
      "http://ossapi.oceaninfohub.org/public/graphs/summonedobis_v1_release.nq\n",
      "http://ossapi.oceaninfohub.org/public/graphs/summonedobps_v1_release.nq\n",
      "http://ossapi.oceaninfohub.org/public/graphs/summonedoceanexperts_v1_release.nq\n",
      "http://ossapi.oceaninfohub.org/public/graphs/summonedpdh_v1_release.nq\n"
     ]
    }
   ],
   "source": [
    "# if you need to list the current URLs as a public S3, use something like this to get it\n",
    "\n",
    "client = Minio(\"ossapi.oceaninfohub.org:80\",  secure=False) # Create client with anonymous access.\n",
    "urls = publicurls(client, \"public\", \"graph\")\n",
    "for u in urls:\n",
    "  print(u)"
   ]
  },
  {
   "cell_type": "markdown",
   "source": [
    "## Load\n",
    "\n",
    "Load and align the schema.org context"
   ],
   "metadata": {
    "collapsed": false
   }
  },
  {
   "cell_type": "markdown",
   "source": [
    "### load file by URL"
   ],
   "metadata": {
    "collapsed": false
   }
  },
  {
   "cell_type": "code",
   "execution_count": 6,
   "metadata": {
    "id": "Uhfy7jewPzu8",
    "ExecuteTime": {
     "end_time": "2023-11-30T13:52:23.903778290Z",
     "start_time": "2023-11-30T13:52:20.829436623Z"
    }
   },
   "outputs": [],
   "source": [
    "# set the Data Graph URL to what you want to validate\n",
    "dgurl = \"http://ossapi.oceaninfohub.org/public/graphs/summonedcioos_v1_release.nq\"\n",
    "# df = urlopen(dgurl)\n",
    "dg = urlopen(dgurl).read()\n",
    "rp = popper(dg)"
   ]
  },
  {
   "cell_type": "markdown",
   "source": [
    "### load local file from disk"
   ],
   "metadata": {
    "collapsed": false
   }
  },
  {
   "cell_type": "code",
   "execution_count": 36,
   "outputs": [],
   "source": [
    "# with open('./localRDF.nq', 'rb') as file:\n",
    "#     dg = file.read()\n",
    "# rp = popper(dg)"
   ],
   "metadata": {
    "collapsed": false,
    "ExecuteTime": {
     "end_time": "2023-11-30T14:05:24.573094856Z",
     "start_time": "2023-11-30T14:05:24.248324086Z"
    }
   }
  },
  {
   "cell_type": "code",
   "execution_count": 37,
   "metadata": {
    "colab": {
     "base_uri": "https://localhost:8080/"
    },
    "id": "L-8A0UeNRbgv",
    "outputId": "3cfd4987-0aae-4025-f508-8d7d4f4916e2",
    "ExecuteTime": {
     "end_time": "2023-11-30T14:05:37.876654339Z",
     "start_time": "2023-11-30T14:05:25.858995311Z"
    }
   },
   "outputs": [
    {
     "name": "stdout",
     "output_type": "stream",
     "text": [
      "Graph loaded with 145779 triples\n"
     ]
    }
   ],
   "source": [
    "namespaces = {\n",
    "    \"sh\":   \"http://www.w3.org/ns/shacl#\" ,\n",
    "    \"schema\": \"https://schema.org/\"\n",
    "    }\n",
    "\n",
    "kg = kglab.KnowledgeGraph(\n",
    "    name = \"Schema.org based datagraph\",\n",
    "    base_uri = \"https://example.org/id/\",\n",
    "    namespaces = namespaces,\n",
    "    )\n",
    "\n",
    "try:\n",
    "    g = Graph().parse(data=rp, format='nt')\n",
    "    r = g.serialize(format='nt')\n",
    "    kg.load_rdf_text(r)\n",
    "except Exception as e:\n",
    "    print(\"Exception: {}\\n --\".format(str(e)))\n",
    "    raise e\n",
    "\n",
    "print(\"Graph loaded with {} triples\".format(len(g)))"
   ]
  },
  {
   "cell_type": "markdown",
   "source": [
    "## SPARQL Counts\n",
    "\n",
    "Do a simple count query to see what we have in our graph and also just to verify we all good to this point"
   ],
   "metadata": {
    "collapsed": false
   }
  },
  {
   "cell_type": "code",
   "execution_count": 12,
   "metadata": {
    "id": "KvCQVxlO2UbH",
    "ExecuteTime": {
     "end_time": "2023-11-30T13:53:26.871627738Z",
     "start_time": "2023-11-30T13:53:25.670021907Z"
    }
   },
   "outputs": [
    {
     "data": {
      "text/plain": "   count                 type\n0   2141  schema:Organization\n1   2015       schema:Dataset\n2   1372        schema:Person",
      "text/html": "<div>\n<style scoped>\n    .dataframe tbody tr th:only-of-type {\n        vertical-align: middle;\n    }\n\n    .dataframe tbody tr th {\n        vertical-align: top;\n    }\n\n    .dataframe thead th {\n        text-align: right;\n    }\n</style>\n<table border=\"1\" class=\"dataframe\">\n  <thead>\n    <tr style=\"text-align: right;\">\n      <th></th>\n      <th>count</th>\n      <th>type</th>\n    </tr>\n  </thead>\n  <tbody>\n    <tr>\n      <th>0</th>\n      <td>2141</td>\n      <td>schema:Organization</td>\n    </tr>\n    <tr>\n      <th>1</th>\n      <td>2015</td>\n      <td>schema:Dataset</td>\n    </tr>\n    <tr>\n      <th>2</th>\n      <td>1372</td>\n      <td>schema:Person</td>\n    </tr>\n  </tbody>\n</table>\n</div>"
     },
     "execution_count": 12,
     "metadata": {},
     "output_type": "execute_result"
    }
   ],
   "source": [
    "# For the radar plot later we will need to know the number of resources in the\n",
    "# graph that we will be checking.  We should break down the types too.\n",
    "# It might be a case where we do some radar plots only for given types.\n",
    "\n",
    "counts = \"\"\"PREFIX rdf: <http://www.w3.org/1999/02/22-rdf-syntax-ns#>\n",
    "PREFIX schema: <https://schema.org/>\n",
    "\n",
    "\n",
    "SELECT (COUNT(?type) as ?count) ?type\n",
    "WHERE {\n",
    "        ?s rdf:type ?type\n",
    "        FILTER (?type IN\n",
    "                (schema:ResearchProject, schema:Project, schema:Organization, schema:Dataset,\n",
    "                    schema:CreativeWork, schema:Person, schema:Map, schema:Course,\n",
    "                    schema:CourseInstance, schema:Event, schema:Vehicle)\n",
    "        )\n",
    "}\n",
    "GROUP BY ?type\n",
    "ORDER BY DESC(?count)\n",
    "\"\"\"\n",
    "\n",
    "countsdf = kg.query_as_df(counts)\n",
    "countsdf.head()\n",
    "# countsdf[\"count\"].sum()"
   ]
  },
  {
   "cell_type": "markdown",
   "metadata": {
    "id": "nrPRHWNY6DKn"
   },
   "source": [
    "## Shapes Section\n",
    "\n",
    "* Basic shape: (name, description)\n",
    "* connections shape: (url, Dataset:distribution)\n",
    "* id shape: dataset:identifier\n",
    "* licensing\n",
    "* geo shape:  dataset:geo  course:geo\n",
    "* temporal shape: dataset, shape\n",
    "* funding\n",
    "* citation\n",
    "* For GDPR (sp) look for type Person and identifier\n",
    "\n",
    "Could the shape help to identifie SG14 or EOV data.  Perharps this isn't a thing that SHACL can hep with?  wHAT is needed to much sucn resource alignment work/exist.\n",
    "\n",
    "How might this relate to the Match Making topic PLB spoke about.\n",
    "\n"
   ]
  },
  {
   "cell_type": "code",
   "execution_count": 13,
   "metadata": {
    "id": "axu7Sd--MBO-",
    "ExecuteTime": {
     "end_time": "2023-11-30T13:53:32.372520596Z",
     "start_time": "2023-11-30T13:53:32.331805522Z"
    }
   },
   "outputs": [],
   "source": [
    "basicShape = \"\"\"\n",
    "@prefix schema: <https://schema.org/> .\n",
    "@prefix rdf: <http://www.w3.org/1999/02/22-rdf-syntax-ns#> .\n",
    "@prefix shacl: <http://www.w3.org/ns/shacl#> .\n",
    "@prefix oihval: <https://oceans.collaborium.io/voc/validation/1.0.1/shacl#> .\n",
    "\n",
    "oihval:IDShape\n",
    "    a shacl:NodeShape ;\n",
    "    shacl:targetClass  schema:CreativeWork, schema:ResearchProject, schema:Person, schema:Course, schema:Organization, schema:Dataset, schema:Map, schema:Vehicle ;\n",
    "    shacl:message \"Graph requires ID\"@en ;\n",
    "    shacl:description \"URL OIH shape guidance\" ;\n",
    "    shacl:nodeKind shacl:IRI ;\n",
    "    .\n",
    "\n",
    "oihval:DatasetCommonShape\n",
    "    a shacl:NodeShape ;\n",
    "    shacl:targetClass  schema:CreativeWork, schema:ResearchProject, schema:Person, schema:Course, schema:Organization, schema:Dataset, schema:Map, schema:Vehicle ;\n",
    "    shacl:message \"OIH Resource to Query validation\" ;\n",
    "    shacl:description \"OIH shape guidance\" ;\n",
    "    shacl:property\n",
    "        oihval:nameResourceProperty,\n",
    "        oihval:descriptionResourceProperty ;\n",
    "    .\n",
    "\n",
    "oihval:nameResourceProperty\n",
    "    a shacl:PropertyShape ;\n",
    "    shacl:path schema:name ;\n",
    "    shacl:nodeKind shacl:Literal ;\n",
    "    shacl:minCount 1 ;\n",
    "    shacl:severity shacl:Warning ;\n",
    "    shacl:message \"Name is suggested \"@en ;\n",
    "    shacl:description \"https://foo.org\" ;\n",
    "    .\n",
    "\n",
    "oihval:descriptionResourceProperty\n",
    "    a shacl:PropertyShape ;\n",
    "    shacl:path schema:description;\n",
    "    shacl:nodeKind shacl:Literal ;\n",
    "    shacl:minCount 1 ;\n",
    "    shacl:message \"Description missing\"@en ;\n",
    "    shacl:description \"https://book.oceaninfohub.org/foundation/foundation.html#other-properties\" ;\n",
    "    .\n",
    "\"\"\"\n"
   ]
  },
  {
   "cell_type": "code",
   "execution_count": 14,
   "metadata": {
    "id": "iTtlvlnojG7s",
    "ExecuteTime": {
     "end_time": "2023-11-30T13:53:33.032836525Z",
     "start_time": "2023-11-30T13:53:33.028237627Z"
    }
   },
   "outputs": [],
   "source": [
    "connectionShape = \"\"\"\n",
    "@prefix schema: <https://schema.org/> .\n",
    "@prefix rdf: <http://www.w3.org/1999/02/22-rdf-syntax-ns#> .\n",
    "@prefix shacl: <http://www.w3.org/ns/shacl#> .\n",
    "@prefix oihval: <https://oceans.collaborium.io/voc/validation/1.0.1/shacl#> .\n",
    "\n",
    "oihval:DatasetCommonShape\n",
    "    a shacl:NodeShape ;\n",
    "    shacl:targetClass  schema:CreativeWork, schema:ResearchProject, schema:Person, schema:Course, schema:Organization, schema:Dataset, schema:Map, schema:Vehicle ;\n",
    "    shacl:message \"OIH Resource to Query validation\" ;\n",
    "    shacl:description \"OIH shape guidance\" ;\n",
    "    shacl:property\n",
    "        oihval:urlResourceProperty;\n",
    "    .\n",
    "\n",
    "\n",
    "oihval:urlResourceProperty\n",
    "    a shacl:PropertyShape ;\n",
    "    shacl:path schema:url ;\n",
    "    shacl:maxCount 1 ;\n",
    "    shacl:minCount 1 ;\n",
    "    shacl:nodeKind shacl:IRIOrLiteral ;\n",
    "    shacl:message \"URL missing\"@en ;\n",
    "    shacl:description \"https://foo.org\" ;\n",
    "    .\n",
    "\n",
    "\n",
    "\"\"\"\n"
   ]
  },
  {
   "cell_type": "code",
   "execution_count": 15,
   "metadata": {
    "id": "PkJSdWtK_lyV",
    "ExecuteTime": {
     "end_time": "2023-11-30T13:53:33.891116628Z",
     "start_time": "2023-11-30T13:53:33.883698297Z"
    }
   },
   "outputs": [],
   "source": [
    "licenseShape = \"\"\"\n",
    "@prefix schema: <https://schema.org/> .\n",
    "@prefix rdf: <http://www.w3.org/1999/02/22-rdf-syntax-ns#> .\n",
    "@prefix shacl: <http://www.w3.org/ns/shacl#> .\n",
    "@prefix oihval: <https://oceans.collaborium.io/voc/validation/1.0.1/shacl#> .\n",
    "\n",
    "oihval:DatasetCommonShape\n",
    "    a shacl:NodeShape ;\n",
    "    shacl:targetClass  schema:Dataset ;\n",
    "    shacl:message \"OIH Resource to Query validation\" ;\n",
    "    shacl:description \"OIH shape guidance\" ;\n",
    "    shacl:property\n",
    "        oihval:urlResourceProperty;\n",
    "    .\n",
    "\n",
    "\n",
    "oihval:urlResourceProperty\n",
    "    a shacl:PropertyShape ;\n",
    "    shacl:path schema:license ;\n",
    "    shacl:maxCount 1 ;\n",
    "    shacl:minCount 1 ;\n",
    "    shacl:message \"license missing\"@en ;\n",
    "    shacl:description \"https://foo.org\" ;\n",
    "    .\n",
    "\n",
    "\n",
    "\"\"\""
   ]
  },
  {
   "cell_type": "code",
   "execution_count": 16,
   "metadata": {
    "id": "nuONIhCpjnNM",
    "ExecuteTime": {
     "end_time": "2023-11-30T13:53:34.576911276Z",
     "start_time": "2023-11-30T13:53:34.572745842Z"
    }
   },
   "outputs": [],
   "source": [
    "identifierShape = \"\"\"\n",
    "@prefix schema: <https://schema.org/> .\n",
    "@prefix rdf: <http://www.w3.org/1999/02/22-rdf-syntax-ns#> .\n",
    "@prefix shacl: <http://www.w3.org/ns/shacl#> .\n",
    "@prefix oihval: <https://oceans.collaborium.io/voc/validation/1.0.1/shacl#> .\n",
    "\n",
    "oihval:DatasetCommonShape\n",
    "    a shacl:NodeShape ;\n",
    "    shacl:targetClass  schema:CreativeWork, schema:ResearchProject, schema:Person, schema:Course, schema:Organization, schema:Dataset, schema:Map, schema:Vehicle ;\n",
    "    shacl:message \"OIH Resource to Query validation\" ;\n",
    "    shacl:description \"OIH shape guidance\" ;\n",
    "    shacl:property\n",
    "        oihval:urlIdentifierProperty;\n",
    "    .\n",
    "\n",
    "\n",
    "oihval:urlIdentifierProperty\n",
    "    a shacl:PropertyShape ;\n",
    "    shacl:path schema:identifier ;\n",
    "    shacl:maxCount 1 ;\n",
    "    shacl:minCount 1 ;\n",
    "    shacl:nodeKind shacl:IRIOrLiteral ;\n",
    "    shacl:message \"Identifier missing\"@en ;\n",
    "    shacl:description \"https://foo.org\" ;\n",
    "    .\n",
    "\n",
    "\n",
    "\"\"\""
   ]
  },
  {
   "cell_type": "code",
   "execution_count": 17,
   "metadata": {
    "id": "Cg4a7Cmg-pvW",
    "ExecuteTime": {
     "end_time": "2023-11-30T13:53:35.288087414Z",
     "start_time": "2023-11-30T13:53:35.283607327Z"
    }
   },
   "outputs": [],
   "source": [
    "personIDShape = \"\"\"\n",
    "@prefix schema: <https://schema.org/> .\n",
    "@prefix rdf: <http://www.w3.org/1999/02/22-rdf-syntax-ns#> .\n",
    "@prefix shacl: <http://www.w3.org/ns/shacl#> .\n",
    "@prefix oihval: <https://oceans.collaborium.io/voc/validation/1.0.1/shacl#> .\n",
    "\n",
    "oihval:DatasetCommonShape\n",
    "    a shacl:NodeShape ;\n",
    "    shacl:targetClass  schema:Person ;\n",
    "    shacl:message \"OIH Resource to Query validation\" ;\n",
    "    shacl:description \"OIH shape guidance\" ;\n",
    "    shacl:property\n",
    "        oihval:urlIdentifierProperty;\n",
    "    .\n",
    "\n",
    "\n",
    "oihval:urlIdentifierProperty\n",
    "    a shacl:PropertyShape ;\n",
    "    shacl:path schema:identifier ;\n",
    "    shacl:maxCount 1 ;\n",
    "    shacl:minCount 1 ;\n",
    "    shacl:nodeKind shacl:IRIOrLiteral ;\n",
    "    shacl:message \"Identifier missing\"@en ;\n",
    "    shacl:description \"https://foo.org\" ;\n",
    "    .\n",
    "\n",
    "\n",
    "\"\"\""
   ]
  },
  {
   "cell_type": "code",
   "execution_count": 18,
   "metadata": {
    "id": "23YBhOb78rQx",
    "ExecuteTime": {
     "end_time": "2023-11-30T13:53:36.025920042Z",
     "start_time": "2023-11-30T13:53:36.020090733Z"
    }
   },
   "outputs": [],
   "source": [
    "geoShape = \"\"\"\n",
    "@prefix schema: <https://schema.org/> .\n",
    "@prefix rdf: <http://www.w3.org/1999/02/22-rdf-syntax-ns#> .\n",
    "@prefix shacl: <http://www.w3.org/ns/shacl#> .\n",
    "@prefix oihval: <https://oceans.collaborium.io/voc/validation/1.0.1/shacl#> .\n",
    "@prefix xsd: <http://www.w3.org/2001/XMLSchema#> .\n",
    "\n",
    "oihval:DatasetCommonShape\n",
    "    a shacl:NodeShape ;\n",
    "    shacl:targetClass  schema:Dataset ;\n",
    "    shacl:message \"OIH Resource to Query validation\" ;\n",
    "    shacl:description \"OIH shape guidance\" ;\n",
    "    shacl:property\n",
    "        oihval:geoProperty ;\n",
    "    .\n",
    "\n",
    "\n",
    "oihval:geoProperty\n",
    "    a shacl:PropertyShape ;\n",
    "    shacl:path schema:spatialCoverage ;\n",
    "    shacl:maxCount 1 ;\n",
    "    shacl:minCount 1 ;\n",
    "    shacl:message \"spatialCoverage missing\"@en ;\n",
    "    shacl:description \"https://foo.org\" ;\n",
    "    .\n",
    "\n",
    "\n",
    "\"\"\""
   ]
  },
  {
   "cell_type": "code",
   "execution_count": 19,
   "metadata": {
    "id": "GLIJ9hxMj3pH",
    "ExecuteTime": {
     "end_time": "2023-11-30T13:53:36.832893777Z",
     "start_time": "2023-11-30T13:53:36.828438483Z"
    }
   },
   "outputs": [],
   "source": [
    "geoPolygon = R\"\"\"\n",
    "@prefix schema: <https://schema.org/> .\n",
    "@prefix rdf: <http://www.w3.org/1999/02/22-rdf-syntax-ns#> .\n",
    "@prefix shacl: <http://www.w3.org/ns/shacl#> .\n",
    "@prefix oihval: <https://oceans.collaborium.io/voc/validation/1.0.1/shacl#> .\n",
    "@prefix xsd: <http://www.w3.org/2001/XMLSchema#> .\n",
    "\n",
    "oihval:DatasetCommonShape\n",
    "    a shacl:NodeShape ;\n",
    "    shacl:targetClass  schema:GeoShape ;\n",
    "    shacl:message \"OIH Resource to Query validation\" ;\n",
    "    shacl:description \"OIH shape guidance\" ;\n",
    "    shacl:property\n",
    "        oihval:polygonStringProperty,\n",
    "        oihval:polygonCloseProperty ;\n",
    "    .\n",
    "\n",
    "oihval:polygonStringProperty\n",
    "    a shacl:PropertyShape ;\n",
    "    shacl:path schema:polygon  ;\n",
    "    shacl:message \"The string must consists of numeric, space-separated items.\"@en ;\n",
    "    shacl:maxCount 1 ;\n",
    "    shacl:description \"https://foo.org\" ;\n",
    "    shacl:pattern \"^(?:\\\\d+\\\\s+)*\\\\d+$\" ;    .\n",
    "\n",
    "\n",
    "oihval:polygonCloseProperty\n",
    "    a shacl:PropertyShape ;\n",
    "    shacl:path schema:polygon ;\n",
    "    shacl:message \"The polygon string must have the first and last items are the same\"@en ;\n",
    "    shacl:maxCount 1 ;\n",
    "    shacl:description \"https://foo.org\" ;\n",
    "\t  shacl:pattern \"^(\\\\d+)\\\\s+(\\\\d+)(?:\\\\s+\\\\d+)+\\\\s+\\\\1$\" ;\n",
    "    .\n",
    "\"\"\""
   ]
  },
  {
   "cell_type": "code",
   "source": [
    "# force check the presence of WKT\n",
    "\n",
    "geoSPARQL = R\"\"\"\n",
    "@prefix schema: <https://schema.org/> .\n",
    "@prefix rdf: <http://www.w3.org/1999/02/22-rdf-syntax-ns#> .\n",
    "@prefix shacl: <http://www.w3.org/ns/shacl#> .\n",
    "@prefix oihval: <https://oceans.collaborium.io/voc/validation/1.0.1/shacl#> .\n",
    "@prefix xsd: <http://www.w3.org/2001/XMLSchema#> .\n",
    "@prefix geosparql: <http://www.opengis.net/ont/geosparql#> .\n",
    "\n",
    "oihval:DatasetCommonShape\n",
    "    a shacl:NodeShape ;\n",
    "    shacl:targetClass  schema:Dataset ;\n",
    "    shacl:message \"OIH Resource to Query validation\" ;\n",
    "    shacl:description \"OIH shape guidance\" ;\n",
    "    shacl:property\n",
    "        oihval:pointProperty ;\n",
    "    .\n",
    "\n",
    "oihval:pointProperty\n",
    "    a geosparql:hasGeometry ;\n",
    "    shacl:path geosparql:asWKT  ;\n",
    "    shacl:message \"geoSPARQL POINT needs a WKT entry\"@en ;\n",
    "    shacl:maxCount 1 ;\n",
    "    shacl:description \"https://foo.org\" ; .\n",
    "\n",
    "\n",
    "\n",
    "\"\"\""
   ],
   "metadata": {
    "id": "OuXwU0hsmXAz",
    "ExecuteTime": {
     "end_time": "2023-11-30T13:53:37.893882817Z",
     "start_time": "2023-11-30T13:53:37.875451458Z"
    }
   },
   "execution_count": 20,
   "outputs": []
  },
  {
   "cell_type": "code",
   "execution_count": 21,
   "metadata": {
    "id": "MhJbbw8U_5xv",
    "ExecuteTime": {
     "end_time": "2023-11-30T13:53:38.743267237Z",
     "start_time": "2023-11-30T13:53:38.739248857Z"
    }
   },
   "outputs": [],
   "source": [
    "distributionShape = \"\"\"\n",
    "@prefix schema: <https://schema.org/> .\n",
    "@prefix rdf: <http://www.w3.org/1999/02/22-rdf-syntax-ns#> .\n",
    "@prefix shacl: <http://www.w3.org/ns/shacl#> .\n",
    "@prefix oihval: <https://oceans.collaborium.io/voc/validation/1.0.1/shacl#> .\n",
    "\n",
    "oihval:DatasetCommonShape\n",
    "    a shacl:NodeShape ;\n",
    "    shacl:targetClass  schema:Dataset ;\n",
    "    shacl:message \"OIH Resource to Query validation\" ;\n",
    "    shacl:description \"OIH shape guidance\" ;\n",
    "    shacl:property\n",
    "        oihval:urlResourceProperty;\n",
    "    .\n",
    "\n",
    "\n",
    "oihval:urlResourceProperty\n",
    "    a shacl:PropertyShape ;\n",
    "    shacl:path schema:distribution ;\n",
    "    shacl:maxCount 3 ;\n",
    "    shacl:minCount 3 ;\n",
    "    shacl:nodeKind shacl:IRIOrLiteral ;\n",
    "    shacl:severity shacl:Warning ;\n",
    "    shacl:message \"URL missing\"@en ;\n",
    "    shacl:description \"https://foo.org\" ;\n",
    "    .\n",
    "\n",
    "\n",
    "\"\"\""
   ]
  },
  {
   "cell_type": "code",
   "execution_count": 22,
   "metadata": {
    "id": "3G5kN66xMyXq",
    "ExecuteTime": {
     "end_time": "2023-11-30T13:53:40.977927313Z",
     "start_time": "2023-11-30T13:53:40.964257931Z"
    }
   },
   "outputs": [],
   "source": [
    "\n",
    "sparql = \"\"\"\n",
    "PREFIX shacl: <http://www.w3.org/ns/shacl#>\n",
    "\n",
    "SELECT  ?severity  ?constraint ?path ?message (STR(?focus) AS ?focusURL) ?focusType ?path ?value\n",
    "  WHERE {\n",
    "    ?id rdf:type shacl:ValidationResult .\n",
    "    ?id shacl:focusNode ?focus .\n",
    "     OPTIONAL {\n",
    "    ?focus rdf:type ?focusType .\n",
    "   }\n",
    "    ?id shacl:resultMessage ?message .\n",
    "    ?id shacl:resultSeverity ?severity .\n",
    "     OPTIONAL {\n",
    "    ?id shacl:sourceConstraintComponent ?constraint .\n",
    "    }\n",
    "    OPTIONAL {\n",
    "        ?id shacl:resultPath ?path .\n",
    "    }\n",
    "    OPTIONAL {\n",
    "        ?id shacl:value ?value .\n",
    "    }\n",
    "  }\n",
    "\"\"\"\n",
    "\n",
    "\n",
    "\n"
   ]
  },
  {
   "cell_type": "markdown",
   "metadata": {
    "id": "lpIkBnQ027mc"
   },
   "source": [
    "## Loop over all Frames"
   ]
  },
  {
   "cell_type": "code",
   "execution_count": 23,
   "metadata": {
    "id": "jMOvGe_pMpxc",
    "ExecuteTime": {
     "end_time": "2023-11-30T13:54:17.247783001Z",
     "start_time": "2023-11-30T13:53:58.070374648Z"
    }
   },
   "outputs": [],
   "source": [
    "df = pd.DataFrame(columns=[\"severity\", \"constraint\", \"path\", \"message\", \"focusURL\", \"shape\"])\n",
    "m = {\"geoPolygon\": geoPolygon, \"geoShape\": geoShape, \"basicShape\": basicShape, \"connectionShape\": connectionShape, \"identifierShape\": identifierShape, \"personIDShape\": personIDShape, \"licenseShape\": licenseShape, \"distributionShape\": distributionShape}\n",
    "# m = {\"distributionShape\": distributionShape}\n",
    "\n",
    "# m = { \"geoPolygon\": geoPolygon}\n",
    "\n",
    "dfs_to_concat = []  # Create an empty list to store DataFrames\n",
    "\n",
    "for key, value in m.items():\n",
    "  conforms, report_graph, report_text = kg.validate(\n",
    "    shacl_graph=value,\n",
    "    shacl_graph_format=\"ttl\")\n",
    "  # print(report_text)\n",
    "  dfr = report_graph.query_as_df(sparql)\n",
    "  dfr['shape'] = key\n",
    "  dfs_to_concat.append(dfr)  # Append the current_df to the list\n",
    "\n",
    "df = pd.concat(dfs_to_concat, ignore_index=True)\n",
    "\n"
   ]
  },
  {
   "cell_type": "code",
   "source": [
    "df.head(10)"
   ],
   "metadata": {
    "colab": {
     "base_uri": "https://localhost:8080/",
     "height": 363
    },
    "id": "1R9nZr8yWV1A",
    "outputId": "b7bc237d-e09e-4956-be9e-e71f5da82633",
    "ExecuteTime": {
     "end_time": "2023-11-30T13:54:21.022577827Z",
     "start_time": "2023-11-30T13:54:20.991994365Z"
    }
   },
   "execution_count": 24,
   "outputs": [
    {
     "data": {
      "text/plain": "       severity                     constraint            path  \\\n0  sh:Violation  sh:PatternConstraintComponent  schema:polygon   \n1  sh:Violation  sh:PatternConstraintComponent  schema:polygon   \n2  sh:Violation  sh:PatternConstraintComponent  schema:polygon   \n3  sh:Violation  sh:PatternConstraintComponent  schema:polygon   \n4  sh:Violation  sh:PatternConstraintComponent  schema:polygon   \n5  sh:Violation  sh:PatternConstraintComponent  schema:polygon   \n6  sh:Violation  sh:PatternConstraintComponent  schema:polygon   \n7  sh:Violation  sh:PatternConstraintComponent  schema:polygon   \n8  sh:Violation  sh:PatternConstraintComponent  schema:polygon   \n9  sh:Violation  sh:PatternConstraintComponent  schema:polygon   \n\n                                             message  \\\n0  The polygon string must have the first and las...   \n1  The polygon string must have the first and las...   \n2  The string must consists of numeric, space-sep...   \n3  The string must consists of numeric, space-sep...   \n4  The polygon string must have the first and las...   \n5  The string must consists of numeric, space-sep...   \n6  The string must consists of numeric, space-sep...   \n7  The polygon string must have the first and las...   \n8  The string must consists of numeric, space-sep...   \n9  The polygon string must have the first and las...   \n\n                                            focusURL  \\\n0  https://gleaner.io/xid/genid/cggj45jk59mc73f1o3i0   \n1  https://gleaner.io/xid/genid/cggj3r3k59mc73f1me0g   \n2  https://gleaner.io/xid/genid/cggj2u3k59mc73f1hteg   \n3  https://gleaner.io/xid/genid/cggj3irk59mc73f1l3c0   \n4  https://gleaner.io/xid/genid/cggj3f3k59mc73f1kio0   \n5  https://gleaner.io/xid/genid/cggj3nrk59mc73f1lud0   \n6  https://gleaner.io/xid/genid/cggj4cbk59mc73f1p420   \n7  https://gleaner.io/xid/genid/cggj3irk59mc73f1l3v0   \n8  https://gleaner.io/xid/genid/cggj2q3k59mc73f1hae0   \n9  https://gleaner.io/xid/genid/cggj2qjk59mc73f1hdo0   \n\n                                               value       shape  \n0  {'type': 'Point', 'coordinates': [-126.1741132...  geoPolygon  \n1  {'type': 'Polygon', 'coordinates': [[[-69.4648...  geoPolygon  \n2  {'type': 'Point', 'coordinates': [-123.10881, ...  geoPolygon  \n3  {'type': 'Polygon', 'coordinates': [[[-121.200...  geoPolygon  \n4  {'type': 'Point', 'coordinates': [-123.3910166...  geoPolygon  \n5  {'type': 'Point', 'coordinates': [-125.2815, 4...  geoPolygon  \n6  {'type': 'Point', 'coordinates': [-123.0385166...  geoPolygon  \n7  {'type': 'Point', 'coordinates': [-129.08715, ...  geoPolygon  \n8  {'type': 'Point', 'coordinates': [-124.7500833...  geoPolygon  \n9  {'type': 'Polygon', 'coordinates': [[[-123.5, ...  geoPolygon  ",
      "text/html": "<div>\n<style scoped>\n    .dataframe tbody tr th:only-of-type {\n        vertical-align: middle;\n    }\n\n    .dataframe tbody tr th {\n        vertical-align: top;\n    }\n\n    .dataframe thead th {\n        text-align: right;\n    }\n</style>\n<table border=\"1\" class=\"dataframe\">\n  <thead>\n    <tr style=\"text-align: right;\">\n      <th></th>\n      <th>severity</th>\n      <th>constraint</th>\n      <th>path</th>\n      <th>message</th>\n      <th>focusURL</th>\n      <th>value</th>\n      <th>shape</th>\n    </tr>\n  </thead>\n  <tbody>\n    <tr>\n      <th>0</th>\n      <td>sh:Violation</td>\n      <td>sh:PatternConstraintComponent</td>\n      <td>schema:polygon</td>\n      <td>The polygon string must have the first and las...</td>\n      <td>https://gleaner.io/xid/genid/cggj45jk59mc73f1o3i0</td>\n      <td>{'type': 'Point', 'coordinates': [-126.1741132...</td>\n      <td>geoPolygon</td>\n    </tr>\n    <tr>\n      <th>1</th>\n      <td>sh:Violation</td>\n      <td>sh:PatternConstraintComponent</td>\n      <td>schema:polygon</td>\n      <td>The polygon string must have the first and las...</td>\n      <td>https://gleaner.io/xid/genid/cggj3r3k59mc73f1me0g</td>\n      <td>{'type': 'Polygon', 'coordinates': [[[-69.4648...</td>\n      <td>geoPolygon</td>\n    </tr>\n    <tr>\n      <th>2</th>\n      <td>sh:Violation</td>\n      <td>sh:PatternConstraintComponent</td>\n      <td>schema:polygon</td>\n      <td>The string must consists of numeric, space-sep...</td>\n      <td>https://gleaner.io/xid/genid/cggj2u3k59mc73f1hteg</td>\n      <td>{'type': 'Point', 'coordinates': [-123.10881, ...</td>\n      <td>geoPolygon</td>\n    </tr>\n    <tr>\n      <th>3</th>\n      <td>sh:Violation</td>\n      <td>sh:PatternConstraintComponent</td>\n      <td>schema:polygon</td>\n      <td>The string must consists of numeric, space-sep...</td>\n      <td>https://gleaner.io/xid/genid/cggj3irk59mc73f1l3c0</td>\n      <td>{'type': 'Polygon', 'coordinates': [[[-121.200...</td>\n      <td>geoPolygon</td>\n    </tr>\n    <tr>\n      <th>4</th>\n      <td>sh:Violation</td>\n      <td>sh:PatternConstraintComponent</td>\n      <td>schema:polygon</td>\n      <td>The polygon string must have the first and las...</td>\n      <td>https://gleaner.io/xid/genid/cggj3f3k59mc73f1kio0</td>\n      <td>{'type': 'Point', 'coordinates': [-123.3910166...</td>\n      <td>geoPolygon</td>\n    </tr>\n    <tr>\n      <th>5</th>\n      <td>sh:Violation</td>\n      <td>sh:PatternConstraintComponent</td>\n      <td>schema:polygon</td>\n      <td>The string must consists of numeric, space-sep...</td>\n      <td>https://gleaner.io/xid/genid/cggj3nrk59mc73f1lud0</td>\n      <td>{'type': 'Point', 'coordinates': [-125.2815, 4...</td>\n      <td>geoPolygon</td>\n    </tr>\n    <tr>\n      <th>6</th>\n      <td>sh:Violation</td>\n      <td>sh:PatternConstraintComponent</td>\n      <td>schema:polygon</td>\n      <td>The string must consists of numeric, space-sep...</td>\n      <td>https://gleaner.io/xid/genid/cggj4cbk59mc73f1p420</td>\n      <td>{'type': 'Point', 'coordinates': [-123.0385166...</td>\n      <td>geoPolygon</td>\n    </tr>\n    <tr>\n      <th>7</th>\n      <td>sh:Violation</td>\n      <td>sh:PatternConstraintComponent</td>\n      <td>schema:polygon</td>\n      <td>The polygon string must have the first and las...</td>\n      <td>https://gleaner.io/xid/genid/cggj3irk59mc73f1l3v0</td>\n      <td>{'type': 'Point', 'coordinates': [-129.08715, ...</td>\n      <td>geoPolygon</td>\n    </tr>\n    <tr>\n      <th>8</th>\n      <td>sh:Violation</td>\n      <td>sh:PatternConstraintComponent</td>\n      <td>schema:polygon</td>\n      <td>The string must consists of numeric, space-sep...</td>\n      <td>https://gleaner.io/xid/genid/cggj2q3k59mc73f1hae0</td>\n      <td>{'type': 'Point', 'coordinates': [-124.7500833...</td>\n      <td>geoPolygon</td>\n    </tr>\n    <tr>\n      <th>9</th>\n      <td>sh:Violation</td>\n      <td>sh:PatternConstraintComponent</td>\n      <td>schema:polygon</td>\n      <td>The polygon string must have the first and las...</td>\n      <td>https://gleaner.io/xid/genid/cggj2qjk59mc73f1hdo0</td>\n      <td>{'type': 'Polygon', 'coordinates': [[[-123.5, ...</td>\n      <td>geoPolygon</td>\n    </tr>\n  </tbody>\n</table>\n</div>"
     },
     "execution_count": 24,
     "metadata": {},
     "output_type": "execute_result"
    }
   ]
  },
  {
   "cell_type": "code",
   "execution_count": 25,
   "metadata": {
    "id": "teYe0CL5Xjxe",
    "ExecuteTime": {
     "end_time": "2023-11-30T13:54:22.746133928Z",
     "start_time": "2023-11-30T13:54:22.724533416Z"
    }
   },
   "outputs": [],
   "source": [
    "summary = df.groupby([df[\"shape\"]]).count()\n",
    "summary.reset_index(level=0, inplace=True)\n",
    "summary['valid'] = summary['severity'].apply(lambda x: (countsdf[\"count\"].sum()) - x)"
   ]
  },
  {
   "cell_type": "code",
   "execution_count": 26,
   "metadata": {
    "colab": {
     "base_uri": "https://localhost:8080/",
     "height": 269
    },
    "id": "f80kv6ATzaWh",
    "outputId": "925c5eca-b2be-4db2-885c-c8faef4a79dd",
    "ExecuteTime": {
     "end_time": "2023-11-30T13:54:23.895139720Z",
     "start_time": "2023-11-30T13:54:23.886211084Z"
    }
   },
   "outputs": [
    {
     "data": {
      "text/plain": "               shape  severity  constraint  path  message  focusURL  value  \\\n0         basicShape      3513        3513  3513     3513      3513      0   \n1    connectionShape      3510        3510  3510     3510      3510      0   \n2  distributionShape      1855        1855  1855     1855      1855      0   \n3         geoPolygon      4076        4076  4076     4076      4076   4076   \n4           geoShape       523         523   523      523       523      0   \n5    identifierShape      4878        4878  4878     4878      4878      0   \n6      personIDShape      1372        1372  1372     1372      1372      0   \n\n   valid  \n0   2015  \n1   2018  \n2   3673  \n3   1452  \n4   5005  \n5    650  \n6   4156  ",
      "text/html": "<div>\n<style scoped>\n    .dataframe tbody tr th:only-of-type {\n        vertical-align: middle;\n    }\n\n    .dataframe tbody tr th {\n        vertical-align: top;\n    }\n\n    .dataframe thead th {\n        text-align: right;\n    }\n</style>\n<table border=\"1\" class=\"dataframe\">\n  <thead>\n    <tr style=\"text-align: right;\">\n      <th></th>\n      <th>shape</th>\n      <th>severity</th>\n      <th>constraint</th>\n      <th>path</th>\n      <th>message</th>\n      <th>focusURL</th>\n      <th>value</th>\n      <th>valid</th>\n    </tr>\n  </thead>\n  <tbody>\n    <tr>\n      <th>0</th>\n      <td>basicShape</td>\n      <td>3513</td>\n      <td>3513</td>\n      <td>3513</td>\n      <td>3513</td>\n      <td>3513</td>\n      <td>0</td>\n      <td>2015</td>\n    </tr>\n    <tr>\n      <th>1</th>\n      <td>connectionShape</td>\n      <td>3510</td>\n      <td>3510</td>\n      <td>3510</td>\n      <td>3510</td>\n      <td>3510</td>\n      <td>0</td>\n      <td>2018</td>\n    </tr>\n    <tr>\n      <th>2</th>\n      <td>distributionShape</td>\n      <td>1855</td>\n      <td>1855</td>\n      <td>1855</td>\n      <td>1855</td>\n      <td>1855</td>\n      <td>0</td>\n      <td>3673</td>\n    </tr>\n    <tr>\n      <th>3</th>\n      <td>geoPolygon</td>\n      <td>4076</td>\n      <td>4076</td>\n      <td>4076</td>\n      <td>4076</td>\n      <td>4076</td>\n      <td>4076</td>\n      <td>1452</td>\n    </tr>\n    <tr>\n      <th>4</th>\n      <td>geoShape</td>\n      <td>523</td>\n      <td>523</td>\n      <td>523</td>\n      <td>523</td>\n      <td>523</td>\n      <td>0</td>\n      <td>5005</td>\n    </tr>\n    <tr>\n      <th>5</th>\n      <td>identifierShape</td>\n      <td>4878</td>\n      <td>4878</td>\n      <td>4878</td>\n      <td>4878</td>\n      <td>4878</td>\n      <td>0</td>\n      <td>650</td>\n    </tr>\n    <tr>\n      <th>6</th>\n      <td>personIDShape</td>\n      <td>1372</td>\n      <td>1372</td>\n      <td>1372</td>\n      <td>1372</td>\n      <td>1372</td>\n      <td>0</td>\n      <td>4156</td>\n    </tr>\n  </tbody>\n</table>\n</div>"
     },
     "execution_count": 26,
     "metadata": {},
     "output_type": "execute_result"
    }
   ],
   "source": [
    "summary.head(20)"
   ]
  },
  {
   "cell_type": "code",
   "execution_count": 28,
   "metadata": {
    "colab": {
     "base_uri": "https://localhost:8080/",
     "height": 542
    },
    "id": "fHXa9qSGYHv8",
    "outputId": "28821a0e-b4f5-4ca5-b58a-f1ff8fe20d08",
    "ExecuteTime": {
     "end_time": "2023-11-30T13:54:39.321585974Z",
     "start_time": "2023-11-30T13:54:39.296651050Z"
    }
   },
   "outputs": [
    {
     "data": {
      "application/vnd.plotly.v1+json": {
       "data": [
        {
         "hovertemplate": "r=%{r}<br>theta=%{theta}<extra></extra>",
         "legendgroup": "",
         "line": {
          "color": "#636efa",
          "dash": "solid"
         },
         "marker": {
          "symbol": "circle"
         },
         "mode": "lines",
         "name": "",
         "r": [
          3513,
          3510,
          1855,
          4076,
          523,
          4878,
          1372,
          3513
         ],
         "showlegend": false,
         "subplot": "polar",
         "theta": [
          "basicShape",
          "connectionShape",
          "distributionShape",
          "geoPolygon",
          "geoShape",
          "identifierShape",
          "personIDShape",
          "basicShape"
         ],
         "type": "scatterpolar",
         "fill": "toself"
        }
       ],
       "layout": {
        "template": {
         "data": {
          "histogram2dcontour": [
           {
            "type": "histogram2dcontour",
            "colorbar": {
             "outlinewidth": 0,
             "ticks": ""
            },
            "colorscale": [
             [
              0.0,
              "#0d0887"
             ],
             [
              0.1111111111111111,
              "#46039f"
             ],
             [
              0.2222222222222222,
              "#7201a8"
             ],
             [
              0.3333333333333333,
              "#9c179e"
             ],
             [
              0.4444444444444444,
              "#bd3786"
             ],
             [
              0.5555555555555556,
              "#d8576b"
             ],
             [
              0.6666666666666666,
              "#ed7953"
             ],
             [
              0.7777777777777778,
              "#fb9f3a"
             ],
             [
              0.8888888888888888,
              "#fdca26"
             ],
             [
              1.0,
              "#f0f921"
             ]
            ]
           }
          ],
          "choropleth": [
           {
            "type": "choropleth",
            "colorbar": {
             "outlinewidth": 0,
             "ticks": ""
            }
           }
          ],
          "histogram2d": [
           {
            "type": "histogram2d",
            "colorbar": {
             "outlinewidth": 0,
             "ticks": ""
            },
            "colorscale": [
             [
              0.0,
              "#0d0887"
             ],
             [
              0.1111111111111111,
              "#46039f"
             ],
             [
              0.2222222222222222,
              "#7201a8"
             ],
             [
              0.3333333333333333,
              "#9c179e"
             ],
             [
              0.4444444444444444,
              "#bd3786"
             ],
             [
              0.5555555555555556,
              "#d8576b"
             ],
             [
              0.6666666666666666,
              "#ed7953"
             ],
             [
              0.7777777777777778,
              "#fb9f3a"
             ],
             [
              0.8888888888888888,
              "#fdca26"
             ],
             [
              1.0,
              "#f0f921"
             ]
            ]
           }
          ],
          "heatmap": [
           {
            "type": "heatmap",
            "colorbar": {
             "outlinewidth": 0,
             "ticks": ""
            },
            "colorscale": [
             [
              0.0,
              "#0d0887"
             ],
             [
              0.1111111111111111,
              "#46039f"
             ],
             [
              0.2222222222222222,
              "#7201a8"
             ],
             [
              0.3333333333333333,
              "#9c179e"
             ],
             [
              0.4444444444444444,
              "#bd3786"
             ],
             [
              0.5555555555555556,
              "#d8576b"
             ],
             [
              0.6666666666666666,
              "#ed7953"
             ],
             [
              0.7777777777777778,
              "#fb9f3a"
             ],
             [
              0.8888888888888888,
              "#fdca26"
             ],
             [
              1.0,
              "#f0f921"
             ]
            ]
           }
          ],
          "heatmapgl": [
           {
            "type": "heatmapgl",
            "colorbar": {
             "outlinewidth": 0,
             "ticks": ""
            },
            "colorscale": [
             [
              0.0,
              "#0d0887"
             ],
             [
              0.1111111111111111,
              "#46039f"
             ],
             [
              0.2222222222222222,
              "#7201a8"
             ],
             [
              0.3333333333333333,
              "#9c179e"
             ],
             [
              0.4444444444444444,
              "#bd3786"
             ],
             [
              0.5555555555555556,
              "#d8576b"
             ],
             [
              0.6666666666666666,
              "#ed7953"
             ],
             [
              0.7777777777777778,
              "#fb9f3a"
             ],
             [
              0.8888888888888888,
              "#fdca26"
             ],
             [
              1.0,
              "#f0f921"
             ]
            ]
           }
          ],
          "contourcarpet": [
           {
            "type": "contourcarpet",
            "colorbar": {
             "outlinewidth": 0,
             "ticks": ""
            }
           }
          ],
          "contour": [
           {
            "type": "contour",
            "colorbar": {
             "outlinewidth": 0,
             "ticks": ""
            },
            "colorscale": [
             [
              0.0,
              "#0d0887"
             ],
             [
              0.1111111111111111,
              "#46039f"
             ],
             [
              0.2222222222222222,
              "#7201a8"
             ],
             [
              0.3333333333333333,
              "#9c179e"
             ],
             [
              0.4444444444444444,
              "#bd3786"
             ],
             [
              0.5555555555555556,
              "#d8576b"
             ],
             [
              0.6666666666666666,
              "#ed7953"
             ],
             [
              0.7777777777777778,
              "#fb9f3a"
             ],
             [
              0.8888888888888888,
              "#fdca26"
             ],
             [
              1.0,
              "#f0f921"
             ]
            ]
           }
          ],
          "surface": [
           {
            "type": "surface",
            "colorbar": {
             "outlinewidth": 0,
             "ticks": ""
            },
            "colorscale": [
             [
              0.0,
              "#0d0887"
             ],
             [
              0.1111111111111111,
              "#46039f"
             ],
             [
              0.2222222222222222,
              "#7201a8"
             ],
             [
              0.3333333333333333,
              "#9c179e"
             ],
             [
              0.4444444444444444,
              "#bd3786"
             ],
             [
              0.5555555555555556,
              "#d8576b"
             ],
             [
              0.6666666666666666,
              "#ed7953"
             ],
             [
              0.7777777777777778,
              "#fb9f3a"
             ],
             [
              0.8888888888888888,
              "#fdca26"
             ],
             [
              1.0,
              "#f0f921"
             ]
            ]
           }
          ],
          "mesh3d": [
           {
            "type": "mesh3d",
            "colorbar": {
             "outlinewidth": 0,
             "ticks": ""
            }
           }
          ],
          "scatter": [
           {
            "fillpattern": {
             "fillmode": "overlay",
             "size": 10,
             "solidity": 0.2
            },
            "type": "scatter"
           }
          ],
          "parcoords": [
           {
            "type": "parcoords",
            "line": {
             "colorbar": {
              "outlinewidth": 0,
              "ticks": ""
             }
            }
           }
          ],
          "scatterpolargl": [
           {
            "type": "scatterpolargl",
            "marker": {
             "colorbar": {
              "outlinewidth": 0,
              "ticks": ""
             }
            }
           }
          ],
          "bar": [
           {
            "error_x": {
             "color": "#2a3f5f"
            },
            "error_y": {
             "color": "#2a3f5f"
            },
            "marker": {
             "line": {
              "color": "#E5ECF6",
              "width": 0.5
             },
             "pattern": {
              "fillmode": "overlay",
              "size": 10,
              "solidity": 0.2
             }
            },
            "type": "bar"
           }
          ],
          "scattergeo": [
           {
            "type": "scattergeo",
            "marker": {
             "colorbar": {
              "outlinewidth": 0,
              "ticks": ""
             }
            }
           }
          ],
          "scatterpolar": [
           {
            "type": "scatterpolar",
            "marker": {
             "colorbar": {
              "outlinewidth": 0,
              "ticks": ""
             }
            }
           }
          ],
          "histogram": [
           {
            "marker": {
             "pattern": {
              "fillmode": "overlay",
              "size": 10,
              "solidity": 0.2
             }
            },
            "type": "histogram"
           }
          ],
          "scattergl": [
           {
            "type": "scattergl",
            "marker": {
             "colorbar": {
              "outlinewidth": 0,
              "ticks": ""
             }
            }
           }
          ],
          "scatter3d": [
           {
            "type": "scatter3d",
            "line": {
             "colorbar": {
              "outlinewidth": 0,
              "ticks": ""
             }
            },
            "marker": {
             "colorbar": {
              "outlinewidth": 0,
              "ticks": ""
             }
            }
           }
          ],
          "scattermapbox": [
           {
            "type": "scattermapbox",
            "marker": {
             "colorbar": {
              "outlinewidth": 0,
              "ticks": ""
             }
            }
           }
          ],
          "scatterternary": [
           {
            "type": "scatterternary",
            "marker": {
             "colorbar": {
              "outlinewidth": 0,
              "ticks": ""
             }
            }
           }
          ],
          "scattercarpet": [
           {
            "type": "scattercarpet",
            "marker": {
             "colorbar": {
              "outlinewidth": 0,
              "ticks": ""
             }
            }
           }
          ],
          "carpet": [
           {
            "aaxis": {
             "endlinecolor": "#2a3f5f",
             "gridcolor": "white",
             "linecolor": "white",
             "minorgridcolor": "white",
             "startlinecolor": "#2a3f5f"
            },
            "baxis": {
             "endlinecolor": "#2a3f5f",
             "gridcolor": "white",
             "linecolor": "white",
             "minorgridcolor": "white",
             "startlinecolor": "#2a3f5f"
            },
            "type": "carpet"
           }
          ],
          "table": [
           {
            "cells": {
             "fill": {
              "color": "#EBF0F8"
             },
             "line": {
              "color": "white"
             }
            },
            "header": {
             "fill": {
              "color": "#C8D4E3"
             },
             "line": {
              "color": "white"
             }
            },
            "type": "table"
           }
          ],
          "barpolar": [
           {
            "marker": {
             "line": {
              "color": "#E5ECF6",
              "width": 0.5
             },
             "pattern": {
              "fillmode": "overlay",
              "size": 10,
              "solidity": 0.2
             }
            },
            "type": "barpolar"
           }
          ],
          "pie": [
           {
            "automargin": true,
            "type": "pie"
           }
          ]
         },
         "layout": {
          "autotypenumbers": "strict",
          "colorway": [
           "#636efa",
           "#EF553B",
           "#00cc96",
           "#ab63fa",
           "#FFA15A",
           "#19d3f3",
           "#FF6692",
           "#B6E880",
           "#FF97FF",
           "#FECB52"
          ],
          "font": {
           "color": "#2a3f5f"
          },
          "hovermode": "closest",
          "hoverlabel": {
           "align": "left"
          },
          "paper_bgcolor": "white",
          "plot_bgcolor": "#E5ECF6",
          "polar": {
           "bgcolor": "#E5ECF6",
           "angularaxis": {
            "gridcolor": "white",
            "linecolor": "white",
            "ticks": ""
           },
           "radialaxis": {
            "gridcolor": "white",
            "linecolor": "white",
            "ticks": ""
           }
          },
          "ternary": {
           "bgcolor": "#E5ECF6",
           "aaxis": {
            "gridcolor": "white",
            "linecolor": "white",
            "ticks": ""
           },
           "baxis": {
            "gridcolor": "white",
            "linecolor": "white",
            "ticks": ""
           },
           "caxis": {
            "gridcolor": "white",
            "linecolor": "white",
            "ticks": ""
           }
          },
          "coloraxis": {
           "colorbar": {
            "outlinewidth": 0,
            "ticks": ""
           }
          },
          "colorscale": {
           "sequential": [
            [
             0.0,
             "#0d0887"
            ],
            [
             0.1111111111111111,
             "#46039f"
            ],
            [
             0.2222222222222222,
             "#7201a8"
            ],
            [
             0.3333333333333333,
             "#9c179e"
            ],
            [
             0.4444444444444444,
             "#bd3786"
            ],
            [
             0.5555555555555556,
             "#d8576b"
            ],
            [
             0.6666666666666666,
             "#ed7953"
            ],
            [
             0.7777777777777778,
             "#fb9f3a"
            ],
            [
             0.8888888888888888,
             "#fdca26"
            ],
            [
             1.0,
             "#f0f921"
            ]
           ],
           "sequentialminus": [
            [
             0.0,
             "#0d0887"
            ],
            [
             0.1111111111111111,
             "#46039f"
            ],
            [
             0.2222222222222222,
             "#7201a8"
            ],
            [
             0.3333333333333333,
             "#9c179e"
            ],
            [
             0.4444444444444444,
             "#bd3786"
            ],
            [
             0.5555555555555556,
             "#d8576b"
            ],
            [
             0.6666666666666666,
             "#ed7953"
            ],
            [
             0.7777777777777778,
             "#fb9f3a"
            ],
            [
             0.8888888888888888,
             "#fdca26"
            ],
            [
             1.0,
             "#f0f921"
            ]
           ],
           "diverging": [
            [
             0,
             "#8e0152"
            ],
            [
             0.1,
             "#c51b7d"
            ],
            [
             0.2,
             "#de77ae"
            ],
            [
             0.3,
             "#f1b6da"
            ],
            [
             0.4,
             "#fde0ef"
            ],
            [
             0.5,
             "#f7f7f7"
            ],
            [
             0.6,
             "#e6f5d0"
            ],
            [
             0.7,
             "#b8e186"
            ],
            [
             0.8,
             "#7fbc41"
            ],
            [
             0.9,
             "#4d9221"
            ],
            [
             1,
             "#276419"
            ]
           ]
          },
          "xaxis": {
           "gridcolor": "white",
           "linecolor": "white",
           "ticks": "",
           "title": {
            "standoff": 15
           },
           "zerolinecolor": "white",
           "automargin": true,
           "zerolinewidth": 2
          },
          "yaxis": {
           "gridcolor": "white",
           "linecolor": "white",
           "ticks": "",
           "title": {
            "standoff": 15
           },
           "zerolinecolor": "white",
           "automargin": true,
           "zerolinewidth": 2
          },
          "scene": {
           "xaxis": {
            "backgroundcolor": "#E5ECF6",
            "gridcolor": "white",
            "linecolor": "white",
            "showbackground": true,
            "ticks": "",
            "zerolinecolor": "white",
            "gridwidth": 2
           },
           "yaxis": {
            "backgroundcolor": "#E5ECF6",
            "gridcolor": "white",
            "linecolor": "white",
            "showbackground": true,
            "ticks": "",
            "zerolinecolor": "white",
            "gridwidth": 2
           },
           "zaxis": {
            "backgroundcolor": "#E5ECF6",
            "gridcolor": "white",
            "linecolor": "white",
            "showbackground": true,
            "ticks": "",
            "zerolinecolor": "white",
            "gridwidth": 2
           }
          },
          "shapedefaults": {
           "line": {
            "color": "#2a3f5f"
           }
          },
          "annotationdefaults": {
           "arrowcolor": "#2a3f5f",
           "arrowhead": 0,
           "arrowwidth": 1
          },
          "geo": {
           "bgcolor": "white",
           "landcolor": "#E5ECF6",
           "subunitcolor": "white",
           "showland": true,
           "showlakes": true,
           "lakecolor": "white"
          },
          "title": {
           "x": 0.05
          },
          "mapbox": {
           "style": "light"
          }
         }
        },
        "polar": {
         "domain": {
          "x": [
           0.0,
           1.0
          ],
          "y": [
           0.0,
           1.0
          ]
         },
         "angularaxis": {
          "direction": "clockwise",
          "rotation": 90
         },
         "radialaxis": {
          "visible": true,
          "range": [
           0,
           4878
          ]
         }
        },
        "legend": {
         "tracegroupgap": 0
        },
        "margin": {
         "t": 60
        },
        "showlegend": true,
        "title": {
         "text": "XYZ Summary"
        }
       },
       "config": {
        "plotlyServerURL": "https://plot.ly"
       }
      },
      "text/html": "<div>                            <div id=\"4182e097-be9d-42ae-88be-68841d21ffa1\" class=\"plotly-graph-div\" style=\"height:525px; width:100%;\"></div>            <script type=\"text/javascript\">                require([\"plotly\"], function(Plotly) {                    window.PLOTLYENV=window.PLOTLYENV || {};                                    if (document.getElementById(\"4182e097-be9d-42ae-88be-68841d21ffa1\")) {                    Plotly.newPlot(                        \"4182e097-be9d-42ae-88be-68841d21ffa1\",                        [{\"hovertemplate\":\"r=%{r}<br>theta=%{theta}<extra></extra>\",\"legendgroup\":\"\",\"line\":{\"color\":\"#636efa\",\"dash\":\"solid\"},\"marker\":{\"symbol\":\"circle\"},\"mode\":\"lines\",\"name\":\"\",\"r\":[3513,3510,1855,4076,523,4878,1372,3513],\"showlegend\":false,\"subplot\":\"polar\",\"theta\":[\"basicShape\",\"connectionShape\",\"distributionShape\",\"geoPolygon\",\"geoShape\",\"identifierShape\",\"personIDShape\",\"basicShape\"],\"type\":\"scatterpolar\",\"fill\":\"toself\"}],                        {\"template\":{\"data\":{\"histogram2dcontour\":[{\"type\":\"histogram2dcontour\",\"colorbar\":{\"outlinewidth\":0,\"ticks\":\"\"},\"colorscale\":[[0.0,\"#0d0887\"],[0.1111111111111111,\"#46039f\"],[0.2222222222222222,\"#7201a8\"],[0.3333333333333333,\"#9c179e\"],[0.4444444444444444,\"#bd3786\"],[0.5555555555555556,\"#d8576b\"],[0.6666666666666666,\"#ed7953\"],[0.7777777777777778,\"#fb9f3a\"],[0.8888888888888888,\"#fdca26\"],[1.0,\"#f0f921\"]]}],\"choropleth\":[{\"type\":\"choropleth\",\"colorbar\":{\"outlinewidth\":0,\"ticks\":\"\"}}],\"histogram2d\":[{\"type\":\"histogram2d\",\"colorbar\":{\"outlinewidth\":0,\"ticks\":\"\"},\"colorscale\":[[0.0,\"#0d0887\"],[0.1111111111111111,\"#46039f\"],[0.2222222222222222,\"#7201a8\"],[0.3333333333333333,\"#9c179e\"],[0.4444444444444444,\"#bd3786\"],[0.5555555555555556,\"#d8576b\"],[0.6666666666666666,\"#ed7953\"],[0.7777777777777778,\"#fb9f3a\"],[0.8888888888888888,\"#fdca26\"],[1.0,\"#f0f921\"]]}],\"heatmap\":[{\"type\":\"heatmap\",\"colorbar\":{\"outlinewidth\":0,\"ticks\":\"\"},\"colorscale\":[[0.0,\"#0d0887\"],[0.1111111111111111,\"#46039f\"],[0.2222222222222222,\"#7201a8\"],[0.3333333333333333,\"#9c179e\"],[0.4444444444444444,\"#bd3786\"],[0.5555555555555556,\"#d8576b\"],[0.6666666666666666,\"#ed7953\"],[0.7777777777777778,\"#fb9f3a\"],[0.8888888888888888,\"#fdca26\"],[1.0,\"#f0f921\"]]}],\"heatmapgl\":[{\"type\":\"heatmapgl\",\"colorbar\":{\"outlinewidth\":0,\"ticks\":\"\"},\"colorscale\":[[0.0,\"#0d0887\"],[0.1111111111111111,\"#46039f\"],[0.2222222222222222,\"#7201a8\"],[0.3333333333333333,\"#9c179e\"],[0.4444444444444444,\"#bd3786\"],[0.5555555555555556,\"#d8576b\"],[0.6666666666666666,\"#ed7953\"],[0.7777777777777778,\"#fb9f3a\"],[0.8888888888888888,\"#fdca26\"],[1.0,\"#f0f921\"]]}],\"contourcarpet\":[{\"type\":\"contourcarpet\",\"colorbar\":{\"outlinewidth\":0,\"ticks\":\"\"}}],\"contour\":[{\"type\":\"contour\",\"colorbar\":{\"outlinewidth\":0,\"ticks\":\"\"},\"colorscale\":[[0.0,\"#0d0887\"],[0.1111111111111111,\"#46039f\"],[0.2222222222222222,\"#7201a8\"],[0.3333333333333333,\"#9c179e\"],[0.4444444444444444,\"#bd3786\"],[0.5555555555555556,\"#d8576b\"],[0.6666666666666666,\"#ed7953\"],[0.7777777777777778,\"#fb9f3a\"],[0.8888888888888888,\"#fdca26\"],[1.0,\"#f0f921\"]]}],\"surface\":[{\"type\":\"surface\",\"colorbar\":{\"outlinewidth\":0,\"ticks\":\"\"},\"colorscale\":[[0.0,\"#0d0887\"],[0.1111111111111111,\"#46039f\"],[0.2222222222222222,\"#7201a8\"],[0.3333333333333333,\"#9c179e\"],[0.4444444444444444,\"#bd3786\"],[0.5555555555555556,\"#d8576b\"],[0.6666666666666666,\"#ed7953\"],[0.7777777777777778,\"#fb9f3a\"],[0.8888888888888888,\"#fdca26\"],[1.0,\"#f0f921\"]]}],\"mesh3d\":[{\"type\":\"mesh3d\",\"colorbar\":{\"outlinewidth\":0,\"ticks\":\"\"}}],\"scatter\":[{\"fillpattern\":{\"fillmode\":\"overlay\",\"size\":10,\"solidity\":0.2},\"type\":\"scatter\"}],\"parcoords\":[{\"type\":\"parcoords\",\"line\":{\"colorbar\":{\"outlinewidth\":0,\"ticks\":\"\"}}}],\"scatterpolargl\":[{\"type\":\"scatterpolargl\",\"marker\":{\"colorbar\":{\"outlinewidth\":0,\"ticks\":\"\"}}}],\"bar\":[{\"error_x\":{\"color\":\"#2a3f5f\"},\"error_y\":{\"color\":\"#2a3f5f\"},\"marker\":{\"line\":{\"color\":\"#E5ECF6\",\"width\":0.5},\"pattern\":{\"fillmode\":\"overlay\",\"size\":10,\"solidity\":0.2}},\"type\":\"bar\"}],\"scattergeo\":[{\"type\":\"scattergeo\",\"marker\":{\"colorbar\":{\"outlinewidth\":0,\"ticks\":\"\"}}}],\"scatterpolar\":[{\"type\":\"scatterpolar\",\"marker\":{\"colorbar\":{\"outlinewidth\":0,\"ticks\":\"\"}}}],\"histogram\":[{\"marker\":{\"pattern\":{\"fillmode\":\"overlay\",\"size\":10,\"solidity\":0.2}},\"type\":\"histogram\"}],\"scattergl\":[{\"type\":\"scattergl\",\"marker\":{\"colorbar\":{\"outlinewidth\":0,\"ticks\":\"\"}}}],\"scatter3d\":[{\"type\":\"scatter3d\",\"line\":{\"colorbar\":{\"outlinewidth\":0,\"ticks\":\"\"}},\"marker\":{\"colorbar\":{\"outlinewidth\":0,\"ticks\":\"\"}}}],\"scattermapbox\":[{\"type\":\"scattermapbox\",\"marker\":{\"colorbar\":{\"outlinewidth\":0,\"ticks\":\"\"}}}],\"scatterternary\":[{\"type\":\"scatterternary\",\"marker\":{\"colorbar\":{\"outlinewidth\":0,\"ticks\":\"\"}}}],\"scattercarpet\":[{\"type\":\"scattercarpet\",\"marker\":{\"colorbar\":{\"outlinewidth\":0,\"ticks\":\"\"}}}],\"carpet\":[{\"aaxis\":{\"endlinecolor\":\"#2a3f5f\",\"gridcolor\":\"white\",\"linecolor\":\"white\",\"minorgridcolor\":\"white\",\"startlinecolor\":\"#2a3f5f\"},\"baxis\":{\"endlinecolor\":\"#2a3f5f\",\"gridcolor\":\"white\",\"linecolor\":\"white\",\"minorgridcolor\":\"white\",\"startlinecolor\":\"#2a3f5f\"},\"type\":\"carpet\"}],\"table\":[{\"cells\":{\"fill\":{\"color\":\"#EBF0F8\"},\"line\":{\"color\":\"white\"}},\"header\":{\"fill\":{\"color\":\"#C8D4E3\"},\"line\":{\"color\":\"white\"}},\"type\":\"table\"}],\"barpolar\":[{\"marker\":{\"line\":{\"color\":\"#E5ECF6\",\"width\":0.5},\"pattern\":{\"fillmode\":\"overlay\",\"size\":10,\"solidity\":0.2}},\"type\":\"barpolar\"}],\"pie\":[{\"automargin\":true,\"type\":\"pie\"}]},\"layout\":{\"autotypenumbers\":\"strict\",\"colorway\":[\"#636efa\",\"#EF553B\",\"#00cc96\",\"#ab63fa\",\"#FFA15A\",\"#19d3f3\",\"#FF6692\",\"#B6E880\",\"#FF97FF\",\"#FECB52\"],\"font\":{\"color\":\"#2a3f5f\"},\"hovermode\":\"closest\",\"hoverlabel\":{\"align\":\"left\"},\"paper_bgcolor\":\"white\",\"plot_bgcolor\":\"#E5ECF6\",\"polar\":{\"bgcolor\":\"#E5ECF6\",\"angularaxis\":{\"gridcolor\":\"white\",\"linecolor\":\"white\",\"ticks\":\"\"},\"radialaxis\":{\"gridcolor\":\"white\",\"linecolor\":\"white\",\"ticks\":\"\"}},\"ternary\":{\"bgcolor\":\"#E5ECF6\",\"aaxis\":{\"gridcolor\":\"white\",\"linecolor\":\"white\",\"ticks\":\"\"},\"baxis\":{\"gridcolor\":\"white\",\"linecolor\":\"white\",\"ticks\":\"\"},\"caxis\":{\"gridcolor\":\"white\",\"linecolor\":\"white\",\"ticks\":\"\"}},\"coloraxis\":{\"colorbar\":{\"outlinewidth\":0,\"ticks\":\"\"}},\"colorscale\":{\"sequential\":[[0.0,\"#0d0887\"],[0.1111111111111111,\"#46039f\"],[0.2222222222222222,\"#7201a8\"],[0.3333333333333333,\"#9c179e\"],[0.4444444444444444,\"#bd3786\"],[0.5555555555555556,\"#d8576b\"],[0.6666666666666666,\"#ed7953\"],[0.7777777777777778,\"#fb9f3a\"],[0.8888888888888888,\"#fdca26\"],[1.0,\"#f0f921\"]],\"sequentialminus\":[[0.0,\"#0d0887\"],[0.1111111111111111,\"#46039f\"],[0.2222222222222222,\"#7201a8\"],[0.3333333333333333,\"#9c179e\"],[0.4444444444444444,\"#bd3786\"],[0.5555555555555556,\"#d8576b\"],[0.6666666666666666,\"#ed7953\"],[0.7777777777777778,\"#fb9f3a\"],[0.8888888888888888,\"#fdca26\"],[1.0,\"#f0f921\"]],\"diverging\":[[0,\"#8e0152\"],[0.1,\"#c51b7d\"],[0.2,\"#de77ae\"],[0.3,\"#f1b6da\"],[0.4,\"#fde0ef\"],[0.5,\"#f7f7f7\"],[0.6,\"#e6f5d0\"],[0.7,\"#b8e186\"],[0.8,\"#7fbc41\"],[0.9,\"#4d9221\"],[1,\"#276419\"]]},\"xaxis\":{\"gridcolor\":\"white\",\"linecolor\":\"white\",\"ticks\":\"\",\"title\":{\"standoff\":15},\"zerolinecolor\":\"white\",\"automargin\":true,\"zerolinewidth\":2},\"yaxis\":{\"gridcolor\":\"white\",\"linecolor\":\"white\",\"ticks\":\"\",\"title\":{\"standoff\":15},\"zerolinecolor\":\"white\",\"automargin\":true,\"zerolinewidth\":2},\"scene\":{\"xaxis\":{\"backgroundcolor\":\"#E5ECF6\",\"gridcolor\":\"white\",\"linecolor\":\"white\",\"showbackground\":true,\"ticks\":\"\",\"zerolinecolor\":\"white\",\"gridwidth\":2},\"yaxis\":{\"backgroundcolor\":\"#E5ECF6\",\"gridcolor\":\"white\",\"linecolor\":\"white\",\"showbackground\":true,\"ticks\":\"\",\"zerolinecolor\":\"white\",\"gridwidth\":2},\"zaxis\":{\"backgroundcolor\":\"#E5ECF6\",\"gridcolor\":\"white\",\"linecolor\":\"white\",\"showbackground\":true,\"ticks\":\"\",\"zerolinecolor\":\"white\",\"gridwidth\":2}},\"shapedefaults\":{\"line\":{\"color\":\"#2a3f5f\"}},\"annotationdefaults\":{\"arrowcolor\":\"#2a3f5f\",\"arrowhead\":0,\"arrowwidth\":1},\"geo\":{\"bgcolor\":\"white\",\"landcolor\":\"#E5ECF6\",\"subunitcolor\":\"white\",\"showland\":true,\"showlakes\":true,\"lakecolor\":\"white\"},\"title\":{\"x\":0.05},\"mapbox\":{\"style\":\"light\"}}},\"polar\":{\"domain\":{\"x\":[0.0,1.0],\"y\":[0.0,1.0]},\"angularaxis\":{\"direction\":\"clockwise\",\"rotation\":90},\"radialaxis\":{\"visible\":true,\"range\":[0,4878]}},\"legend\":{\"tracegroupgap\":0},\"margin\":{\"t\":60},\"showlegend\":true,\"title\":{\"text\":\"XYZ Summary\"}},                        {\"responsive\": true}                    ).then(function(){\n                            \nvar gd = document.getElementById('4182e097-be9d-42ae-88be-68841d21ffa1');\nvar x = new MutationObserver(function (mutations, observer) {{\n        var display = window.getComputedStyle(gd).display;\n        if (!display || display === 'none') {{\n            console.log([gd, 'removed!']);\n            Plotly.purge(gd);\n            observer.disconnect();\n        }}\n}});\n\n// Listen for the removal of the full notebook cells\nvar notebookContainer = gd.closest('#notebook-container');\nif (notebookContainer) {{\n    x.observe(notebookContainer, {childList: true});\n}}\n\n// Listen for the clearing of the current output cell\nvar outputEl = gd.closest('.output');\nif (outputEl) {{\n    x.observe(outputEl, {childList: true});\n}}\n\n                        })                };                });            </script>        </div>"
     },
     "metadata": {},
     "output_type": "display_data"
    }
   ],
   "source": [
    "dfr = pd.DataFrame(dict(\n",
    "    r=summary['severity'].tolist(),   # vs valid which is hard since num resources can be < errors (multiple errors in a resource)\n",
    "    theta=summary['shape'].tolist()))\n",
    "fig = px.line_polar(dfr, r='r', theta='theta',line_close=True)\n",
    "fig.update_traces(fill='toself')\n",
    "\n",
    "# fig.add_trace( name=\"Validation Summary\" )\n",
    "\n",
    "fig.update_layout(\n",
    "  polar=dict(\n",
    "    radialaxis=dict(\n",
    "      visible=True,\n",
    "      range=[0, summary[\"severity\"].max()]\n",
    "      # range=[0, countsdf[\"count\"].sum()]\n",
    "    )),\n",
    "  showlegend=True,\n",
    "  title='XYZ Summary'\n",
    ")\n",
    "\n",
    "fig.show()"
   ]
  },
  {
   "cell_type": "code",
   "execution_count": 33,
   "metadata": {
    "id": "pOEI-uKyQaQT",
    "ExecuteTime": {
     "end_time": "2023-11-30T13:57:10.216883541Z",
     "start_time": "2023-11-30T13:57:10.147226593Z"
    }
   },
   "outputs": [],
   "source": [
    "# Save to CSV and analyze with tools like OpenRefine\n",
    "ensure_directory_exists(\"./output\")\n",
    "df.to_csv('./output/report.csv', index=False)\n",
    "summary.to_csv('./output/summary.csv', index=False)"
   ]
  },
  {
   "cell_type": "code",
   "source": [],
   "metadata": {
    "id": "_1-wjnAr6cqm"
   },
   "execution_count": null,
   "outputs": []
  }
 ],
 "metadata": {
  "colab": {
   "provenance": []
  },
  "kernelspec": {
   "name": "python3",
   "language": "python",
   "display_name": "Python 3"
  },
  "language_info": {
   "name": "python"
  }
 },
 "nbformat": 4,
 "nbformat_minor": 0
}
