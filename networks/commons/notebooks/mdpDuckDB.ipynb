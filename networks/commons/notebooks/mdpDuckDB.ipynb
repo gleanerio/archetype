{
 "cells": [
  {
   "cell_type": "markdown",
   "metadata": {
    "id": "lkMFr9t_61tW"
   },
   "source": [
    "# MDP Query with DuckDB\n",
    "\n",
    "A demonstrator notebook for DuckDB operations against Parquet files.  The goal is to develop and performance test queries in SQL against Parquet.\n",
    "\n",
    "\n",
    "<a href=\"https://githubtocolab.com/gleanerio/archetype/blob/master/networks/commons/mdpDuckDB.ipynb\" target=\"_parent\"><img src=\"https://colab.research.google.com/assets/colab-badge.png\" alt=\"Open in Colab\"/></a>\n",
    "\n"
   ]
  },
  {
   "cell_type": "code",
   "execution_count": null,
   "metadata": {
    "colab": {
     "base_uri": "https://localhost:8080/"
    },
    "id": "M205u8BFrHNl",
    "outputId": "9ff1ffc5-176f-4f78-e193-7624015fee96"
   },
   "outputs": [],
   "source": [
    "%%capture\n",
    "!pip install -q minio"
   ]
  },
  {
   "cell_type": "code",
   "execution_count": 2,
   "metadata": {
    "id": "mj9EkdVz7JSH",
    "tags": [],
    "ExecuteTime": {
     "end_time": "2023-12-12T14:49:06.209628940Z",
     "start_time": "2023-12-12T14:49:03.561290715Z"
    }
   },
   "outputs": [],
   "source": [
    "import duckdb\n",
    "import pandas as pd\n",
    "import numpy as np\n",
    "import os\n",
    "import spacy\n",
    "import tqdm\n",
    "from minio import Minio"
   ]
  },
  {
   "cell_type": "markdown",
   "source": [
    "# Using DuckDB with local Parquet from MDP"
   ],
   "metadata": {
    "collapsed": false
   }
  },
  {
   "cell_type": "code",
   "execution_count": 3,
   "outputs": [
    {
     "data": {
      "text/plain": "<duckdb.DuckDBPyConnection at 0x7fa7986446b0>"
     },
     "execution_count": 3,
     "metadata": {},
     "output_type": "execute_result"
    }
   ],
   "source": [
    "lcon = duckdb.connect()\n",
    "lcon.execute(\"CREATE TABLE data AS SELECT  row_number() OVER () AS idx, * FROM read_parquet('./mdpProduct.parquet')\")  # load from url"
   ],
   "metadata": {
    "collapsed": false,
    "ExecuteTime": {
     "end_time": "2023-12-12T14:49:14.460570638Z",
     "start_time": "2023-12-12T14:49:14.363458488Z"
    }
   }
  },
  {
   "cell_type": "code",
   "execution_count": 4,
   "outputs": [
    {
     "name": "stdout",
     "output_type": "stream",
     "text": [
      "              column_name column_type null  key default extra\n",
      "0                     idx      BIGINT  YES  NaN     NaN   NaN\n",
      "1                      id     VARCHAR  YES  NaN     NaN   NaN\n",
      "2                keywords     VARCHAR  YES  NaN     NaN   NaN\n",
      "3                    type     VARCHAR  YES  NaN     NaN   NaN\n",
      "4                 geotype     VARCHAR  YES  NaN     NaN   NaN\n",
      "5                geompred     VARCHAR  YES  NaN     NaN   NaN\n",
      "6                    geom     VARCHAR  YES  NaN     NaN   NaN\n",
      "7        temporalCoverage     VARCHAR  YES  NaN     NaN   NaN\n",
      "8           datePublished     VARCHAR  YES  NaN     NaN   NaN\n",
      "9                 license     VARCHAR  YES  NaN     NaN   NaN\n",
      "10                creator     VARCHAR  YES  NaN     NaN   NaN\n",
      "11  includedInDataCatalog     VARCHAR  YES  NaN     NaN   NaN\n",
      "12           distribution     VARCHAR  YES  NaN     NaN   NaN\n",
      "13              publisher     VARCHAR  YES  NaN     NaN   NaN\n",
      "14           filteredgeom     VARCHAR  YES  NaN     NaN   NaN\n",
      "15           dt_startDate     VARCHAR  YES  NaN     NaN   NaN\n",
      "16             dt_endDate     VARCHAR  YES  NaN     NaN   NaN\n",
      "17            n_startYear      DOUBLE  YES  NaN     NaN   NaN\n",
      "18              n_endYear      DOUBLE  YES  NaN     NaN   NaN\n",
      "19               centroid     VARCHAR  YES  NaN     NaN   NaN\n",
      "20                 length      DOUBLE  YES  NaN     NaN   NaN\n",
      "21                   area      DOUBLE  YES  NaN     NaN   NaN\n",
      "22                    wkt     VARCHAR  YES  NaN     NaN   NaN\n",
      "23                geojson     VARCHAR  YES  NaN     NaN   NaN\n"
     ]
    }
   ],
   "source": [
    "r = lcon.execute(\"DESCRIBE SELECT * FROM data\").fetchdf()\n",
    "print(r)"
   ],
   "metadata": {
    "collapsed": false,
    "ExecuteTime": {
     "end_time": "2023-12-12T14:49:33.554861523Z",
     "start_time": "2023-12-12T14:49:33.512856915Z"
    }
   }
  },
  {
   "cell_type": "code",
   "execution_count": 12,
   "outputs": [
    {
     "name": "stdout",
     "output_type": "stream",
     "text": [
      "             type  count\n",
      "0  schema:Dataset   2015\n"
     ]
    }
   ],
   "source": [
    "r = lcon.execute(\" SELECT DISTINCT  type, COUNT(*) AS count FROM data GROUP BY   type\").fetchdf()\n",
    "print(r)"
   ],
   "metadata": {
    "collapsed": false,
    "ExecuteTime": {
     "end_time": "2023-12-12T14:54:48.517063797Z",
     "start_time": "2023-12-12T14:54:48.475784780Z"
    }
   }
  },
  {
   "cell_type": "markdown",
   "source": [
    "# Using DuckDB with S3 based Parquet files "
   ],
   "metadata": {
    "collapsed": false
   }
  },
  {
   "cell_type": "code",
   "execution_count": 2,
   "metadata": {
    "ExecuteTime": {
     "end_time": "2023-11-30T14:09:51.168288363Z",
     "start_time": "2023-11-30T14:09:48.568051197Z"
    },
    "colab": {
     "base_uri": "https://localhost:8080/"
    },
    "id": "roTKaFnZrE0x",
    "outputId": "6aded50f-ed62-4999-8c8b-5eb50667cdd9",
    "tags": []
   },
   "outputs": [
    {
     "name": "stdout",
     "output_type": "stream",
     "text": [
      "http://ossapi.oceaninfohub.org/public/assets/OIHGraph_25032023.parquet\n",
      "http://ossapi.oceaninfohub.org/public/assets/africaioc.parquet\n",
      "http://ossapi.oceaninfohub.org/public/assets/cioos.parquet\n",
      "http://ossapi.oceaninfohub.org/public/assets/combined.parquet\n",
      "http://ossapi.oceaninfohub.org/public/assets/edmerp.parquet\n",
      "http://ossapi.oceaninfohub.org/public/assets/edmo.parquet\n",
      "http://ossapi.oceaninfohub.org/public/assets/emodnet.parquet\n",
      "http://ossapi.oceaninfohub.org/public/assets/gridcounts.gpkg\n",
      "http://ossapi.oceaninfohub.org/public/assets/inanodc.parquet\n",
      "http://ossapi.oceaninfohub.org/public/assets/invemardocuments.parquet\n",
      "http://ossapi.oceaninfohub.org/public/assets/invemarexperts.parquet\n",
      "http://ossapi.oceaninfohub.org/public/assets/invemarinstitutions.parquet\n",
      "http://ossapi.oceaninfohub.org/public/assets/invemartraining.parquet\n",
      "http://ossapi.oceaninfohub.org/public/assets/invemarvessels.parquet\n",
      "http://ossapi.oceaninfohub.org/public/assets/marinetraining.parquet\n",
      "http://ossapi.oceaninfohub.org/public/assets/obis.parquet\n",
      "http://ossapi.oceaninfohub.org/public/assets/obps.parquet\n",
      "http://ossapi.oceaninfohub.org/public/assets/oceanexperts.parquet\n",
      "http://ossapi.oceaninfohub.org/public/assets/pdh.parquet\n",
      "http://ossapi.oceaninfohub.org/public/assets/test_obis.parquet\n"
     ]
    }
   ],
   "source": [
    "def publicurls(client, bucket, prefix):\n",
    "    urls = []\n",
    "    objects = client.list_objects(bucket, prefix=prefix, recursive=True)\n",
    "    for obj in objects:\n",
    "        result = client.stat_object(bucket, obj.object_name)\n",
    "\n",
    "        if result.size > 0:  #  how to tell if an objet   obj.is_public  ?????\n",
    "            url = client.presigned_get_object(bucket, obj.object_name)\n",
    "            # print(f\"Public URL for object: {url}\")\n",
    "            urls.append(url)\n",
    "\n",
    "    return urls\n",
    "\n",
    "client = Minio(\"ossapi.oceaninfohub.org:80\",  secure=False) # Create client with anonymous access.\n",
    "urls = publicurls(client, \"public\", \"assets\")\n",
    "for u in urls:\n",
    "  print(u)"
   ]
  },
  {
   "cell_type": "code",
   "execution_count": 3,
   "metadata": {
    "ExecuteTime": {
     "end_time": "2023-11-30T14:10:02.835454522Z",
     "start_time": "2023-11-30T14:09:51.170914041Z"
    },
    "colab": {
     "base_uri": "https://localhost:8080/",
     "height": 97,
     "referenced_widgets": [
      "11597b61b46c467d93aa4e3b1a6eb609",
      "c0d0855283104ca5abfff9dedfde1819",
      "825c48cbfc154ee491ca78a8f37f7a35",
      "aa5d4ee5f32c40fb9af9cc005754c9d4",
      "2933593201474964b5690b4992a1add4",
      "6adc1f7b7c9d4eb586c7237fab84c3b3"
     ]
    },
    "id": "oHvbrUr96v17",
    "outputId": "96a8a95f-aed0-4435-fce9-a29fb745d823",
    "tags": []
   },
   "outputs": [
    {
     "data": {
      "application/vnd.jupyter.widget-view+json": {
       "model_id": "9fa286a5873c492eac3e5155cb8f0aab",
       "version_major": 2,
       "version_minor": 0
      },
      "text/plain": [
       "FloatProgress(value=0.0, layout=Layout(width='auto'), style=ProgressStyle(bar_color='black'))"
      ]
     },
     "metadata": {},
     "output_type": "display_data"
    },
    {
     "data": {
      "application/vnd.jupyter.widget-view+json": {
       "model_id": "997b4e441b434a84bea1192cf3d847d8",
       "version_major": 2,
       "version_minor": 0
      },
      "text/plain": [
       "FloatProgress(value=0.0, layout=Layout(width='auto'), style=ProgressStyle(bar_color='black'))"
      ]
     },
     "metadata": {},
     "output_type": "display_data"
    },
    {
     "data": {
      "text/plain": [
       "<duckdb.DuckDBPyConnection at 0x7f8f77a889b0>"
      ]
     },
     "execution_count": 3,
     "metadata": {},
     "output_type": "execute_result"
    }
   ],
   "source": [
    "## load the combined graph\n",
    "urlCombined = \"http://ossapi.oceaninfohub.org/public/assets/combined.parquet\"\n",
    "urlCIOOS = \"http://ossapi.oceaninfohub.org/public/assets/cioos.parquet\"\n",
    "\n",
    "duckdb.install_extension(\"httpfs\")\n",
    "\n",
    "# Instantiate the DuckDB connection\n",
    "con = duckdb.connect()\n",
    "con.execute(\"CREATE TABLE data AS SELECT  row_number() OVER () AS idx, * FROM read_parquet('{}')\".format(urlCombined))  # load from url\n",
    "\n",
    "con2 = duckdb.connect()\n",
    "con2.execute(\"CREATE TABLE data AS SELECT  row_number() OVER () AS idx, * FROM read_parquet('{}')\".format(urlCIOOS))  # load from url\n",
    "\n",
    "\n",
    "# con.execute(\"CREATE TABLE my_table AS SELECT * FROM read_parquet('/content/drive/MyDrive/Data/combined.parquet')\") # load from local parquet\n",
    "# con.execute(\"CREATE TABLE data AS SELECT row_number() OVER () AS idx, * FROM '/content/drive/MyDrive/Data/combined.parquet';\")"
   ]
  },
  {
   "cell_type": "code",
   "execution_count": 5,
   "metadata": {
    "ExecuteTime": {
     "end_time": "2023-11-30T14:10:02.839598664Z",
     "start_time": "2023-11-30T14:10:02.832880925Z"
    },
    "colab": {
     "base_uri": "https://localhost:8080/"
    },
    "id": "VaQjURhksPpo",
    "outputId": "ec8ef12c-102f-4e1c-99e9-2b2886dc7435",
    "tags": []
   },
   "outputs": [
    {
     "name": "stdout",
     "output_type": "stream",
     "text": [
      "         column_name column_type null  key default extra\n",
      "0                idx      BIGINT  YES  NaN     NaN   NaN\n",
      "1                  s     VARCHAR  YES  NaN     NaN   NaN\n",
      "2               type     VARCHAR  YES  NaN     NaN   NaN\n",
      "3               name     VARCHAR  YES  NaN     NaN   NaN\n",
      "4           keywords     VARCHAR  YES  NaN     NaN   NaN\n",
      "5                url     VARCHAR  YES  NaN     NaN   NaN\n",
      "6               desc     VARCHAR  YES  NaN     NaN   NaN\n",
      "7            provder     VARCHAR  YES  NaN     NaN   NaN\n",
      "8  __index_level_0__      BIGINT  YES  NaN     NaN   NaN\n"
     ]
    }
   ],
   "source": [
    "r = con.execute(\"DESCRIBE SELECT * FROM data\").fetchdf()\n",
    "print(r)"
   ]
  },
  {
   "cell_type": "code",
   "execution_count": 6,
   "metadata": {
    "ExecuteTime": {
     "end_time": "2023-11-30T14:10:05.868133772Z",
     "start_time": "2023-11-30T14:10:05.861766847Z"
    },
    "colab": {
     "base_uri": "https://localhost:8080/"
    },
    "id": "hg6QhgowyExG",
    "outputId": "9ea99c2d-d5d1-40ce-a1cc-513e5baaff08",
    "tags": []
   },
   "outputs": [
    {
     "name": "stdout",
     "output_type": "stream",
     "text": [
      "              column_name column_type null  key default extra\n",
      "0                     idx      BIGINT  YES  NaN     NaN   NaN\n",
      "1                      id     VARCHAR  YES  NaN     NaN   NaN\n",
      "2                keywords     VARCHAR  YES  NaN     NaN   NaN\n",
      "3                    type     VARCHAR  YES  NaN     NaN   NaN\n",
      "4                    name     VARCHAR  YES  NaN     NaN   NaN\n",
      "5             description     VARCHAR  YES  NaN     NaN   NaN\n",
      "6                     url     VARCHAR  YES  NaN     NaN   NaN\n",
      "7                 geotype     VARCHAR  YES  NaN     NaN   NaN\n",
      "8                geompred     VARCHAR  YES  NaN     NaN   NaN\n",
      "9                    geom     VARCHAR  YES  NaN     NaN   NaN\n",
      "10       temporalCoverage     VARCHAR  YES  NaN     NaN   NaN\n",
      "11          datePublished     VARCHAR  YES  NaN     NaN   NaN\n",
      "12                license     VARCHAR  YES  NaN     NaN   NaN\n",
      "13                creator     VARCHAR  YES  NaN     NaN   NaN\n",
      "14  includedInDataCatalog     VARCHAR  YES  NaN     NaN   NaN\n",
      "15           distribution     VARCHAR  YES  NaN     NaN   NaN\n",
      "16              publisher     VARCHAR  YES  NaN     NaN   NaN\n",
      "17           filteredgeom     VARCHAR  YES  NaN     NaN   NaN\n",
      "18           dt_startDate     VARCHAR  YES  NaN     NaN   NaN\n",
      "19             dt_endDate     VARCHAR  YES  NaN     NaN   NaN\n",
      "20            n_startYear      DOUBLE  YES  NaN     NaN   NaN\n",
      "21              n_endYear      DOUBLE  YES  NaN     NaN   NaN\n",
      "22               centroid     VARCHAR  YES  NaN     NaN   NaN\n",
      "23                 length      DOUBLE  YES  NaN     NaN   NaN\n",
      "24                   area      DOUBLE  YES  NaN     NaN   NaN\n",
      "25                    wkt     VARCHAR  YES  NaN     NaN   NaN\n",
      "26                geojson     VARCHAR  YES  NaN     NaN   NaN\n"
     ]
    }
   ],
   "source": [
    "r = con2.execute(\"DESCRIBE SELECT * FROM data\").fetchdf()\n",
    "print(r)"
   ]
  },
  {
   "cell_type": "code",
   "execution_count": 6,
   "metadata": {
    "ExecuteTime": {
     "end_time": "2023-11-30T14:10:06.645269883Z",
     "start_time": "2023-11-30T14:10:06.637709707Z"
    },
    "colab": {
     "base_uri": "https://localhost:8080/"
    },
    "id": "6vQQagtl23TY",
    "outputId": "cd808603-a595-4671-83be-7c38ebfbb200"
   },
   "outputs": [
    {
     "name": "stdout",
     "output_type": "stream",
     "text": [
      "                provder\n",
      "0          oceanexperts\n",
      "1                   pdh\n",
      "2              aquadocs\n",
      "3                 cioos\n",
      "4                edmerp\n",
      "5                  edmo\n",
      "6               emodnet\n",
      "7               inanodc\n",
      "8      invemardocuments\n",
      "9        invemarexperts\n",
      "10  invemarinstitutions\n",
      "11      invemartraining\n",
      "12       invemarvessels\n",
      "13       marinetraining\n",
      "14                 obis\n",
      "15                 obps\n",
      "16            africaioc\n"
     ]
    }
   ],
   "source": [
    "# Now you can execute SQL queries on the Parquet file as if it was a regular table\n",
    "r = con.execute(\"SELECT DISTINCT provder FROM data\").fetchdf()\n",
    "\n",
    "print(r)"
   ]
  },
  {
   "cell_type": "code",
   "execution_count": 7,
   "metadata": {
    "colab": {
     "base_uri": "https://localhost:8080/"
    },
    "id": "RjzOWGUa_1eM",
    "outputId": "7b4fcb78-c6df-4257-d26e-46f3f8b95928",
    "ExecuteTime": {
     "end_time": "2023-12-12T14:52:31.179437974Z",
     "start_time": "2023-12-12T14:52:31.137830744Z"
    }
   },
   "outputs": [
    {
     "ename": "NameError",
     "evalue": "name 'con' is not defined",
     "output_type": "error",
     "traceback": [
      "\u001B[0;31m---------------------------------------------------------------------------\u001B[0m",
      "\u001B[0;31mNameError\u001B[0m                                 Traceback (most recent call last)",
      "\u001B[0;32m<ipython-input-7-bc05f207edfc>\u001B[0m in \u001B[0;36m<module>\u001B[0;34m\u001B[0m\n\u001B[1;32m      1\u001B[0m \u001B[0;31m# Now you can execute SQL queries on the Parquet file as if it was a regular table\u001B[0m\u001B[0;34m\u001B[0m\u001B[0;34m\u001B[0m\u001B[0m\n\u001B[0;32m----> 2\u001B[0;31m \u001B[0mr\u001B[0m \u001B[0;34m=\u001B[0m \u001B[0mcon\u001B[0m\u001B[0;34m.\u001B[0m\u001B[0mexecute\u001B[0m\u001B[0;34m(\u001B[0m\u001B[0;34m\" SELECT DISTINCT provder, type, COUNT(*) AS count FROM data GROUP BY provder, type\"\u001B[0m\u001B[0;34m)\u001B[0m\u001B[0;34m.\u001B[0m\u001B[0mfetchdf\u001B[0m\u001B[0;34m(\u001B[0m\u001B[0;34m)\u001B[0m\u001B[0;34m\u001B[0m\u001B[0;34m\u001B[0m\u001B[0m\n\u001B[0m\u001B[1;32m      3\u001B[0m \u001B[0;34m\u001B[0m\u001B[0m\n\u001B[1;32m      4\u001B[0m \u001B[0;34m\u001B[0m\u001B[0m\n\u001B[1;32m      5\u001B[0m \u001B[0mprint\u001B[0m\u001B[0;34m(\u001B[0m\u001B[0mr\u001B[0m\u001B[0;34m)\u001B[0m\u001B[0;34m\u001B[0m\u001B[0;34m\u001B[0m\u001B[0m\n",
      "\u001B[0;31mNameError\u001B[0m: name 'con' is not defined"
     ]
    }
   ],
   "source": [
    "# Now you can execute SQL queries on the Parquet file as if it was a regular table\n",
    "r = con.execute(\" SELECT DISTINCT provder, type, COUNT(*) AS count FROM data GROUP BY provder, type\").fetchdf()\n",
    "\n",
    "\n",
    "print(r)"
   ]
  },
  {
   "cell_type": "code",
   "execution_count": 8,
   "metadata": {
    "ExecuteTime": {
     "end_time": "2023-11-30T14:10:09.199560339Z",
     "start_time": "2023-11-30T14:10:09.182100701Z"
    },
    "colab": {
     "base_uri": "https://localhost:8080/"
    },
    "id": "EQZVZlhJ_16_",
    "outputId": "0df3ac95-c225-423f-d8cf-d3603b79433d"
   },
   "outputs": [
    {
     "name": "stdout",
     "output_type": "stream",
     "text": [
      "                provder                      type  \\\n",
      "0              aquadocs       schmea:CreativeWork   \n",
      "1              aquadocs             schmea:Person   \n",
      "2                 cioos       schemawrong:Dataset   \n",
      "3          oceanexperts             schmea:Person   \n",
      "4                   pdh       schemawrong:Dataset   \n",
      "5          oceanexperts              schmea:Event   \n",
      "6                  obis            schmea:Dataset   \n",
      "7      invemardocuments       schmea:CreativeWork   \n",
      "8              aquadocs       schmea:Organization   \n",
      "9                edmerp       schmea:Organization   \n",
      "10     invemardocuments             schmea:Person   \n",
      "11                 obps       schmea:CreativeWork   \n",
      "12                 obps             schmea:Person   \n",
      "13         oceanexperts       schmea:Organization   \n",
      "14                 edmo       schmea:Organization   \n",
      "15     invemardocuments       schmea:Organization   \n",
      "16                  pdh  schemawrong:Organization   \n",
      "17               edmerp    schmea:ResearchProject   \n",
      "18                cioos  schemawrong:Organization   \n",
      "19                cioos        schemawrong:Person   \n",
      "20                 obps       schmea:Organization   \n",
      "21              emodnet       schemawrong:Dataset   \n",
      "22       invemarexperts             schmea:Person   \n",
      "23       marinetraining       schmea:Organization   \n",
      "24                 obis       schmea:Organization   \n",
      "25       marinetraining     schmea:CourseInstance   \n",
      "26         oceanexperts             schmea:Course   \n",
      "27         oceanexperts     schmea:CourseInstance   \n",
      "28       marinetraining             schmea:Course   \n",
      "29      invemartraining             schmea:Course   \n",
      "30      invemartraining       schmea:Organization   \n",
      "31  invemarinstitutions       schmea:Organization   \n",
      "32              inanodc            schmea:Dataset   \n",
      "33            africaioc    schmea:ResearchProject   \n",
      "34       invemarvessels            schmea:Vehicle   \n",
      "35            africaioc              schmea:Event   \n",
      "36            africaioc       schmea:Organization   \n",
      "37            africaioc            schmea:Vehicle   \n",
      "38      invemartraining       schmea:CreativeWork   \n",
      "39            africaioc       schmea:CreativeWork   \n",
      "40            africaioc            schmea:Dataset   \n",
      "41            africaioc             schmea:Person   \n",
      "\n",
      "                                         any_value(s)   count  \n",
      "0                       <oai:aquadocs.org:1834/37931>  261364  \n",
      "1                 _:N9984262f4f1f44a397b6a920221fe73d  105494  \n",
      "2   <https://catalogue.cioos.ca/dataset/2d2f65b5-c...   74251  \n",
      "3              <https://oceanexpert.org/expert/22207>   38555  \n",
      "4   <https://pacificdata.org/data/dataset/oai-www-...   32807  \n",
      "5   <https://gleaner.io/xid/genid/cgfjsmbk59mc73bv...   20606  \n",
      "6   <https://obis.org/dataset/1057a007-c31c-48a3-a...   20120  \n",
      "7                 <oai:ri.conicet.gov.ar:11336/64582>   18647  \n",
      "8                 _:Ne4256a2dc9fb42c3980738a0079099ef   15198  \n",
      "9   <https://gleaner.io/xid/genid/cggpv8rk59mc73e9...   13509  \n",
      "10                _:N33afb5a3b9d54452a7640675f4b12409   13351  \n",
      "11  <oai:repository.oceanbestpractices.org:11329/1...    8414  \n",
      "12                _:N3cc13870a805499abf4367263aa097c9    7711  \n",
      "13         <https://oceanexpert.org/institution/7562>    7304  \n",
      "14          <https://edmo.seadatanet.org/report/3600>    4757  \n",
      "15                _:N34b2fe7d3ec9427eba81c152828037a1    3623  \n",
      "16  <https://pacificdata.org/data/organization/033...    3562  \n",
      "17       <https://edmerp.seadatanet.org/report/11212>    3432  \n",
      "18                          <https://cioospacific.ca>    2141  \n",
      "19  <https://gleaner.io/xid/genid/cggj2mbk59mc73f1...    1372  \n",
      "20                _:N3ec279e39df54ebabb92d4f25d8f0301    1352  \n",
      "21  <https://emodnet.ec.europa.eu/geonetwork/srv/a...    1187  \n",
      "22  <http://portete.invemar.org.co/chm/api/oih/fin...    1172  \n",
      "23  <https://gleaner.io/xid/genid/cgeolfjk59mc73d7...     914  \n",
      "24        <https://oceanexpert.org/institution/20942>     689  \n",
      "25  <https://gleaner.io/xid/genid/cgeolfjk59mc73d7...     520  \n",
      "26               <https://oceanexpert.org/event/1987>     491  \n",
      "27  <https://gleaner.io/xid/genid/cgfjk5bk59mc73bu...     491  \n",
      "28         <https://www.marinetraining.eu//node/5040>     457  \n",
      "29  <http://portete.invemar.org.co/chm/api/oih/fin...     452  \n",
      "30                _:N496b882c41ba492884ec578c367a060d     452  \n",
      "31  <http://portete.invemar.org.co/chm/api/oih/fin...     269  \n",
      "32  <https://geonode.nodc.id/layers/geonode_data:g...     235  \n",
      "33  <https://ioc-africa.org/dbs/jsonld/oceanProjec...     176  \n",
      "34  <http://portete.invemar.org.co/chm/api/oih/fin...      85  \n",
      "35  <https://gleaner.io/xid/genid/cgftb53k59mc7399...      59  \n",
      "36  <https://gleaner.io/xid/genid/cgftb4rk59mc7399...      52  \n",
      "37  <https://ioc-africa.org/dbs/jsonld/researchVes...      30  \n",
      "38  <http://portete.invemar.org.co/chm/api/oih/tra...       1  \n",
      "39  <https://gleaner.io/xid/genid/cgftb6bk59mc7399...       1  \n",
      "40  <https://gleaner.io/xid/genid/cgftb6bk59mc7399...       1  \n",
      "41  <https://gleaner.io/xid/genid/cgftb6rk59mc7399...       1  \n"
     ]
    }
   ],
   "source": [
    "# Now you can execute SQL queries on the Parquet file as if it was a regular table\n",
    "r = con.execute(\" SELECT DISTINCT provder, type, ANY_VALUE(s),  COUNT(*) AS count FROM data GROUP BY provder, type  order by count desc\").fetchdf()\n",
    "\n",
    "print(r)"
   ]
  },
  {
   "cell_type": "code",
   "execution_count": null,
   "metadata": {
    "id": "QLUSVN3pAVXs"
   },
   "outputs": [],
   "source": []
  }
 ],
 "metadata": {
  "colab": {
   "provenance": []
  },
  "kernelspec": {
   "display_name": "Python 3",
   "language": "python",
   "name": "python3"
  },
  "language_info": {
   "codemirror_mode": {
    "name": "ipython",
    "version": 3
   },
   "file_extension": ".py",
   "mimetype": "text/x-python",
   "name": "python",
   "nbconvert_exporter": "python",
   "pygments_lexer": "ipython3",
   "version": "3.10.12"
  },
  "widgets": {
   "application/vnd.jupyter.widget-state+json": {
    "11597b61b46c467d93aa4e3b1a6eb609": {
     "model_module": "@jupyter-widgets/controls",
     "model_module_version": "1.5.0",
     "model_name": "FloatProgressModel",
     "state": {
      "_dom_classes": [],
      "_model_module": "@jupyter-widgets/controls",
      "_model_module_version": "1.5.0",
      "_model_name": "FloatProgressModel",
      "_view_count": null,
      "_view_module": "@jupyter-widgets/controls",
      "_view_module_version": "1.5.0",
      "_view_name": "ProgressView",
      "bar_style": "",
      "description": "",
      "description_tooltip": null,
      "layout": "IPY_MODEL_c0d0855283104ca5abfff9dedfde1819",
      "max": 100,
      "min": 0,
      "orientation": "horizontal",
      "style": "IPY_MODEL_825c48cbfc154ee491ca78a8f37f7a35",
      "value": 100
     }
    },
    "2933593201474964b5690b4992a1add4": {
     "model_module": "@jupyter-widgets/base",
     "model_module_version": "1.2.0",
     "model_name": "LayoutModel",
     "state": {
      "_model_module": "@jupyter-widgets/base",
      "_model_module_version": "1.2.0",
      "_model_name": "LayoutModel",
      "_view_count": null,
      "_view_module": "@jupyter-widgets/base",
      "_view_module_version": "1.2.0",
      "_view_name": "LayoutView",
      "align_content": null,
      "align_items": null,
      "align_self": null,
      "border": null,
      "bottom": null,
      "display": null,
      "flex": null,
      "flex_flow": null,
      "grid_area": null,
      "grid_auto_columns": null,
      "grid_auto_flow": null,
      "grid_auto_rows": null,
      "grid_column": null,
      "grid_gap": null,
      "grid_row": null,
      "grid_template_areas": null,
      "grid_template_columns": null,
      "grid_template_rows": null,
      "height": null,
      "justify_content": null,
      "justify_items": null,
      "left": null,
      "margin": null,
      "max_height": null,
      "max_width": null,
      "min_height": null,
      "min_width": null,
      "object_fit": null,
      "object_position": null,
      "order": null,
      "overflow": null,
      "overflow_x": null,
      "overflow_y": null,
      "padding": null,
      "right": null,
      "top": null,
      "visibility": null,
      "width": "auto"
     }
    },
    "6adc1f7b7c9d4eb586c7237fab84c3b3": {
     "model_module": "@jupyter-widgets/controls",
     "model_module_version": "1.5.0",
     "model_name": "ProgressStyleModel",
     "state": {
      "_model_module": "@jupyter-widgets/controls",
      "_model_module_version": "1.5.0",
      "_model_name": "ProgressStyleModel",
      "_view_count": null,
      "_view_module": "@jupyter-widgets/base",
      "_view_module_version": "1.2.0",
      "_view_name": "StyleView",
      "bar_color": "black",
      "description_width": ""
     }
    },
    "825c48cbfc154ee491ca78a8f37f7a35": {
     "model_module": "@jupyter-widgets/controls",
     "model_module_version": "1.5.0",
     "model_name": "ProgressStyleModel",
     "state": {
      "_model_module": "@jupyter-widgets/controls",
      "_model_module_version": "1.5.0",
      "_model_name": "ProgressStyleModel",
      "_view_count": null,
      "_view_module": "@jupyter-widgets/base",
      "_view_module_version": "1.2.0",
      "_view_name": "StyleView",
      "bar_color": "black",
      "description_width": ""
     }
    },
    "aa5d4ee5f32c40fb9af9cc005754c9d4": {
     "model_module": "@jupyter-widgets/controls",
     "model_module_version": "1.5.0",
     "model_name": "FloatProgressModel",
     "state": {
      "_dom_classes": [],
      "_model_module": "@jupyter-widgets/controls",
      "_model_module_version": "1.5.0",
      "_model_name": "FloatProgressModel",
      "_view_count": null,
      "_view_module": "@jupyter-widgets/controls",
      "_view_module_version": "1.5.0",
      "_view_name": "ProgressView",
      "bar_style": "",
      "description": "",
      "description_tooltip": null,
      "layout": "IPY_MODEL_2933593201474964b5690b4992a1add4",
      "max": 100,
      "min": 0,
      "orientation": "horizontal",
      "style": "IPY_MODEL_6adc1f7b7c9d4eb586c7237fab84c3b3",
      "value": 100
     }
    },
    "c0d0855283104ca5abfff9dedfde1819": {
     "model_module": "@jupyter-widgets/base",
     "model_module_version": "1.2.0",
     "model_name": "LayoutModel",
     "state": {
      "_model_module": "@jupyter-widgets/base",
      "_model_module_version": "1.2.0",
      "_model_name": "LayoutModel",
      "_view_count": null,
      "_view_module": "@jupyter-widgets/base",
      "_view_module_version": "1.2.0",
      "_view_name": "LayoutView",
      "align_content": null,
      "align_items": null,
      "align_self": null,
      "border": null,
      "bottom": null,
      "display": null,
      "flex": null,
      "flex_flow": null,
      "grid_area": null,
      "grid_auto_columns": null,
      "grid_auto_flow": null,
      "grid_auto_rows": null,
      "grid_column": null,
      "grid_gap": null,
      "grid_row": null,
      "grid_template_areas": null,
      "grid_template_columns": null,
      "grid_template_rows": null,
      "height": null,
      "justify_content": null,
      "justify_items": null,
      "left": null,
      "margin": null,
      "max_height": null,
      "max_width": null,
      "min_height": null,
      "min_width": null,
      "object_fit": null,
      "object_position": null,
      "order": null,
      "overflow": null,
      "overflow_x": null,
      "overflow_y": null,
      "padding": null,
      "right": null,
      "top": null,
      "visibility": null,
      "width": "auto"
     }
    }
   }
  }
 },
 "nbformat": 4,
 "nbformat_minor": 4
}
