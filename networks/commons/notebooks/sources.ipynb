{
 "cells": [
  {
   "cell_type": "markdown",
   "id": "51aacee9",
   "metadata": {
    "id": "51aacee9"
   },
   "source": [
    "# Sitemap Assay\n",
    "\n",
    "The start of a simple notebook that could hosted for peeopl to test out their sitemaps (and robots.txt) files with.\n",
    "\n",
    "References:\n",
    "* [AdvTools](https://advertools.readthedocs.io/en/master/advertools.sitemaps.html)\n",
    "* [Sitemap viz](https://www.ayima.com/us/insights/analytics-and-cro/how-to-visualize-an-xml-sitemap-using-python.html)\n",
    "\n",
    "\n",
    "<a href=\"https://githubtocolab.com/gleanerio/archetype/blob/master/networks/commons/sources.ipynb\" target=\"_parent\"><img src=\"https://colab.research.google.com/assets/colab-badge.png\" alt=\"Open in Colab\"/></a>\n",
    "\n",
    "[![Binder](https://mybinder.org/badge_logo.svg)](https://mybinder.org/v2/gh/gleanerio/archetype/HEAD?labpath=networks/commons/sources.ipynb)\n",
    "\n"
   ]
  },
  {
   "cell_type": "markdown",
   "id": "bf9819de-30ca-47ff-a13d-263ef0333bd0",
   "metadata": {
    "id": "bf9819de-30ca-47ff-a13d-263ef0333bd0"
   },
   "source": [
    "## Notes\n",
    "\n",
    "has json-ld :  https://researchdata.edu.au/imos-soop-underway-sep-2017/970828\n",
    "Validation:  https://validator.schema.org/#url=https%3A%2F%2Fresearchdata.edu.au%2Fimos-soop-underway-sep-2017%2F970828  \n",
    "\n",
    "\n",
    "doesn't:  https://researchdata.edu.au/heupel-michelle/1709766\n",
    "\n",
    "Validation   https://validator.schema.org/#url=https%3A%2F%2Fresearchdata.edu.au%2Fheupel-michelle%2F1709766\n",
    "\n",
    "\n",
    "Context as map:  https://www.w3.org/TR/json-ld/#context-definitions\n",
    "\n",
    "\n",
    "\n"
   ]
  },
  {
   "cell_type": "code",
   "execution_count": null,
   "id": "S7umVCrN9UYi",
   "metadata": {
    "colab": {
     "base_uri": "https://localhost:8080/",
     "height": 1000
    },
    "collapsed": true,
    "id": "S7umVCrN9UYi",
    "jupyter": {
     "outputs_hidden": true
    },
    "outputId": "1d9aa4d2-08b6-4d31-ae30-9380a0cdcca8",
    "tags": []
   },
   "outputs": [],
   "source": [
    "!pip -q install advertools\n",
    "!pip -q install pyld\n",
    "!pip -q install kglab\n",
    "!pip - qinstall requests\n",
    "!pip -q install json"
   ]
  },
  {
   "cell_type": "code",
   "execution_count": 1,
   "id": "ef1f0a5d",
   "metadata": {
    "id": "ef1f0a5d",
    "tags": [],
    "ExecuteTime": {
     "end_time": "2023-12-12T13:25:26.588623580Z",
     "start_time": "2023-12-12T13:25:25.602295890Z"
    }
   },
   "outputs": [],
   "source": [
    "import warnings\n",
    "warnings.simplefilter(action='ignore', category=FutureWarning)\n",
    "\n",
    "import advertools as adv\n",
    "import json\n",
    "from bs4 import BeautifulSoup\n",
    "import urllib.request\n",
    "import logging\n",
    "import traceback\n",
    "import kglab\n",
    "import pandas as pd\n",
    "# import requests\n",
    "# from pyld import jsonld\n"
   ]
  },
  {
   "cell_type": "code",
   "execution_count": 2,
   "id": "ee61d05a",
   "metadata": {
    "colab": {
     "base_uri": "https://localhost:8080/"
    },
    "id": "ee61d05a",
    "outputId": "c50647f3-aac2-45ee-ad6b-11989d0ca0fd",
    "tags": [],
    "ExecuteTime": {
     "end_time": "2023-12-12T13:25:30.514375070Z",
     "start_time": "2023-12-12T13:25:28.729309633Z"
    }
   },
   "outputs": [
    {
     "name": "stderr",
     "output_type": "stream",
     "text": [
      "2023-12-12 07:25:30,491 | INFO | sitemaps.py:536 | sitemap_to_df | Getting https://edmo.seadatanet.org/sitemap.xml\n"
     ]
    },
    {
     "name": "stdout",
     "output_type": "stream",
     "text": [
      "<class 'pandas.core.frame.DataFrame'>\n",
      "RangeIndex: 4878 entries, 0 to 4877\n",
      "Data columns (total 5 columns):\n",
      " #   Column           Non-Null Count  Dtype              \n",
      "---  ------           --------------  -----              \n",
      " 0   loc              4878 non-null   object             \n",
      " 1   lastmod          4875 non-null   datetime64[ns, UTC]\n",
      " 2   sitemap          4878 non-null   object             \n",
      " 3   sitemap_size_mb  4878 non-null   float64            \n",
      " 4   download_date    4878 non-null   datetime64[ns, UTC]\n",
      "dtypes: datetime64[ns, UTC](2), float64(1), object(2)\n",
      "memory usage: 190.7+ KB\n",
      "CPU times: user 115 ms, sys: 2.99 ms, total: 118 ms\n",
      "Wall time: 1.78 s\n"
     ]
    }
   ],
   "source": [
    "%%time\n",
    "\n",
    "# smurl = \"https://oceanexpert.org/assets/sitemaps/sitemapIndex.xml\"\n",
    "# smurl = \"https://www.bco-dmo.org/sitemap.xml\"\n",
    "# smurl = \"https://obis.org/sitemap_datasets.xml\"\n",
    "smurl = \"https://edmo.seadatanet.org/sitemap.xml\"\n",
    "\n",
    "iow_sitemap = adv.sitemap_to_df(smurl) # load sitemap to dataframe via advertools\n",
    "iow_sitemap.info()\n",
    "# iow_sitemap.head()"
   ]
  },
  {
   "cell_type": "markdown",
   "id": "8a46fe1a",
   "metadata": {
    "id": "8a46fe1a"
   },
   "source": [
    "## Analyzing the URLs\n",
    "\n",
    "We can quickly grab the unique URLs from the sitemap column and see how many unique sitemap.xml files we are working with\n",
    "\n",
    "We can also dive into the URL structure for the resources a bit."
   ]
  },
  {
   "cell_type": "code",
   "execution_count": 3,
   "id": "dea7c700-abf3-468a-b435-83fac93a4279",
   "metadata": {
    "id": "dea7c700-abf3-468a-b435-83fac93a4279",
    "outputId": "731d9dce-af20-463d-ba6d-1b85fa472d8b",
    "tags": [],
    "ExecuteTime": {
     "end_time": "2023-12-12T13:25:33.283335769Z",
     "start_time": "2023-12-12T13:25:33.280575315Z"
    }
   },
   "outputs": [
    {
     "name": "stdout",
     "output_type": "stream",
     "text": [
      "1 unique sitemap XML file(s) pointing to 4878 unique resource(s).\n"
     ]
    }
   ],
   "source": [
    "usm = iow_sitemap.sitemap.unique()\n",
    "uloc = iow_sitemap[\"loc\"].unique()\n",
    "print(\"{} unique sitemap XML file(s) pointing to {} unique resource(s).\".format(len(usm), len(uloc)))\n"
   ]
  },
  {
   "cell_type": "code",
   "execution_count": 4,
   "id": "710a7602",
   "metadata": {
    "id": "710a7602",
    "tags": [],
    "ExecuteTime": {
     "end_time": "2023-12-12T13:25:34.380517451Z",
     "start_time": "2023-12-12T13:25:34.370894394Z"
    }
   },
   "outputs": [],
   "source": [
    "\n",
    "from urllib.parse import urlparse\n",
    "\n",
    "invalid_urls = []\n",
    "\n",
    "for url in uloc:\n",
    "    try:\n",
    "        result = urlparse(url)\n",
    "        if all([result.scheme, result.netloc]):\n",
    "            pass\n",
    "        else:\n",
    "            invalid_urls.append(url)\n",
    "    except ValueError:\n",
    "        print(f\"{url} is an exception URL\")\n",
    "        invalid_urls.append(url)\n",
    "\n",
    "\n",
    "df = pd.DataFrame({'Invalid URLs': invalid_urls})\n"
   ]
  },
  {
   "cell_type": "code",
   "execution_count": 5,
   "id": "0860ce39",
   "metadata": {
    "id": "0860ce39",
    "outputId": "59634fed-96b2-4176-a98f-6a72bedccf54",
    "tags": [],
    "ExecuteTime": {
     "end_time": "2023-12-12T13:25:35.498376751Z",
     "start_time": "2023-12-12T13:25:35.494080144Z"
    }
   },
   "outputs": [
    {
     "data": {
      "text/plain": "Empty DataFrame\nColumns: [Invalid URLs]\nIndex: []",
      "text/html": "<div>\n<style scoped>\n    .dataframe tbody tr th:only-of-type {\n        vertical-align: middle;\n    }\n\n    .dataframe tbody tr th {\n        vertical-align: top;\n    }\n\n    .dataframe thead th {\n        text-align: right;\n    }\n</style>\n<table border=\"1\" class=\"dataframe\">\n  <thead>\n    <tr style=\"text-align: right;\">\n      <th></th>\n      <th>Invalid URLs</th>\n    </tr>\n  </thead>\n  <tbody>\n  </tbody>\n</table>\n</div>"
     },
     "execution_count": 5,
     "metadata": {},
     "output_type": "execute_result"
    }
   ],
   "source": [
    "df.head()"
   ]
  },
  {
   "cell_type": "code",
   "execution_count": 6,
   "id": "7bc2195f-c945-4c97-ae54-42195d19d8ee",
   "metadata": {
    "id": "7bc2195f-c945-4c97-ae54-42195d19d8ee",
    "tags": [],
    "ExecuteTime": {
     "end_time": "2023-12-12T13:25:36.649850215Z",
     "start_time": "2023-12-12T13:25:36.637960410Z"
    }
   },
   "outputs": [],
   "source": [
    "from urllib.parse import urlparse\n",
    "\n",
    "valid_urls = []\n",
    "\n",
    "\n",
    "for url in uloc:\n",
    "    try:\n",
    "        result = urlparse(url)\n",
    "        if all([result.scheme, result.netloc]):\n",
    "            valid_urls.append(url)\n",
    "        else:\n",
    "            print(f\"Invalid URL: {url}\")\n",
    "    except ValueError:\n",
    "        print(f\"Invalid URL: {url}\")\n"
   ]
  },
  {
   "cell_type": "code",
   "execution_count": 7,
   "id": "74b21613",
   "metadata": {
    "id": "74b21613",
    "outputId": "d7984d82-db08-40a5-9467-4ba2ac0617b9",
    "tags": [],
    "ExecuteTime": {
     "end_time": "2023-12-12T13:25:37.931216792Z",
     "start_time": "2023-12-12T13:25:37.880625563Z"
    }
   },
   "outputs": [
    {
     "name": "stdout",
     "output_type": "stream",
     "text": [
      "<class 'pandas.core.frame.DataFrame'>\n",
      "RangeIndex: 4878 entries, 0 to 4877\n",
      "Data columns (total 9 columns):\n",
      " #   Column    Non-Null Count  Dtype  \n",
      "---  ------    --------------  -----  \n",
      " 0   url       4878 non-null   object \n",
      " 1   scheme    4878 non-null   object \n",
      " 2   netloc    4878 non-null   object \n",
      " 3   path      4878 non-null   object \n",
      " 4   query     0 non-null      float64\n",
      " 5   fragment  0 non-null      float64\n",
      " 6   dir_1     4877 non-null   object \n",
      " 7   dir_2     4875 non-null   object \n",
      " 8   last_dir  4877 non-null   object \n",
      "dtypes: float64(2), object(7)\n",
      "memory usage: 343.1+ KB\n"
     ]
    }
   ],
   "source": [
    "\n",
    "# Break down all the URL into their path parts\n",
    "urldf = adv.url_to_df(list(iow_sitemap['loc']))\n",
    "# urldf = adv.url_to_df(list(uloc))\n",
    "\n",
    "urldf.info()"
   ]
  },
  {
   "cell_type": "code",
   "execution_count": 8,
   "id": "28759c5d73b659bf",
   "metadata": {
    "id": "28759c5d73b659bf",
    "outputId": "7089a4b3-bcce-45d0-ec79-16d5d0584ad0",
    "tags": [],
    "ExecuteTime": {
     "end_time": "2023-12-12T13:25:39.009122274Z",
     "start_time": "2023-12-12T13:25:39.002498421Z"
    }
   },
   "outputs": [
    {
     "data": {
      "text/plain": "                                       url scheme               netloc  \\\n0             https://edmo.seadatanet.org/  https  edmo.seadatanet.org   \n1       https://edmo.seadatanet.org/search  https  edmo.seadatanet.org   \n2       https://edmo.seadatanet.org/sparql  https  edmo.seadatanet.org   \n3  https://edmo.seadatanet.org/report/5883  https  edmo.seadatanet.org   \n4  https://edmo.seadatanet.org/report/5882  https  edmo.seadatanet.org   \n\n           path  query  fragment   dir_1 dir_2 last_dir  \n0             /    NaN       NaN     NaN   NaN      NaN  \n1       /search    NaN       NaN  search   NaN   search  \n2       /sparql    NaN       NaN  sparql   NaN   sparql  \n3  /report/5883    NaN       NaN  report  5883     5883  \n4  /report/5882    NaN       NaN  report  5882     5882  ",
      "text/html": "<div>\n<style scoped>\n    .dataframe tbody tr th:only-of-type {\n        vertical-align: middle;\n    }\n\n    .dataframe tbody tr th {\n        vertical-align: top;\n    }\n\n    .dataframe thead th {\n        text-align: right;\n    }\n</style>\n<table border=\"1\" class=\"dataframe\">\n  <thead>\n    <tr style=\"text-align: right;\">\n      <th></th>\n      <th>url</th>\n      <th>scheme</th>\n      <th>netloc</th>\n      <th>path</th>\n      <th>query</th>\n      <th>fragment</th>\n      <th>dir_1</th>\n      <th>dir_2</th>\n      <th>last_dir</th>\n    </tr>\n  </thead>\n  <tbody>\n    <tr>\n      <th>0</th>\n      <td>https://edmo.seadatanet.org/</td>\n      <td>https</td>\n      <td>edmo.seadatanet.org</td>\n      <td>/</td>\n      <td>NaN</td>\n      <td>NaN</td>\n      <td>NaN</td>\n      <td>NaN</td>\n      <td>NaN</td>\n    </tr>\n    <tr>\n      <th>1</th>\n      <td>https://edmo.seadatanet.org/search</td>\n      <td>https</td>\n      <td>edmo.seadatanet.org</td>\n      <td>/search</td>\n      <td>NaN</td>\n      <td>NaN</td>\n      <td>search</td>\n      <td>NaN</td>\n      <td>search</td>\n    </tr>\n    <tr>\n      <th>2</th>\n      <td>https://edmo.seadatanet.org/sparql</td>\n      <td>https</td>\n      <td>edmo.seadatanet.org</td>\n      <td>/sparql</td>\n      <td>NaN</td>\n      <td>NaN</td>\n      <td>sparql</td>\n      <td>NaN</td>\n      <td>sparql</td>\n    </tr>\n    <tr>\n      <th>3</th>\n      <td>https://edmo.seadatanet.org/report/5883</td>\n      <td>https</td>\n      <td>edmo.seadatanet.org</td>\n      <td>/report/5883</td>\n      <td>NaN</td>\n      <td>NaN</td>\n      <td>report</td>\n      <td>5883</td>\n      <td>5883</td>\n    </tr>\n    <tr>\n      <th>4</th>\n      <td>https://edmo.seadatanet.org/report/5882</td>\n      <td>https</td>\n      <td>edmo.seadatanet.org</td>\n      <td>/report/5882</td>\n      <td>NaN</td>\n      <td>NaN</td>\n      <td>report</td>\n      <td>5882</td>\n      <td>5882</td>\n    </tr>\n  </tbody>\n</table>\n</div>"
     },
     "execution_count": 8,
     "metadata": {},
     "output_type": "execute_result"
    }
   ],
   "source": [
    "urldf.head()\n"
   ]
  },
  {
   "cell_type": "markdown",
   "id": "9e806ba0",
   "metadata": {
    "id": "9e806ba0"
   },
   "source": [
    "## Sample and test sitemap entries"
   ]
  },
  {
   "cell_type": "code",
   "execution_count": 9,
   "id": "20e46dd2",
   "metadata": {
    "id": "20e46dd2",
    "tags": [],
    "ExecuteTime": {
     "end_time": "2023-12-12T13:25:45.256054622Z",
     "start_time": "2023-12-12T13:25:45.249382848Z"
    }
   },
   "outputs": [],
   "source": [
    "# sample the previously generated url data frame\n",
    "sample_size = 5\n",
    "# sample_df = urldf.groupby(\"dir_1\").sample(n=sample_size, random_state=1, replace=True)\n",
    "sample_df = urldf.sample(n=sample_size, random_state=1, replace=True)"
   ]
  },
  {
   "cell_type": "code",
   "execution_count": 10,
   "id": "b725c4ca",
   "metadata": {
    "id": "b725c4ca",
    "outputId": "8de96bca-ce97-4260-c3eb-0a20f7b98904",
    "tags": [],
    "ExecuteTime": {
     "end_time": "2023-12-12T13:25:45.927803122Z",
     "start_time": "2023-12-12T13:25:45.923778419Z"
    }
   },
   "outputs": [
    {
     "data": {
      "text/plain": "                                          url scheme               netloc  \\\n235   https://edmo.seadatanet.org/report/5679  https  edmo.seadatanet.org   \n3980  https://edmo.seadatanet.org/report/2688  https  edmo.seadatanet.org   \n905   https://edmo.seadatanet.org/report/5274  https  edmo.seadatanet.org   \n2763  https://edmo.seadatanet.org/report/1439  https  edmo.seadatanet.org   \n2895  https://edmo.seadatanet.org/report/3837  https  edmo.seadatanet.org   \n\n              path  query  fragment   dir_1 dir_2 last_dir  \n235   /report/5679    NaN       NaN  report  5679     5679  \n3980  /report/2688    NaN       NaN  report  2688     2688  \n905   /report/5274    NaN       NaN  report  5274     5274  \n2763  /report/1439    NaN       NaN  report  1439     1439  \n2895  /report/3837    NaN       NaN  report  3837     3837  ",
      "text/html": "<div>\n<style scoped>\n    .dataframe tbody tr th:only-of-type {\n        vertical-align: middle;\n    }\n\n    .dataframe tbody tr th {\n        vertical-align: top;\n    }\n\n    .dataframe thead th {\n        text-align: right;\n    }\n</style>\n<table border=\"1\" class=\"dataframe\">\n  <thead>\n    <tr style=\"text-align: right;\">\n      <th></th>\n      <th>url</th>\n      <th>scheme</th>\n      <th>netloc</th>\n      <th>path</th>\n      <th>query</th>\n      <th>fragment</th>\n      <th>dir_1</th>\n      <th>dir_2</th>\n      <th>last_dir</th>\n    </tr>\n  </thead>\n  <tbody>\n    <tr>\n      <th>235</th>\n      <td>https://edmo.seadatanet.org/report/5679</td>\n      <td>https</td>\n      <td>edmo.seadatanet.org</td>\n      <td>/report/5679</td>\n      <td>NaN</td>\n      <td>NaN</td>\n      <td>report</td>\n      <td>5679</td>\n      <td>5679</td>\n    </tr>\n    <tr>\n      <th>3980</th>\n      <td>https://edmo.seadatanet.org/report/2688</td>\n      <td>https</td>\n      <td>edmo.seadatanet.org</td>\n      <td>/report/2688</td>\n      <td>NaN</td>\n      <td>NaN</td>\n      <td>report</td>\n      <td>2688</td>\n      <td>2688</td>\n    </tr>\n    <tr>\n      <th>905</th>\n      <td>https://edmo.seadatanet.org/report/5274</td>\n      <td>https</td>\n      <td>edmo.seadatanet.org</td>\n      <td>/report/5274</td>\n      <td>NaN</td>\n      <td>NaN</td>\n      <td>report</td>\n      <td>5274</td>\n      <td>5274</td>\n    </tr>\n    <tr>\n      <th>2763</th>\n      <td>https://edmo.seadatanet.org/report/1439</td>\n      <td>https</td>\n      <td>edmo.seadatanet.org</td>\n      <td>/report/1439</td>\n      <td>NaN</td>\n      <td>NaN</td>\n      <td>report</td>\n      <td>1439</td>\n      <td>1439</td>\n    </tr>\n    <tr>\n      <th>2895</th>\n      <td>https://edmo.seadatanet.org/report/3837</td>\n      <td>https</td>\n      <td>edmo.seadatanet.org</td>\n      <td>/report/3837</td>\n      <td>NaN</td>\n      <td>NaN</td>\n      <td>report</td>\n      <td>3837</td>\n      <td>3837</td>\n    </tr>\n  </tbody>\n</table>\n</div>"
     },
     "execution_count": 10,
     "metadata": {},
     "output_type": "execute_result"
    }
   ],
   "source": [
    "sample_df.head(5)"
   ]
  },
  {
   "cell_type": "markdown",
   "id": "c58bee8f",
   "metadata": {
    "id": "c58bee8f"
   },
   "source": [
    "### See if the URLs resolve"
   ]
  },
  {
   "cell_type": "code",
   "execution_count": 11,
   "id": "0c22245d",
   "metadata": {
    "id": "0c22245d",
    "outputId": "050d3908-5d1d-4d2b-e953-0b47a2e8a330",
    "tags": [],
    "ExecuteTime": {
     "end_time": "2023-12-12T13:25:51.386627147Z",
     "start_time": "2023-12-12T13:25:48.532751335Z"
    }
   },
   "outputs": [
    {
     "name": "stdout",
     "output_type": "stream",
     "text": [
      "URL: https://edmo.seadatanet.org/report/5679 \n",
      "URL: https://edmo.seadatanet.org/report/2688 \n",
      "URL: https://edmo.seadatanet.org/report/5274 \n",
      "URL: https://edmo.seadatanet.org/report/1439 \n",
      "URL: https://edmo.seadatanet.org/report/3837 \n"
     ]
    }
   ],
   "source": [
    "import urllib.request\n",
    "import requests\n",
    "\n",
    "ul = sample_df[\"url\"]\n",
    "\n",
    "for item in ul:\n",
    "    # user_agent = 'Mozilla/5.0 (Windows; U; Windows NT 5.1; en-US; rv:1.9.0.7) Gecko/2009021910 Firefox/3.0.7'\n",
    "    # headers={'User-Agent':user_agent,}\n",
    "\n",
    "    headers= {'User-Agent': 'Mozilla/5.0 (X11; Linux x86_64) '\n",
    "                           'AppleWebKit/537.11 (KHTML, like Gecko) '\n",
    "                           'Chrome/23.0.1271.64 Safari/537.11',\n",
    "             'Accept': 'text/html,application/xhtml+xml,application/xml;q=0.9,*/*;q=0.8',\n",
    "             'Accept-Charset': 'ISO-8859-1,utf-8;q=0.7,*;q=0.3',\n",
    "             'Accept-Encoding': 'none',\n",
    "             'Accept-Language': 'en-US,en;q=0.8',\n",
    "             'Connection': 'keep-alive'}\n",
    "\n",
    "    try:\n",
    "        # x = requests.get(item)\n",
    "        # code = x.status_code\n",
    "        request=urllib.request.Request(url=item, headers=headers) #The assembled request\n",
    "        with urllib.request.urlopen(request) as response:\n",
    "            info = response.info()\n",
    "            dtype = info.get_content_type()    # -> text/html\n",
    "         # headers = x.headers()\n",
    "        # print(\"URL: {} \\ninfo : {}\\n --\".format(item, info))\n",
    "        print(\"URL: {} \".format(item))\n",
    "    except Exception as e:\n",
    "        # code = x.status_code\n",
    "        # dtype = info.get_content_type()\n",
    "\n",
    "        print(\"Exception on: {} \\nerrors : {}\\n --\".format(item, str(e)))\n"
   ]
  },
  {
   "cell_type": "markdown",
   "id": "ed2bcab8",
   "metadata": {
    "id": "ed2bcab8"
   },
   "source": [
    "### See if they have JSON-LD (static check only, no dynamically loaded JSON-LD yet)"
   ]
  },
  {
   "cell_type": "code",
   "execution_count": 12,
   "id": "cd25210a",
   "metadata": {
    "id": "cd25210a",
    "outputId": "0e43588f-ed7d-4074-cec8-23a25f6f5ce1",
    "tags": [],
    "ExecuteTime": {
     "end_time": "2023-12-12T13:25:55.476101539Z",
     "start_time": "2023-12-12T13:25:52.683186486Z"
    }
   },
   "outputs": [
    {
     "name": "stdout",
     "output_type": "stream",
     "text": [
      "https://edmo.seadatanet.org/report/5679\n",
      "<script type=\"application/ld+json\">{\r\n",
      "    \"@context\": {\r\n",
      "        \"@vocab\": \"https://schema.org/\"\r\n",
      "    },\r\n",
      "    \"@type\": \"Organization\",\r\n",
      "    \"@id\": \"https://edmo.seadatanet.org/report/5679\",\r\n",
      "    \"name\": \"Qingdao Hisun Ocean Equipment Corporation Limited\",\r\n",
      "    \"identifier\": \"5679\",\r\n",
      "    \"alternateName\": \"QDHISUN\",\r\n",
      "    \"url\": \"https://edmo.seadatanet.org/report/5679\",\r\n",
      "    \"location\": {\r\n",
      "        \"@type\": \"Place\",\r\n",
      "        \"latitude\": 36.5233271,\r\n",
      "        \"longitude\": 120.45198\r\n",
      "    },\r\n",
      "    \"contactPoint\": {\r\n",
      "        \"@type\": \"ContactPoint\",\r\n",
      "        \"email\": \"qdhisun@qdhisun.com\"\r\n",
      "    },\r\n",
      "    \"address\": {\r\n",
      "        \"@type\": \"PostalAddress\",\r\n",
      "        \"addressLocality\": \"Qingdao City, China\",\r\n",
      "        \"addressRegion\": \"Shandong Province\",\r\n",
      "        \"postalCode\": \"266000\",\r\n",
      "        \"streetAddress\": \"No. 1 Wenhai Road, Aoshanwei Town, Jimo\"\r\n",
      "    },\r\n",
      "    \"sameAs\": [\r\n",
      "        \"http://www.qdhisun.com/\"\r\n",
      "    ],\r\n",
      "    \"memberOf\": {\r\n",
      "        \"@type\": \"ProgramMembership\",\r\n",
      "        \"programName\": \"European Directory of Marine Organisations (EDMO)\"\r\n",
      "    }\r\n",
      "}</script>\n",
      "JSON byte size: 1023 \n",
      "https://edmo.seadatanet.org/report/2688\n",
      "<script type=\"application/ld+json\">{\r\n",
      "    \"@context\": {\r\n",
      "        \"@vocab\": \"https://schema.org/\"\r\n",
      "    },\r\n",
      "    \"@type\": \"Organization\",\r\n",
      "    \"@id\": \"https://edmo.seadatanet.org/report/2688\",\r\n",
      "    \"name\": \"JRC, Institute for Environment and Sustainability\",\r\n",
      "    \"identifier\": \"2688\",\r\n",
      "    \"alternateName\": \"IES\",\r\n",
      "    \"url\": \"https://edmo.seadatanet.org/report/2688\",\r\n",
      "    \"description\": \"A healthy environment is one of the cornerstones of the European model of sustainable development. Moreover, our natural and cultural heritage defines our common European identity and thus its preservation for present and future generations is one of our utmost responsibilities. Being a European centre of scientific and technical reference covering the entire range of environmental sciences, the European Commission's Institute for Environment and Sustainability (IES) is at the forefront in providing research-based support for the development and implementation of European environmental policies. These days, the IES is not only a respected partner of many first class research institutes in Member States, Candidate Countries and further afield, but together with strategic partners like the European Environment Agency and the European Space Agency is a key player in delivering results of cutting-edge basic and applied environmental research to society. Last, but certainly not least, and due to the very nature of the environment, the IES uses its expertise and state-of-the-art research facilities to act globally in cooperation with major international organisations. Four priorities will drive our research in the years to come: &bull; Environment and prosperity. We are firmly convinced that environmental concerns are no obstacle for European competitiveness, but on the contrary are a key for achieving Europe&rsquo;s aim of becoming the most competitive knowledge-based society in the world. &bull; Environment and solidarity. We support the common goal of providing equal access to a healthy environment to all European citizens. At the same time, we perceive solidarity as intergenerational justice, allowing future generations to choose their own priorities for development. &bull; Environment and security. Many people are concerned about potential threats to the integrity of their lives and belongings. It is our commitment to contribute to a reduction of environmental risks, no matter whether these are related to natural hazards or the result of human activities. &bull; The global perspective. Europe is exporting pressure on natural resources world-wide and is facing the consequences of environmental conflict in other parts of the world. We help Europe to take up responsibility for the environmental well-being of the entire planet.\",\r\n",
      "    \"location\": {\r\n",
      "        \"@type\": \"Place\",\r\n",
      "        \"latitude\": 45.80383,\r\n",
      "        \"longitude\": 8.62956\r\n",
      "    },\r\n",
      "    \"contactPoint\": {\r\n",
      "        \"@type\": \"ContactPoint\",\r\n",
      "        \"telephone\": \"+39/0332789111\"\r\n",
      "    },\r\n",
      "    \"address\": {\r\n",
      "        \"@type\": \"PostalAddress\",\r\n",
      "        \"addressLocality\": \"Ispra (VA), Italy\",\r\n",
      "        \"addressRegion\": \"Italy\",\r\n",
      "        \"postalCode\": \"I-21027\",\r\n",
      "        \"streetAddress\": \"Via E. Fermi 2749\"\r\n",
      "    },\r\n",
      "    \"memberOf\": {\r\n",
      "        \"@type\": \"ProgramMembership\",\r\n",
      "        \"programName\": \"European Directory of Marine Organisations (EDMO)\"\r\n",
      "    }\r\n",
      "}</script>\n",
      "JSON byte size: 3307 \n",
      "https://edmo.seadatanet.org/report/5274\n",
      "<script type=\"application/ld+json\">{\r\n",
      "    \"@context\": {\r\n",
      "        \"@vocab\": \"https://schema.org/\"\r\n",
      "    },\r\n",
      "    \"@type\": \"Organization\",\r\n",
      "    \"@id\": \"https://edmo.seadatanet.org/report/5274\",\r\n",
      "    \"name\": \"Marine Solutions Tasmania Pty Ltd\",\r\n",
      "    \"identifier\": \"5274\",\r\n",
      "    \"url\": \"https://edmo.seadatanet.org/report/5274\",\r\n",
      "    \"description\": \"Based in Hobart, Marine Solutions conducts projects throughout southern Australia for a range of client sectors including private enterprise, local and state government, community groups and individuals.\",\r\n",
      "    \"location\": {\r\n",
      "        \"@type\": \"Place\",\r\n",
      "        \"latitude\": -42.85437,\r\n",
      "        \"longitude\": 147.30512\r\n",
      "    },\r\n",
      "    \"contactPoint\": {\r\n",
      "        \"@type\": \"ContactPoint\",\r\n",
      "        \"telephone\": \"+61 400 697 175\",\r\n",
      "        \"email\": \"info@marinesolutions.net.au\"\r\n",
      "    },\r\n",
      "    \"address\": {\r\n",
      "        \"@type\": \"PostalAddress\",\r\n",
      "        \"addressLocality\": \"New Town, Australia\",\r\n",
      "        \"addressRegion\": \"Tasmania\",\r\n",
      "        \"postalCode\": \"7008\",\r\n",
      "        \"streetAddress\": \"110 Swanston Street\"\r\n",
      "    },\r\n",
      "    \"sameAs\": [\r\n",
      "        \"http://www.marinesolutions.net.au/\"\r\n",
      "    ],\r\n",
      "    \"memberOf\": {\r\n",
      "        \"@type\": \"ProgramMembership\",\r\n",
      "        \"programName\": \"European Directory of Marine Organisations (EDMO)\"\r\n",
      "    }\r\n",
      "}</script>\n",
      "JSON byte size: 1229 \n",
      "https://edmo.seadatanet.org/report/1439\n",
      "<script type=\"application/ld+json\">{\r\n",
      "    \"@context\": {\r\n",
      "        \"@vocab\": \"https://schema.org/\"\r\n",
      "    },\r\n",
      "    \"@type\": \"Organization\",\r\n",
      "    \"@id\": \"https://edmo.seadatanet.org/report/1439\",\r\n",
      "    \"name\": \"University of California, Santa Cruz, Ocean Sciences Department\",\r\n",
      "    \"identifier\": \"1439\",\r\n",
      "    \"url\": \"https://edmo.seadatanet.org/report/1439\",\r\n",
      "    \"description\": \"The Ocean Sciences Department includes faculty and students involved in oceanography and other marine sciences and sponsors undergraduate and graduate courses in these disciplines. Through faculty sponsors, students have access to a wide variety of research facilities and equipment, including on-campus analytical chemistry, geology and molecular biology laboratories for marine research, computing and imaging facilities, an on-shore marine laboratory two miles from campus (Long Marine Laboratory) with aquariums and holding tanks that are supplied with running sea water, and a unique field station on A&ntilde;o Nuevo Island (19 miles north of Santa Cruz) especially suited for studies on pinnipeds and marine birds. The department supports collaborative studies utilizing the innovative technologies of the nearby Monterey Bay Aquarium Research Institute, the Naval Postgraduate School, Stanford University's Hopkins Marine Station, CSU Moss Landing Laboratory, and others. Students may also work at other University of California facilities, including the Bodega Marine Laboratories and Scripps Institution of Oceanography.\",\r\n",
      "    \"logo\": \"https://edmo.seadatanet.org/pictures/sea-search/organisations/1390/ucsc.jpeg\",\r\n",
      "    \"location\": {\r\n",
      "        \"@type\": \"Place\",\r\n",
      "        \"latitude\": 36.999502,\r\n",
      "        \"longitude\": -122.057677\r\n",
      "    },\r\n",
      "    \"contactPoint\": {\r\n",
      "        \"@type\": \"ContactPoint\",\r\n",
      "        \"telephone\": \"(831) 459-2563\"\r\n",
      "    },\r\n",
      "    \"address\": {\r\n",
      "        \"@type\": \"PostalAddress\",\r\n",
      "        \"addressLocality\": \"Santa Cruz, United States\",\r\n",
      "        \"addressRegion\": \"CA\",\r\n",
      "        \"postalCode\": \"95064\",\r\n",
      "        \"streetAddress\": \"1156 High Street\\r\\n\\r\\n\"\r\n",
      "    },\r\n",
      "    \"sameAs\": [\r\n",
      "        \"https://oceansci.ucsc.edu/\"\r\n",
      "    ],\r\n",
      "    \"memberOf\": {\r\n",
      "        \"@type\": \"ProgramMembership\",\r\n",
      "        \"programName\": \"European Directory of Marine Organisations (EDMO)\"\r\n",
      "    }\r\n",
      "}</script>\n",
      "JSON byte size: 2229 \n",
      "https://edmo.seadatanet.org/report/3837\n",
      "<script type=\"application/ld+json\">{\r\n",
      "    \"@context\": {\r\n",
      "        \"@vocab\": \"https://schema.org/\"\r\n",
      "    },\r\n",
      "    \"@type\": \"Organization\",\r\n",
      "    \"@id\": \"https://edmo.seadatanet.org/report/3837\",\r\n",
      "    \"name\": \"University of Southern Mississippi\",\r\n",
      "    \"identifier\": \"3837\",\r\n",
      "    \"alternateName\": \"USM\",\r\n",
      "    \"url\": \"https://edmo.seadatanet.org/report/3837\",\r\n",
      "    \"description\": \"The University of Southern Mississippi, known informally as Southern Miss, is a public research university located in Hattiesburg, Mississippi. Founded on March 30, 1910, the university is a dual campus institution, with the main campus located in Hattiesburg and the Gulf Park campus located in Long Beach, with five additional teaching and research sites.\",\r\n",
      "    \"logo\": \"https://edmo.seadatanet.org/pictures/sea-search/organisations/1390/usm.jpeg\",\r\n",
      "    \"location\": {\r\n",
      "        \"@type\": \"Place\",\r\n",
      "        \"latitude\": 31.328319,\r\n",
      "        \"longitude\": -89.332516\r\n",
      "    },\r\n",
      "    \"contactPoint\": {\r\n",
      "        \"@type\": \"ContactPoint\",\r\n",
      "        \"telephone\": \"(601) 266-1000\"\r\n",
      "    },\r\n",
      "    \"address\": {\r\n",
      "        \"@type\": \"PostalAddress\",\r\n",
      "        \"addressLocality\": \"Hattiesburg, United States\",\r\n",
      "        \"addressRegion\": \"MS\",\r\n",
      "        \"postalCode\": \"39406\",\r\n",
      "        \"streetAddress\": \"118 College Dr.\"\r\n",
      "    },\r\n",
      "    \"sameAs\": [\r\n",
      "        \"https://www.usm.edu/\"\r\n",
      "    ],\r\n",
      "    \"memberOf\": {\r\n",
      "        \"@type\": \"ProgramMembership\",\r\n",
      "        \"programName\": \"European Directory of Marine Organisations (EDMO)\"\r\n",
      "    }\r\n",
      "}</script>\n",
      "JSON byte size: 1440 \n"
     ]
    }
   ],
   "source": [
    "ul = sample_df[\"url\"]\n",
    "\n",
    "headers= {'User-Agent': 'Mozilla/5.0 (X11; Linux x86_64) '\n",
    "                        'AppleWebKit/537.11 (KHTML, like Gecko) '\n",
    "                        'Chrome/23.0.1271.64 Safari/537.11',\n",
    "          'Accept': 'application/ld+json,text/html,application/xhtml+xml,application/xml;q=0.9,*/*;q=0.8',\n",
    "          'Accept-Charset': 'ISO-8859-1,utf-8;q=0.7,*;q=0.3',\n",
    "          'Accept-Encoding': 'none',\n",
    "          'Accept-Language': 'en-US,en;q=0.8',\n",
    "          'Connection': 'keep-alive'}\n",
    "\n",
    "for item in ul:\n",
    "    print(item)\n",
    "    request=urllib.request.Request(url=item, headers=headers)\n",
    "    # p = urllib.request.urlopen(request).read()\n",
    "\n",
    "    html = urllib.request.urlopen(request).read()\n",
    "    soup = BeautifulSoup(html, \"html.parser\")\n",
    "    p = soup.find('script', {'type':'application/ld+json'})\n",
    "    try:\n",
    "        # print(\"JSON byte size: {} \".format(len(p)))\n",
    "        print(p)\n",
    "        print(\"JSON byte size: {} \".format(len(p.contents[0])))\n",
    "    except Exception as e:\n",
    "        logging.error(traceback.format_exc())"
   ]
  },
  {
   "cell_type": "markdown",
   "id": "b8875457",
   "metadata": {
    "id": "b8875457"
   },
   "source": [
    "### Check JSON-LD structure (static check only, no dynamically loaded JSON-LD yet)"
   ]
  },
  {
   "cell_type": "code",
   "execution_count": 13,
   "id": "cd83aa38-7d5f-48d1-bdb2-12cadd72a9dc",
   "metadata": {
    "id": "cd83aa38-7d5f-48d1-bdb2-12cadd72a9dc",
    "outputId": "cddf8813-9244-44b3-af15-fadc68c73a3b",
    "tags": [],
    "ExecuteTime": {
     "end_time": "2023-12-12T13:26:04.553423190Z",
     "start_time": "2023-12-12T13:26:01.800674942Z"
    }
   },
   "outputs": [],
   "source": [
    "ul = sample_df[\"url\"]\n",
    "\n",
    "myframe =  {\n",
    "    \"@context\":{\"@vocab\": \"http://schema.org/\"},\n",
    "    \"@type\": \"Dataset\",\n",
    "}\n",
    "\n",
    "context =  { \"@vocab\": \"http://schema.org/\" }\n",
    "\n",
    "headers= {'User-Agent': 'Mozilla/5.0 (X11; Linux x86_64) '\n",
    "                        'AppleWebKit/537.11 (KHTML, like Gecko) '\n",
    "                        'Chrome/23.0.1271.64 Safari/537.11',\n",
    "          'Accept': 'application/ld+json,text/html,application/xhtml+xml,application/xml;q=0.9,*/*;q=0.8',\n",
    "          'Accept-Charset': 'ISO-8859-1,utf-8;q=0.7,*;q=0.3',\n",
    "          'Accept-Encoding': 'none',\n",
    "          'Accept-Language': 'en-US,en;q=0.8',\n",
    "          'Connection': 'keep-alive'}\n",
    "\n",
    "for item in ul:\n",
    "    request=urllib.request.Request(url=item, headers=headers)\n",
    "    # p = urllib.request.urlopen(request).read()\n",
    "    html = urllib.request.urlopen(request).read()\n",
    "    soup = BeautifulSoup(html, \"html.parser\")\n",
    "    p = soup.find('script', {'type':'application/ld+json'})\n",
    "    try:\n",
    "        jld = json.loads(p.contents[0])\n",
    "        # jld = json.loads(p)\n",
    "\n",
    "        # print(str(jld))\n",
    "        # compacted = jsonld.compact(str(jld), context)\n",
    "        # print(len(json.dumps(compacted, indent=2)))\n",
    "    except Exception as e:\n",
    "        print(\"Exception\")\n",
    "        logging.error(traceback.format_exc())"
   ]
  },
  {
   "cell_type": "markdown",
   "id": "c3c3f714",
   "metadata": {
    "id": "c3c3f714"
   },
   "source": [
    "## Load to Graph\"\n",
    "\n",
    "Looad a sample set of triples into RDF lib and run a sample SPARQL query on them.\n",
    "\n",
    "### Note\n",
    "This is the same loop as above but now we will load into a KG graph"
   ]
  },
  {
   "cell_type": "code",
   "execution_count": 14,
   "id": "e39214e2",
   "metadata": {
    "id": "e39214e2",
    "outputId": "a2877637-3da7-4ffd-ba55-23d90b8a9602",
    "ExecuteTime": {
     "end_time": "2023-12-12T13:26:18.174238227Z",
     "start_time": "2023-12-12T13:26:15.409610596Z"
    }
   },
   "outputs": [
    {
     "name": "stdout",
     "output_type": "stream",
     "text": [
      "JSON byte size: 1023 \n",
      "{\r\n",
      "    \"@context\": {\r\n",
      "        \"@vocab\": \"https://schema.org/\"\r\n",
      "    },\r\n",
      "    \"@type\": \"Organization\",\r\n",
      "    \"@id\": \"https://edmo.seadatanet.org/report/5679\",\r\n",
      "    \"name\": \"Qingdao Hisun Ocean Equipment Corporation Limited\",\r\n",
      "    \"identifier\": \"5679\",\r\n",
      "    \"alternateName\": \"QDHISUN\",\r\n",
      "    \"url\": \"https://edmo.seadatanet.org/report/5679\",\r\n",
      "    \"location\": {\r\n",
      "        \"@type\": \"Place\",\r\n",
      "        \"latitude\": 36.5233271,\r\n",
      "        \"longitude\": 120.45198\r\n",
      "    },\r\n",
      "    \"contactPoint\": {\r\n",
      "        \"@type\": \"ContactPoint\",\r\n",
      "        \"email\": \"qdhisun@qdhisun.com\"\r\n",
      "    },\r\n",
      "    \"address\": {\r\n",
      "        \"@type\": \"PostalAddress\",\r\n",
      "        \"addressLocality\": \"Qingdao City, China\",\r\n",
      "        \"addressRegion\": \"Shandong Province\",\r\n",
      "        \"postalCode\": \"266000\",\r\n",
      "        \"streetAddress\": \"No. 1 Wenhai Road, Aoshanwei Town, Jimo\"\r\n",
      "    },\r\n",
      "    \"sameAs\": [\r\n",
      "        \"http://www.qdhisun.com/\"\r\n",
      "    ],\r\n",
      "    \"memberOf\": {\r\n",
      "        \"@type\": \"ProgramMembership\",\r\n",
      "        \"programName\": \"European Directory of Marine Organisations (EDMO)\"\r\n",
      "    }\r\n",
      "}\n",
      "JSON byte size: 3307 \n",
      "{\r\n",
      "    \"@context\": {\r\n",
      "        \"@vocab\": \"https://schema.org/\"\r\n",
      "    },\r\n",
      "    \"@type\": \"Organization\",\r\n",
      "    \"@id\": \"https://edmo.seadatanet.org/report/2688\",\r\n",
      "    \"name\": \"JRC, Institute for Environment and Sustainability\",\r\n",
      "    \"identifier\": \"2688\",\r\n",
      "    \"alternateName\": \"IES\",\r\n",
      "    \"url\": \"https://edmo.seadatanet.org/report/2688\",\r\n",
      "    \"description\": \"A healthy environment is one of the cornerstones of the European model of sustainable development. Moreover, our natural and cultural heritage defines our common European identity and thus its preservation for present and future generations is one of our utmost responsibilities. Being a European centre of scientific and technical reference covering the entire range of environmental sciences, the European Commission's Institute for Environment and Sustainability (IES) is at the forefront in providing research-based support for the development and implementation of European environmental policies. These days, the IES is not only a respected partner of many first class research institutes in Member States, Candidate Countries and further afield, but together with strategic partners like the European Environment Agency and the European Space Agency is a key player in delivering results of cutting-edge basic and applied environmental research to society. Last, but certainly not least, and due to the very nature of the environment, the IES uses its expertise and state-of-the-art research facilities to act globally in cooperation with major international organisations. Four priorities will drive our research in the years to come: &bull; Environment and prosperity. We are firmly convinced that environmental concerns are no obstacle for European competitiveness, but on the contrary are a key for achieving Europe&rsquo;s aim of becoming the most competitive knowledge-based society in the world. &bull; Environment and solidarity. We support the common goal of providing equal access to a healthy environment to all European citizens. At the same time, we perceive solidarity as intergenerational justice, allowing future generations to choose their own priorities for development. &bull; Environment and security. Many people are concerned about potential threats to the integrity of their lives and belongings. It is our commitment to contribute to a reduction of environmental risks, no matter whether these are related to natural hazards or the result of human activities. &bull; The global perspective. Europe is exporting pressure on natural resources world-wide and is facing the consequences of environmental conflict in other parts of the world. We help Europe to take up responsibility for the environmental well-being of the entire planet.\",\r\n",
      "    \"location\": {\r\n",
      "        \"@type\": \"Place\",\r\n",
      "        \"latitude\": 45.80383,\r\n",
      "        \"longitude\": 8.62956\r\n",
      "    },\r\n",
      "    \"contactPoint\": {\r\n",
      "        \"@type\": \"ContactPoint\",\r\n",
      "        \"telephone\": \"+39/0332789111\"\r\n",
      "    },\r\n",
      "    \"address\": {\r\n",
      "        \"@type\": \"PostalAddress\",\r\n",
      "        \"addressLocality\": \"Ispra (VA), Italy\",\r\n",
      "        \"addressRegion\": \"Italy\",\r\n",
      "        \"postalCode\": \"I-21027\",\r\n",
      "        \"streetAddress\": \"Via E. Fermi 2749\"\r\n",
      "    },\r\n",
      "    \"memberOf\": {\r\n",
      "        \"@type\": \"ProgramMembership\",\r\n",
      "        \"programName\": \"European Directory of Marine Organisations (EDMO)\"\r\n",
      "    }\r\n",
      "}\n",
      "JSON byte size: 1229 \n",
      "{\r\n",
      "    \"@context\": {\r\n",
      "        \"@vocab\": \"https://schema.org/\"\r\n",
      "    },\r\n",
      "    \"@type\": \"Organization\",\r\n",
      "    \"@id\": \"https://edmo.seadatanet.org/report/5274\",\r\n",
      "    \"name\": \"Marine Solutions Tasmania Pty Ltd\",\r\n",
      "    \"identifier\": \"5274\",\r\n",
      "    \"url\": \"https://edmo.seadatanet.org/report/5274\",\r\n",
      "    \"description\": \"Based in Hobart, Marine Solutions conducts projects throughout southern Australia for a range of client sectors including private enterprise, local and state government, community groups and individuals.\",\r\n",
      "    \"location\": {\r\n",
      "        \"@type\": \"Place\",\r\n",
      "        \"latitude\": -42.85437,\r\n",
      "        \"longitude\": 147.30512\r\n",
      "    },\r\n",
      "    \"contactPoint\": {\r\n",
      "        \"@type\": \"ContactPoint\",\r\n",
      "        \"telephone\": \"+61 400 697 175\",\r\n",
      "        \"email\": \"info@marinesolutions.net.au\"\r\n",
      "    },\r\n",
      "    \"address\": {\r\n",
      "        \"@type\": \"PostalAddress\",\r\n",
      "        \"addressLocality\": \"New Town, Australia\",\r\n",
      "        \"addressRegion\": \"Tasmania\",\r\n",
      "        \"postalCode\": \"7008\",\r\n",
      "        \"streetAddress\": \"110 Swanston Street\"\r\n",
      "    },\r\n",
      "    \"sameAs\": [\r\n",
      "        \"http://www.marinesolutions.net.au/\"\r\n",
      "    ],\r\n",
      "    \"memberOf\": {\r\n",
      "        \"@type\": \"ProgramMembership\",\r\n",
      "        \"programName\": \"European Directory of Marine Organisations (EDMO)\"\r\n",
      "    }\r\n",
      "}\n",
      "JSON byte size: 2229 \n",
      "{\r\n",
      "    \"@context\": {\r\n",
      "        \"@vocab\": \"https://schema.org/\"\r\n",
      "    },\r\n",
      "    \"@type\": \"Organization\",\r\n",
      "    \"@id\": \"https://edmo.seadatanet.org/report/1439\",\r\n",
      "    \"name\": \"University of California, Santa Cruz, Ocean Sciences Department\",\r\n",
      "    \"identifier\": \"1439\",\r\n",
      "    \"url\": \"https://edmo.seadatanet.org/report/1439\",\r\n",
      "    \"description\": \"The Ocean Sciences Department includes faculty and students involved in oceanography and other marine sciences and sponsors undergraduate and graduate courses in these disciplines. Through faculty sponsors, students have access to a wide variety of research facilities and equipment, including on-campus analytical chemistry, geology and molecular biology laboratories for marine research, computing and imaging facilities, an on-shore marine laboratory two miles from campus (Long Marine Laboratory) with aquariums and holding tanks that are supplied with running sea water, and a unique field station on A&ntilde;o Nuevo Island (19 miles north of Santa Cruz) especially suited for studies on pinnipeds and marine birds. The department supports collaborative studies utilizing the innovative technologies of the nearby Monterey Bay Aquarium Research Institute, the Naval Postgraduate School, Stanford University's Hopkins Marine Station, CSU Moss Landing Laboratory, and others. Students may also work at other University of California facilities, including the Bodega Marine Laboratories and Scripps Institution of Oceanography.\",\r\n",
      "    \"logo\": \"https://edmo.seadatanet.org/pictures/sea-search/organisations/1390/ucsc.jpeg\",\r\n",
      "    \"location\": {\r\n",
      "        \"@type\": \"Place\",\r\n",
      "        \"latitude\": 36.999502,\r\n",
      "        \"longitude\": -122.057677\r\n",
      "    },\r\n",
      "    \"contactPoint\": {\r\n",
      "        \"@type\": \"ContactPoint\",\r\n",
      "        \"telephone\": \"(831) 459-2563\"\r\n",
      "    },\r\n",
      "    \"address\": {\r\n",
      "        \"@type\": \"PostalAddress\",\r\n",
      "        \"addressLocality\": \"Santa Cruz, United States\",\r\n",
      "        \"addressRegion\": \"CA\",\r\n",
      "        \"postalCode\": \"95064\",\r\n",
      "        \"streetAddress\": \"1156 High Street\\r\\n\\r\\n\"\r\n",
      "    },\r\n",
      "    \"sameAs\": [\r\n",
      "        \"https://oceansci.ucsc.edu/\"\r\n",
      "    ],\r\n",
      "    \"memberOf\": {\r\n",
      "        \"@type\": \"ProgramMembership\",\r\n",
      "        \"programName\": \"European Directory of Marine Organisations (EDMO)\"\r\n",
      "    }\r\n",
      "}\n",
      "JSON byte size: 1440 \n",
      "{\r\n",
      "    \"@context\": {\r\n",
      "        \"@vocab\": \"https://schema.org/\"\r\n",
      "    },\r\n",
      "    \"@type\": \"Organization\",\r\n",
      "    \"@id\": \"https://edmo.seadatanet.org/report/3837\",\r\n",
      "    \"name\": \"University of Southern Mississippi\",\r\n",
      "    \"identifier\": \"3837\",\r\n",
      "    \"alternateName\": \"USM\",\r\n",
      "    \"url\": \"https://edmo.seadatanet.org/report/3837\",\r\n",
      "    \"description\": \"The University of Southern Mississippi, known informally as Southern Miss, is a public research university located in Hattiesburg, Mississippi. Founded on March 30, 1910, the university is a dual campus institution, with the main campus located in Hattiesburg and the Gulf Park campus located in Long Beach, with five additional teaching and research sites.\",\r\n",
      "    \"logo\": \"https://edmo.seadatanet.org/pictures/sea-search/organisations/1390/usm.jpeg\",\r\n",
      "    \"location\": {\r\n",
      "        \"@type\": \"Place\",\r\n",
      "        \"latitude\": 31.328319,\r\n",
      "        \"longitude\": -89.332516\r\n",
      "    },\r\n",
      "    \"contactPoint\": {\r\n",
      "        \"@type\": \"ContactPoint\",\r\n",
      "        \"telephone\": \"(601) 266-1000\"\r\n",
      "    },\r\n",
      "    \"address\": {\r\n",
      "        \"@type\": \"PostalAddress\",\r\n",
      "        \"addressLocality\": \"Hattiesburg, United States\",\r\n",
      "        \"addressRegion\": \"MS\",\r\n",
      "        \"postalCode\": \"39406\",\r\n",
      "        \"streetAddress\": \"118 College Dr.\"\r\n",
      "    },\r\n",
      "    \"sameAs\": [\r\n",
      "        \"https://www.usm.edu/\"\r\n",
      "    ],\r\n",
      "    \"memberOf\": {\r\n",
      "        \"@type\": \"ProgramMembership\",\r\n",
      "        \"programName\": \"European Directory of Marine Organisations (EDMO)\"\r\n",
      "    }\r\n",
      "}\n"
     ]
    }
   ],
   "source": [
    "ul = sample_df[\"url\"]\n",
    "\n",
    "# Test loading into a graph\n",
    "namespaces = {\n",
    "    \"schema\":  \"http://schema.org/\",\n",
    "    \"schemaold\":  \"http://schema.org/\",\n",
    "    \"shacl\":   \"http://www.w3.org/ns/shacl#\" ,\n",
    "}\n",
    "\n",
    "kg = kglab.KnowledgeGraph(\n",
    "    name = \"Schema.org shacl eval datagraph\",\n",
    "    base_uri = \"https://example.org/id/\",\n",
    "    namespaces = namespaces,\n",
    ")\n",
    "\n",
    "for item in ul:\n",
    "    html = urllib.request.urlopen(item).read()\n",
    "    soup = BeautifulSoup(html, \"html.parser\")\n",
    "    p = soup.find('script', {'type':'application/ld+json'})\n",
    "    try:\n",
    "        print(\"JSON byte size: {} \".format(len(p.contents[0])))\n",
    "        kg.load_rdf_text(data=p.contents[0], format=\"json-ld\")\n",
    "        print(p.contents[0])\n",
    "    except Exception as e:\n",
    "        logging.error(traceback.format_exc())"
   ]
  },
  {
   "cell_type": "code",
   "execution_count": 15,
   "id": "da74b0db-9224-4a58-80b3-d0932087a6e4",
   "metadata": {
    "id": "da74b0db-9224-4a58-80b3-d0932087a6e4",
    "outputId": "54147123-8345-495f-cc90-b7b0274ac1c5",
    "ExecuteTime": {
     "end_time": "2023-12-12T13:26:20.971400700Z",
     "start_time": "2023-12-12T13:26:20.951183098Z"
    }
   },
   "outputs": [
    {
     "data": {
      "text/plain": "                                           s  \\\n0  <https://edmo.seadatanet.org/report/2688>   \n1  <https://edmo.seadatanet.org/report/5274>   \n2  <https://edmo.seadatanet.org/report/1439>   \n3  <https://edmo.seadatanet.org/report/3837>   \n\n                                                name  \\\n0  JRC, Institute for Environment and Sustainability   \n1                  Marine Solutions Tasmania Pty Ltd   \n2  University of California, Santa Cruz, Ocean Sc...   \n3                 University of Southern Mississippi   \n\n                                         description           type  \n0  A healthy environment is one of the cornerston...  :Organization  \n1  Based in Hobart, Marine Solutions conducts pro...  :Organization  \n2  The Ocean Sciences Department includes faculty...  :Organization  \n3  The University of Southern Mississippi, known ...  :Organization  ",
      "text/html": "<div>\n<style scoped>\n    .dataframe tbody tr th:only-of-type {\n        vertical-align: middle;\n    }\n\n    .dataframe tbody tr th {\n        vertical-align: top;\n    }\n\n    .dataframe thead th {\n        text-align: right;\n    }\n</style>\n<table border=\"1\" class=\"dataframe\">\n  <thead>\n    <tr style=\"text-align: right;\">\n      <th></th>\n      <th>s</th>\n      <th>name</th>\n      <th>description</th>\n      <th>type</th>\n    </tr>\n  </thead>\n  <tbody>\n    <tr>\n      <th>0</th>\n      <td>&lt;https://edmo.seadatanet.org/report/2688&gt;</td>\n      <td>JRC, Institute for Environment and Sustainability</td>\n      <td>A healthy environment is one of the cornerston...</td>\n      <td>:Organization</td>\n    </tr>\n    <tr>\n      <th>1</th>\n      <td>&lt;https://edmo.seadatanet.org/report/5274&gt;</td>\n      <td>Marine Solutions Tasmania Pty Ltd</td>\n      <td>Based in Hobart, Marine Solutions conducts pro...</td>\n      <td>:Organization</td>\n    </tr>\n    <tr>\n      <th>2</th>\n      <td>&lt;https://edmo.seadatanet.org/report/1439&gt;</td>\n      <td>University of California, Santa Cruz, Ocean Sc...</td>\n      <td>The Ocean Sciences Department includes faculty...</td>\n      <td>:Organization</td>\n    </tr>\n    <tr>\n      <th>3</th>\n      <td>&lt;https://edmo.seadatanet.org/report/3837&gt;</td>\n      <td>University of Southern Mississippi</td>\n      <td>The University of Southern Mississippi, known ...</td>\n      <td>:Organization</td>\n    </tr>\n  </tbody>\n</table>\n</div>"
     },
     "execution_count": 15,
     "metadata": {},
     "output_type": "execute_result"
    }
   ],
   "source": [
    "sparql = \"\"\"\n",
    "PREFIX schema: <https://schema.org/>\n",
    "SELECT ?s ?name ?description ?type\n",
    "  WHERE {\n",
    "    ?s a ?type .\n",
    "    ?s schema:name ?name .\n",
    "    ?s schema:description ?description.\n",
    "  }\n",
    "\"\"\"\n",
    "\n",
    "#  schema:Dataset\n",
    "# ?s schema:name ?name .\n",
    "#     ?s schema:description ?description.\n",
    "\n",
    "df = kg.query_as_df(sparql)\n",
    "\n",
    "df.head()"
   ]
  }
 ],
 "metadata": {
  "colab": {
   "provenance": []
  },
  "interpreter": {
   "hash": "7a8db6ed8e976d23fd2e6a73e187eaf8286829efb4aa61f09abf75e2f487f948"
  },
  "kernelspec": {
   "display_name": "Python 3",
   "language": "python",
   "name": "python3"
  },
  "language_info": {
   "codemirror_mode": {
    "name": "ipython",
    "version": 3
   },
   "file_extension": ".py",
   "mimetype": "text/x-python",
   "name": "python",
   "nbconvert_exporter": "python",
   "pygments_lexer": "ipython3",
   "version": "3.10.12"
  }
 },
 "nbformat": 4,
 "nbformat_minor": 5
}
