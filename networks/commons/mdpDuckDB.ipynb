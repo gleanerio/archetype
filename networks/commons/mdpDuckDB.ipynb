{
  "nbformat": 4,
  "nbformat_minor": 0,
  "metadata": {
    "colab": {
      "provenance": []
    },
    "kernelspec": {
      "name": "python3",
      "display_name": "Python 3"
    },
    "language_info": {
      "name": "python"
    },
    "widgets": {
      "application/vnd.jupyter.widget-state+json": {
        "11597b61b46c467d93aa4e3b1a6eb609": {
          "model_module": "@jupyter-widgets/controls",
          "model_name": "FloatProgressModel",
          "model_module_version": "1.5.0",
          "state": {
            "_dom_classes": [],
            "_model_module": "@jupyter-widgets/controls",
            "_model_module_version": "1.5.0",
            "_model_name": "FloatProgressModel",
            "_view_count": null,
            "_view_module": "@jupyter-widgets/controls",
            "_view_module_version": "1.5.0",
            "_view_name": "ProgressView",
            "bar_style": "",
            "description": "",
            "description_tooltip": null,
            "layout": "IPY_MODEL_c0d0855283104ca5abfff9dedfde1819",
            "max": 100,
            "min": 0,
            "orientation": "horizontal",
            "style": "IPY_MODEL_825c48cbfc154ee491ca78a8f37f7a35",
            "value": 100
          }
        },
        "c0d0855283104ca5abfff9dedfde1819": {
          "model_module": "@jupyter-widgets/base",
          "model_name": "LayoutModel",
          "model_module_version": "1.2.0",
          "state": {
            "_model_module": "@jupyter-widgets/base",
            "_model_module_version": "1.2.0",
            "_model_name": "LayoutModel",
            "_view_count": null,
            "_view_module": "@jupyter-widgets/base",
            "_view_module_version": "1.2.0",
            "_view_name": "LayoutView",
            "align_content": null,
            "align_items": null,
            "align_self": null,
            "border": null,
            "bottom": null,
            "display": null,
            "flex": null,
            "flex_flow": null,
            "grid_area": null,
            "grid_auto_columns": null,
            "grid_auto_flow": null,
            "grid_auto_rows": null,
            "grid_column": null,
            "grid_gap": null,
            "grid_row": null,
            "grid_template_areas": null,
            "grid_template_columns": null,
            "grid_template_rows": null,
            "height": null,
            "justify_content": null,
            "justify_items": null,
            "left": null,
            "margin": null,
            "max_height": null,
            "max_width": null,
            "min_height": null,
            "min_width": null,
            "object_fit": null,
            "object_position": null,
            "order": null,
            "overflow": null,
            "overflow_x": null,
            "overflow_y": null,
            "padding": null,
            "right": null,
            "top": null,
            "visibility": null,
            "width": "auto"
          }
        },
        "825c48cbfc154ee491ca78a8f37f7a35": {
          "model_module": "@jupyter-widgets/controls",
          "model_name": "ProgressStyleModel",
          "model_module_version": "1.5.0",
          "state": {
            "_model_module": "@jupyter-widgets/controls",
            "_model_module_version": "1.5.0",
            "_model_name": "ProgressStyleModel",
            "_view_count": null,
            "_view_module": "@jupyter-widgets/base",
            "_view_module_version": "1.2.0",
            "_view_name": "StyleView",
            "bar_color": "black",
            "description_width": ""
          }
        },
        "aa5d4ee5f32c40fb9af9cc005754c9d4": {
          "model_module": "@jupyter-widgets/controls",
          "model_name": "FloatProgressModel",
          "model_module_version": "1.5.0",
          "state": {
            "_dom_classes": [],
            "_model_module": "@jupyter-widgets/controls",
            "_model_module_version": "1.5.0",
            "_model_name": "FloatProgressModel",
            "_view_count": null,
            "_view_module": "@jupyter-widgets/controls",
            "_view_module_version": "1.5.0",
            "_view_name": "ProgressView",
            "bar_style": "",
            "description": "",
            "description_tooltip": null,
            "layout": "IPY_MODEL_2933593201474964b5690b4992a1add4",
            "max": 100,
            "min": 0,
            "orientation": "horizontal",
            "style": "IPY_MODEL_6adc1f7b7c9d4eb586c7237fab84c3b3",
            "value": 100
          }
        },
        "2933593201474964b5690b4992a1add4": {
          "model_module": "@jupyter-widgets/base",
          "model_name": "LayoutModel",
          "model_module_version": "1.2.0",
          "state": {
            "_model_module": "@jupyter-widgets/base",
            "_model_module_version": "1.2.0",
            "_model_name": "LayoutModel",
            "_view_count": null,
            "_view_module": "@jupyter-widgets/base",
            "_view_module_version": "1.2.0",
            "_view_name": "LayoutView",
            "align_content": null,
            "align_items": null,
            "align_self": null,
            "border": null,
            "bottom": null,
            "display": null,
            "flex": null,
            "flex_flow": null,
            "grid_area": null,
            "grid_auto_columns": null,
            "grid_auto_flow": null,
            "grid_auto_rows": null,
            "grid_column": null,
            "grid_gap": null,
            "grid_row": null,
            "grid_template_areas": null,
            "grid_template_columns": null,
            "grid_template_rows": null,
            "height": null,
            "justify_content": null,
            "justify_items": null,
            "left": null,
            "margin": null,
            "max_height": null,
            "max_width": null,
            "min_height": null,
            "min_width": null,
            "object_fit": null,
            "object_position": null,
            "order": null,
            "overflow": null,
            "overflow_x": null,
            "overflow_y": null,
            "padding": null,
            "right": null,
            "top": null,
            "visibility": null,
            "width": "auto"
          }
        },
        "6adc1f7b7c9d4eb586c7237fab84c3b3": {
          "model_module": "@jupyter-widgets/controls",
          "model_name": "ProgressStyleModel",
          "model_module_version": "1.5.0",
          "state": {
            "_model_module": "@jupyter-widgets/controls",
            "_model_module_version": "1.5.0",
            "_model_name": "ProgressStyleModel",
            "_view_count": null,
            "_view_module": "@jupyter-widgets/base",
            "_view_module_version": "1.2.0",
            "_view_name": "StyleView",
            "bar_color": "black",
            "description_width": ""
          }
        }
      }
    }
  },
  "cells": [
    {
      "cell_type": "markdown",
      "source": [
        "# MDP Via Duck\n",
        "\n",
        "A demonstrator notebook for DuckDB operations against Parquet files.  The goal is to develop and performance test queries in SQL against Parquet."
      ],
      "metadata": {
        "id": "lkMFr9t_61tW"
      }
    },
    {
      "cell_type": "code",
      "source": [
        "!pip install -q minio"
      ],
      "metadata": {
        "colab": {
          "base_uri": "https://localhost:8080/"
        },
        "id": "M205u8BFrHNl",
        "outputId": "9ff1ffc5-176f-4f78-e193-7624015fee96"
      },
      "execution_count": null,
      "outputs": [
        {
          "output_type": "stream",
          "name": "stdout",
          "text": [
            "\u001b[2K     \u001b[90m━━━━━━━━━━━━━━━━━━━━━━━━━━━━━━━━━━━━━━━━\u001b[0m \u001b[32m83.5/83.5 kB\u001b[0m \u001b[31m412.4 kB/s\u001b[0m eta \u001b[36m0:00:00\u001b[0m\n",
            "\u001b[2K     \u001b[90m━━━━━━━━━━━━━━━━━━━━━━━━━━━━━━━━━━━━━━━━\u001b[0m \u001b[32m2.1/2.1 MB\u001b[0m \u001b[31m9.5 MB/s\u001b[0m eta \u001b[36m0:00:00\u001b[0m\n",
            "\u001b[?25h"
          ]
        }
      ]
    },
    {
      "cell_type": "code",
      "source": [
        "import duckdb\n",
        "import pandas as pd\n",
        "import numpy as np\n",
        "import os\n",
        "import spacy\n",
        "import tqdm\n",
        "from minio import Minio"
      ],
      "metadata": {
        "id": "mj9EkdVz7JSH"
      },
      "execution_count": null,
      "outputs": []
    },
    {
      "cell_type": "code",
      "source": [
        "def publicurls(client, bucket, prefix):\n",
        "    urls = []\n",
        "    objects = client.list_objects(bucket, prefix=prefix, recursive=True)\n",
        "    for obj in objects:\n",
        "        result = client.stat_object(bucket, obj.object_name)\n",
        "\n",
        "        if result.size > 0:  #  how to tell if an objet   obj.is_public  ?????\n",
        "            url = client.presigned_get_object(bucket, obj.object_name)\n",
        "            # print(f\"Public URL for object: {url}\")\n",
        "            urls.append(url)\n",
        "\n",
        "    return urls\n",
        "\n",
        "client = Minio(\"ossapi.oceaninfohub.org:80\",  secure=False) # Create client with anonymous access.\n",
        "urls = publicurls(client, \"public\", \"assets\")\n",
        "for u in urls:\n",
        "  print(u)"
      ],
      "metadata": {
        "colab": {
          "base_uri": "https://localhost:8080/"
        },
        "id": "roTKaFnZrE0x",
        "outputId": "6aded50f-ed62-4999-8c8b-5eb50667cdd9"
      },
      "execution_count": null,
      "outputs": [
        {
          "output_type": "stream",
          "name": "stdout",
          "text": [
            "http://ossapi.oceaninfohub.org/public/assets/OIHGraph_25032023.parquet\n",
            "http://ossapi.oceaninfohub.org/public/assets/africaioc.parquet\n",
            "http://ossapi.oceaninfohub.org/public/assets/cioos.parquet\n",
            "http://ossapi.oceaninfohub.org/public/assets/combined.parquet\n",
            "http://ossapi.oceaninfohub.org/public/assets/edmerp.parquet\n",
            "http://ossapi.oceaninfohub.org/public/assets/edmo.parquet\n",
            "http://ossapi.oceaninfohub.org/public/assets/emodnet.parquet\n",
            "http://ossapi.oceaninfohub.org/public/assets/inanodc.parquet\n",
            "http://ossapi.oceaninfohub.org/public/assets/invemardocuments.parquet\n",
            "http://ossapi.oceaninfohub.org/public/assets/invemarexperts.parquet\n",
            "http://ossapi.oceaninfohub.org/public/assets/invemarinstitutions.parquet\n",
            "http://ossapi.oceaninfohub.org/public/assets/invemartraining.parquet\n",
            "http://ossapi.oceaninfohub.org/public/assets/invemarvessels.parquet\n",
            "http://ossapi.oceaninfohub.org/public/assets/marinetraining.parquet\n",
            "http://ossapi.oceaninfohub.org/public/assets/obis.parquet\n",
            "http://ossapi.oceaninfohub.org/public/assets/obps.parquet\n",
            "http://ossapi.oceaninfohub.org/public/assets/oceanexperts.parquet\n",
            "http://ossapi.oceaninfohub.org/public/assets/pdh.parquet\n",
            "http://ossapi.oceaninfohub.org/public/assets/test_obis.parquet\n"
          ]
        }
      ]
    },
    {
      "cell_type": "code",
      "execution_count": null,
      "metadata": {
        "colab": {
          "base_uri": "https://localhost:8080/",
          "height": 97,
          "referenced_widgets": [
            "11597b61b46c467d93aa4e3b1a6eb609",
            "c0d0855283104ca5abfff9dedfde1819",
            "825c48cbfc154ee491ca78a8f37f7a35",
            "aa5d4ee5f32c40fb9af9cc005754c9d4",
            "2933593201474964b5690b4992a1add4",
            "6adc1f7b7c9d4eb586c7237fab84c3b3"
          ]
        },
        "id": "oHvbrUr96v17",
        "outputId": "96a8a95f-aed0-4435-fce9-a29fb745d823"
      },
      "outputs": [
        {
          "output_type": "display_data",
          "data": {
            "text/plain": [
              "FloatProgress(value=0.0, layout=Layout(width='auto'), style=ProgressStyle(bar_color='black'))"
            ],
            "application/vnd.jupyter.widget-view+json": {
              "version_major": 2,
              "version_minor": 0,
              "model_id": "11597b61b46c467d93aa4e3b1a6eb609"
            }
          },
          "metadata": {}
        },
        {
          "output_type": "display_data",
          "data": {
            "text/plain": [
              "FloatProgress(value=0.0, layout=Layout(width='auto'), style=ProgressStyle(bar_color='black'))"
            ],
            "application/vnd.jupyter.widget-view+json": {
              "version_major": 2,
              "version_minor": 0,
              "model_id": "aa5d4ee5f32c40fb9af9cc005754c9d4"
            }
          },
          "metadata": {}
        },
        {
          "output_type": "execute_result",
          "data": {
            "text/plain": [
              "<duckdb.duckdb.DuckDBPyConnection at 0x7a65a807f870>"
            ]
          },
          "metadata": {},
          "execution_count": 61
        }
      ],
      "source": [
        "## load the combined graph\n",
        "urlCombined = \"http://ossapi.oceaninfohub.org/public/assets/combined.parquet\"\n",
        "urlCIOOS = \"http://ossapi.oceaninfohub.org/public/assets/cioos.parquet\"\n",
        "\n",
        "duckdb.install_extension(\"httpfs\")\n",
        "\n",
        "# Instantiate the DuckDB connection\n",
        "con = duckdb.connect()\n",
        "con.execute(\"CREATE TABLE data AS SELECT  row_number() OVER () AS idx, * FROM read_parquet('{}')\".format(urlCombined))  # load from url\n",
        "\n",
        "con2 = duckdb.connect()\n",
        "con2.execute(\"CREATE TABLE data AS SELECT  row_number() OVER () AS idx, * FROM read_parquet('{}')\".format(urlCIOOS))  # load from url\n",
        "\n",
        "\n",
        "# con.execute(\"CREATE TABLE my_table AS SELECT * FROM read_parquet('/content/drive/MyDrive/Data/combined.parquet')\") # load from local parquet\n",
        "# con.execute(\"CREATE TABLE data AS SELECT row_number() OVER () AS idx, * FROM '/content/drive/MyDrive/Data/combined.parquet';\")"
      ]
    },
    {
      "cell_type": "code",
      "source": [
        "r = con.execute(\"DESCRIBE SELECT * FROM data\").fetchdf()\n",
        "print(r)"
      ],
      "metadata": {
        "colab": {
          "base_uri": "https://localhost:8080/"
        },
        "id": "VaQjURhksPpo",
        "outputId": "ec8ef12c-102f-4e1c-99e9-2b2886dc7435"
      },
      "execution_count": null,
      "outputs": [
        {
          "output_type": "stream",
          "name": "stdout",
          "text": [
            "         column_name column_type null   key default extra\n",
            "0                idx      BIGINT  YES  None    None  None\n",
            "1                  s     VARCHAR  YES  None    None  None\n",
            "2               type     VARCHAR  YES  None    None  None\n",
            "3               name     VARCHAR  YES  None    None  None\n",
            "4           keywords     VARCHAR  YES  None    None  None\n",
            "5                url     VARCHAR  YES  None    None  None\n",
            "6               desc     VARCHAR  YES  None    None  None\n",
            "7            provder     VARCHAR  YES  None    None  None\n",
            "8  __index_level_0__      BIGINT  YES  None    None  None\n"
          ]
        }
      ]
    },
    {
      "cell_type": "code",
      "source": [
        "r = con2.execute(\"DESCRIBE SELECT * FROM data\").fetchdf()\n",
        "print(r)"
      ],
      "metadata": {
        "id": "hg6QhgowyExG",
        "outputId": "9ea99c2d-d5d1-40ce-a1cc-513e5baaff08",
        "colab": {
          "base_uri": "https://localhost:8080/"
        }
      },
      "execution_count": null,
      "outputs": [
        {
          "output_type": "stream",
          "name": "stdout",
          "text": [
            "              column_name column_type null   key default extra\n",
            "0                     idx      BIGINT  YES  None    None  None\n",
            "1                      id     VARCHAR  YES  None    None  None\n",
            "2                keywords     VARCHAR  YES  None    None  None\n",
            "3                    type     VARCHAR  YES  None    None  None\n",
            "4                    name     VARCHAR  YES  None    None  None\n",
            "5             description     VARCHAR  YES  None    None  None\n",
            "6                     url     VARCHAR  YES  None    None  None\n",
            "7                 geotype     VARCHAR  YES  None    None  None\n",
            "8                geompred     VARCHAR  YES  None    None  None\n",
            "9                    geom     VARCHAR  YES  None    None  None\n",
            "10       temporalCoverage     VARCHAR  YES  None    None  None\n",
            "11          datePublished     VARCHAR  YES  None    None  None\n",
            "12                license     VARCHAR  YES  None    None  None\n",
            "13                creator     VARCHAR  YES  None    None  None\n",
            "14  includedInDataCatalog     VARCHAR  YES  None    None  None\n",
            "15           distribution     VARCHAR  YES  None    None  None\n",
            "16              publisher     VARCHAR  YES  None    None  None\n",
            "17           filteredgeom     VARCHAR  YES  None    None  None\n",
            "18           dt_startDate     VARCHAR  YES  None    None  None\n",
            "19             dt_endDate     VARCHAR  YES  None    None  None\n",
            "20            n_startYear      DOUBLE  YES  None    None  None\n",
            "21              n_endYear      DOUBLE  YES  None    None  None\n",
            "22               centroid     VARCHAR  YES  None    None  None\n",
            "23                 length      DOUBLE  YES  None    None  None\n",
            "24                   area      DOUBLE  YES  None    None  None\n",
            "25                    wkt     VARCHAR  YES  None    None  None\n",
            "26                geojson     VARCHAR  YES  None    None  None\n"
          ]
        }
      ]
    },
    {
      "cell_type": "code",
      "execution_count": null,
      "metadata": {
        "id": "6vQQagtl23TY",
        "colab": {
          "base_uri": "https://localhost:8080/"
        },
        "outputId": "cd808603-a595-4671-83be-7c38ebfbb200"
      },
      "outputs": [
        {
          "output_type": "stream",
          "name": "stdout",
          "text": [
            "                provder\n",
            "0              aquadocs\n",
            "1                 cioos\n",
            "2                edmerp\n",
            "3                  edmo\n",
            "4          oceanexperts\n",
            "5       invemartraining\n",
            "6        invemarvessels\n",
            "7                  obps\n",
            "8               emodnet\n",
            "9               inanodc\n",
            "10     invemardocuments\n",
            "11                  pdh\n",
            "12            africaioc\n",
            "13       invemarexperts\n",
            "14  invemarinstitutions\n",
            "15       marinetraining\n",
            "16                 obis\n"
          ]
        }
      ],
      "source": [
        "# Now you can execute SQL queries on the Parquet file as if it was a regular table\n",
        "r = con.execute(\"SELECT DISTINCT provder FROM data\").fetchdf()\n",
        "\n",
        "print(r)"
      ]
    },
    {
      "cell_type": "code",
      "source": [
        "# Now you can execute SQL queries on the Parquet file as if it was a regular table\n",
        "r = con.execute(\" SELECT DISTINCT provder, type, COUNT(*) AS count FROM data GROUP BY provder, type\").fetchdf()\n",
        "\n",
        "\n",
        "print(r)"
      ],
      "metadata": {
        "colab": {
          "base_uri": "https://localhost:8080/"
        },
        "id": "RjzOWGUa_1eM",
        "outputId": "7b4fcb78-c6df-4257-d26e-46f3f8b95928"
      },
      "execution_count": null,
      "outputs": [
        {
          "output_type": "stream",
          "name": "stdout",
          "text": [
            "                provder                      type   count\n",
            "0                 cioos        schemawrong:Person    1372\n",
            "1               inanodc            schmea:Dataset     235\n",
            "2          oceanexperts             schmea:Course     491\n",
            "3             africaioc       schmea:Organization      52\n",
            "4      invemardocuments       schmea:CreativeWork   18647\n",
            "5   invemarinstitutions       schmea:Organization     269\n",
            "6        invemarvessels            schmea:Vehicle      85\n",
            "7        marinetraining     schmea:CourseInstance     520\n",
            "8                  obis            schmea:Dataset   20120\n",
            "9                  obps       schmea:CreativeWork    8414\n",
            "10             aquadocs       schmea:Organization   15198\n",
            "11                cioos       schemawrong:Dataset   74251\n",
            "12               edmerp    schmea:ResearchProject    3432\n",
            "13                 edmo       schmea:Organization    4757\n",
            "14     invemardocuments       schmea:Organization    3623\n",
            "15     invemardocuments             schmea:Person   13351\n",
            "16         oceanexperts     schmea:CourseInstance     491\n",
            "17                  pdh  schemawrong:Organization    3562\n",
            "18            africaioc       schmea:CreativeWork       1\n",
            "19            africaioc            schmea:Dataset       1\n",
            "20      invemartraining             schmea:Course     452\n",
            "21       marinetraining             schmea:Course     457\n",
            "22                 obis       schmea:Organization     689\n",
            "23                 obps       schmea:Organization    1352\n",
            "24                 obps             schmea:Person    7711\n",
            "25             aquadocs       schmea:CreativeWork  261364\n",
            "26                cioos  schemawrong:Organization    2141\n",
            "27               edmerp       schmea:Organization   13509\n",
            "28                  pdh       schemawrong:Dataset   32807\n",
            "29            africaioc            schmea:Vehicle      30\n",
            "30            africaioc             schmea:Person       1\n",
            "31      invemartraining       schmea:CreativeWork       1\n",
            "32         oceanexperts             schmea:Person   38555\n",
            "33         oceanexperts       schmea:Organization    7304\n",
            "34              emodnet       schemawrong:Dataset    1187\n",
            "35         oceanexperts              schmea:Event   20606\n",
            "36            africaioc    schmea:ResearchProject     176\n",
            "37            africaioc              schmea:Event      59\n",
            "38             aquadocs             schmea:Person  105494\n",
            "39       invemarexperts             schmea:Person    1172\n",
            "40      invemartraining       schmea:Organization     452\n",
            "41       marinetraining       schmea:Organization     914\n"
          ]
        }
      ]
    },
    {
      "cell_type": "code",
      "source": [
        "# Now you can execute SQL queries on the Parquet file as if it was a regular table\n",
        "r = con.execute(\" SELECT DISTINCT provder, type, ANY_VALUE(s),  COUNT(*) AS count FROM data GROUP BY provder, type  order by count desc\").fetchdf()\n",
        "\n",
        "print(r)"
      ],
      "metadata": {
        "colab": {
          "base_uri": "https://localhost:8080/"
        },
        "id": "EQZVZlhJ_16_",
        "outputId": "0df3ac95-c225-423f-d8cf-d3603b79433d"
      },
      "execution_count": null,
      "outputs": [
        {
          "output_type": "stream",
          "name": "stdout",
          "text": [
            "                provder                      type  \\\n",
            "0              aquadocs       schmea:CreativeWork   \n",
            "1              aquadocs             schmea:Person   \n",
            "2                 cioos       schemawrong:Dataset   \n",
            "3          oceanexperts             schmea:Person   \n",
            "4                   pdh       schemawrong:Dataset   \n",
            "5          oceanexperts              schmea:Event   \n",
            "6                  obis            schmea:Dataset   \n",
            "7      invemardocuments       schmea:CreativeWork   \n",
            "8              aquadocs       schmea:Organization   \n",
            "9                edmerp       schmea:Organization   \n",
            "10     invemardocuments             schmea:Person   \n",
            "11                 obps       schmea:CreativeWork   \n",
            "12                 obps             schmea:Person   \n",
            "13         oceanexperts       schmea:Organization   \n",
            "14                 edmo       schmea:Organization   \n",
            "15     invemardocuments       schmea:Organization   \n",
            "16                  pdh  schemawrong:Organization   \n",
            "17               edmerp    schmea:ResearchProject   \n",
            "18                cioos  schemawrong:Organization   \n",
            "19                cioos        schemawrong:Person   \n",
            "20                 obps       schmea:Organization   \n",
            "21              emodnet       schemawrong:Dataset   \n",
            "22       invemarexperts             schmea:Person   \n",
            "23       marinetraining       schmea:Organization   \n",
            "24                 obis       schmea:Organization   \n",
            "25       marinetraining     schmea:CourseInstance   \n",
            "26         oceanexperts     schmea:CourseInstance   \n",
            "27         oceanexperts             schmea:Course   \n",
            "28       marinetraining             schmea:Course   \n",
            "29      invemartraining             schmea:Course   \n",
            "30      invemartraining       schmea:Organization   \n",
            "31  invemarinstitutions       schmea:Organization   \n",
            "32              inanodc            schmea:Dataset   \n",
            "33            africaioc    schmea:ResearchProject   \n",
            "34       invemarvessels            schmea:Vehicle   \n",
            "35            africaioc              schmea:Event   \n",
            "36            africaioc       schmea:Organization   \n",
            "37            africaioc            schmea:Vehicle   \n",
            "38            africaioc             schmea:Person   \n",
            "39      invemartraining       schmea:CreativeWork   \n",
            "40            africaioc       schmea:CreativeWork   \n",
            "41            africaioc            schmea:Dataset   \n",
            "\n",
            "                                         any_value(s)   count  \n",
            "0                       <oai:aquadocs.org:1834/37931>  261364  \n",
            "1                 _:N9984262f4f1f44a397b6a920221fe73d  105494  \n",
            "2   <https://catalogue.cioos.ca/dataset/2d2f65b5-c...   74251  \n",
            "3              <https://oceanexpert.org/expert/22207>   38555  \n",
            "4   <https://pacificdata.org/data/dataset/oai-www-...   32807  \n",
            "5   <https://gleaner.io/xid/genid/cgfjsmbk59mc73bv...   20606  \n",
            "6   <https://obis.org/dataset/1057a007-c31c-48a3-a...   20120  \n",
            "7                 <oai:ri.conicet.gov.ar:11336/64582>   18647  \n",
            "8                 _:Ne4256a2dc9fb42c3980738a0079099ef   15198  \n",
            "9   <https://gleaner.io/xid/genid/cggpv8rk59mc73e9...   13509  \n",
            "10                _:N2cb6c7f62b55475d877d36fa3d5b0a24   13351  \n",
            "11  <oai:repository.oceanbestpractices.org:11329/1...    8414  \n",
            "12                _:N3cc13870a805499abf4367263aa097c9    7711  \n",
            "13         <https://oceanexpert.org/institution/7562>    7304  \n",
            "14          <https://edmo.seadatanet.org/report/3600>    4757  \n",
            "15                _:N34b2fe7d3ec9427eba81c152828037a1    3623  \n",
            "16  <https://pacificdata.org/data/organization/033...    3562  \n",
            "17       <https://edmerp.seadatanet.org/report/11212>    3432  \n",
            "18                          <https://cioospacific.ca>    2141  \n",
            "19  <https://gleaner.io/xid/genid/cggj2mbk59mc73f1...    1372  \n",
            "20                _:N3ec279e39df54ebabb92d4f25d8f0301    1352  \n",
            "21  <https://emodnet.ec.europa.eu/geonetwork/srv/a...    1187  \n",
            "22  <http://portete.invemar.org.co/chm/api/oih/fin...    1172  \n",
            "23  <https://gleaner.io/xid/genid/cgeolfjk59mc73d7...     914  \n",
            "24        <https://oceanexpert.org/institution/20942>     689  \n",
            "25  <https://gleaner.io/xid/genid/cgeolfjk59mc73d7...     520  \n",
            "26  <https://gleaner.io/xid/genid/cgfjk5bk59mc73bu...     491  \n",
            "27               <https://oceanexpert.org/event/1987>     491  \n",
            "28         <https://www.marinetraining.eu//node/5040>     457  \n",
            "29  <http://portete.invemar.org.co/chm/api/oih/fin...     452  \n",
            "30                _:N496b882c41ba492884ec578c367a060d     452  \n",
            "31  <http://portete.invemar.org.co/chm/api/oih/fin...     269  \n",
            "32  <https://geonode.nodc.id/layers/geonode_data:g...     235  \n",
            "33  <https://ioc-africa.org/dbs/jsonld/oceanProjec...     176  \n",
            "34  <http://portete.invemar.org.co/chm/api/oih/fin...      85  \n",
            "35  <https://gleaner.io/xid/genid/cgftb53k59mc7399...      59  \n",
            "36  <https://gleaner.io/xid/genid/cgftb4rk59mc7399...      52  \n",
            "37  <https://ioc-africa.org/dbs/jsonld/researchVes...      30  \n",
            "38  <https://gleaner.io/xid/genid/cgftb6rk59mc7399...       1  \n",
            "39  <http://portete.invemar.org.co/chm/api/oih/tra...       1  \n",
            "40  <https://gleaner.io/xid/genid/cgftb6bk59mc7399...       1  \n",
            "41  <https://gleaner.io/xid/genid/cgftb6bk59mc7399...       1  \n"
          ]
        }
      ]
    },
    {
      "cell_type": "code",
      "source": [],
      "metadata": {
        "id": "QLUSVN3pAVXs"
      },
      "execution_count": null,
      "outputs": []
    }
  ]
}