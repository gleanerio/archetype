{
 "cells": [
  {
   "cell_type": "markdown",
   "metadata": {
    "tags": []
   },
   "source": [
    "# SPARQL Playground\n",
    "\n",
    "<a href=\"https://githubtocolab.com/gleanerio/archetype/blob/master/networks/commons/sparql.ipynb\" target=\"_parent\"><img src=\"https://colab.research.google.com/assets/colab-badge.png\" alt=\"Open in Colab\"/></a>\n"
   ]
  },
  {
   "cell_type": "markdown",
   "source": [
    "## requirements.txt"
   ],
   "metadata": {
    "collapsed": false
   }
  },
  {
   "cell_type": "code",
   "execution_count": null,
   "outputs": [],
   "source": [
    "!pip install -q minio\n",
    "!pip install -q kglab"
   ],
   "metadata": {
    "collapsed": false
   }
  },
  {
   "cell_type": "markdown",
   "source": [
    "## imports"
   ],
   "metadata": {
    "collapsed": false
   }
  },
  {
   "cell_type": "code",
   "execution_count": 4,
   "metadata": {
    "collapsed": false,
    "tags": [],
    "ExecuteTime": {
     "end_time": "2023-11-30T14:30:50.831540258Z",
     "start_time": "2023-11-30T14:30:49.977803158Z"
    }
   },
   "outputs": [],
   "source": [
    "import warnings\n",
    "warnings.simplefilter(action='ignore', category=FutureWarning)  ## remove pandas future warning\n",
    "import kglab\n",
    "from minio import Minio\n",
    "from rdflib import Graph, plugin\n",
    "import plotly.express as px\n",
    "import pandas as pd\n",
    "from urllib.request import urlopen\n",
    "import os"
   ]
  },
  {
   "cell_type": "code",
   "execution_count": 5,
   "metadata": {
    "collapsed": false,
    "tags": [],
    "ExecuteTime": {
     "end_time": "2023-11-30T14:32:03.284426435Z",
     "start_time": "2023-11-30T14:32:03.243245396Z"
    }
   },
   "outputs": [],
   "source": [
    "def ensure_directory_exists(path):\n",
    "    if not os.path.exists(path):\n",
    "        os.makedirs(path)\n",
    "\n",
    "def popper(input):\n",
    "    lines = input.decode().split('\\n') # Split input into separate lines\n",
    "    modified_lines = []\n",
    "\n",
    "    for line in lines:\n",
    "        newline = line.replace(\"http://schema.org\", \"https://schema.org\")\n",
    "        segments = newline.split(' ')\n",
    "\n",
    "        if len(segments) > 3:\n",
    "            segments.pop()   # Remove the last two segment\n",
    "            segments.pop()\n",
    "            new_line = ' '.join(segments) + ' .'\n",
    "            modified_lines.append(new_line)\n",
    "\n",
    "    result_string = '\\n'.join(modified_lines)\n",
    "\n",
    "    return(result_string)\n",
    "\n",
    "def publicurls(client, bucket, prefix):\n",
    "    urls = []\n",
    "    objects = client.list_objects(bucket, prefix=prefix, recursive=True)\n",
    "    for obj in objects:\n",
    "        result = client.stat_object(bucket, obj.object_name)\n",
    "\n",
    "        if result.size > 0:  #  how to tell if an objet   obj.is_public  ?????\n",
    "            url = client.presigned_get_object(bucket, obj.object_name)\n",
    "            # print(f\"Public URL for object: {url}\")\n",
    "            urls.append(url)\n",
    "\n",
    "    return urls\n"
   ]
  },
  {
   "cell_type": "code",
   "execution_count": 16,
   "metadata": {
    "tags": [],
    "ExecuteTime": {
     "end_time": "2023-11-30T14:37:10.672286425Z",
     "start_time": "2023-11-30T14:37:10.631931928Z"
    }
   },
   "outputs": [],
   "source": [
    "# Check for using GPU, in case you want to ensure your GPU is used\n",
    "# gc = kglab.get_gpu_count()\n",
    "# print(gc)"
   ]
  },
  {
   "cell_type": "code",
   "execution_count": 6,
   "metadata": {
    "collapsed": false,
    "tags": [],
    "ExecuteTime": {
     "end_time": "2023-11-30T14:32:27.207138238Z",
     "start_time": "2023-11-30T14:32:24.969736610Z"
    }
   },
   "outputs": [
    {
     "name": "stdout",
     "output_type": "stream",
     "text": [
      "http://ossapi.oceaninfohub.org/public/graphs/summonedafricaioc_v1_release.nq\n",
      "http://ossapi.oceaninfohub.org/public/graphs/summonedaquadocs_v1_release.nq\n",
      "http://ossapi.oceaninfohub.org/public/graphs/summonedcioos_v1_release.nq\n",
      "http://ossapi.oceaninfohub.org/public/graphs/summonededmerp_v1_release.nq\n",
      "http://ossapi.oceaninfohub.org/public/graphs/summonededmo_v1_release.nq\n",
      "http://ossapi.oceaninfohub.org/public/graphs/summonedemodnet_v1_release.nq\n",
      "http://ossapi.oceaninfohub.org/public/graphs/summonedinanodc_v1_release.nq\n",
      "http://ossapi.oceaninfohub.org/public/graphs/summonedinvemardocuments_v1_release.nq\n",
      "http://ossapi.oceaninfohub.org/public/graphs/summonedinvemarexperts_v1_release.nq\n",
      "http://ossapi.oceaninfohub.org/public/graphs/summonedinvemarinstitutions_v1_release.nq\n",
      "http://ossapi.oceaninfohub.org/public/graphs/summonedinvemartraining_v1_release.nq\n",
      "http://ossapi.oceaninfohub.org/public/graphs/summonedinvemarvessels_v1_release.nq\n",
      "http://ossapi.oceaninfohub.org/public/graphs/summonedmarinetraining_v1_release.nq\n",
      "http://ossapi.oceaninfohub.org/public/graphs/summonedobis_v1_release.nq\n",
      "http://ossapi.oceaninfohub.org/public/graphs/summonedobps_v1_release.nq\n",
      "http://ossapi.oceaninfohub.org/public/graphs/summonedoceanexperts_v1_release.nq\n",
      "http://ossapi.oceaninfohub.org/public/graphs/summonedpdh_v1_release.nq\n"
     ]
    }
   ],
   "source": [
    "# if you need to list the current URLs as a public S3, use something like this to get it\n",
    "\n",
    "client = Minio(\"ossapi.oceaninfohub.org:80\",  secure=False) # Create client with anonymous access.\n",
    "urls = publicurls(client, \"public\", \"graph\")\n",
    "for u in urls:\n",
    "    print(u)"
   ]
  },
  {
   "cell_type": "markdown",
   "metadata": {},
   "source": [
    "## URLs\n",
    "\n",
    "At this point we have the URLs, and we could either loop load all of them or pull one out manually and use.  This code could\n",
    "be used as a basis for any of these approaches.\n"
   ]
  },
  {
   "cell_type": "code",
   "execution_count": 8,
   "metadata": {
    "tags": [],
    "ExecuteTime": {
     "end_time": "2023-11-30T14:33:08.507187152Z",
     "start_time": "2023-11-30T14:33:05.424887677Z"
    }
   },
   "outputs": [],
   "source": [
    "dgurl = \"http://ossapi.oceaninfohub.org/public/graphs/summonedcioos_v1_release.nq\"\n",
    "# df = urlopen(dgurl)\n",
    "dg = urlopen(dgurl).read()\n",
    "rp = popper(dg)"
   ]
  },
  {
   "cell_type": "code",
   "execution_count": 9,
   "metadata": {
    "tags": [],
    "ExecuteTime": {
     "end_time": "2023-11-30T14:33:27.622730630Z",
     "start_time": "2023-11-30T14:33:16.385331156Z"
    }
   },
   "outputs": [
    {
     "name": "stdout",
     "output_type": "stream",
     "text": [
      "Graph loaded with 145779 triples\n"
     ]
    }
   ],
   "source": [
    "namespaces = {\n",
    "    \"sh\":   \"http://www.w3.org/ns/shacl#\" ,\n",
    "    \"schema\": \"https://schema.org/\"\n",
    "}\n",
    "\n",
    "kg = kglab.KnowledgeGraph(\n",
    "    name = \"Schema.org based datagraph\",\n",
    "    base_uri = \"https://example.org/id/\",\n",
    "    namespaces = namespaces,\n",
    ")\n",
    "\n",
    "try:\n",
    "    g = Graph().parse(data=rp, format='nt')\n",
    "    r = g.serialize(format='nt')\n",
    "    kg.load_rdf_text(r)\n",
    "except Exception as e:\n",
    "    print(\"Exception: {}\\n --\".format(str(e)))\n",
    "    raise e\n",
    "\n",
    "print(\"Graph loaded with {} triples\".format(len(g)))"
   ]
  },
  {
   "cell_type": "code",
   "execution_count": 10,
   "metadata": {
    "tags": [],
    "ExecuteTime": {
     "end_time": "2023-11-30T14:33:40.251785056Z",
     "start_time": "2023-11-30T14:33:38.716962789Z"
    }
   },
   "outputs": [],
   "source": [
    "sparql = \"\"\"\n",
    "PREFIX rdf: <http://www.w3.org/1999/02/22-rdf-syntax-ns#>\n",
    "PREFIX rdfs: <http://www.w3.org/2000/01/rdf-schema#>\n",
    "PREFIX xsd: <http://www.w3.org/2001/XMLSchema#>\n",
    "\n",
    "\n",
    "SELECT ?p (COUNT(?p) as ?count)\n",
    "WHERE\n",
    "{\n",
    "  ?s ?p ?o .\n",
    "}\n",
    "GROUP BY ?p ORDER BY DESC(?count)\n",
    "\"\"\"\n",
    "\n",
    "pdf = kg.query_as_df(sparql)\n",
    "# df = pdf   # .to_pandas()  #  breaks with papermill for reasons unknown at this time if to_pandas() is used, needed in my kglab conda env\n"
   ]
  },
  {
   "cell_type": "code",
   "execution_count": 11,
   "metadata": {
    "tags": [],
    "ExecuteTime": {
     "end_time": "2023-11-30T14:33:41.155992767Z",
     "start_time": "2023-11-30T14:33:41.147305947Z"
    }
   },
   "outputs": [
    {
     "data": {
      "text/plain": "                    p  count\n0            rdf:type  25425\n1     schema:keywords  19507\n2         schema:name  14406\n3          schema:url   8505\n4  schema:description   6168",
      "text/html": "<div>\n<style scoped>\n    .dataframe tbody tr th:only-of-type {\n        vertical-align: middle;\n    }\n\n    .dataframe tbody tr th {\n        vertical-align: top;\n    }\n\n    .dataframe thead th {\n        text-align: right;\n    }\n</style>\n<table border=\"1\" class=\"dataframe\">\n  <thead>\n    <tr style=\"text-align: right;\">\n      <th></th>\n      <th>p</th>\n      <th>count</th>\n    </tr>\n  </thead>\n  <tbody>\n    <tr>\n      <th>0</th>\n      <td>rdf:type</td>\n      <td>25425</td>\n    </tr>\n    <tr>\n      <th>1</th>\n      <td>schema:keywords</td>\n      <td>19507</td>\n    </tr>\n    <tr>\n      <th>2</th>\n      <td>schema:name</td>\n      <td>14406</td>\n    </tr>\n    <tr>\n      <th>3</th>\n      <td>schema:url</td>\n      <td>8505</td>\n    </tr>\n    <tr>\n      <th>4</th>\n      <td>schema:description</td>\n      <td>6168</td>\n    </tr>\n  </tbody>\n</table>\n</div>"
     },
     "execution_count": 11,
     "metadata": {},
     "output_type": "execute_result"
    }
   ],
   "source": [
    "pdf.head()"
   ]
  },
  {
   "cell_type": "code",
   "execution_count": 12,
   "metadata": {
    "tags": [],
    "ExecuteTime": {
     "end_time": "2023-11-30T14:33:45.181556435Z",
     "start_time": "2023-11-30T14:33:44.124896504Z"
    }
   },
   "outputs": [],
   "source": [
    "sparql = \"\"\"\n",
    "PREFIX schema: <https://schema.org/>\n",
    "\n",
    "\n",
    "SELECT ?s ?desc ?name\n",
    "WHERE\n",
    "{\n",
    " ?s rdf:type ?type\n",
    "   FILTER ( ?type IN (schema:ResearchProject, schema:Project, schema:Organization, \n",
    "   schema:Dataset, schema:CreativeWork, schema:Person, schema:Map, schema:Course,\n",
    "   schema:CourseInstance, schema:Event, schema:Vehicle) )\n",
    "   ?s schema:description ?desc .\n",
    "   ?s schema:name ?name\n",
    "\n",
    "}\n",
    "\"\"\"\n",
    "\n",
    "pdf = kg.query_as_df(sparql)\n",
    "# df = pdf   # .to_pandas()  #  breaks with papermill for reasons unknown at this time if to_pandas() is used, needed in my kglab conda env\n"
   ]
  },
  {
   "cell_type": "code",
   "execution_count": 13,
   "metadata": {
    "tags": [],
    "ExecuteTime": {
     "end_time": "2023-11-30T14:33:45.966577749Z",
     "start_time": "2023-11-30T14:33:45.951922394Z"
    }
   },
   "outputs": [
    {
     "data": {
      "text/plain": "                                                    s  \\\n0   <https://catalogue.cioos.ca/dataset/c279e486-b...   \n1   <https://catalogue.cioos.ca/dataset/c279e486-b...   \n2   <https://catalogue.cioos.ca/dataset/c279e486-b...   \n3   <https://catalogue.cioos.ca/dataset/c279e486-b...   \n4   <https://catalogue.cioos.ca/dataset/ca-cioos_f...   \n5   <https://catalogue.cioos.ca/dataset/ca-cioos_f...   \n6   <https://catalogue.cioos.ca/dataset/ca-cioos_f...   \n7   <https://catalogue.cioos.ca/dataset/ca-cioos_f...   \n8   <https://catalogue.cioos.ca/dataset/a99dc2e5-2...   \n9   <https://catalogue.cioos.ca/dataset/c73dcc83-0...   \n10  <https://catalogue.cioos.ca/dataset/c73dcc83-0...   \n11  <https://catalogue.cioos.ca/dataset/c73dcc83-0...   \n12  <https://catalogue.cioos.ca/dataset/c73dcc83-0...   \n13  <https://catalogue.cioos.ca/dataset/4c873375-5...   \n14  <https://catalogue.cioos.ca/dataset/4c873375-5...   \n15  <https://catalogue.cioos.ca/dataset/4c873375-5...   \n16  <https://catalogue.cioos.ca/dataset/4c873375-5...   \n17  <https://catalogue.cioos.ca/dataset/2d1473db-d...   \n18  <https://catalogue.cioos.ca/dataset/2d1473db-d...   \n19  <https://catalogue.cioos.ca/dataset/2d1473db-d...   \n\n                                                 desc  \\\n0   The Sea-Bird SBE 63 Dissolved Oxygen Sensor 63...   \n1   The Sea-Bird SBE 63 Dissolved Oxygen Sensor 63...   \n2   Ce Sea-Bird SBE 63 Dissolved Oxygen Sensor 630...   \n3   Ce Sea-Bird SBE 63 Dissolved Oxygen Sensor 630...   \n4   Sofar Spotter 2 deployments on the south side ...   \n5   Sofar Spotter 2 deployments on the south side ...   \n6   Déploiements de Sofar Spotter 2 du côté sud de...   \n7   Déploiements de Sofar Spotter 2 du côté sud de...   \n8   Municipal potable water intake sites from unde...   \n9   The WET Labs ECO FLRT 3905 was deployed on 202...   \n10  The WET Labs ECO FLRT 3905 was deployed on 202...   \n11  Ce WET Labs ECO FLRT 3905 a été déployé le 202...   \n12  Ce WET Labs ECO FLRT 3905 a été déployé le 202...   \n13  Ce Sea-Bird SeaCAT SBE19plus V2 5270 a été dép...   \n14  Ce Sea-Bird SeaCAT SBE19plus V2 5270 a été dép...   \n15  The Sea-Bird SeaCAT SBE19plus V2 5270 was depl...   \n16  The Sea-Bird SeaCAT SBE19plus V2 5270 was depl...   \n17  Ce Sea-Bird SBE 63 Dissolved Oxygen Sensor 631...   \n18  Ce Sea-Bird SBE 63 Dissolved Oxygen Sensor 631...   \n19  The Sea-Bird SBE 63 Dissolved Oxygen Sensor 63...   \n\n                                                 name  \n0   Juan de Fuca Strait Oxygen Sensor Deployed 201...  \n1   Juan de Fuca Strait Capteur d'Oxygène déployé ...  \n2   Juan de Fuca Strait Oxygen Sensor Deployed 201...  \n3   Juan de Fuca Strait Capteur d'Oxygène déployé ...  \n4   Température des vagues et de la surface de la ...  \n5   Wave and Sea Surface Temperature for Sable Isl...  \n6   Température des vagues et de la surface de la ...  \n7   Wave and Sea Surface Temperature for Sable Isl...  \n8   REKEAU Project - Drinking water intake sites (...  \n9     Douglas Channel Fluorometer Deployed 2022-07-14  \n10     Douglas Channel Fluorimètre déployé 2022-07-14  \n11    Douglas Channel Fluorometer Deployed 2022-07-14  \n12     Douglas Channel Fluorimètre déployé 2022-07-14  \n13  Patricia Bay Conductivity Temperature Depth De...  \n14  Patricia Bay Conductivité/Température/Profonde...  \n15  Patricia Bay Conductivity Temperature Depth De...  \n16  Patricia Bay Conductivité/Température/Profonde...  \n17         Bullseye Oxygen Sensor Deployed 2018-06-30  \n18      Bullseye Capteur d'Oxygène déployé 2018-06-30  \n19         Bullseye Oxygen Sensor Deployed 2018-06-30  ",
      "text/html": "<div>\n<style scoped>\n    .dataframe tbody tr th:only-of-type {\n        vertical-align: middle;\n    }\n\n    .dataframe tbody tr th {\n        vertical-align: top;\n    }\n\n    .dataframe thead th {\n        text-align: right;\n    }\n</style>\n<table border=\"1\" class=\"dataframe\">\n  <thead>\n    <tr style=\"text-align: right;\">\n      <th></th>\n      <th>s</th>\n      <th>desc</th>\n      <th>name</th>\n    </tr>\n  </thead>\n  <tbody>\n    <tr>\n      <th>0</th>\n      <td>&lt;https://catalogue.cioos.ca/dataset/c279e486-b...</td>\n      <td>The Sea-Bird SBE 63 Dissolved Oxygen Sensor 63...</td>\n      <td>Juan de Fuca Strait Oxygen Sensor Deployed 201...</td>\n    </tr>\n    <tr>\n      <th>1</th>\n      <td>&lt;https://catalogue.cioos.ca/dataset/c279e486-b...</td>\n      <td>The Sea-Bird SBE 63 Dissolved Oxygen Sensor 63...</td>\n      <td>Juan de Fuca Strait Capteur d'Oxygène déployé ...</td>\n    </tr>\n    <tr>\n      <th>2</th>\n      <td>&lt;https://catalogue.cioos.ca/dataset/c279e486-b...</td>\n      <td>Ce Sea-Bird SBE 63 Dissolved Oxygen Sensor 630...</td>\n      <td>Juan de Fuca Strait Oxygen Sensor Deployed 201...</td>\n    </tr>\n    <tr>\n      <th>3</th>\n      <td>&lt;https://catalogue.cioos.ca/dataset/c279e486-b...</td>\n      <td>Ce Sea-Bird SBE 63 Dissolved Oxygen Sensor 630...</td>\n      <td>Juan de Fuca Strait Capteur d'Oxygène déployé ...</td>\n    </tr>\n    <tr>\n      <th>4</th>\n      <td>&lt;https://catalogue.cioos.ca/dataset/ca-cioos_f...</td>\n      <td>Sofar Spotter 2 deployments on the south side ...</td>\n      <td>Température des vagues et de la surface de la ...</td>\n    </tr>\n    <tr>\n      <th>5</th>\n      <td>&lt;https://catalogue.cioos.ca/dataset/ca-cioos_f...</td>\n      <td>Sofar Spotter 2 deployments on the south side ...</td>\n      <td>Wave and Sea Surface Temperature for Sable Isl...</td>\n    </tr>\n    <tr>\n      <th>6</th>\n      <td>&lt;https://catalogue.cioos.ca/dataset/ca-cioos_f...</td>\n      <td>Déploiements de Sofar Spotter 2 du côté sud de...</td>\n      <td>Température des vagues et de la surface de la ...</td>\n    </tr>\n    <tr>\n      <th>7</th>\n      <td>&lt;https://catalogue.cioos.ca/dataset/ca-cioos_f...</td>\n      <td>Déploiements de Sofar Spotter 2 du côté sud de...</td>\n      <td>Wave and Sea Surface Temperature for Sable Isl...</td>\n    </tr>\n    <tr>\n      <th>8</th>\n      <td>&lt;https://catalogue.cioos.ca/dataset/a99dc2e5-2...</td>\n      <td>Municipal potable water intake sites from unde...</td>\n      <td>REKEAU Project - Drinking water intake sites (...</td>\n    </tr>\n    <tr>\n      <th>9</th>\n      <td>&lt;https://catalogue.cioos.ca/dataset/c73dcc83-0...</td>\n      <td>The WET Labs ECO FLRT 3905 was deployed on 202...</td>\n      <td>Douglas Channel Fluorometer Deployed 2022-07-14</td>\n    </tr>\n    <tr>\n      <th>10</th>\n      <td>&lt;https://catalogue.cioos.ca/dataset/c73dcc83-0...</td>\n      <td>The WET Labs ECO FLRT 3905 was deployed on 202...</td>\n      <td>Douglas Channel Fluorimètre déployé 2022-07-14</td>\n    </tr>\n    <tr>\n      <th>11</th>\n      <td>&lt;https://catalogue.cioos.ca/dataset/c73dcc83-0...</td>\n      <td>Ce WET Labs ECO FLRT 3905 a été déployé le 202...</td>\n      <td>Douglas Channel Fluorometer Deployed 2022-07-14</td>\n    </tr>\n    <tr>\n      <th>12</th>\n      <td>&lt;https://catalogue.cioos.ca/dataset/c73dcc83-0...</td>\n      <td>Ce WET Labs ECO FLRT 3905 a été déployé le 202...</td>\n      <td>Douglas Channel Fluorimètre déployé 2022-07-14</td>\n    </tr>\n    <tr>\n      <th>13</th>\n      <td>&lt;https://catalogue.cioos.ca/dataset/4c873375-5...</td>\n      <td>Ce Sea-Bird SeaCAT SBE19plus V2 5270 a été dép...</td>\n      <td>Patricia Bay Conductivity Temperature Depth De...</td>\n    </tr>\n    <tr>\n      <th>14</th>\n      <td>&lt;https://catalogue.cioos.ca/dataset/4c873375-5...</td>\n      <td>Ce Sea-Bird SeaCAT SBE19plus V2 5270 a été dép...</td>\n      <td>Patricia Bay Conductivité/Température/Profonde...</td>\n    </tr>\n    <tr>\n      <th>15</th>\n      <td>&lt;https://catalogue.cioos.ca/dataset/4c873375-5...</td>\n      <td>The Sea-Bird SeaCAT SBE19plus V2 5270 was depl...</td>\n      <td>Patricia Bay Conductivity Temperature Depth De...</td>\n    </tr>\n    <tr>\n      <th>16</th>\n      <td>&lt;https://catalogue.cioos.ca/dataset/4c873375-5...</td>\n      <td>The Sea-Bird SeaCAT SBE19plus V2 5270 was depl...</td>\n      <td>Patricia Bay Conductivité/Température/Profonde...</td>\n    </tr>\n    <tr>\n      <th>17</th>\n      <td>&lt;https://catalogue.cioos.ca/dataset/2d1473db-d...</td>\n      <td>Ce Sea-Bird SBE 63 Dissolved Oxygen Sensor 631...</td>\n      <td>Bullseye Oxygen Sensor Deployed 2018-06-30</td>\n    </tr>\n    <tr>\n      <th>18</th>\n      <td>&lt;https://catalogue.cioos.ca/dataset/2d1473db-d...</td>\n      <td>Ce Sea-Bird SBE 63 Dissolved Oxygen Sensor 631...</td>\n      <td>Bullseye Capteur d'Oxygène déployé 2018-06-30</td>\n    </tr>\n    <tr>\n      <th>19</th>\n      <td>&lt;https://catalogue.cioos.ca/dataset/2d1473db-d...</td>\n      <td>The Sea-Bird SBE 63 Dissolved Oxygen Sensor 63...</td>\n      <td>Bullseye Oxygen Sensor Deployed 2018-06-30</td>\n    </tr>\n  </tbody>\n</table>\n</div>"
     },
     "execution_count": 13,
     "metadata": {},
     "output_type": "execute_result"
    }
   ],
   "source": [
    "pdf.head(20)"
   ]
  },
  {
   "cell_type": "code",
   "execution_count": 14,
   "metadata": {
    "tags": [],
    "ExecuteTime": {
     "end_time": "2023-11-30T14:33:49.474700573Z",
     "start_time": "2023-11-30T14:33:47.997712626Z"
    }
   },
   "outputs": [
    {
     "data": {
      "text/plain": "                                        p  pCount\n0                                rdf:type   25425\n1                           schema:sameAs    3222\n2  <http://www.w3.org/2006/vcard/ns#role>    2325\n3                         schema:keywords   19507\n4                         schema:provider    1515",
      "text/html": "<div>\n<style scoped>\n    .dataframe tbody tr th:only-of-type {\n        vertical-align: middle;\n    }\n\n    .dataframe tbody tr th {\n        vertical-align: top;\n    }\n\n    .dataframe thead th {\n        text-align: right;\n    }\n</style>\n<table border=\"1\" class=\"dataframe\">\n  <thead>\n    <tr style=\"text-align: right;\">\n      <th></th>\n      <th>p</th>\n      <th>pCount</th>\n    </tr>\n  </thead>\n  <tbody>\n    <tr>\n      <th>0</th>\n      <td>rdf:type</td>\n      <td>25425</td>\n    </tr>\n    <tr>\n      <th>1</th>\n      <td>schema:sameAs</td>\n      <td>3222</td>\n    </tr>\n    <tr>\n      <th>2</th>\n      <td>&lt;http://www.w3.org/2006/vcard/ns#role&gt;</td>\n      <td>2325</td>\n    </tr>\n    <tr>\n      <th>3</th>\n      <td>schema:keywords</td>\n      <td>19507</td>\n    </tr>\n    <tr>\n      <th>4</th>\n      <td>schema:provider</td>\n      <td>1515</td>\n    </tr>\n  </tbody>\n</table>\n</div>"
     },
     "execution_count": 14,
     "metadata": {},
     "output_type": "execute_result"
    }
   ],
   "source": [
    "rq_pcount = \"\"\"SELECT ?p (COUNT(?p) as ?pCount)\n",
    "WHERE\n",
    "{\n",
    "  ?s ?p ?o .\n",
    "}\n",
    "GROUP BY ?p \n",
    "ORDER BY DESC(?count)\n",
    "\"\"\"\n",
    "\n",
    "pdf = kg.query_as_df(rq_pcount)\n",
    "pdf.head()"
   ]
  },
  {
   "cell_type": "code",
   "execution_count": 15,
   "metadata": {
    "tags": [],
    "ExecuteTime": {
     "end_time": "2023-11-30T14:33:50.343221088Z",
     "start_time": "2023-11-30T14:33:50.322639940Z"
    }
   },
   "outputs": [
    {
     "data": {
      "text/plain": "                                                   s  \\\n0  <https://catalogue.cioos.ca/dataset/c279e486-b...   \n1  <https://catalogue.cioos.ca/dataset/c279e486-b...   \n2  <https://catalogue.cioos.ca/dataset/c279e486-b...   \n3  <https://catalogue.cioos.ca/dataset/c279e486-b...   \n4  <https://catalogue.cioos.ca/dataset/ca-cioos_f...   \n5  <https://catalogue.cioos.ca/dataset/ca-cioos_f...   \n6  <https://catalogue.cioos.ca/dataset/ca-cioos_f...   \n7  <https://catalogue.cioos.ca/dataset/ca-cioos_f...   \n8  <https://catalogue.cioos.ca/dataset/a99dc2e5-2...   \n9  <https://catalogue.cioos.ca/dataset/c73dcc83-0...   \n\n                                                name  \\\n0  Juan de Fuca Strait Oxygen Sensor Deployed 201...   \n1  Juan de Fuca Strait Capteur d'Oxygène déployé ...   \n2  Juan de Fuca Strait Oxygen Sensor Deployed 201...   \n3  Juan de Fuca Strait Capteur d'Oxygène déployé ...   \n4  Température des vagues et de la surface de la ...   \n5  Wave and Sea Surface Temperature for Sable Isl...   \n6  Température des vagues et de la surface de la ...   \n7  Wave and Sea Surface Temperature for Sable Isl...   \n8  REKEAU Project - Drinking water intake sites (...   \n9    Douglas Channel Fluorometer Deployed 2022-07-14   \n\n                                                desc  \n0  The Sea-Bird SBE 63 Dissolved Oxygen Sensor 63...  \n1  The Sea-Bird SBE 63 Dissolved Oxygen Sensor 63...  \n2  Ce Sea-Bird SBE 63 Dissolved Oxygen Sensor 630...  \n3  Ce Sea-Bird SBE 63 Dissolved Oxygen Sensor 630...  \n4  Sofar Spotter 2 deployments on the south side ...  \n5  Sofar Spotter 2 deployments on the south side ...  \n6  Déploiements de Sofar Spotter 2 du côté sud de...  \n7  Déploiements de Sofar Spotter 2 du côté sud de...  \n8  Municipal potable water intake sites from unde...  \n9  The WET Labs ECO FLRT 3905 was deployed on 202...  ",
      "text/html": "<div>\n<style scoped>\n    .dataframe tbody tr th:only-of-type {\n        vertical-align: middle;\n    }\n\n    .dataframe tbody tr th {\n        vertical-align: top;\n    }\n\n    .dataframe thead th {\n        text-align: right;\n    }\n</style>\n<table border=\"1\" class=\"dataframe\">\n  <thead>\n    <tr style=\"text-align: right;\">\n      <th></th>\n      <th>s</th>\n      <th>name</th>\n      <th>desc</th>\n    </tr>\n  </thead>\n  <tbody>\n    <tr>\n      <th>0</th>\n      <td>&lt;https://catalogue.cioos.ca/dataset/c279e486-b...</td>\n      <td>Juan de Fuca Strait Oxygen Sensor Deployed 201...</td>\n      <td>The Sea-Bird SBE 63 Dissolved Oxygen Sensor 63...</td>\n    </tr>\n    <tr>\n      <th>1</th>\n      <td>&lt;https://catalogue.cioos.ca/dataset/c279e486-b...</td>\n      <td>Juan de Fuca Strait Capteur d'Oxygène déployé ...</td>\n      <td>The Sea-Bird SBE 63 Dissolved Oxygen Sensor 63...</td>\n    </tr>\n    <tr>\n      <th>2</th>\n      <td>&lt;https://catalogue.cioos.ca/dataset/c279e486-b...</td>\n      <td>Juan de Fuca Strait Oxygen Sensor Deployed 201...</td>\n      <td>Ce Sea-Bird SBE 63 Dissolved Oxygen Sensor 630...</td>\n    </tr>\n    <tr>\n      <th>3</th>\n      <td>&lt;https://catalogue.cioos.ca/dataset/c279e486-b...</td>\n      <td>Juan de Fuca Strait Capteur d'Oxygène déployé ...</td>\n      <td>Ce Sea-Bird SBE 63 Dissolved Oxygen Sensor 630...</td>\n    </tr>\n    <tr>\n      <th>4</th>\n      <td>&lt;https://catalogue.cioos.ca/dataset/ca-cioos_f...</td>\n      <td>Température des vagues et de la surface de la ...</td>\n      <td>Sofar Spotter 2 deployments on the south side ...</td>\n    </tr>\n    <tr>\n      <th>5</th>\n      <td>&lt;https://catalogue.cioos.ca/dataset/ca-cioos_f...</td>\n      <td>Wave and Sea Surface Temperature for Sable Isl...</td>\n      <td>Sofar Spotter 2 deployments on the south side ...</td>\n    </tr>\n    <tr>\n      <th>6</th>\n      <td>&lt;https://catalogue.cioos.ca/dataset/ca-cioos_f...</td>\n      <td>Température des vagues et de la surface de la ...</td>\n      <td>Déploiements de Sofar Spotter 2 du côté sud de...</td>\n    </tr>\n    <tr>\n      <th>7</th>\n      <td>&lt;https://catalogue.cioos.ca/dataset/ca-cioos_f...</td>\n      <td>Wave and Sea Surface Temperature for Sable Isl...</td>\n      <td>Déploiements de Sofar Spotter 2 du côté sud de...</td>\n    </tr>\n    <tr>\n      <th>8</th>\n      <td>&lt;https://catalogue.cioos.ca/dataset/a99dc2e5-2...</td>\n      <td>REKEAU Project - Drinking water intake sites (...</td>\n      <td>Municipal potable water intake sites from unde...</td>\n    </tr>\n    <tr>\n      <th>9</th>\n      <td>&lt;https://catalogue.cioos.ca/dataset/c73dcc83-0...</td>\n      <td>Douglas Channel Fluorometer Deployed 2022-07-14</td>\n      <td>The WET Labs ECO FLRT 3905 was deployed on 202...</td>\n    </tr>\n  </tbody>\n</table>\n</div>"
     },
     "execution_count": 15,
     "metadata": {},
     "output_type": "execute_result"
    }
   ],
   "source": [
    "rq_desc = \"\"\"PREFIX rdf: <http://www.w3.org/1999/02/22-rdf-syntax-ns#>\n",
    "PREFIX rdfs: <http://www.w3.org/2000/01/rdf-schema#>\n",
    "SELECT ?s ?name ?desc\n",
    "WHERE\n",
    "{\n",
    "  ?s <https://schema.org/name> ?name .\n",
    "  ?s rdf:type <https://schema.org/Dataset> .\n",
    "  ?s <https://schema.org/description> ?desc .\n",
    "}\n",
    "LIMIT 200\n",
    "\"\"\"\n",
    "\n",
    "pdf = kg.query_as_df(rq_desc)\n",
    "pdf.head(10)"
   ]
  }
 ],
 "metadata": {
  "kernelspec": {
   "display_name": "Python 3 (ipykernel)",
   "language": "python",
   "name": "python3"
  },
  "language_info": {
   "codemirror_mode": {
    "name": "ipython",
    "version": 3
   },
   "file_extension": ".py",
   "mimetype": "text/x-python",
   "name": "python",
   "nbconvert_exporter": "python",
   "pygments_lexer": "ipython3",
   "version": "3.10.8"
  }
 },
 "nbformat": 4,
 "nbformat_minor": 4
}
