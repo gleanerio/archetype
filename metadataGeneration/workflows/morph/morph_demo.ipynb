{
 "cells": [
  {
   "cell_type": "markdown",
   "id": "7aa296d4-be4e-4462-87b7-bd84a9dd289a",
   "metadata": {},
   "source": [
    "# CSV to JSON-LD via Morph\n",
    "\n",
    "ref: https://github.com/morph-kgc/morph-kgc/tree/main/examples "
   ]
  },
  {
   "cell_type": "markdown",
   "id": "b48e69a7-7984-43f0-b9ed-17ec67642766",
   "metadata": {},
   "source": [
    "## Imports"
   ]
  },
  {
   "cell_type": "code",
   "id": "1a0dc31f-f030-454f-b366-700508677c9f",
   "metadata": {
    "execution": {
     "iopub.execute_input": "2024-05-14T00:06:15.735823Z",
     "iopub.status.busy": "2024-05-14T00:06:15.735662Z",
     "iopub.status.idle": "2024-05-14T00:06:16.506070Z",
     "shell.execute_reply": "2024-05-14T00:06:16.505566Z",
     "shell.execute_reply.started": "2024-05-14T00:06:15.735809Z"
    },
    "ExecuteTime": {
     "end_time": "2024-05-16T21:21:21.060728Z",
     "start_time": "2024-05-16T21:21:20.725383Z"
    }
   },
   "source": [
    "import morph_kgc\n",
    "import pandas as pd\n",
    "import json\n",
    "import pyoxigraph"
   ],
   "outputs": [],
   "execution_count": 1
  },
  {
   "cell_type": "markdown",
   "id": "e1762bc1-9fca-4e36-8376-4cdd6689d28f",
   "metadata": {},
   "source": [
    "## Demo\n",
    "\n",
    "Uses the mapping.csv.yml"
   ]
  },
  {
   "cell_type": "code",
   "id": "9cfd4194-f1c1-4020-a18d-5878128a3ea9",
   "metadata": {
    "execution": {
     "iopub.execute_input": "2024-05-14T00:22:14.566217Z",
     "iopub.status.busy": "2024-05-14T00:22:14.565968Z",
     "iopub.status.idle": "2024-05-14T00:22:16.882498Z",
     "shell.execute_reply": "2024-05-14T00:22:16.882087Z",
     "shell.execute_reply.started": "2024-05-14T00:22:14.566203Z"
    },
    "tags": [],
    "ExecuteTime": {
     "end_time": "2024-05-16T21:24:51.036224Z",
     "start_time": "2024-05-16T21:24:48.517372Z"
    }
   },
   "source": [
    "# the methods above also accept the config as a string\n",
    "config = \"\"\"\n",
    "[GTFS_CSV]\n",
    "mappings: mapping.csv.yml\"\"\"\n",
    "\n",
    "g_rdflib = morph_kgc.materialize(config)\n",
    "\n",
    "# work with the RDFLib graph\n",
    "# g_rdflib = morph_kgc.materialize('./config.ini')  # or from file\n",
    "# q_res = g_rdflib.query('SELECT DISTINCT ?classes WHERE { ?s a ?classes }')\n",
    "\n",
    "# generate the triples and load them to Oxigraph\n",
    "g_oxigraph = morph_kgc.materialize_oxigraph('./config.ini')\n",
    "q_res = g_oxigraph.query('SELECT DISTINCT ?classes WHERE { ?s a ?classes }')\n",
    "\n",
    "print(list(q_res))"
   ],
   "outputs": [
    {
     "name": "stderr",
     "output_type": "stream",
     "text": [
      "INFO | 2024-05-16 16:24:49,436 | 86 mapping rules retrieved.\n",
      "INFO | 2024-05-16 16:24:49,478 | Mapping partition with 83 groups generated.\n",
      "INFO | 2024-05-16 16:24:49,478 | Maximum number of rules within mapping group: 2.\n",
      "INFO | 2024-05-16 16:24:49,479 | Mappings processed in 0.957 seconds.\n",
      "INFO | 2024-05-16 16:24:49,742 | Number of triples generated in total: 2001.\n",
      "INFO | 2024-05-16 16:24:50,659 | 86 mapping rules retrieved.\n",
      "INFO | 2024-05-16 16:24:50,695 | Mapping partition with 83 groups generated.\n",
      "INFO | 2024-05-16 16:24:50,695 | Maximum number of rules within mapping group: 2.\n",
      "INFO | 2024-05-16 16:24:50,696 | Mappings processed in 0.895 seconds.\n",
      "INFO | 2024-05-16 16:24:50,956 | Number of triples generated in total: 2001.\n"
     ]
    },
    {
     "name": "stdout",
     "output_type": "stream",
     "text": [
      "[<QuerySolution classes=<NamedNode value=http://vocab.gtfs.org/terms#Service>>, <QuerySolution classes=<NamedNode value=http://vocab.gtfs.org/terms#Feed>>, <QuerySolution classes=<NamedNode value=http://vocab.gtfs.org/terms#Route>>, <QuerySolution classes=<NamedNode value=http://vocab.gtfs.org/terms#Agency>>, <QuerySolution classes=<NamedNode value=http://vocab.gtfs.org/terms#Frequency>>, <QuerySolution classes=<NamedNode value=http://vocab.gtfs.org/terms#Stop>>, <QuerySolution classes=<NamedNode value=http://vocab.gtfs.org/terms#Trip>>, <QuerySolution classes=<NamedNode value=http://vocab.gtfs.org/terms#Shape>>, <QuerySolution classes=<NamedNode value=http://vocab.gtfs.org/terms#CalendarDateRule>>, <QuerySolution classes=<NamedNode value=http://vocab.gtfs.org/terms#CalendarRule>>, <QuerySolution classes=<NamedNode value=http://vocab.gtfs.org/terms#ShapePoint>>, <QuerySolution classes=<NamedNode value=http://vocab.gtfs.org/terms#StopTime>>]\n"
     ]
    }
   ],
   "execution_count": 2
  },
  {
   "cell_type": "code",
   "id": "aad67013-5f85-44c5-96c8-8722fdb3b2df",
   "metadata": {
    "execution": {
     "iopub.execute_input": "2024-05-14T00:06:18.860574Z",
     "iopub.status.busy": "2024-05-14T00:06:18.860260Z",
     "iopub.status.idle": "2024-05-14T00:06:19.277874Z",
     "shell.execute_reply": "2024-05-14T00:06:19.277481Z",
     "shell.execute_reply.started": "2024-05-14T00:06:18.860560Z"
    },
    "ExecuteTime": {
     "end_time": "2024-05-15T18:01:30.179174Z",
     "start_time": "2024-05-15T18:01:29.692408Z"
    }
   },
   "source": [
    "__author__ = \"Ioannis Dasoulas\"\n",
    "__credits__ = [\"Julián Arenas-Guerrero\",\"Ioannis Dasoulas\"]\n",
    "\n",
    "__license__ = \"Apache-2.0\"\n",
    "__maintainer__ = \"Ioannis Dasoulas\"\n",
    "__email__ = \"ioannis.dasoulas@kuleuven.be\"\n",
    "\n",
    "users_df = pd.DataFrame({'Id': [1,2,3,4],\\\n",
    "                      'Username': [\"@jude\",\"@emily\",\"@wayne\",\"@jordan1\"], \\\n",
    "                      'Name': [\"Jude\", \"Emily\", \"Wayne\", \"Jordan\"],\\\n",
    "                      'Surname': [\"White\", \"Van de Beeck\", \"Peterson\", \"Stones\"]})\n",
    "\n",
    "followers_df = pd.DataFrame({'Id': [1,2,3,4],\\\n",
    "                      'Followers': [344, 456, 1221, 23]})\n",
    "\n",
    "data_dict = {\"variable1\": users_df,\n",
    "            \"variable2\": followers_df}\n",
    "\n",
    "config = \"\"\"\n",
    "    [DataSource]\n",
    "    mappings=./mapping.rml.ttl\n",
    "\"\"\"\n",
    "\n",
    "g_rdflib = morph_kgc.materialize(config, data_dict)\n",
    "\n",
    "print(\"Knowledge graphs triples:\")\n",
    "for s,p,o in g_rdflib.triples((None, None, None)):\n",
    "    print(s,p,o)\n"
   ],
   "outputs": [
    {
     "name": "stderr",
     "output_type": "stream",
     "text": [
      "INFO | 2024-05-15 13:01:29,981 | 4 mapping rules retrieved.\n",
      "INFO | 2024-05-15 13:01:29,988 | Mapping partition with 4 groups generated.\n",
      "INFO | 2024-05-15 13:01:29,989 | Maximum number of rules within mapping group: 1.\n",
      "INFO | 2024-05-15 13:01:29,989 | Mappings processed in 0.292 seconds.\n",
      "INFO | 2024-05-15 13:01:30,175 | Number of triples generated in total: 16.\n"
     ]
    },
    {
     "name": "stdout",
     "output_type": "stream",
     "text": [
      "Knowledge graphs triples:\n",
      "http://instagram.com/data/user4 http://instagram.com/data/followersNumber 23\n",
      "http://instagram.com/data/user2 http://instagram.com/data/username @emily\n",
      "http://instagram.com/data/user2 http://instagram.com/data/name Emily Van de Beeck\n",
      "http://instagram.com/data/user2 http://www.w3.org/1999/02/22-rdf-syntax-ns#type http://instagram.com/data/User\n",
      "http://instagram.com/data/user1 http://instagram.com/data/username @jude\n",
      "http://instagram.com/data/user2 http://instagram.com/data/followersNumber 456\n",
      "http://instagram.com/data/user1 http://www.w3.org/1999/02/22-rdf-syntax-ns#type http://instagram.com/data/User\n",
      "http://instagram.com/data/user4 http://instagram.com/data/username @jordan1\n",
      "http://instagram.com/data/user1 http://instagram.com/data/followersNumber 344\n",
      "http://instagram.com/data/user3 http://instagram.com/data/username @wayne\n",
      "http://instagram.com/data/user3 http://instagram.com/data/name Wayne Peterson\n",
      "http://instagram.com/data/user3 http://instagram.com/data/followersNumber 1221\n",
      "http://instagram.com/data/user4 http://www.w3.org/1999/02/22-rdf-syntax-ns#type http://instagram.com/data/User\n",
      "http://instagram.com/data/user4 http://instagram.com/data/name Jordan Stones\n",
      "http://instagram.com/data/user3 http://www.w3.org/1999/02/22-rdf-syntax-ns#type http://instagram.com/data/User\n",
      "http://instagram.com/data/user1 http://instagram.com/data/name Jude White\n"
     ]
    }
   ],
   "execution_count": 3
  },
  {
   "cell_type": "code",
   "id": "1d8a080b-f589-4d5c-a107-ff27898a6ad1",
   "metadata": {
    "execution": {
     "iopub.execute_input": "2024-05-14T00:06:19.278735Z",
     "iopub.status.busy": "2024-05-14T00:06:19.278477Z",
     "iopub.status.idle": "2024-05-14T00:06:19.293842Z",
     "shell.execute_reply": "2024-05-14T00:06:19.293474Z",
     "shell.execute_reply.started": "2024-05-14T00:06:19.278721Z"
    },
    "tags": [],
    "ExecuteTime": {
     "end_time": "2024-05-15T18:01:30.191801Z",
     "start_time": "2024-05-15T18:01:30.180169Z"
    }
   },
   "source": [
    "df = pd.read_csv(\"../inputs/GDSC_metadata.csv\")"
   ],
   "outputs": [],
   "execution_count": 4
  },
  {
   "cell_type": "code",
   "id": "ce3a215b-ab6c-4f6f-81c9-4e8a6f2b776d",
   "metadata": {
    "execution": {
     "iopub.execute_input": "2024-05-14T00:06:19.294676Z",
     "iopub.status.busy": "2024-05-14T00:06:19.294553Z",
     "iopub.status.idle": "2024-05-14T00:06:19.301587Z",
     "shell.execute_reply": "2024-05-14T00:06:19.301288Z",
     "shell.execute_reply.started": "2024-05-14T00:06:19.294664Z"
    },
    "tags": [],
    "ExecuteTime": {
     "end_time": "2024-05-15T18:01:30.200508Z",
     "start_time": "2024-05-15T18:01:30.193413Z"
    }
   },
   "source": [
    "print(df.columns.values)"
   ],
   "outputs": [
    {
     "name": "stdout",
     "output_type": "stream",
     "text": [
      "['ID' 'Title' 'Creator' 'Url' 'DOI' 'Publisher' 'Rights' 'License'\n",
      " 'Restrictions' 'Coverage' 'Relations' 'Type' 'Date' 'Description'\n",
      " 'Provenance' 'Subject' 'Language' 'Structure' 'Geometry' 'Bands'\n",
      " 'Pixel Dimension' 'EPSG' 'Scale' 'Extent' 'Lineage' 'Process Step'\n",
      " 'Processor' 'Point of Contact' 'Data Level' 'Label' 'Values' 'Attributes'\n",
      " 'Color Ramp' 'Tile Zoom Levels' 'Collections' 'Analytic Function'\n",
      " 'Analytic EPSG' 'Thumbnail' 'Service Definition' 'Sponsor' 'Status'\n",
      " 'Rights Statement' 'Disclaimer' 'Service' 'Source' 'Parameters'\n",
      " 'File Name' 'Extension' 'Download' 'Table Name' 'Format' 'Dependency'\n",
      " 'Custom ETL' 'Custom Parameters' 'up' 'podID' 'Index Fields' 'Bash ETL'\n",
      " 'SQL Transform' 'Last Updated' 'Update Frequency' 'Last Accessed'\n",
      " 'Columns' 'ETL Documentation' 'Notes' 'TODO']\n"
     ]
    }
   ],
   "execution_count": 5
  },
  {
   "cell_type": "code",
   "id": "fbe4d96c-e0af-404d-82a4-e662726dcc5f",
   "metadata": {
    "execution": {
     "iopub.execute_input": "2024-05-14T00:06:20.735470Z",
     "iopub.status.busy": "2024-05-14T00:06:20.735304Z",
     "iopub.status.idle": "2024-05-14T00:06:20.751269Z",
     "shell.execute_reply": "2024-05-14T00:06:20.750801Z",
     "shell.execute_reply.started": "2024-05-14T00:06:20.735456Z"
    },
    "tags": [],
    "ExecuteTime": {
     "end_time": "2024-05-15T18:01:30.228648Z",
     "start_time": "2024-05-15T18:01:30.201276Z"
    }
   },
   "source": [
    "df.head(1)"
   ],
   "outputs": [
    {
     "data": {
      "text/plain": [
       "    ID                                              Title  \\\n",
       "0  1.0  Miami-Dade Home Owner's Loan Corporation (HOLC...   \n",
       "\n",
       "                                            Creator  \\\n",
       "0  University of Richmond's Digital Scholarship Lab   \n",
       "\n",
       "                                                 Url  DOI  \\\n",
       "0  https://services.arcgis.com/jIL9msH9OI208GCb/a...  NaN   \n",
       "\n",
       "                                          Publisher         Rights License  \\\n",
       "0  University of Richmond's Digital Scholarship Lab  Public Domain     NaN   \n",
       "\n",
       "                                        Restrictions       Coverage  ...  \\\n",
       "0  Use items owned by Esri in ArcGIS Online in co...  United States  ...   \n",
       "\n",
       "  Index Fields Bash ETL SQL Transform Last Updated Update Frequency  \\\n",
       "0           --      TBD           TBD   2021-08-17            Never   \n",
       "\n",
       "  Last Accessed                                            Columns  \\\n",
       "0            --  OBJECTID|HOLC_grade|city|HOLC|Code|ST |CitySta...   \n",
       "\n",
       "                                   ETL Documentation Notes  \\\n",
       "0  Direct download as ESRI json from ESRI service...   NaN   \n",
       "\n",
       "                                                TODO  \n",
       "0  update to reflect Miami only\\ninclude other ci...  \n",
       "\n",
       "[1 rows x 66 columns]"
      ],
      "text/html": [
       "<div>\n",
       "<style scoped>\n",
       "    .dataframe tbody tr th:only-of-type {\n",
       "        vertical-align: middle;\n",
       "    }\n",
       "\n",
       "    .dataframe tbody tr th {\n",
       "        vertical-align: top;\n",
       "    }\n",
       "\n",
       "    .dataframe thead th {\n",
       "        text-align: right;\n",
       "    }\n",
       "</style>\n",
       "<table border=\"1\" class=\"dataframe\">\n",
       "  <thead>\n",
       "    <tr style=\"text-align: right;\">\n",
       "      <th></th>\n",
       "      <th>ID</th>\n",
       "      <th>Title</th>\n",
       "      <th>Creator</th>\n",
       "      <th>Url</th>\n",
       "      <th>DOI</th>\n",
       "      <th>Publisher</th>\n",
       "      <th>Rights</th>\n",
       "      <th>License</th>\n",
       "      <th>Restrictions</th>\n",
       "      <th>Coverage</th>\n",
       "      <th>...</th>\n",
       "      <th>Index Fields</th>\n",
       "      <th>Bash ETL</th>\n",
       "      <th>SQL Transform</th>\n",
       "      <th>Last Updated</th>\n",
       "      <th>Update Frequency</th>\n",
       "      <th>Last Accessed</th>\n",
       "      <th>Columns</th>\n",
       "      <th>ETL Documentation</th>\n",
       "      <th>Notes</th>\n",
       "      <th>TODO</th>\n",
       "    </tr>\n",
       "  </thead>\n",
       "  <tbody>\n",
       "    <tr>\n",
       "      <th>0</th>\n",
       "      <td>1.0</td>\n",
       "      <td>Miami-Dade Home Owner's Loan Corporation (HOLC...</td>\n",
       "      <td>University of Richmond's Digital Scholarship Lab</td>\n",
       "      <td>https://services.arcgis.com/jIL9msH9OI208GCb/a...</td>\n",
       "      <td>NaN</td>\n",
       "      <td>University of Richmond's Digital Scholarship Lab</td>\n",
       "      <td>Public Domain</td>\n",
       "      <td>NaN</td>\n",
       "      <td>Use items owned by Esri in ArcGIS Online in co...</td>\n",
       "      <td>United States</td>\n",
       "      <td>...</td>\n",
       "      <td>--</td>\n",
       "      <td>TBD</td>\n",
       "      <td>TBD</td>\n",
       "      <td>2021-08-17</td>\n",
       "      <td>Never</td>\n",
       "      <td>--</td>\n",
       "      <td>OBJECTID|HOLC_grade|city|HOLC|Code|ST |CitySta...</td>\n",
       "      <td>Direct download as ESRI json from ESRI service...</td>\n",
       "      <td>NaN</td>\n",
       "      <td>update to reflect Miami only\\ninclude other ci...</td>\n",
       "    </tr>\n",
       "  </tbody>\n",
       "</table>\n",
       "<p>1 rows × 66 columns</p>\n",
       "</div>"
      ]
     },
     "execution_count": 6,
     "metadata": {},
     "output_type": "execute_result"
    }
   ],
   "execution_count": 6
  },
  {
   "cell_type": "code",
   "id": "3609695e-6dc9-4788-bb9c-0e7ed69bb28d",
   "metadata": {
    "execution": {
     "iopub.execute_input": "2024-05-14T00:06:21.509972Z",
     "iopub.status.busy": "2024-05-14T00:06:21.509704Z",
     "iopub.status.idle": "2024-05-14T00:06:21.535932Z",
     "shell.execute_reply": "2024-05-14T00:06:21.535627Z",
     "shell.execute_reply.started": "2024-05-14T00:06:21.509944Z"
    },
    "tags": [],
    "ExecuteTime": {
     "end_time": "2024-05-15T18:01:30.254851Z",
     "start_time": "2024-05-15T18:01:30.229386Z"
    }
   },
   "source": [
    "from pyvis.network import Network\n",
    "\n",
    "net = Network(notebook=True)\n",
    "net.add_nodes([1,2,3,4,5,6,7,8], label=['ID', 'Title', 'Creator', 'Url', 'DOI', 'Publisher', 'Rights', 'License'])\n",
    "\n",
    "\n",
    "# net.add_nodes([3, 4, 5, 6], \n",
    "#               label=['Michael', 'Ben\\n hasAFriend', 'Oliver', 'Olivia'],\n",
    "#               color=['#3da831', '#9a31a8', '#3155a8', '#eb4034'])\n",
    "\n",
    "net.add_edges([(1, 2)]) # title\n",
    "net.add_edges([(1, 6)]) # title\n",
    "net.add_edges([(1, 8)]) # title\n",
    "\n",
    "\n",
    "net.show('nodes.html')"
   ],
   "outputs": [
    {
     "data": {
      "text/plain": [
       "<IPython.lib.display.IFrame at 0x7ff82765af50>"
      ],
      "text/html": [
       "\n",
       "        <iframe\n",
       "            width=\"500px\"\n",
       "            height=\"500px\"\n",
       "            src=\"nodes.html\"\n",
       "            frameborder=\"0\"\n",
       "            allowfullscreen\n",
       "            \n",
       "        ></iframe>\n",
       "        "
      ]
     },
     "execution_count": 7,
     "metadata": {},
     "output_type": "execute_result"
    }
   ],
   "execution_count": 7
  },
  {
   "cell_type": "markdown",
   "id": "f4b446c6-c91e-4747-a6c8-12953e336b4b",
   "metadata": {},
   "source": [
    "## Note\n",
    "\n",
    "Could I do this as a JSON-LD document, we have found this somewhat logical for people.   Or something like a d2 in python\n",
    "\n",
    "is what I have done in inspire or OIH book still the onl game out there?  sad\n",
    "\n",
    "\n"
   ]
  },
  {
   "cell_type": "code",
   "id": "bd55235a-b230-4f62-b39b-e17ea21d5216",
   "metadata": {
    "execution": {
     "iopub.execute_input": "2024-05-14T00:06:22.865764Z",
     "iopub.status.busy": "2024-05-14T00:06:22.865599Z",
     "iopub.status.idle": "2024-05-14T00:06:22.904641Z",
     "shell.execute_reply": "2024-05-14T00:06:22.904221Z",
     "shell.execute_reply.started": "2024-05-14T00:06:22.865751Z"
    },
    "tags": [],
    "ExecuteTime": {
     "end_time": "2024-05-15T18:01:30.294800Z",
     "start_time": "2024-05-15T18:01:30.255607Z"
    }
   },
   "source": [
    "import jbutils"
   ],
   "outputs": [],
   "execution_count": 8
  },
  {
   "cell_type": "code",
   "id": "4399629e-ded0-4bc3-8465-2d52fa305574",
   "metadata": {
    "execution": {
     "iopub.execute_input": "2024-05-14T00:06:23.601839Z",
     "iopub.status.busy": "2024-05-14T00:06:23.601525Z",
     "iopub.status.idle": "2024-05-14T00:06:23.604541Z",
     "shell.execute_reply": "2024-05-14T00:06:23.604224Z",
     "shell.execute_reply.started": "2024-05-14T00:06:23.601825Z"
    },
    "tags": [],
    "ExecuteTime": {
     "end_time": "2024-05-15T18:01:30.298217Z",
     "start_time": "2024-05-15T18:01:30.295700Z"
    }
   },
   "source": [
    "filename = \"smallTemplate.json\"  # Replace with your actual file name\n",
    "\n",
    "# Open the file in read mode ('r')\n",
    "with open(filename, 'r') as f:\n",
    "  # Read the entire content into a string variable\n",
    "  content = f.read()\n",
    "\n",
    "# print(content)"
   ],
   "outputs": [],
   "execution_count": 9
  },
  {
   "cell_type": "code",
   "id": "b180c4ec-3f90-4c54-9bda-6820cdcab62f",
   "metadata": {
    "execution": {
     "iopub.execute_input": "2024-05-14T00:06:24.477776Z",
     "iopub.status.busy": "2024-05-14T00:06:24.477612Z",
     "iopub.status.idle": "2024-05-14T00:06:24.480300Z",
     "shell.execute_reply": "2024-05-14T00:06:24.479939Z",
     "shell.execute_reply.started": "2024-05-14T00:06:24.477763Z"
    },
    "tags": [],
    "ExecuteTime": {
     "end_time": "2024-05-15T18:01:30.315687Z",
     "start_time": "2024-05-15T18:01:30.299062Z"
    }
   },
   "source": [
    "jld = json.loads(content)"
   ],
   "outputs": [],
   "execution_count": 10
  },
  {
   "cell_type": "code",
   "id": "e0d7e526-9058-4709-b010-b4eb15710253",
   "metadata": {
    "execution": {
     "iopub.execute_input": "2024-05-14T00:06:24.824418Z",
     "iopub.status.busy": "2024-05-14T00:06:24.824267Z",
     "iopub.status.idle": "2024-05-14T00:06:24.874963Z",
     "shell.execute_reply": "2024-05-14T00:06:24.874630Z",
     "shell.execute_reply.started": "2024-05-14T00:06:24.824405Z"
    },
    "tags": [],
    "ExecuteTime": {
     "end_time": "2024-05-15T18:01:30.377687Z",
     "start_time": "2024-05-15T18:01:30.316462Z"
    }
   },
   "source": [
    "jbutils.show_graph(jld)"
   ],
   "outputs": [
    {
     "data": {
      "image/svg+xml": "<?xml version=\"1.0\" encoding=\"UTF-8\" standalone=\"no\"?>\n<!DOCTYPE svg PUBLIC \"-//W3C//DTD SVG 1.1//EN\"\n \"http://www.w3.org/Graphics/SVG/1.1/DTD/svg11.dtd\">\n<!-- Generated by graphviz version 8.1.0 (20230707.0739)\n -->\n<!-- Pages: 1 -->\n<svg width=\"546pt\" height=\"422pt\"\n viewBox=\"0.00 0.00 545.84 422.00\" xmlns=\"http://www.w3.org/2000/svg\" xmlns:xlink=\"http://www.w3.org/1999/xlink\">\n<g id=\"graph0\" class=\"graph\" transform=\"scale(1 1) rotate(0) translate(4 418)\">\n<polygon fill=\"white\" stroke=\"none\" points=\"-4,4 -4,-418 541.84,-418 541.84,4 -4,4\"/>\n<!-- Dataset -->\n<g id=\"node1\" class=\"node\">\n<title>Dataset</title>\n<ellipse fill=\"none\" stroke=\"#558855\" cx=\"460.85\" cy=\"-396\" rx=\"50.16\" ry=\"18\"/>\n<text text-anchor=\"middle\" x=\"460.85\" y=\"-391.32\" font-family=\"Times,serif\" font-size=\"14.00\">Dataset</text>\n</g>\n<!-- example.org/datasets/ID -->\n<g id=\"node2\" class=\"node\">\n<title>example.org/datasets/ID</title>\n<ellipse fill=\"none\" stroke=\"black\" cx=\"133.81\" cy=\"-207\" rx=\"133.81\" ry=\"18\"/>\n<text text-anchor=\"middle\" x=\"133.81\" y=\"-202.32\" font-family=\"Times,serif\" font-size=\"14.00\">example.org/datasets/ID</text>\n</g>\n<!-- example.org/datasets/ID&#45;&gt;Dataset -->\n<g id=\"edge1\" class=\"edge\">\n<title>example.org/datasets/ID&#45;&gt;Dataset</title>\n<path fill=\"none\" stroke=\"black\" d=\"M151.73,-225.11C178.04,-252.34 231.38,-303.93 285.61,-335 324.21,-357.11 372.18,-373.18 408,-383.26\"/>\n<polygon fill=\"black\" stroke=\"black\" points=\"406.67,-386.79 417.24,-386.06 408.52,-380.04 406.67,-386.79\"/>\n<text text-anchor=\"middle\" x=\"325.74\" y=\"-372.95\" font-family=\"Times,serif\" font-size=\"14.00\">type</text>\n</g>\n<!-- &quot;Creator&quot; -->\n<g id=\"node3\" class=\"node\">\n<title>&quot;Creator&quot;</title>\n<ellipse fill=\"none\" stroke=\"black\" stroke-width=\"0\" cx=\"460.85\" cy=\"-342\" rx=\"59.1\" ry=\"18\"/>\n<text text-anchor=\"middle\" x=\"460.85\" y=\"-337.32\" font-family=\"Times,serif\" font-size=\"14.00\">&quot;Creator&quot;</text>\n</g>\n<!-- example.org/datasets/ID&#45;&gt;&quot;Creator&quot; -->\n<g id=\"edge2\" class=\"edge\">\n<title>example.org/datasets/ID&#45;&gt;&quot;Creator&quot;</title>\n<path fill=\"none\" stroke=\"black\" d=\"M165.25,-224.93C195.19,-242.09 242.54,-267.95 285.61,-286 325.05,-302.52 371.18,-317.15 406.06,-327.31\"/>\n<polygon fill=\"black\" stroke=\"black\" points=\"404.93,-330.91 415.5,-330.31 406.86,-324.19 404.93,-330.91\"/>\n<text text-anchor=\"middle\" x=\"325.74\" y=\"-317.95\" font-family=\"Times,serif\" font-size=\"14.00\">creator</text>\n</g>\n<!-- &quot;description&quot; -->\n<g id=\"node4\" class=\"node\">\n<title>&quot;description&quot;</title>\n<ellipse fill=\"none\" stroke=\"black\" stroke-width=\"0\" cx=\"460.85\" cy=\"-288\" rx=\"76.99\" ry=\"18\"/>\n<text text-anchor=\"middle\" x=\"460.85\" y=\"-283.32\" font-family=\"Times,serif\" font-size=\"14.00\">&quot;description&quot;</text>\n</g>\n<!-- example.org/datasets/ID&#45;&gt;&quot;description&quot; -->\n<g id=\"edge3\" class=\"edge\">\n<title>example.org/datasets/ID&#45;&gt;&quot;description&quot;</title>\n<path fill=\"none\" stroke=\"black\" d=\"M195.25,-223.45C222.77,-230.83 255.79,-239.54 285.61,-247 321.66,-256.02 362.04,-265.56 394.84,-273.16\"/>\n<polygon fill=\"black\" stroke=\"black\" points=\"393.68,-276.72 404.21,-275.56 395.26,-269.9 393.68,-276.72\"/>\n<text text-anchor=\"middle\" x=\"325.74\" y=\"-268.95\" font-family=\"Times,serif\" font-size=\"14.00\">description</text>\n</g>\n<!-- &quot;doi&quot; -->\n<g id=\"node5\" class=\"node\">\n<title>&quot;doi&quot;</title>\n<ellipse fill=\"none\" stroke=\"black\" stroke-width=\"0\" cx=\"460.85\" cy=\"-234\" rx=\"35.95\" ry=\"18\"/>\n<text text-anchor=\"middle\" x=\"460.85\" y=\"-229.32\" font-family=\"Times,serif\" font-size=\"14.00\">&quot;doi&quot;</text>\n</g>\n<!-- example.org/datasets/ID&#45;&gt;&quot;doi&quot; -->\n<g id=\"edge4\" class=\"edge\">\n<title>example.org/datasets/ID&#45;&gt;&quot;doi&quot;</title>\n<path fill=\"none\" stroke=\"black\" d=\"M248.95,-216.48C306.04,-221.22 371.9,-226.69 414.62,-230.24\"/>\n<polygon fill=\"black\" stroke=\"black\" points=\"414.24,-233.81 424.5,-231.15 414.82,-226.83 414.24,-233.81\"/>\n<text text-anchor=\"middle\" x=\"325.74\" y=\"-229.95\" font-family=\"Times,serif\" font-size=\"14.00\">identifier</text>\n</g>\n<!-- &quot;license&quot; -->\n<g id=\"node6\" class=\"node\">\n<title>&quot;license&quot;</title>\n<ellipse fill=\"none\" stroke=\"black\" stroke-width=\"0\" cx=\"460.85\" cy=\"-180\" rx=\"55.42\" ry=\"18\"/>\n<text text-anchor=\"middle\" x=\"460.85\" y=\"-175.32\" font-family=\"Times,serif\" font-size=\"14.00\">&quot;license&quot;</text>\n</g>\n<!-- example.org/datasets/ID&#45;&gt;&quot;license&quot; -->\n<g id=\"edge5\" class=\"edge\">\n<title>example.org/datasets/ID&#45;&gt;&quot;license&quot;</title>\n<path fill=\"none\" stroke=\"black\" d=\"M248.95,-197.52C298.49,-193.4 354.62,-188.74 396.52,-185.26\"/>\n<polygon fill=\"black\" stroke=\"black\" points=\"396.72,-188.67 406.39,-184.36 396.14,-181.7 396.72,-188.67\"/>\n<text text-anchor=\"middle\" x=\"325.74\" y=\"-197.95\" font-family=\"Times,serif\" font-size=\"14.00\">license</text>\n</g>\n<!-- &quot;name&quot; -->\n<g id=\"node7\" class=\"node\">\n<title>&quot;name&quot;</title>\n<ellipse fill=\"none\" stroke=\"black\" stroke-width=\"0\" cx=\"460.85\" cy=\"-126\" rx=\"48.05\" ry=\"18\"/>\n<text text-anchor=\"middle\" x=\"460.85\" y=\"-121.33\" font-family=\"Times,serif\" font-size=\"14.00\">&quot;name&quot;</text>\n</g>\n<!-- example.org/datasets/ID&#45;&gt;&quot;name&quot; -->\n<g id=\"edge6\" class=\"edge\">\n<title>example.org/datasets/ID&#45;&gt;&quot;name&quot;</title>\n<path fill=\"none\" stroke=\"black\" d=\"M193.02,-190.45C220.95,-182.67 254.94,-173.44 285.61,-165.75 326.93,-155.39 374.05,-144.71 408.86,-137.03\"/>\n<polygon fill=\"black\" stroke=\"black\" points=\"409.23,-140.31 418.25,-134.75 407.73,-133.48 409.23,-140.31\"/>\n<text text-anchor=\"middle\" x=\"325.74\" y=\"-168.95\" font-family=\"Times,serif\" font-size=\"14.00\">name</text>\n</g>\n<!-- &quot;type&quot; -->\n<g id=\"node8\" class=\"node\">\n<title>&quot;type&quot;</title>\n<ellipse fill=\"none\" stroke=\"black\" stroke-width=\"0\" cx=\"460.85\" cy=\"-72\" rx=\"42.79\" ry=\"18\"/>\n<text text-anchor=\"middle\" x=\"460.85\" y=\"-67.33\" font-family=\"Times,serif\" font-size=\"14.00\">&quot;type&quot;</text>\n</g>\n<!-- example.org/datasets/ID&#45;&gt;&quot;type&quot; -->\n<g id=\"edge7\" class=\"edge\">\n<title>example.org/datasets/ID&#45;&gt;&quot;type&quot;</title>\n<path fill=\"none\" stroke=\"black\" d=\"M164.01,-189.05C193.79,-171.28 241.73,-144.14 285.61,-125.75 327.69,-108.13 377.6,-93.31 413.2,-83.73\"/>\n<polygon fill=\"black\" stroke=\"black\" points=\"413.99,-86.87 422.76,-80.93 412.2,-80.11 413.99,-86.87\"/>\n<text text-anchor=\"middle\" x=\"325.74\" y=\"-128.95\" font-family=\"Times,serif\" font-size=\"14.00\">sameAs</text>\n</g>\n<!-- &quot;url&quot; -->\n<g id=\"node9\" class=\"node\">\n<title>&quot;url&quot;</title>\n<ellipse fill=\"none\" stroke=\"black\" stroke-width=\"0\" cx=\"460.85\" cy=\"-18\" rx=\"34.9\" ry=\"18\"/>\n<text text-anchor=\"middle\" x=\"460.85\" y=\"-13.32\" font-family=\"Times,serif\" font-size=\"14.00\">&quot;url&quot;</text>\n</g>\n<!-- example.org/datasets/ID&#45;&gt;&quot;url&quot; -->\n<g id=\"edge8\" class=\"edge\">\n<title>example.org/datasets/ID&#45;&gt;&quot;url&quot;</title>\n<path fill=\"none\" stroke=\"black\" d=\"M151.14,-188.74C177.08,-160.76 230.43,-107.21 285.61,-75.75 327.82,-51.69 381.55,-35.81 418.11,-26.89\"/>\n<polygon fill=\"black\" stroke=\"black\" points=\"418.48,-30.16 427.41,-24.46 416.87,-23.35 418.48,-30.16\"/>\n<text text-anchor=\"middle\" x=\"325.74\" y=\"-78.95\" font-family=\"Times,serif\" font-size=\"14.00\">url</text>\n</g>\n</g>\n</svg>\n",
      "text/plain": [
       "<graphviz.graphs.Digraph at 0x7ff8276f2e90>"
      ]
     },
     "execution_count": 11,
     "metadata": {},
     "output_type": "execute_result"
    }
   ],
   "execution_count": 11
  },
  {
   "cell_type": "code",
   "id": "9612992b-9349-41dd-8cb2-f31a7d10bb14",
   "metadata": {
    "execution": {
     "iopub.execute_input": "2024-05-14T00:25:29.207580Z",
     "iopub.status.busy": "2024-05-14T00:25:29.207407Z",
     "iopub.status.idle": "2024-05-14T00:25:29.212704Z",
     "shell.execute_reply": "2024-05-14T00:25:29.212368Z",
     "shell.execute_reply.started": "2024-05-14T00:25:29.207566Z"
    },
    "tags": [],
    "ExecuteTime": {
     "end_time": "2024-05-15T18:01:30.393278Z",
     "start_time": "2024-05-15T18:01:30.378546Z"
    }
   },
   "source": [
    "# convert to Turtle, being in turtle doesn't really help build the mapping\n",
    "from rdflib import Graph\n",
    "\n",
    "g = Graph()\n",
    "g.parse(location=\"smallTemplate.json\", format='json-ld')\n",
    "\n",
    "#output file name and file format here\n",
    "\n",
    "g.serialize(destination=r'./testbacktoturtle.ttl', format='turtle')"
   ],
   "outputs": [
    {
     "data": {
      "text/plain": [
       "<Graph identifier=N9c52aafa65d84afcab0de5eaaf149db4 (<class 'rdflib.graph.Graph'>)>"
      ]
     },
     "execution_count": 12,
     "metadata": {},
     "output_type": "execute_result"
    }
   ],
   "execution_count": 12
  },
  {
   "metadata": {
    "ExecuteTime": {
     "end_time": "2024-05-15T18:06:08.400552Z",
     "start_time": "2024-05-15T18:06:08.387482Z"
    }
   },
   "cell_type": "code",
   "source": "df",
   "id": "f7d5345ab1e91051",
   "outputs": [
    {
     "data": {
      "text/plain": [
       "      ID                                              Title  \\\n",
       "0    1.0  Miami-Dade Home Owner's Loan Corporation (HOLC...   \n",
       "1    2.0                         2019 Florida Census Tracts   \n",
       "2    3.0  2019 Miami-Dade ACS 5 Year Estimates - Tract L...   \n",
       "3    4.0  2019 Florida ACS 5 Year Estimates - Tract Leve...   \n",
       "4    5.0               2020 Florida Census Tracts - Florida   \n",
       "..   ...                                                ...   \n",
       "143  NaN                                                NaN   \n",
       "144  NaN                                                NaN   \n",
       "145  NaN                                                NaN   \n",
       "146  NaN                                                NaN   \n",
       "147  NaN                                                NaN   \n",
       "\n",
       "                                               Creator  \\\n",
       "0     University of Richmond's Digital Scholarship Lab   \n",
       "1    Department of Commerce|U.S. Census Bureau|Geog...   \n",
       "2            Department of Commerce|U.S. Census Bureau   \n",
       "3            Department of Commerce|U.S. Census Bureau   \n",
       "4    Department of Commerce|U.S. Census Bureau|Geog...   \n",
       "..                                                 ...   \n",
       "143                                                NaN   \n",
       "144                                                NaN   \n",
       "145                                                NaN   \n",
       "146                                                NaN   \n",
       "147                                                NaN   \n",
       "\n",
       "                                                   Url  DOI  \\\n",
       "0    https://services.arcgis.com/jIL9msH9OI208GCb/a...  NaN   \n",
       "1    https://www.census.gov/geographies/mapping-fil...  NaN   \n",
       "2    https://www.census.gov/data/developers/data-se...  NaN   \n",
       "3    https://www.census.gov/data/developers/data-se...  NaN   \n",
       "4    https://www.census.gov/geographies/mapping-fil...  NaN   \n",
       "..                                                 ...  ...   \n",
       "143                                                NaN  NaN   \n",
       "144                                                NaN  NaN   \n",
       "145                                                NaN  NaN   \n",
       "146                                                NaN  NaN   \n",
       "147                                                NaN  NaN   \n",
       "\n",
       "                                             Publisher         Rights  \\\n",
       "0     University of Richmond's Digital Scholarship Lab  Public Domain   \n",
       "1    Department of Commerce|U.S. Census Bureau|Geog...  Public Domain   \n",
       "2            Department of Commerce|U.S. Census Bureau  Public Domain   \n",
       "3            Department of Commerce|U.S. Census Bureau  Public Domain   \n",
       "4    Department of Commerce|U.S. Census Bureau|Geog...  Public Domain   \n",
       "..                                                 ...            ...   \n",
       "143                                                NaN            NaN   \n",
       "144                                                NaN            NaN   \n",
       "145                                                NaN            NaN   \n",
       "146                                                NaN            NaN   \n",
       "147                                                NaN            NaN   \n",
       "\n",
       "                                               License  \\\n",
       "0                                                  NaN   \n",
       "1    This Software was created by U.S. Government e...   \n",
       "2    This Software was created by U.S. Government e...   \n",
       "3    This Software was created by U.S. Government e...   \n",
       "4    This Software was created by U.S. Government e...   \n",
       "..                                                 ...   \n",
       "143                                                NaN   \n",
       "144                                                NaN   \n",
       "145                                                NaN   \n",
       "146                                                NaN   \n",
       "147                                                NaN   \n",
       "\n",
       "                                          Restrictions               Coverage  \\\n",
       "0    Use items owned by Esri in ArcGIS Online in co...          United States   \n",
       "1                                                  NaN  United States|Florida   \n",
       "2                                                  NaN  United States|Florida   \n",
       "3                                                  NaN  United States|Florida   \n",
       "4                                                  NaN  United States|Florida   \n",
       "..                                                 ...                    ...   \n",
       "143                                                NaN                    NaN   \n",
       "144                                                NaN                    NaN   \n",
       "145                                                NaN                    NaN   \n",
       "146                                                NaN                    NaN   \n",
       "147                                                NaN                    NaN   \n",
       "\n",
       "     ... Index Fields Bash ETL SQL Transform Last Updated Update Frequency  \\\n",
       "0    ...           --      TBD           TBD   2021-08-17            Never   \n",
       "1    ...           --      TBD           TBD   2021-09-22            Never   \n",
       "2    ...           --      TBD           TBD   2021-06-02            Never   \n",
       "3    ...           --      TBD           TBD   2022-11-22            Never   \n",
       "4    ...           --      TBD           TBD   2021-09-22            Never   \n",
       "..   ...          ...      ...           ...          ...              ...   \n",
       "143  ...          NaN      NaN           NaN          NaN              NaN   \n",
       "144  ...          NaN      NaN           NaN          NaN              NaN   \n",
       "145  ...          NaN      NaN           NaN          NaN              NaN   \n",
       "146  ...          NaN      NaN           NaN          NaN              NaN   \n",
       "147  ...          NaN      NaN           NaN          NaN              NaN   \n",
       "\n",
       "    Last Accessed                                            Columns  \\\n",
       "0              --  OBJECTID|HOLC_grade|city|HOLC|Code|ST |CitySta...   \n",
       "1              --  STATEFP(string,2)|COUNTYFP(string,3)|TRACTCE(s...   \n",
       "2              --  https://api.census.gov/data/2019/acs/acs5/vari...   \n",
       "3              --  https://api.census.gov/data/2019/acs/acs5/vari...   \n",
       "4              --  STATEFP(string,2)|COUNTYFP(string,3)|TRACTCE(s...   \n",
       "..            ...                                                ...   \n",
       "143           NaN                                                NaN   \n",
       "144           NaN                                                NaN   \n",
       "145           NaN                                                NaN   \n",
       "146           NaN                                                NaN   \n",
       "147           NaN                                                NaN   \n",
       "\n",
       "                                     ETL Documentation  \\\n",
       "0    Direct download as ESRI json from ESRI service...   \n",
       "1                         ogr2ogr shapefile to postGIS   \n",
       "2    The custom function acs_customgregate is given...   \n",
       "3    The custom function acs_customgregate is given...   \n",
       "4                         ogr2ogr shapefile to postGIS   \n",
       "..                                                 ...   \n",
       "143                                                NaN   \n",
       "144                                                NaN   \n",
       "145                                                NaN   \n",
       "146                                                NaN   \n",
       "147                                                NaN   \n",
       "\n",
       "                                                 Notes  \\\n",
       "0                                                  NaN   \n",
       "1                                                  NaN   \n",
       "2    please use this as a template for all ACS esti...   \n",
       "3                  update using 2019 DVMT ACS as model   \n",
       "4                                                  NaN   \n",
       "..                                                 ...   \n",
       "143                                                NaN   \n",
       "144                                                NaN   \n",
       "145                                                NaN   \n",
       "146                                                NaN   \n",
       "147                                                NaN   \n",
       "\n",
       "                                                  TODO  \n",
       "0    update to reflect Miami only\\ninclude other ci...  \n",
       "1                                                  NaN  \n",
       "2                                                  NaN  \n",
       "3                                                  NaN  \n",
       "4                                                  NaN  \n",
       "..                                                 ...  \n",
       "143                                                NaN  \n",
       "144                                                NaN  \n",
       "145                                                NaN  \n",
       "146                                                NaN  \n",
       "147                                                NaN  \n",
       "\n",
       "[148 rows x 66 columns]"
      ],
      "text/html": [
       "<div>\n",
       "<style scoped>\n",
       "    .dataframe tbody tr th:only-of-type {\n",
       "        vertical-align: middle;\n",
       "    }\n",
       "\n",
       "    .dataframe tbody tr th {\n",
       "        vertical-align: top;\n",
       "    }\n",
       "\n",
       "    .dataframe thead th {\n",
       "        text-align: right;\n",
       "    }\n",
       "</style>\n",
       "<table border=\"1\" class=\"dataframe\">\n",
       "  <thead>\n",
       "    <tr style=\"text-align: right;\">\n",
       "      <th></th>\n",
       "      <th>ID</th>\n",
       "      <th>Title</th>\n",
       "      <th>Creator</th>\n",
       "      <th>Url</th>\n",
       "      <th>DOI</th>\n",
       "      <th>Publisher</th>\n",
       "      <th>Rights</th>\n",
       "      <th>License</th>\n",
       "      <th>Restrictions</th>\n",
       "      <th>Coverage</th>\n",
       "      <th>...</th>\n",
       "      <th>Index Fields</th>\n",
       "      <th>Bash ETL</th>\n",
       "      <th>SQL Transform</th>\n",
       "      <th>Last Updated</th>\n",
       "      <th>Update Frequency</th>\n",
       "      <th>Last Accessed</th>\n",
       "      <th>Columns</th>\n",
       "      <th>ETL Documentation</th>\n",
       "      <th>Notes</th>\n",
       "      <th>TODO</th>\n",
       "    </tr>\n",
       "  </thead>\n",
       "  <tbody>\n",
       "    <tr>\n",
       "      <th>0</th>\n",
       "      <td>1.0</td>\n",
       "      <td>Miami-Dade Home Owner's Loan Corporation (HOLC...</td>\n",
       "      <td>University of Richmond's Digital Scholarship Lab</td>\n",
       "      <td>https://services.arcgis.com/jIL9msH9OI208GCb/a...</td>\n",
       "      <td>NaN</td>\n",
       "      <td>University of Richmond's Digital Scholarship Lab</td>\n",
       "      <td>Public Domain</td>\n",
       "      <td>NaN</td>\n",
       "      <td>Use items owned by Esri in ArcGIS Online in co...</td>\n",
       "      <td>United States</td>\n",
       "      <td>...</td>\n",
       "      <td>--</td>\n",
       "      <td>TBD</td>\n",
       "      <td>TBD</td>\n",
       "      <td>2021-08-17</td>\n",
       "      <td>Never</td>\n",
       "      <td>--</td>\n",
       "      <td>OBJECTID|HOLC_grade|city|HOLC|Code|ST |CitySta...</td>\n",
       "      <td>Direct download as ESRI json from ESRI service...</td>\n",
       "      <td>NaN</td>\n",
       "      <td>update to reflect Miami only\\ninclude other ci...</td>\n",
       "    </tr>\n",
       "    <tr>\n",
       "      <th>1</th>\n",
       "      <td>2.0</td>\n",
       "      <td>2019 Florida Census Tracts</td>\n",
       "      <td>Department of Commerce|U.S. Census Bureau|Geog...</td>\n",
       "      <td>https://www.census.gov/geographies/mapping-fil...</td>\n",
       "      <td>NaN</td>\n",
       "      <td>Department of Commerce|U.S. Census Bureau|Geog...</td>\n",
       "      <td>Public Domain</td>\n",
       "      <td>This Software was created by U.S. Government e...</td>\n",
       "      <td>NaN</td>\n",
       "      <td>United States|Florida</td>\n",
       "      <td>...</td>\n",
       "      <td>--</td>\n",
       "      <td>TBD</td>\n",
       "      <td>TBD</td>\n",
       "      <td>2021-09-22</td>\n",
       "      <td>Never</td>\n",
       "      <td>--</td>\n",
       "      <td>STATEFP(string,2)|COUNTYFP(string,3)|TRACTCE(s...</td>\n",
       "      <td>ogr2ogr shapefile to postGIS</td>\n",
       "      <td>NaN</td>\n",
       "      <td>NaN</td>\n",
       "    </tr>\n",
       "    <tr>\n",
       "      <th>2</th>\n",
       "      <td>3.0</td>\n",
       "      <td>2019 Miami-Dade ACS 5 Year Estimates - Tract L...</td>\n",
       "      <td>Department of Commerce|U.S. Census Bureau</td>\n",
       "      <td>https://www.census.gov/data/developers/data-se...</td>\n",
       "      <td>NaN</td>\n",
       "      <td>Department of Commerce|U.S. Census Bureau</td>\n",
       "      <td>Public Domain</td>\n",
       "      <td>This Software was created by U.S. Government e...</td>\n",
       "      <td>NaN</td>\n",
       "      <td>United States|Florida</td>\n",
       "      <td>...</td>\n",
       "      <td>--</td>\n",
       "      <td>TBD</td>\n",
       "      <td>TBD</td>\n",
       "      <td>2021-06-02</td>\n",
       "      <td>Never</td>\n",
       "      <td>--</td>\n",
       "      <td>https://api.census.gov/data/2019/acs/acs5/vari...</td>\n",
       "      <td>The custom function acs_customgregate is given...</td>\n",
       "      <td>please use this as a template for all ACS esti...</td>\n",
       "      <td>NaN</td>\n",
       "    </tr>\n",
       "    <tr>\n",
       "      <th>3</th>\n",
       "      <td>4.0</td>\n",
       "      <td>2019 Florida ACS 5 Year Estimates - Tract Leve...</td>\n",
       "      <td>Department of Commerce|U.S. Census Bureau</td>\n",
       "      <td>https://www.census.gov/data/developers/data-se...</td>\n",
       "      <td>NaN</td>\n",
       "      <td>Department of Commerce|U.S. Census Bureau</td>\n",
       "      <td>Public Domain</td>\n",
       "      <td>This Software was created by U.S. Government e...</td>\n",
       "      <td>NaN</td>\n",
       "      <td>United States|Florida</td>\n",
       "      <td>...</td>\n",
       "      <td>--</td>\n",
       "      <td>TBD</td>\n",
       "      <td>TBD</td>\n",
       "      <td>2022-11-22</td>\n",
       "      <td>Never</td>\n",
       "      <td>--</td>\n",
       "      <td>https://api.census.gov/data/2019/acs/acs5/vari...</td>\n",
       "      <td>The custom function acs_customgregate is given...</td>\n",
       "      <td>update using 2019 DVMT ACS as model</td>\n",
       "      <td>NaN</td>\n",
       "    </tr>\n",
       "    <tr>\n",
       "      <th>4</th>\n",
       "      <td>5.0</td>\n",
       "      <td>2020 Florida Census Tracts - Florida</td>\n",
       "      <td>Department of Commerce|U.S. Census Bureau|Geog...</td>\n",
       "      <td>https://www.census.gov/geographies/mapping-fil...</td>\n",
       "      <td>NaN</td>\n",
       "      <td>Department of Commerce|U.S. Census Bureau|Geog...</td>\n",
       "      <td>Public Domain</td>\n",
       "      <td>This Software was created by U.S. Government e...</td>\n",
       "      <td>NaN</td>\n",
       "      <td>United States|Florida</td>\n",
       "      <td>...</td>\n",
       "      <td>--</td>\n",
       "      <td>TBD</td>\n",
       "      <td>TBD</td>\n",
       "      <td>2021-09-22</td>\n",
       "      <td>Never</td>\n",
       "      <td>--</td>\n",
       "      <td>STATEFP(string,2)|COUNTYFP(string,3)|TRACTCE(s...</td>\n",
       "      <td>ogr2ogr shapefile to postGIS</td>\n",
       "      <td>NaN</td>\n",
       "      <td>NaN</td>\n",
       "    </tr>\n",
       "    <tr>\n",
       "      <th>...</th>\n",
       "      <td>...</td>\n",
       "      <td>...</td>\n",
       "      <td>...</td>\n",
       "      <td>...</td>\n",
       "      <td>...</td>\n",
       "      <td>...</td>\n",
       "      <td>...</td>\n",
       "      <td>...</td>\n",
       "      <td>...</td>\n",
       "      <td>...</td>\n",
       "      <td>...</td>\n",
       "      <td>...</td>\n",
       "      <td>...</td>\n",
       "      <td>...</td>\n",
       "      <td>...</td>\n",
       "      <td>...</td>\n",
       "      <td>...</td>\n",
       "      <td>...</td>\n",
       "      <td>...</td>\n",
       "      <td>...</td>\n",
       "      <td>...</td>\n",
       "    </tr>\n",
       "    <tr>\n",
       "      <th>143</th>\n",
       "      <td>NaN</td>\n",
       "      <td>NaN</td>\n",
       "      <td>NaN</td>\n",
       "      <td>NaN</td>\n",
       "      <td>NaN</td>\n",
       "      <td>NaN</td>\n",
       "      <td>NaN</td>\n",
       "      <td>NaN</td>\n",
       "      <td>NaN</td>\n",
       "      <td>NaN</td>\n",
       "      <td>...</td>\n",
       "      <td>NaN</td>\n",
       "      <td>NaN</td>\n",
       "      <td>NaN</td>\n",
       "      <td>NaN</td>\n",
       "      <td>NaN</td>\n",
       "      <td>NaN</td>\n",
       "      <td>NaN</td>\n",
       "      <td>NaN</td>\n",
       "      <td>NaN</td>\n",
       "      <td>NaN</td>\n",
       "    </tr>\n",
       "    <tr>\n",
       "      <th>144</th>\n",
       "      <td>NaN</td>\n",
       "      <td>NaN</td>\n",
       "      <td>NaN</td>\n",
       "      <td>NaN</td>\n",
       "      <td>NaN</td>\n",
       "      <td>NaN</td>\n",
       "      <td>NaN</td>\n",
       "      <td>NaN</td>\n",
       "      <td>NaN</td>\n",
       "      <td>NaN</td>\n",
       "      <td>...</td>\n",
       "      <td>NaN</td>\n",
       "      <td>NaN</td>\n",
       "      <td>NaN</td>\n",
       "      <td>NaN</td>\n",
       "      <td>NaN</td>\n",
       "      <td>NaN</td>\n",
       "      <td>NaN</td>\n",
       "      <td>NaN</td>\n",
       "      <td>NaN</td>\n",
       "      <td>NaN</td>\n",
       "    </tr>\n",
       "    <tr>\n",
       "      <th>145</th>\n",
       "      <td>NaN</td>\n",
       "      <td>NaN</td>\n",
       "      <td>NaN</td>\n",
       "      <td>NaN</td>\n",
       "      <td>NaN</td>\n",
       "      <td>NaN</td>\n",
       "      <td>NaN</td>\n",
       "      <td>NaN</td>\n",
       "      <td>NaN</td>\n",
       "      <td>NaN</td>\n",
       "      <td>...</td>\n",
       "      <td>NaN</td>\n",
       "      <td>NaN</td>\n",
       "      <td>NaN</td>\n",
       "      <td>NaN</td>\n",
       "      <td>NaN</td>\n",
       "      <td>NaN</td>\n",
       "      <td>NaN</td>\n",
       "      <td>NaN</td>\n",
       "      <td>NaN</td>\n",
       "      <td>NaN</td>\n",
       "    </tr>\n",
       "    <tr>\n",
       "      <th>146</th>\n",
       "      <td>NaN</td>\n",
       "      <td>NaN</td>\n",
       "      <td>NaN</td>\n",
       "      <td>NaN</td>\n",
       "      <td>NaN</td>\n",
       "      <td>NaN</td>\n",
       "      <td>NaN</td>\n",
       "      <td>NaN</td>\n",
       "      <td>NaN</td>\n",
       "      <td>NaN</td>\n",
       "      <td>...</td>\n",
       "      <td>NaN</td>\n",
       "      <td>NaN</td>\n",
       "      <td>NaN</td>\n",
       "      <td>NaN</td>\n",
       "      <td>NaN</td>\n",
       "      <td>NaN</td>\n",
       "      <td>NaN</td>\n",
       "      <td>NaN</td>\n",
       "      <td>NaN</td>\n",
       "      <td>NaN</td>\n",
       "    </tr>\n",
       "    <tr>\n",
       "      <th>147</th>\n",
       "      <td>NaN</td>\n",
       "      <td>NaN</td>\n",
       "      <td>NaN</td>\n",
       "      <td>NaN</td>\n",
       "      <td>NaN</td>\n",
       "      <td>NaN</td>\n",
       "      <td>NaN</td>\n",
       "      <td>NaN</td>\n",
       "      <td>NaN</td>\n",
       "      <td>NaN</td>\n",
       "      <td>...</td>\n",
       "      <td>NaN</td>\n",
       "      <td>NaN</td>\n",
       "      <td>NaN</td>\n",
       "      <td>NaN</td>\n",
       "      <td>NaN</td>\n",
       "      <td>NaN</td>\n",
       "      <td>NaN</td>\n",
       "      <td>NaN</td>\n",
       "      <td>NaN</td>\n",
       "      <td>NaN</td>\n",
       "    </tr>\n",
       "  </tbody>\n",
       "</table>\n",
       "<p>148 rows × 66 columns</p>\n",
       "</div>"
      ]
     },
     "execution_count": 17,
     "metadata": {},
     "output_type": "execute_result"
    }
   ],
   "execution_count": 17
  },
  {
   "cell_type": "code",
   "id": "78e9b5a0-8030-453b-be6e-f0b63f76be50",
   "metadata": {
    "ExecuteTime": {
     "end_time": "2024-05-15T18:01:30.400638Z",
     "start_time": "2024-05-15T18:01:30.393975Z"
    }
   },
   "source": [
    "df1 = df.head(1)\n"
   ],
   "outputs": [],
   "execution_count": 13
  },
  {
   "cell_type": "code",
   "id": "dc785bb8-cd68-4ee4-976e-6445d8d2b5b9",
   "metadata": {
    "execution": {
     "iopub.execute_input": "2024-05-14T00:53:12.471398Z",
     "iopub.status.busy": "2024-05-14T00:53:12.470999Z",
     "iopub.status.idle": "2024-05-14T00:53:12.481850Z",
     "shell.execute_reply": "2024-05-14T00:53:12.481535Z",
     "shell.execute_reply.started": "2024-05-14T00:53:12.471382Z"
    },
    "ExecuteTime": {
     "end_time": "2024-05-15T18:01:30.426979Z",
     "start_time": "2024-05-15T18:01:30.402379Z"
    }
   },
   "source": [
    "df1.head()"
   ],
   "outputs": [
    {
     "data": {
      "text/plain": [
       "    ID                                              Title  \\\n",
       "0  1.0  Miami-Dade Home Owner's Loan Corporation (HOLC...   \n",
       "\n",
       "                                            Creator  \\\n",
       "0  University of Richmond's Digital Scholarship Lab   \n",
       "\n",
       "                                                 Url  DOI  \\\n",
       "0  https://services.arcgis.com/jIL9msH9OI208GCb/a...  NaN   \n",
       "\n",
       "                                          Publisher         Rights License  \\\n",
       "0  University of Richmond's Digital Scholarship Lab  Public Domain     NaN   \n",
       "\n",
       "                                        Restrictions       Coverage  ...  \\\n",
       "0  Use items owned by Esri in ArcGIS Online in co...  United States  ...   \n",
       "\n",
       "  Index Fields Bash ETL SQL Transform Last Updated Update Frequency  \\\n",
       "0           --      TBD           TBD   2021-08-17            Never   \n",
       "\n",
       "  Last Accessed                                            Columns  \\\n",
       "0            --  OBJECTID|HOLC_grade|city|HOLC|Code|ST |CitySta...   \n",
       "\n",
       "                                   ETL Documentation Notes  \\\n",
       "0  Direct download as ESRI json from ESRI service...   NaN   \n",
       "\n",
       "                                                TODO  \n",
       "0  update to reflect Miami only\\ninclude other ci...  \n",
       "\n",
       "[1 rows x 66 columns]"
      ],
      "text/html": [
       "<div>\n",
       "<style scoped>\n",
       "    .dataframe tbody tr th:only-of-type {\n",
       "        vertical-align: middle;\n",
       "    }\n",
       "\n",
       "    .dataframe tbody tr th {\n",
       "        vertical-align: top;\n",
       "    }\n",
       "\n",
       "    .dataframe thead th {\n",
       "        text-align: right;\n",
       "    }\n",
       "</style>\n",
       "<table border=\"1\" class=\"dataframe\">\n",
       "  <thead>\n",
       "    <tr style=\"text-align: right;\">\n",
       "      <th></th>\n",
       "      <th>ID</th>\n",
       "      <th>Title</th>\n",
       "      <th>Creator</th>\n",
       "      <th>Url</th>\n",
       "      <th>DOI</th>\n",
       "      <th>Publisher</th>\n",
       "      <th>Rights</th>\n",
       "      <th>License</th>\n",
       "      <th>Restrictions</th>\n",
       "      <th>Coverage</th>\n",
       "      <th>...</th>\n",
       "      <th>Index Fields</th>\n",
       "      <th>Bash ETL</th>\n",
       "      <th>SQL Transform</th>\n",
       "      <th>Last Updated</th>\n",
       "      <th>Update Frequency</th>\n",
       "      <th>Last Accessed</th>\n",
       "      <th>Columns</th>\n",
       "      <th>ETL Documentation</th>\n",
       "      <th>Notes</th>\n",
       "      <th>TODO</th>\n",
       "    </tr>\n",
       "  </thead>\n",
       "  <tbody>\n",
       "    <tr>\n",
       "      <th>0</th>\n",
       "      <td>1.0</td>\n",
       "      <td>Miami-Dade Home Owner's Loan Corporation (HOLC...</td>\n",
       "      <td>University of Richmond's Digital Scholarship Lab</td>\n",
       "      <td>https://services.arcgis.com/jIL9msH9OI208GCb/a...</td>\n",
       "      <td>NaN</td>\n",
       "      <td>University of Richmond's Digital Scholarship Lab</td>\n",
       "      <td>Public Domain</td>\n",
       "      <td>NaN</td>\n",
       "      <td>Use items owned by Esri in ArcGIS Online in co...</td>\n",
       "      <td>United States</td>\n",
       "      <td>...</td>\n",
       "      <td>--</td>\n",
       "      <td>TBD</td>\n",
       "      <td>TBD</td>\n",
       "      <td>2021-08-17</td>\n",
       "      <td>Never</td>\n",
       "      <td>--</td>\n",
       "      <td>OBJECTID|HOLC_grade|city|HOLC|Code|ST |CitySta...</td>\n",
       "      <td>Direct download as ESRI json from ESRI service...</td>\n",
       "      <td>NaN</td>\n",
       "      <td>update to reflect Miami only\\ninclude other ci...</td>\n",
       "    </tr>\n",
       "  </tbody>\n",
       "</table>\n",
       "<p>1 rows × 66 columns</p>\n",
       "</div>"
      ]
     },
     "execution_count": 14,
     "metadata": {},
     "output_type": "execute_result"
    }
   ],
   "execution_count": 14
  },
  {
   "cell_type": "code",
   "id": "175b2e03-63f5-4fc1-a20c-36532809fd71",
   "metadata": {
    "execution": {
     "iopub.execute_input": "2024-05-14T02:42:17.074121Z",
     "iopub.status.busy": "2024-05-14T02:42:17.073834Z",
     "iopub.status.idle": "2024-05-14T02:42:17.563356Z",
     "shell.execute_reply": "2024-05-14T02:42:17.562919Z",
     "shell.execute_reply.started": "2024-05-14T02:42:17.074093Z"
    },
    "ExecuteTime": {
     "end_time": "2024-05-15T18:01:32.283780Z",
     "start_time": "2024-05-15T18:01:31.706892Z"
    }
   },
   "source": [
    "data_dict = {\"variable1\": df1}\n",
    "\n",
    "config = \"\"\"\n",
    "    [DataSource]\n",
    "    mappings=./florida.ttl\n",
    "\"\"\"\n",
    "\n",
    "g_rdflib = morph_kgc.materialize(config, data_dict)\n",
    "\n",
    "print(\"Knowledge graphs triples:\")\n",
    "# for s,p,o in g_rdflib.triples((None, None, None)):\n",
    "#     print(s,p,o)\n",
    "\n",
    "ts = g_rdflib.serialize(format=\"json-ld\")\n",
    "\n",
    "print(ts)\n"
   ],
   "outputs": [
    {
     "name": "stderr",
     "output_type": "stream",
     "text": [
      "INFO | 2024-05-15 13:01:32,066 | 6 mapping rules retrieved.\n",
      "INFO | 2024-05-15 13:01:32,076 | Mapping partition with 6 groups generated.\n",
      "INFO | 2024-05-15 13:01:32,077 | Maximum number of rules within mapping group: 1.\n",
      "INFO | 2024-05-15 13:01:32,077 | Mappings processed in 0.366 seconds.\n",
      "INFO | 2024-05-15 13:01:32,279 | Number of triples generated in total: 6.\n"
     ]
    },
    {
     "name": "stdout",
     "output_type": "stream",
     "text": [
      "Knowledge graphs triples:\n",
      "[\n",
      "  {\n",
      "    \"@id\": \"http://example.com/ns#1.0\",\n",
      "    \"@type\": [\n",
      "      \"https://schema.org/Dataset\"\n",
      "    ],\n",
      "    \"https://schema.org/geoSpatialCoverage\": [\n",
      "      {\n",
      "        \"@id\": \"_:bn1.0\"\n",
      "      }\n",
      "    ],\n",
      "    \"https://schema.org/name\": [\n",
      "      {\n",
      "        \"@value\": \"Miami-Dade Home Owner's Loan Corporation (HOLC) Neighborhood Redlining Grade\"\n",
      "      }\n",
      "    ],\n",
      "    \"https://schema.org/publisher\": [\n",
      "      {\n",
      "        \"@type\": \"http://www.w3.org/2000/01/rdf-schema#Literal\",\n",
      "        \"@value\": \"University of Richmond's Digital Scholarship Lab Public Domain\"\n",
      "      }\n",
      "    ]\n",
      "  },\n",
      "  {\n",
      "    \"@id\": \"_:bn1.0\",\n",
      "    \"@type\": [\n",
      "      \"https://schema.org/Place\"\n",
      "    ],\n",
      "    \"https://schema.org/geo\": [\n",
      "      {\n",
      "        \"@type\": \"http://www.w3.org/2000/01/rdf-schema#Literal\",\n",
      "        \"@value\": \"United States\"\n",
      "      }\n",
      "    ]\n",
      "  }\n",
      "]\n"
     ]
    }
   ],
   "execution_count": 15
  },
  {
   "cell_type": "code",
   "id": "19d07f2c-c2d6-48ea-9a19-78e430805bf0",
   "metadata": {
    "execution": {
     "iopub.execute_input": "2024-05-14T02:42:31.495708Z",
     "iopub.status.busy": "2024-05-14T02:42:31.495502Z",
     "iopub.status.idle": "2024-05-14T02:42:31.523717Z",
     "shell.execute_reply": "2024-05-14T02:42:31.523337Z",
     "shell.execute_reply.started": "2024-05-14T02:42:31.495694Z"
    },
    "ExecuteTime": {
     "end_time": "2024-05-15T18:07:10.783983Z",
     "start_time": "2024-05-15T18:07:10.752179Z"
    }
   },
   "source": [
    "tsld = json.loads(ts)\n",
    "jbutils.show_graph(tsld)"
   ],
   "outputs": [
    {
     "data": {
      "image/svg+xml": "<?xml version=\"1.0\" encoding=\"UTF-8\" standalone=\"no\"?>\n<!DOCTYPE svg PUBLIC \"-//W3C//DTD SVG 1.1//EN\"\n \"http://www.w3.org/Graphics/SVG/1.1/DTD/svg11.dtd\">\n<!-- Generated by graphviz version 8.1.0 (20230707.0739)\n -->\n<!-- Pages: 1 -->\n<svg width=\"799pt\" height=\"206pt\"\n viewBox=\"0.00 0.00 798.75 206.00\" xmlns=\"http://www.w3.org/2000/svg\" xmlns:xlink=\"http://www.w3.org/1999/xlink\">\n<g id=\"graph0\" class=\"graph\" transform=\"scale(1 1) rotate(0) translate(4 202)\">\n<polygon fill=\"white\" stroke=\"none\" points=\"-4,4 -4,-202 794.75,-202 794.75,4 -4,4\"/>\n<!-- Dataset -->\n<g id=\"node1\" class=\"node\">\n<title>Dataset</title>\n<ellipse fill=\"none\" stroke=\"#558855\" cx=\"388.12\" cy=\"-180\" rx=\"50.16\" ry=\"18\"/>\n<text text-anchor=\"middle\" x=\"388.12\" y=\"-175.32\" font-family=\"Times,serif\" font-size=\"14.00\">Dataset</text>\n</g>\n<!-- 1.0 -->\n<g id=\"node2\" class=\"node\">\n<title>1.0</title>\n<ellipse fill=\"none\" stroke=\"black\" cx=\"27.01\" cy=\"-99\" rx=\"27.01\" ry=\"18\"/>\n<text text-anchor=\"middle\" x=\"27.01\" y=\"-94.33\" font-family=\"Times,serif\" font-size=\"14.00\">1.0</text>\n</g>\n<!-- 1.0&#45;&gt;Dataset -->\n<g id=\"edge1\" class=\"edge\">\n<title>1.0&#45;&gt;Dataset</title>\n<path fill=\"none\" stroke=\"black\" d=\"M43.05,-113.75C51.02,-120.7 61.36,-128.46 72.01,-133 155.46,-168.57 261.32,-177.86 326.62,-179.93\"/>\n<polygon fill=\"black\" stroke=\"black\" points=\"326.45,-183.46 336.54,-180.23 326.63,-176.46 326.45,-183.46\"/>\n<text text-anchor=\"middle\" x=\"143.64\" y=\"-173.95\" font-family=\"Times,serif\" font-size=\"14.00\">type</text>\n</g>\n<!-- _ -->\n<g id=\"node3\" class=\"node\">\n<title>_</title>\n<ellipse fill=\"none\" stroke=\"#558855\" cx=\"388.12\" cy=\"-126\" rx=\"27\" ry=\"18\"/>\n<text text-anchor=\"middle\" x=\"388.12\" y=\"-121.33\" font-family=\"Times,serif\" font-size=\"14.00\">_</text>\n</g>\n<!-- 1.0&#45;&gt;_ -->\n<g id=\"edge2\" class=\"edge\">\n<title>1.0&#45;&gt;_</title>\n<path fill=\"none\" stroke=\"black\" d=\"M54.12,-100.96C117.09,-105.7 277.43,-117.75 350.2,-123.22\"/>\n<polygon fill=\"black\" stroke=\"black\" points=\"349.86,-126.78 360.1,-124.04 350.39,-119.8 349.86,-126.78\"/>\n<text text-anchor=\"middle\" x=\"143.64\" y=\"-115.95\" font-family=\"Times,serif\" font-size=\"14.00\">geoSpatialCoverage</text>\n</g>\n<!-- &quot;Miami&#45;Dade Home Owne...&quot; -->\n<g id=\"node4\" class=\"node\">\n<title>&quot;Miami&#45;Dade Home Owne...&quot;</title>\n<ellipse fill=\"none\" stroke=\"black\" stroke-width=\"0\" cx=\"388.12\" cy=\"-72\" rx=\"154.85\" ry=\"18\"/>\n<text text-anchor=\"middle\" x=\"388.12\" y=\"-67.33\" font-family=\"Times,serif\" font-size=\"14.00\">&quot;Miami&#45;Dade Home Owne...&quot;</text>\n</g>\n<!-- 1.0&#45;&gt;&quot;Miami&#45;Dade Home Owne...&quot; -->\n<g id=\"edge3\" class=\"edge\">\n<title>1.0&#45;&gt;&quot;Miami&#45;Dade Home Owne...&quot;</title>\n<path fill=\"none\" stroke=\"black\" d=\"M48.99,-88.47C56.12,-85.39 64.25,-82.41 72.01,-80.75 124.34,-69.57 182.65,-65.66 234.75,-65.09\"/>\n<polygon fill=\"black\" stroke=\"black\" points=\"234.45,-68.58 244.43,-65.01 234.4,-61.58 234.45,-68.58\"/>\n<text text-anchor=\"middle\" x=\"143.64\" y=\"-84.95\" font-family=\"Times,serif\" font-size=\"14.00\">name</text>\n</g>\n<!-- &quot;University of Richmo...&quot; -->\n<g id=\"node5\" class=\"node\">\n<title>&quot;University of Richmo...&quot;</title>\n<ellipse fill=\"none\" stroke=\"black\" stroke-width=\"0\" cx=\"388.12\" cy=\"-18\" rx=\"135.91\" ry=\"18\"/>\n<text text-anchor=\"middle\" x=\"388.12\" y=\"-13.32\" font-family=\"Times,serif\" font-size=\"14.00\">&quot;University of Richmo...&quot;</text>\n</g>\n<!-- 1.0&#45;&gt;&quot;University of Richmo...&quot; -->\n<g id=\"edge4\" class=\"edge\">\n<title>1.0&#45;&gt;&quot;University of Richmo...&quot;</title>\n<path fill=\"none\" stroke=\"black\" d=\"M36.89,-81.89C44.42,-69.29 56.47,-52.98 72.01,-44.75 132.44,-12.75 208.65,-5.56 270.99,-6.6\"/>\n<polygon fill=\"black\" stroke=\"black\" points=\"270.58,-10.12 280.66,-6.87 270.75,-3.12 270.58,-10.12\"/>\n<text text-anchor=\"middle\" x=\"143.64\" y=\"-48.95\" font-family=\"Times,serif\" font-size=\"14.00\">publisher</text>\n</g>\n<!-- Place -->\n<g id=\"node6\" class=\"node\">\n<title>Place</title>\n<ellipse fill=\"none\" stroke=\"#558855\" cx=\"700.61\" cy=\"-153\" rx=\"38.06\" ry=\"18\"/>\n<text text-anchor=\"middle\" x=\"700.61\" y=\"-148.32\" font-family=\"Times,serif\" font-size=\"14.00\">Place</text>\n</g>\n<!-- _&#45;&gt;Place -->\n<g id=\"edge5\" class=\"edge\">\n<title>_&#45;&gt;Place</title>\n<path fill=\"none\" stroke=\"black\" d=\"M415.32,-128.28C467.67,-132.83 585.84,-143.11 652.16,-148.87\"/>\n<polygon fill=\"black\" stroke=\"black\" points=\"651.47,-152.41 661.74,-149.79 652.08,-145.44 651.47,-152.41\"/>\n<text text-anchor=\"middle\" x=\"576.72\" y=\"-146.95\" font-family=\"Times,serif\" font-size=\"14.00\">type</text>\n</g>\n<!-- &quot;United States&quot; -->\n<g id=\"node7\" class=\"node\">\n<title>&quot;United States&quot;</title>\n<ellipse fill=\"none\" stroke=\"black\" stroke-width=\"0\" cx=\"700.61\" cy=\"-99\" rx=\"90.14\" ry=\"18\"/>\n<text text-anchor=\"middle\" x=\"700.61\" y=\"-94.33\" font-family=\"Times,serif\" font-size=\"14.00\">&quot;United States&quot;</text>\n</g>\n<!-- _&#45;&gt;&quot;United States&quot; -->\n<g id=\"edge6\" class=\"edge\">\n<title>_&#45;&gt;&quot;United States&quot;</title>\n<path fill=\"none\" stroke=\"black\" d=\"M415.32,-123.72C457.21,-120.08 541.26,-112.77 607.15,-107.04\"/>\n<polygon fill=\"black\" stroke=\"black\" points=\"607.32,-110.45 616.98,-106.1 606.72,-103.48 607.32,-110.45\"/>\n<text text-anchor=\"middle\" x=\"576.72\" y=\"-113.95\" font-family=\"Times,serif\" font-size=\"14.00\">geo</text>\n</g>\n</g>\n</svg>\n",
      "text/plain": [
       "<graphviz.graphs.Digraph at 0x7ff80f7f5210>"
      ]
     },
     "execution_count": 18,
     "metadata": {},
     "output_type": "execute_result"
    }
   ],
   "execution_count": 18
  },
  {
   "cell_type": "code",
   "execution_count": null,
   "id": "be6cacdd-f8a7-4d76-907b-f9461718e654",
   "metadata": {},
   "outputs": [],
   "source": []
  },
  {
   "cell_type": "code",
   "execution_count": null,
   "id": "a8539ede-f0ad-4f9a-ad93-f7e60a36b43d",
   "metadata": {},
   "outputs": [],
   "source": []
  }
 ],
 "metadata": {
  "kernelspec": {
   "display_name": "Python 3 (ipykernel)",
   "language": "python",
   "name": "python3"
  },
  "language_info": {
   "codemirror_mode": {
    "name": "ipython",
    "version": 3
   },
   "file_extension": ".py",
   "mimetype": "text/x-python",
   "name": "python",
   "nbconvert_exporter": "python",
   "pygments_lexer": "ipython3",
   "version": "3.10.12"
  }
 },
 "nbformat": 4,
 "nbformat_minor": 5
}
