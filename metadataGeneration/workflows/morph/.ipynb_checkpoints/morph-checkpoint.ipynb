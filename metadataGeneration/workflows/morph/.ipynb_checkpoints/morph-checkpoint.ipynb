{
 "cells": [
  {
   "cell_type": "markdown",
   "id": "7aa296d4-be4e-4462-87b7-bd84a9dd289a",
   "metadata": {},
   "source": [
    "# CSV to JSON-LD via Morph\n",
    "\n",
    "ref: https://github.com/morph-kgc/morph-kgc/tree/main/examples "
   ]
  },
  {
   "cell_type": "markdown",
   "id": "b48e69a7-7984-43f0-b9ed-17ec67642766",
   "metadata": {},
   "source": [
    "## Imports"
   ]
  },
  {
   "cell_type": "code",
   "execution_count": 7,
   "id": "1a0dc31f-f030-454f-b366-700508677c9f",
   "metadata": {
    "ExecuteTime": {
     "end_time": "2024-05-17T13:03:10.117145Z",
     "start_time": "2024-05-17T13:03:09.547608Z"
    },
    "execution": {
     "iopub.execute_input": "2024-05-20T12:34:28.820836Z",
     "iopub.status.busy": "2024-05-20T12:34:28.820670Z",
     "iopub.status.idle": "2024-05-20T12:34:28.823493Z",
     "shell.execute_reply": "2024-05-20T12:34:28.823029Z",
     "shell.execute_reply.started": "2024-05-20T12:34:28.820823Z"
    }
   },
   "outputs": [],
   "source": [
    "import morph_kgc\n",
    "import pandas as pd\n",
    "import pygwalker as pyg\n",
    "import json\n",
    "import jbutils\n",
    "import io\n",
    "import pyoxigraph\n",
    "from pygraphml import GraphMLParser\n",
    "from pygraphml import Graph as GraphML\n",
    "from hashlib import sha256\n",
    "import networkx as nx\n",
    "from ipysigma import Sigma"
   ]
  },
  {
   "cell_type": "markdown",
   "id": "80febbcf-9e41-4ff2-a4a7-635f324e373c",
   "metadata": {
    "execution": {
     "iopub.execute_input": "2024-05-17T07:42:02.132272Z",
     "iopub.status.busy": "2024-05-17T07:42:02.131979Z",
     "iopub.status.idle": "2024-05-17T07:42:02.134481Z",
     "shell.execute_reply": "2024-05-17T07:42:02.134089Z",
     "shell.execute_reply.started": "2024-05-17T07:42:02.132256Z"
    }
   },
   "source": [
    "## Load Florida Data "
   ]
  },
  {
   "cell_type": "code",
   "execution_count": 8,
   "id": "1d8a080b-f589-4d5c-a107-ff27898a6ad1",
   "metadata": {
    "ExecuteTime": {
     "end_time": "2024-05-17T13:03:11.562499Z",
     "start_time": "2024-05-17T13:03:11.553224Z"
    },
    "execution": {
     "iopub.execute_input": "2024-05-20T12:34:30.077596Z",
     "iopub.status.busy": "2024-05-20T12:34:30.077434Z",
     "iopub.status.idle": "2024-05-20T12:34:30.084839Z",
     "shell.execute_reply": "2024-05-20T12:34:30.084374Z",
     "shell.execute_reply.started": "2024-05-20T12:34:30.077583Z"
    },
    "tags": []
   },
   "outputs": [],
   "source": [
    "df = pd.read_csv(\"../inputs/GDSC_metadata.csv\")"
   ]
  },
  {
   "cell_type": "code",
   "execution_count": 9,
   "id": "ce3a215b-ab6c-4f6f-81c9-4e8a6f2b776d",
   "metadata": {
    "ExecuteTime": {
     "end_time": "2024-05-17T13:03:11.900913Z",
     "start_time": "2024-05-17T13:03:11.898304Z"
    },
    "execution": {
     "iopub.execute_input": "2024-05-20T12:34:30.806150Z",
     "iopub.status.busy": "2024-05-20T12:34:30.805935Z",
     "iopub.status.idle": "2024-05-20T12:34:30.808874Z",
     "shell.execute_reply": "2024-05-20T12:34:30.808556Z",
     "shell.execute_reply.started": "2024-05-20T12:34:30.806136Z"
    },
    "tags": []
   },
   "outputs": [
    {
     "name": "stdout",
     "output_type": "stream",
     "text": [
      "['ID' 'Title' 'Creator' 'Url' 'DOI' 'Publisher' 'Rights' 'License'\n",
      " 'Restrictions' 'Coverage' 'Relations' 'Type' 'Date' 'Description'\n",
      " 'Provenance' 'Subject' 'Language' 'Structure' 'Geometry' 'Bands'\n",
      " 'Pixel Dimension' 'EPSG' 'Scale' 'Extent' 'Lineage' 'Process Step'\n",
      " 'Processor' 'Point of Contact' 'Data Level' 'Label' 'Values' 'Attributes'\n",
      " 'Color Ramp' 'Tile Zoom Levels' 'Collections' 'Analytic Function'\n",
      " 'Analytic EPSG' 'Thumbnail' 'Service Definition' 'Sponsor' 'Status'\n",
      " 'Rights Statement' 'Disclaimer' 'Service' 'Source' 'Parameters'\n",
      " 'File Name' 'Extension' 'Download' 'Table Name' 'Format' 'Dependency'\n",
      " 'Custom ETL' 'Custom Parameters' 'up' 'podID' 'Index Fields' 'Bash ETL'\n",
      " 'SQL Transform' 'Last Updated' 'Update Frequency' 'Last Accessed'\n",
      " 'Columns' 'ETL Documentation' 'Notes' 'TODO']\n"
     ]
    }
   ],
   "source": [
    "print(df.columns.values)"
   ]
  },
  {
   "cell_type": "code",
   "execution_count": 10,
   "id": "301f57ff-2bcd-4d81-ae4d-33535df69098",
   "metadata": {
    "execution": {
     "iopub.execute_input": "2024-05-20T12:34:32.177015Z",
     "iopub.status.busy": "2024-05-20T12:34:32.176830Z",
     "iopub.status.idle": "2024-05-20T12:34:32.353737Z",
     "shell.execute_reply": "2024-05-20T12:34:32.353268Z",
     "shell.execute_reply.started": "2024-05-20T12:34:32.177002Z"
    }
   },
   "outputs": [
    {
     "data": {
      "application/vnd.jupyter.widget-view+json": {
       "model_id": "4c6e2701380a444b8bbf8e6e56f9a680",
       "version_major": 2,
       "version_minor": 0
      },
      "text/plain": [
       "Box(children=(HTML(value='<div id=\"ifr-pyg-000618e1ec585a4eEaufFOKrmjzs4wI2\" style=\"height: auto\">\\n    <head>…"
      ]
     },
     "metadata": {},
     "output_type": "display_data"
    },
    {
     "data": {
      "text/html": [],
      "text/plain": [
       "<IPython.core.display.HTML object>"
      ]
     },
     "metadata": {},
     "output_type": "display_data"
    }
   ],
   "source": [
    "walker = pyg.walk(df)"
   ]
  },
  {
   "cell_type": "code",
   "execution_count": 5,
   "id": "fbe4d96c-e0af-404d-82a4-e662726dcc5f",
   "metadata": {
    "ExecuteTime": {
     "end_time": "2024-05-17T13:03:21.384921Z",
     "start_time": "2024-05-17T13:03:21.368758Z"
    },
    "execution": {
     "iopub.execute_input": "2024-05-20T12:31:37.610872Z",
     "iopub.status.busy": "2024-05-20T12:31:37.610669Z",
     "iopub.status.idle": "2024-05-20T12:31:37.622177Z",
     "shell.execute_reply": "2024-05-20T12:31:37.621827Z",
     "shell.execute_reply.started": "2024-05-20T12:31:37.610859Z"
    },
    "tags": []
   },
   "outputs": [
    {
     "data": {
      "text/html": [
       "<div>\n",
       "<style scoped>\n",
       "    .dataframe tbody tr th:only-of-type {\n",
       "        vertical-align: middle;\n",
       "    }\n",
       "\n",
       "    .dataframe tbody tr th {\n",
       "        vertical-align: top;\n",
       "    }\n",
       "\n",
       "    .dataframe thead th {\n",
       "        text-align: right;\n",
       "    }\n",
       "</style>\n",
       "<table border=\"1\" class=\"dataframe\">\n",
       "  <thead>\n",
       "    <tr style=\"text-align: right;\">\n",
       "      <th></th>\n",
       "      <th>ID</th>\n",
       "      <th>Title</th>\n",
       "      <th>Creator</th>\n",
       "      <th>Url</th>\n",
       "      <th>DOI</th>\n",
       "      <th>Publisher</th>\n",
       "      <th>Rights</th>\n",
       "      <th>License</th>\n",
       "      <th>Restrictions</th>\n",
       "      <th>Coverage</th>\n",
       "      <th>...</th>\n",
       "      <th>Index Fields</th>\n",
       "      <th>Bash ETL</th>\n",
       "      <th>SQL Transform</th>\n",
       "      <th>Last Updated</th>\n",
       "      <th>Update Frequency</th>\n",
       "      <th>Last Accessed</th>\n",
       "      <th>Columns</th>\n",
       "      <th>ETL Documentation</th>\n",
       "      <th>Notes</th>\n",
       "      <th>TODO</th>\n",
       "    </tr>\n",
       "  </thead>\n",
       "  <tbody>\n",
       "    <tr>\n",
       "      <th>0</th>\n",
       "      <td>1.0</td>\n",
       "      <td>Miami-Dade Home Owner's Loan Corporation (HOLC...</td>\n",
       "      <td>University of Richmond's Digital Scholarship Lab</td>\n",
       "      <td>https://services.arcgis.com/jIL9msH9OI208GCb/a...</td>\n",
       "      <td>NaN</td>\n",
       "      <td>University of Richmond's Digital Scholarship Lab</td>\n",
       "      <td>Public Domain</td>\n",
       "      <td>NaN</td>\n",
       "      <td>Use items owned by Esri in ArcGIS Online in co...</td>\n",
       "      <td>United States</td>\n",
       "      <td>...</td>\n",
       "      <td>--</td>\n",
       "      <td>TBD</td>\n",
       "      <td>TBD</td>\n",
       "      <td>2021-08-17</td>\n",
       "      <td>Never</td>\n",
       "      <td>--</td>\n",
       "      <td>OBJECTID|HOLC_grade|city|HOLC|Code|ST |CitySta...</td>\n",
       "      <td>Direct download as ESRI json from ESRI service...</td>\n",
       "      <td>NaN</td>\n",
       "      <td>update to reflect Miami only\\ninclude other ci...</td>\n",
       "    </tr>\n",
       "    <tr>\n",
       "      <th>1</th>\n",
       "      <td>2.0</td>\n",
       "      <td>2019 Florida Census Tracts</td>\n",
       "      <td>Department of Commerce|U.S. Census Bureau|Geog...</td>\n",
       "      <td>https://www.census.gov/geographies/mapping-fil...</td>\n",
       "      <td>NaN</td>\n",
       "      <td>Department of Commerce|U.S. Census Bureau|Geog...</td>\n",
       "      <td>Public Domain</td>\n",
       "      <td>This Software was created by U.S. Government e...</td>\n",
       "      <td>NaN</td>\n",
       "      <td>United States|Florida</td>\n",
       "      <td>...</td>\n",
       "      <td>--</td>\n",
       "      <td>TBD</td>\n",
       "      <td>TBD</td>\n",
       "      <td>2021-09-22</td>\n",
       "      <td>Never</td>\n",
       "      <td>--</td>\n",
       "      <td>STATEFP(string,2)|COUNTYFP(string,3)|TRACTCE(s...</td>\n",
       "      <td>ogr2ogr shapefile to postGIS</td>\n",
       "      <td>NaN</td>\n",
       "      <td>NaN</td>\n",
       "    </tr>\n",
       "    <tr>\n",
       "      <th>2</th>\n",
       "      <td>3.0</td>\n",
       "      <td>2019 Miami-Dade ACS 5 Year Estimates - Tract L...</td>\n",
       "      <td>Department of Commerce|U.S. Census Bureau</td>\n",
       "      <td>https://www.census.gov/data/developers/data-se...</td>\n",
       "      <td>NaN</td>\n",
       "      <td>Department of Commerce|U.S. Census Bureau</td>\n",
       "      <td>Public Domain</td>\n",
       "      <td>This Software was created by U.S. Government e...</td>\n",
       "      <td>NaN</td>\n",
       "      <td>United States|Florida</td>\n",
       "      <td>...</td>\n",
       "      <td>--</td>\n",
       "      <td>TBD</td>\n",
       "      <td>TBD</td>\n",
       "      <td>2021-06-02</td>\n",
       "      <td>Never</td>\n",
       "      <td>--</td>\n",
       "      <td>https://api.census.gov/data/2019/acs/acs5/vari...</td>\n",
       "      <td>The custom function acs_customgregate is given...</td>\n",
       "      <td>please use this as a template for all ACS esti...</td>\n",
       "      <td>NaN</td>\n",
       "    </tr>\n",
       "    <tr>\n",
       "      <th>3</th>\n",
       "      <td>4.0</td>\n",
       "      <td>2019 Florida ACS 5 Year Estimates - Tract Leve...</td>\n",
       "      <td>Department of Commerce|U.S. Census Bureau</td>\n",
       "      <td>https://www.census.gov/data/developers/data-se...</td>\n",
       "      <td>NaN</td>\n",
       "      <td>Department of Commerce|U.S. Census Bureau</td>\n",
       "      <td>Public Domain</td>\n",
       "      <td>This Software was created by U.S. Government e...</td>\n",
       "      <td>NaN</td>\n",
       "      <td>United States|Florida</td>\n",
       "      <td>...</td>\n",
       "      <td>--</td>\n",
       "      <td>TBD</td>\n",
       "      <td>TBD</td>\n",
       "      <td>2022-11-22</td>\n",
       "      <td>Never</td>\n",
       "      <td>--</td>\n",
       "      <td>https://api.census.gov/data/2019/acs/acs5/vari...</td>\n",
       "      <td>The custom function acs_customgregate is given...</td>\n",
       "      <td>update using 2019 DVMT ACS as model</td>\n",
       "      <td>NaN</td>\n",
       "    </tr>\n",
       "    <tr>\n",
       "      <th>4</th>\n",
       "      <td>5.0</td>\n",
       "      <td>2020 Florida Census Tracts - Florida</td>\n",
       "      <td>Department of Commerce|U.S. Census Bureau|Geog...</td>\n",
       "      <td>https://www.census.gov/geographies/mapping-fil...</td>\n",
       "      <td>NaN</td>\n",
       "      <td>Department of Commerce|U.S. Census Bureau|Geog...</td>\n",
       "      <td>Public Domain</td>\n",
       "      <td>This Software was created by U.S. Government e...</td>\n",
       "      <td>NaN</td>\n",
       "      <td>United States|Florida</td>\n",
       "      <td>...</td>\n",
       "      <td>--</td>\n",
       "      <td>TBD</td>\n",
       "      <td>TBD</td>\n",
       "      <td>2021-09-22</td>\n",
       "      <td>Never</td>\n",
       "      <td>--</td>\n",
       "      <td>STATEFP(string,2)|COUNTYFP(string,3)|TRACTCE(s...</td>\n",
       "      <td>ogr2ogr shapefile to postGIS</td>\n",
       "      <td>NaN</td>\n",
       "      <td>NaN</td>\n",
       "    </tr>\n",
       "  </tbody>\n",
       "</table>\n",
       "<p>5 rows × 66 columns</p>\n",
       "</div>"
      ],
      "text/plain": [
       "    ID                                              Title  \\\n",
       "0  1.0  Miami-Dade Home Owner's Loan Corporation (HOLC...   \n",
       "1  2.0                         2019 Florida Census Tracts   \n",
       "2  3.0  2019 Miami-Dade ACS 5 Year Estimates - Tract L...   \n",
       "3  4.0  2019 Florida ACS 5 Year Estimates - Tract Leve...   \n",
       "4  5.0               2020 Florida Census Tracts - Florida   \n",
       "\n",
       "                                             Creator  \\\n",
       "0   University of Richmond's Digital Scholarship Lab   \n",
       "1  Department of Commerce|U.S. Census Bureau|Geog...   \n",
       "2          Department of Commerce|U.S. Census Bureau   \n",
       "3          Department of Commerce|U.S. Census Bureau   \n",
       "4  Department of Commerce|U.S. Census Bureau|Geog...   \n",
       "\n",
       "                                                 Url  DOI  \\\n",
       "0  https://services.arcgis.com/jIL9msH9OI208GCb/a...  NaN   \n",
       "1  https://www.census.gov/geographies/mapping-fil...  NaN   \n",
       "2  https://www.census.gov/data/developers/data-se...  NaN   \n",
       "3  https://www.census.gov/data/developers/data-se...  NaN   \n",
       "4  https://www.census.gov/geographies/mapping-fil...  NaN   \n",
       "\n",
       "                                           Publisher         Rights  \\\n",
       "0   University of Richmond's Digital Scholarship Lab  Public Domain   \n",
       "1  Department of Commerce|U.S. Census Bureau|Geog...  Public Domain   \n",
       "2          Department of Commerce|U.S. Census Bureau  Public Domain   \n",
       "3          Department of Commerce|U.S. Census Bureau  Public Domain   \n",
       "4  Department of Commerce|U.S. Census Bureau|Geog...  Public Domain   \n",
       "\n",
       "                                             License  \\\n",
       "0                                                NaN   \n",
       "1  This Software was created by U.S. Government e...   \n",
       "2  This Software was created by U.S. Government e...   \n",
       "3  This Software was created by U.S. Government e...   \n",
       "4  This Software was created by U.S. Government e...   \n",
       "\n",
       "                                        Restrictions               Coverage  \\\n",
       "0  Use items owned by Esri in ArcGIS Online in co...          United States   \n",
       "1                                                NaN  United States|Florida   \n",
       "2                                                NaN  United States|Florida   \n",
       "3                                                NaN  United States|Florida   \n",
       "4                                                NaN  United States|Florida   \n",
       "\n",
       "   ... Index Fields Bash ETL SQL Transform Last Updated Update Frequency  \\\n",
       "0  ...           --      TBD           TBD   2021-08-17            Never   \n",
       "1  ...           --      TBD           TBD   2021-09-22            Never   \n",
       "2  ...           --      TBD           TBD   2021-06-02            Never   \n",
       "3  ...           --      TBD           TBD   2022-11-22            Never   \n",
       "4  ...           --      TBD           TBD   2021-09-22            Never   \n",
       "\n",
       "  Last Accessed                                            Columns  \\\n",
       "0            --  OBJECTID|HOLC_grade|city|HOLC|Code|ST |CitySta...   \n",
       "1            --  STATEFP(string,2)|COUNTYFP(string,3)|TRACTCE(s...   \n",
       "2            --  https://api.census.gov/data/2019/acs/acs5/vari...   \n",
       "3            --  https://api.census.gov/data/2019/acs/acs5/vari...   \n",
       "4            --  STATEFP(string,2)|COUNTYFP(string,3)|TRACTCE(s...   \n",
       "\n",
       "                                   ETL Documentation  \\\n",
       "0  Direct download as ESRI json from ESRI service...   \n",
       "1                       ogr2ogr shapefile to postGIS   \n",
       "2  The custom function acs_customgregate is given...   \n",
       "3  The custom function acs_customgregate is given...   \n",
       "4                       ogr2ogr shapefile to postGIS   \n",
       "\n",
       "                                               Notes  \\\n",
       "0                                                NaN   \n",
       "1                                                NaN   \n",
       "2  please use this as a template for all ACS esti...   \n",
       "3                update using 2019 DVMT ACS as model   \n",
       "4                                                NaN   \n",
       "\n",
       "                                                TODO  \n",
       "0  update to reflect Miami only\\ninclude other ci...  \n",
       "1                                                NaN  \n",
       "2                                                NaN  \n",
       "3                                                NaN  \n",
       "4                                                NaN  \n",
       "\n",
       "[5 rows x 66 columns]"
      ]
     },
     "execution_count": 5,
     "metadata": {},
     "output_type": "execute_result"
    }
   ],
   "source": [
    "df.head(5)"
   ]
  },
  {
   "cell_type": "code",
   "execution_count": 26,
   "id": "75bc8e50-a37e-4753-8956-dc2f5c31afee",
   "metadata": {
    "ExecuteTime": {
     "end_time": "2024-05-17T13:03:34.374677Z",
     "start_time": "2024-05-17T13:03:34.371790Z"
    },
    "execution": {
     "iopub.execute_input": "2024-05-17T13:48:17.679563Z",
     "iopub.status.busy": "2024-05-17T13:48:17.679317Z",
     "iopub.status.idle": "2024-05-17T13:48:17.683057Z",
     "shell.execute_reply": "2024-05-17T13:48:17.682606Z",
     "shell.execute_reply.started": "2024-05-17T13:48:17.679548Z"
    }
   },
   "outputs": [
    {
     "name": "stdout",
     "output_type": "stream",
     "text": [
      "Coverage\n",
      "United States|Florida|Miami Dade County    31\n",
      "United States|Florida                      17\n",
      "Miami-Dade County                          17\n",
      "United States                              14\n",
      "Florida                                     5\n",
      "Southeast                                   5\n",
      "Trinidad and Tobago                         4\n",
      "Miami-Dade County|Florida                   3\n",
      "Colombia|Bogota                             3\n",
      "--                                          2\n",
      "United States|Florida|Miami-Dade County     1\n",
      "Global                                      1\n",
      "City of Miami                               1\n",
      "USA                                         1\n",
      "Name: count, dtype: int64\n"
     ]
    }
   ],
   "source": [
    "unique_counts = df['Coverage'].value_counts()\n",
    "print(unique_counts)"
   ]
  },
  {
   "cell_type": "markdown",
   "id": "1215e544-23cd-4c58-9e9a-dd81b6c2d8cb",
   "metadata": {},
   "source": [
    "## Test Mapping on 1 row"
   ]
  },
  {
   "cell_type": "code",
   "execution_count": 27,
   "id": "78e9b5a0-8030-453b-be6e-f0b63f76be50",
   "metadata": {
    "ExecuteTime": {
     "end_time": "2024-05-17T13:04:59.842106Z",
     "start_time": "2024-05-17T13:04:59.839516Z"
    },
    "execution": {
     "iopub.execute_input": "2024-05-17T13:48:18.110867Z",
     "iopub.status.busy": "2024-05-17T13:48:18.110567Z",
     "iopub.status.idle": "2024-05-17T13:48:18.113483Z",
     "shell.execute_reply": "2024-05-17T13:48:18.113044Z",
     "shell.execute_reply.started": "2024-05-17T13:48:18.110852Z"
    }
   },
   "outputs": [],
   "source": [
    "df1 = df.head(1)"
   ]
  },
  {
   "cell_type": "code",
   "execution_count": 28,
   "id": "dc785bb8-cd68-4ee4-976e-6445d8d2b5b9",
   "metadata": {
    "ExecuteTime": {
     "end_time": "2024-05-17T13:05:00.269021Z",
     "start_time": "2024-05-17T13:05:00.259038Z"
    },
    "execution": {
     "iopub.execute_input": "2024-05-17T13:48:18.352676Z",
     "iopub.status.busy": "2024-05-17T13:48:18.352407Z",
     "iopub.status.idle": "2024-05-17T13:48:18.362446Z",
     "shell.execute_reply": "2024-05-17T13:48:18.362090Z",
     "shell.execute_reply.started": "2024-05-17T13:48:18.352661Z"
    }
   },
   "outputs": [
    {
     "data": {
      "text/html": [
       "<div>\n",
       "<style scoped>\n",
       "    .dataframe tbody tr th:only-of-type {\n",
       "        vertical-align: middle;\n",
       "    }\n",
       "\n",
       "    .dataframe tbody tr th {\n",
       "        vertical-align: top;\n",
       "    }\n",
       "\n",
       "    .dataframe thead th {\n",
       "        text-align: right;\n",
       "    }\n",
       "</style>\n",
       "<table border=\"1\" class=\"dataframe\">\n",
       "  <thead>\n",
       "    <tr style=\"text-align: right;\">\n",
       "      <th></th>\n",
       "      <th>ID</th>\n",
       "      <th>Title</th>\n",
       "      <th>Creator</th>\n",
       "      <th>Url</th>\n",
       "      <th>DOI</th>\n",
       "      <th>Publisher</th>\n",
       "      <th>Rights</th>\n",
       "      <th>License</th>\n",
       "      <th>Restrictions</th>\n",
       "      <th>Coverage</th>\n",
       "      <th>...</th>\n",
       "      <th>Index Fields</th>\n",
       "      <th>Bash ETL</th>\n",
       "      <th>SQL Transform</th>\n",
       "      <th>Last Updated</th>\n",
       "      <th>Update Frequency</th>\n",
       "      <th>Last Accessed</th>\n",
       "      <th>Columns</th>\n",
       "      <th>ETL Documentation</th>\n",
       "      <th>Notes</th>\n",
       "      <th>TODO</th>\n",
       "    </tr>\n",
       "  </thead>\n",
       "  <tbody>\n",
       "    <tr>\n",
       "      <th>0</th>\n",
       "      <td>1.0</td>\n",
       "      <td>Miami-Dade Home Owner's Loan Corporation (HOLC...</td>\n",
       "      <td>University of Richmond's Digital Scholarship Lab</td>\n",
       "      <td>https://services.arcgis.com/jIL9msH9OI208GCb/a...</td>\n",
       "      <td>NaN</td>\n",
       "      <td>University of Richmond's Digital Scholarship Lab</td>\n",
       "      <td>Public Domain</td>\n",
       "      <td>NaN</td>\n",
       "      <td>Use items owned by Esri in ArcGIS Online in co...</td>\n",
       "      <td>United States</td>\n",
       "      <td>...</td>\n",
       "      <td>--</td>\n",
       "      <td>TBD</td>\n",
       "      <td>TBD</td>\n",
       "      <td>2021-08-17</td>\n",
       "      <td>Never</td>\n",
       "      <td>--</td>\n",
       "      <td>OBJECTID|HOLC_grade|city|HOLC|Code|ST |CitySta...</td>\n",
       "      <td>Direct download as ESRI json from ESRI service...</td>\n",
       "      <td>NaN</td>\n",
       "      <td>update to reflect Miami only\\ninclude other ci...</td>\n",
       "    </tr>\n",
       "  </tbody>\n",
       "</table>\n",
       "<p>1 rows × 66 columns</p>\n",
       "</div>"
      ],
      "text/plain": [
       "    ID                                              Title  \\\n",
       "0  1.0  Miami-Dade Home Owner's Loan Corporation (HOLC...   \n",
       "\n",
       "                                            Creator  \\\n",
       "0  University of Richmond's Digital Scholarship Lab   \n",
       "\n",
       "                                                 Url  DOI  \\\n",
       "0  https://services.arcgis.com/jIL9msH9OI208GCb/a...  NaN   \n",
       "\n",
       "                                          Publisher         Rights License  \\\n",
       "0  University of Richmond's Digital Scholarship Lab  Public Domain     NaN   \n",
       "\n",
       "                                        Restrictions       Coverage  ...  \\\n",
       "0  Use items owned by Esri in ArcGIS Online in co...  United States  ...   \n",
       "\n",
       "  Index Fields Bash ETL SQL Transform Last Updated Update Frequency  \\\n",
       "0           --      TBD           TBD   2021-08-17            Never   \n",
       "\n",
       "  Last Accessed                                            Columns  \\\n",
       "0            --  OBJECTID|HOLC_grade|city|HOLC|Code|ST |CitySta...   \n",
       "\n",
       "                                   ETL Documentation Notes  \\\n",
       "0  Direct download as ESRI json from ESRI service...   NaN   \n",
       "\n",
       "                                                TODO  \n",
       "0  update to reflect Miami only\\ninclude other ci...  \n",
       "\n",
       "[1 rows x 66 columns]"
      ]
     },
     "execution_count": 28,
     "metadata": {},
     "output_type": "execute_result"
    }
   ],
   "source": [
    "df1.head()"
   ]
  },
  {
   "cell_type": "code",
   "execution_count": 43,
   "id": "175b2e03-63f5-4fc1-a20c-36532809fd71",
   "metadata": {
    "ExecuteTime": {
     "end_time": "2024-05-17T13:05:04.405401Z",
     "start_time": "2024-05-17T13:05:03.720424Z"
    },
    "execution": {
     "iopub.execute_input": "2024-05-17T14:23:29.526579Z",
     "iopub.status.busy": "2024-05-17T14:23:29.526237Z",
     "iopub.status.idle": "2024-05-17T14:23:30.249344Z",
     "shell.execute_reply": "2024-05-17T14:23:30.248869Z",
     "shell.execute_reply.started": "2024-05-17T14:23:29.526564Z"
    }
   },
   "outputs": [],
   "source": [
    "%%capture\n",
    "data_dict = {\"variable1\": df1}\n",
    "\n",
    "config = \"\"\"\n",
    "    [DataSource]\n",
    "    mappings=./florida.ttl\n",
    "\"\"\"\n",
    "\n",
    "g_rdflib = morph_kgc.materialize(config, data_dict)\n",
    "ts = g_rdflib.serialize(format=\"json-ld\")"
   ]
  },
  {
   "cell_type": "markdown",
   "id": "80427053-651c-4d86-9d37-07f3e000d2bb",
   "metadata": {},
   "source": [
    "### View results\n",
    "\n",
    "We can load this to https://validator.schema.org or https://json-ld.org/playground\n"
   ]
  },
  {
   "cell_type": "code",
   "execution_count": 44,
   "id": "d3599309-f0cf-434f-a4a0-1db07f1cc6c3",
   "metadata": {
    "ExecuteTime": {
     "end_time": "2024-05-17T13:05:07.711371Z",
     "start_time": "2024-05-17T13:05:07.708817Z"
    },
    "execution": {
     "iopub.execute_input": "2024-05-17T14:23:31.782241Z",
     "iopub.status.busy": "2024-05-17T14:23:31.782046Z",
     "iopub.status.idle": "2024-05-17T14:23:31.784724Z",
     "shell.execute_reply": "2024-05-17T14:23:31.784378Z",
     "shell.execute_reply.started": "2024-05-17T14:23:31.782226Z"
    }
   },
   "outputs": [
    {
     "name": "stdout",
     "output_type": "stream",
     "text": [
      "[\n",
      "  {\n",
      "    \"@id\": \"http://example.com/ns#1.0\",\n",
      "    \"@type\": [\n",
      "      \"https://schema.org/Dataset\"\n",
      "    ],\n",
      "    \"https://schema.org/name\": [\n",
      "      {\n",
      "        \"@value\": \"Miami-Dade Home Owner's Loan Corporation (HOLC) Neighborhood Redlining Grade\"\n",
      "      }\n",
      "    ],\n",
      "    \"https://schema.org/publisher\": [\n",
      "      {\n",
      "        \"@type\": \"http://www.w3.org/2000/01/rdf-schema#Literal\",\n",
      "        \"@value\": \"University of Richmond's Digital Scholarship Lab Public Domain\"\n",
      "      }\n",
      "    ],\n",
      "    \"https://schema.org/spatialCoverage\": [\n",
      "      {\n",
      "        \"@id\": \"https://example.org/.well-known/genid/1.0\"\n",
      "      }\n",
      "    ]\n",
      "  },\n",
      "  {\n",
      "    \"@id\": \"https://example.org/.well-known/genid/1.0\",\n",
      "    \"@type\": [\n",
      "      \"https://schema.org/Place\"\n",
      "    ],\n",
      "    \"https://schema.org/name\": [\n",
      "      {\n",
      "        \"@type\": \"http://www.w3.org/2000/01/rdf-schema#Literal\",\n",
      "        \"@value\": \"United States\"\n",
      "      }\n",
      "    ]\n",
      "  }\n",
      "]\n"
     ]
    }
   ],
   "source": [
    "print(ts)"
   ]
  },
  {
   "cell_type": "code",
   "execution_count": 31,
   "id": "19d07f2c-c2d6-48ea-9a19-78e430805bf0",
   "metadata": {
    "ExecuteTime": {
     "end_time": "2024-05-17T13:05:27.738246Z",
     "start_time": "2024-05-17T13:05:27.707327Z"
    },
    "execution": {
     "iopub.execute_input": "2024-05-17T13:48:20.311374Z",
     "iopub.status.busy": "2024-05-17T13:48:20.311205Z",
     "iopub.status.idle": "2024-05-17T13:48:20.342784Z",
     "shell.execute_reply": "2024-05-17T13:48:20.342393Z",
     "shell.execute_reply.started": "2024-05-17T13:48:20.311360Z"
    }
   },
   "outputs": [
    {
     "data": {
      "image/svg+xml": [
       "<?xml version=\"1.0\" encoding=\"UTF-8\" standalone=\"no\"?>\n",
       "<!DOCTYPE svg PUBLIC \"-//W3C//DTD SVG 1.1//EN\"\n",
       " \"http://www.w3.org/Graphics/SVG/1.1/DTD/svg11.dtd\">\n",
       "<!-- Generated by graphviz version 8.1.0 (20230707.0739)\n",
       " -->\n",
       "<!-- Pages: 1 -->\n",
       "<svg width=\"841pt\" height=\"233pt\"\n",
       " viewBox=\"0.00 0.00 840.58 233.00\" xmlns=\"http://www.w3.org/2000/svg\" xmlns:xlink=\"http://www.w3.org/1999/xlink\">\n",
       "<g id=\"graph0\" class=\"graph\" transform=\"scale(1 1) rotate(0) translate(4 229)\">\n",
       "<polygon fill=\"white\" stroke=\"none\" points=\"-4,4 -4,-229 836.58,-229 836.58,4 -4,4\"/>\n",
       "<!-- Dataset -->\n",
       "<g id=\"node1\" class=\"node\">\n",
       "<title>Dataset</title>\n",
       "<ellipse fill=\"none\" stroke=\"#558855\" cx=\"391.41\" cy=\"-207\" rx=\"50.16\" ry=\"18\"/>\n",
       "<text text-anchor=\"middle\" x=\"391.41\" y=\"-202.32\" font-family=\"Times,serif\" font-size=\"14.00\">Dataset</text>\n",
       "</g>\n",
       "<!-- 1.0 -->\n",
       "<g id=\"node2\" class=\"node\">\n",
       "<title>1.0</title>\n",
       "<ellipse fill=\"none\" stroke=\"black\" cx=\"27.01\" cy=\"-126\" rx=\"27.01\" ry=\"18\"/>\n",
       "<text text-anchor=\"middle\" x=\"27.01\" y=\"-121.33\" font-family=\"Times,serif\" font-size=\"14.00\">1.0</text>\n",
       "</g>\n",
       "<!-- 1.0&#45;&gt;Dataset -->\n",
       "<g id=\"edge1\" class=\"edge\">\n",
       "<title>1.0&#45;&gt;Dataset</title>\n",
       "<path fill=\"none\" stroke=\"black\" d=\"M44.02,-140.45C51.92,-146.81 61.9,-153.77 72.01,-158 157.06,-193.56 264.58,-203.64 330.38,-206.31\"/>\n",
       "<polygon fill=\"black\" stroke=\"black\" points=\"329.85,-209.83 339.97,-206.69 330.1,-202.84 329.85,-209.83\"/>\n",
       "<text text-anchor=\"middle\" x=\"129.76\" y=\"-192.95\" font-family=\"Times,serif\" font-size=\"14.00\">type</text>\n",
       "</g>\n",
       "<!-- &quot;Miami&#45;Dade Home Owne...&quot; -->\n",
       "<g id=\"node3\" class=\"node\">\n",
       "<title>&quot;Miami&#45;Dade Home Owne...&quot;</title>\n",
       "<ellipse fill=\"none\" stroke=\"black\" stroke-width=\"0\" cx=\"391.41\" cy=\"-153\" rx=\"154.85\" ry=\"18\"/>\n",
       "<text text-anchor=\"middle\" x=\"391.41\" y=\"-148.32\" font-family=\"Times,serif\" font-size=\"14.00\">&quot;Miami&#45;Dade Home Owne...&quot;</text>\n",
       "</g>\n",
       "<!-- 1.0&#45;&gt;&quot;Miami&#45;Dade Home Owne...&quot; -->\n",
       "<g id=\"edge2\" class=\"edge\">\n",
       "<title>1.0&#45;&gt;&quot;Miami&#45;Dade Home Owne...&quot;</title>\n",
       "<path fill=\"none\" stroke=\"black\" d=\"M54.07,-127.94C95.06,-131 177.46,-137.13 250.44,-142.57\"/>\n",
       "<polygon fill=\"black\" stroke=\"black\" points=\"249.9,-146.12 260.13,-143.37 250.42,-139.14 249.9,-146.12\"/>\n",
       "<text text-anchor=\"middle\" x=\"129.76\" y=\"-140.95\" font-family=\"Times,serif\" font-size=\"14.00\">name</text>\n",
       "</g>\n",
       "<!-- &quot;University of Richmo...&quot; -->\n",
       "<g id=\"node4\" class=\"node\">\n",
       "<title>&quot;University of Richmo...&quot;</title>\n",
       "<ellipse fill=\"none\" stroke=\"black\" stroke-width=\"0\" cx=\"391.41\" cy=\"-99\" rx=\"135.91\" ry=\"18\"/>\n",
       "<text text-anchor=\"middle\" x=\"391.41\" y=\"-94.33\" font-family=\"Times,serif\" font-size=\"14.00\">&quot;University of Richmo...&quot;</text>\n",
       "</g>\n",
       "<!-- 1.0&#45;&gt;&quot;University of Richmo...&quot; -->\n",
       "<g id=\"edge3\" class=\"edge\">\n",
       "<title>1.0&#45;&gt;&quot;University of Richmo...&quot;</title>\n",
       "<path fill=\"none\" stroke=\"black\" d=\"M48.99,-115.47C56.12,-112.39 64.25,-109.41 72.01,-107.75 131.33,-95.09 198.26,-91.67 255.4,-91.9\"/>\n",
       "<polygon fill=\"black\" stroke=\"black\" points=\"255.29,-95.41 265.32,-91.99 255.35,-88.41 255.29,-95.41\"/>\n",
       "<text text-anchor=\"middle\" x=\"129.76\" y=\"-110.95\" font-family=\"Times,serif\" font-size=\"14.00\">publisher</text>\n",
       "</g>\n",
       "<!-- example.org/.well&#45;known/genid/1.0 -->\n",
       "<g id=\"node5\" class=\"node\">\n",
       "<title>example.org/.well&#45;known/genid/1.0</title>\n",
       "<ellipse fill=\"none\" stroke=\"#558855\" cx=\"391.41\" cy=\"-45\" rx=\"185.89\" ry=\"18\"/>\n",
       "<text text-anchor=\"middle\" x=\"391.41\" y=\"-40.33\" font-family=\"Times,serif\" font-size=\"14.00\">example.org/.well&#45;known/genid/1.0</text>\n",
       "</g>\n",
       "<!-- 1.0&#45;&gt;example.org/.well&#45;known/genid/1.0 -->\n",
       "<g id=\"edge4\" class=\"edge\">\n",
       "<title>1.0&#45;&gt;example.org/.well&#45;known/genid/1.0</title>\n",
       "<path fill=\"none\" stroke=\"black\" d=\"M36.89,-108.88C44.42,-96.28 56.47,-79.97 72.01,-71.75 121.32,-45.67 181.01,-35.95 235.32,-33.76\"/>\n",
       "<polygon fill=\"black\" stroke=\"black\" points=\"235.22,-37.24 245.1,-33.42 235,-30.24 235.22,-37.24\"/>\n",
       "<text text-anchor=\"middle\" x=\"129.76\" y=\"-74.95\" font-family=\"Times,serif\" font-size=\"14.00\">spatialCoverage</text>\n",
       "</g>\n",
       "<!-- Place -->\n",
       "<g id=\"node6\" class=\"node\">\n",
       "<title>Place</title>\n",
       "<ellipse fill=\"none\" stroke=\"#558855\" cx=\"742.44\" cy=\"-72\" rx=\"38.06\" ry=\"18\"/>\n",
       "<text text-anchor=\"middle\" x=\"742.44\" y=\"-67.33\" font-family=\"Times,serif\" font-size=\"14.00\">Place</text>\n",
       "</g>\n",
       "<!-- example.org/.well&#45;known/genid/1.0&#45;&gt;Place -->\n",
       "<g id=\"edge5\" class=\"edge\">\n",
       "<title>example.org/.well&#45;known/genid/1.0&#45;&gt;Place</title>\n",
       "<path fill=\"none\" stroke=\"black\" d=\"M538.66,-56.31C594.29,-60.62 653.85,-65.22 693.93,-68.32\"/>\n",
       "<polygon fill=\"black\" stroke=\"black\" points=\"693.45,-71.88 703.69,-69.16 693.99,-64.9 693.45,-71.88\"/>\n",
       "<text text-anchor=\"middle\" x=\"614.8\" y=\"-66.95\" font-family=\"Times,serif\" font-size=\"14.00\">type</text>\n",
       "</g>\n",
       "<!-- &quot;United States&quot; -->\n",
       "<g id=\"node7\" class=\"node\">\n",
       "<title>&quot;United States&quot;</title>\n",
       "<ellipse fill=\"none\" stroke=\"black\" stroke-width=\"0\" cx=\"742.44\" cy=\"-18\" rx=\"90.14\" ry=\"18\"/>\n",
       "<text text-anchor=\"middle\" x=\"742.44\" y=\"-13.32\" font-family=\"Times,serif\" font-size=\"14.00\">&quot;United States&quot;</text>\n",
       "</g>\n",
       "<!-- example.org/.well&#45;known/genid/1.0&#45;&gt;&quot;United States&quot; -->\n",
       "<g id=\"edge6\" class=\"edge\">\n",
       "<title>example.org/.well&#45;known/genid/1.0&#45;&gt;&quot;United States&quot;</title>\n",
       "<path fill=\"none\" stroke=\"black\" d=\"M538.66,-33.69C575.55,-30.83 614.17,-27.85 647.69,-25.25\"/>\n",
       "<polygon fill=\"black\" stroke=\"black\" points=\"647.69,-28.69 657.39,-24.42 647.15,-21.71 647.69,-28.69\"/>\n",
       "<text text-anchor=\"middle\" x=\"614.8\" y=\"-32.95\" font-family=\"Times,serif\" font-size=\"14.00\">name</text>\n",
       "</g>\n",
       "</g>\n",
       "</svg>\n"
      ],
      "text/plain": [
       "<graphviz.graphs.Digraph at 0x7f304d4882e0>"
      ]
     },
     "execution_count": 31,
     "metadata": {},
     "output_type": "execute_result"
    }
   ],
   "source": [
    "tsld = json.loads(ts)\n",
    "jbutils.show_graph(tsld)"
   ]
  },
  {
   "cell_type": "markdown",
   "id": "d9c1ab8f5997c7a6",
   "metadata": {},
   "source": [
    "## Process full graph\n",
    "\n",
    "Once we are happy with the mapping we can loop all the records and load them into an inprocess triplestore\n",
    "\n",
    "loop the df and load the ntriples into oxigraph and query\n"
   ]
  },
  {
   "cell_type": "code",
   "execution_count": 47,
   "id": "bee222e5-6f1d-4730-af7f-56eb8d5de7ef",
   "metadata": {
    "ExecuteTime": {
     "end_time": "2024-05-17T13:05:40.625856Z",
     "start_time": "2024-05-17T13:05:40.394414Z"
    },
    "execution": {
     "iopub.execute_input": "2024-05-17T14:25:13.972561Z",
     "iopub.status.busy": "2024-05-17T14:25:13.972151Z",
     "iopub.status.idle": "2024-05-17T14:25:13.982258Z",
     "shell.execute_reply": "2024-05-17T14:25:13.981779Z",
     "shell.execute_reply.started": "2024-05-17T14:25:13.972545Z"
    }
   },
   "outputs": [
    {
     "ename": "OSError",
     "evalue": "IO error: lock hold by current process, acquire time 1715951433 acquiring thread 139846273041280: ./store2/LOCK: No locks available",
     "output_type": "error",
     "traceback": [
      "\u001b[0;31m---------------------------------------------------------------------------\u001b[0m",
      "\u001b[0;31mOSError\u001b[0m                                   Traceback (most recent call last)",
      "\u001b[0;32m/tmp/ipykernel_3843882/3515565200.py\u001b[0m in \u001b[0;36m<module>\u001b[0;34m\u001b[0m\n\u001b[1;32m      1\u001b[0m \u001b[0;31m# store = pyoxigraph.Store()  #    store = pyoxigraph.Store(path=\"./store\") # use path for disk store\u001b[0m\u001b[0;34m\u001b[0m\u001b[0;34m\u001b[0m\u001b[0m\n\u001b[0;32m----> 2\u001b[0;31m \u001b[0mdiskstore\u001b[0m \u001b[0;34m=\u001b[0m \u001b[0mpyoxigraph\u001b[0m\u001b[0;34m.\u001b[0m\u001b[0mStore\u001b[0m\u001b[0;34m(\u001b[0m\u001b[0mpath\u001b[0m\u001b[0;34m=\u001b[0m\u001b[0;34m\"./store2\"\u001b[0m\u001b[0;34m)\u001b[0m\u001b[0;34m\u001b[0m\u001b[0;34m\u001b[0m\u001b[0m\n\u001b[0m\u001b[1;32m      3\u001b[0m \u001b[0mmime_type\u001b[0m \u001b[0;34m=\u001b[0m \u001b[0;34m\"application/n-triples\"\u001b[0m   \u001b[0;31m# application/n-triples or application/n-quads if you are loading those from data raw\u001b[0m\u001b[0;34m\u001b[0m\u001b[0;34m\u001b[0m\u001b[0m\n",
      "\u001b[0;31mOSError\u001b[0m: IO error: lock hold by current process, acquire time 1715951433 acquiring thread 139846273041280: ./store2/LOCK: No locks available"
     ]
    }
   ],
   "source": [
    "# store = pyoxigraph.Store()  #    store = pyoxigraph.Store(path=\"./store\") # use path for disk store\n",
    "diskstore = pyoxigraph.Store(path=\"./store2\")\n",
    "mime_type = \"application/n-triples\"   # application/n-triples or application/n-quads if you are loading those from data raw"
   ]
  },
  {
   "cell_type": "code",
   "execution_count": 48,
   "id": "a8539ede-f0ad-4f9a-ad93-f7e60a36b43d",
   "metadata": {
    "ExecuteTime": {
     "end_time": "2024-05-17T13:05:41.611999Z",
     "start_time": "2024-05-17T13:05:40.790736Z"
    },
    "execution": {
     "iopub.execute_input": "2024-05-17T14:25:14.636731Z",
     "iopub.status.busy": "2024-05-17T14:25:14.636385Z",
     "iopub.status.idle": "2024-05-17T14:25:15.590112Z",
     "shell.execute_reply": "2024-05-17T14:25:15.589573Z",
     "shell.execute_reply.started": "2024-05-17T14:25:14.636709Z"
    }
   },
   "outputs": [],
   "source": [
    "config = \"\"\"\n",
    "    [DataSource]\n",
    "    mappings=./florida.ttl\n",
    "\"\"\"\n",
    "\n",
    "# # Loop through rows using iterrows\n",
    "# for index, row in df.iterrows():\n",
    "#     print(f\"Index: {index}, Name: {row['Name']}, Age: {row['Age']}\")\n",
    "\n",
    "data_dict = {\"variable1\": df}\n",
    "    \n",
    "g_rdflib = morph_kgc.materialize(config, data_dict)\n",
    "ts2 = g_rdflib.serialize(format=\"nt\")\n",
    "    \n",
    "diskstore.bulk_load(io.StringIO(ts2), mime_type, base_iri=None, to_graph=None)"
   ]
  },
  {
   "cell_type": "code",
   "execution_count": 49,
   "id": "2dc4cca9-294e-4378-b603-aa7abbb072c7",
   "metadata": {
    "ExecuteTime": {
     "end_time": "2024-05-17T13:05:41.664507Z",
     "start_time": "2024-05-17T13:05:41.657201Z"
    },
    "execution": {
     "iopub.execute_input": "2024-05-17T14:25:15.591151Z",
     "iopub.status.busy": "2024-05-17T14:25:15.590983Z",
     "iopub.status.idle": "2024-05-17T14:25:15.601614Z",
     "shell.execute_reply": "2024-05-17T14:25:15.601163Z",
     "shell.execute_reply.started": "2024-05-17T14:25:15.591136Z"
    }
   },
   "outputs": [],
   "source": [
    "qtypetype = \"\"\"\tPREFIX rdf: <http://www.w3.org/1999/02/22-rdf-syntax-ns#>\n",
    "PREFIX rdfs: <http://www.w3.org/2000/01/rdf-schema#>\n",
    "PREFIX xsd: <http://www.w3.org/2001/XMLSchema#>\n",
    "PREFIX schema: <https://schema.org/>\n",
    "\n",
    "SELECT DISTINCT ?source ?type ?target ?sType ?tType ?coverage\n",
    "WHERE {\n",
    "    ?source a ?sType .\n",
    "    ?target a ?tType .\n",
    "    ?target schema:name ?coverage .\n",
    "    ?source ?type ?target .\n",
    "}\n",
    "\"\"\"\n",
    "\n",
    "q2 = list(diskstore.query(qtypetype))"
   ]
  },
  {
   "cell_type": "code",
   "execution_count": 50,
   "id": "44381283-82a2-434b-bb6a-8a436a0a3f0b",
   "metadata": {
    "ExecuteTime": {
     "end_time": "2024-05-17T13:05:42.136671Z",
     "start_time": "2024-05-17T13:05:42.132939Z"
    },
    "execution": {
     "iopub.execute_input": "2024-05-17T14:25:16.165300Z",
     "iopub.status.busy": "2024-05-17T14:25:16.164821Z",
     "iopub.status.idle": "2024-05-17T14:25:16.168572Z",
     "shell.execute_reply": "2024-05-17T14:25:16.168162Z",
     "shell.execute_reply.started": "2024-05-17T14:25:16.165282Z"
    }
   },
   "outputs": [],
   "source": [
    "dfq = pd.DataFrame(q2)"
   ]
  },
  {
   "cell_type": "code",
   "execution_count": 51,
   "id": "2c34efc5-411d-4073-bdff-3a494fc40627",
   "metadata": {
    "ExecuteTime": {
     "end_time": "2024-05-17T13:05:42.537688Z",
     "start_time": "2024-05-17T13:05:42.534747Z"
    },
    "execution": {
     "iopub.execute_input": "2024-05-17T14:25:16.581045Z",
     "iopub.status.busy": "2024-05-17T14:25:16.580687Z",
     "iopub.status.idle": "2024-05-17T14:25:16.583818Z",
     "shell.execute_reply": "2024-05-17T14:25:16.583411Z",
     "shell.execute_reply.started": "2024-05-17T14:25:16.581023Z"
    }
   },
   "outputs": [],
   "source": [
    "dfq.rename(columns={0: 'source', 1: 'type', 2:  'target', 3: 'sType', 4: 'tType', 5 : \"coverage\"}, inplace=True)"
   ]
  },
  {
   "cell_type": "code",
   "execution_count": 52,
   "id": "4fe5884a-31d2-4104-bd47-0af16e906448",
   "metadata": {
    "ExecuteTime": {
     "end_time": "2024-05-17T13:05:42.961085Z",
     "start_time": "2024-05-17T13:05:42.955182Z"
    },
    "execution": {
     "iopub.execute_input": "2024-05-17T14:25:16.919395Z",
     "iopub.status.busy": "2024-05-17T14:25:16.918941Z",
     "iopub.status.idle": "2024-05-17T14:25:16.925450Z",
     "shell.execute_reply": "2024-05-17T14:25:16.925081Z",
     "shell.execute_reply.started": "2024-05-17T14:25:16.919379Z"
    }
   },
   "outputs": [
    {
     "data": {
      "text/html": [
       "<div>\n",
       "<style scoped>\n",
       "    .dataframe tbody tr th:only-of-type {\n",
       "        vertical-align: middle;\n",
       "    }\n",
       "\n",
       "    .dataframe tbody tr th {\n",
       "        vertical-align: top;\n",
       "    }\n",
       "\n",
       "    .dataframe thead th {\n",
       "        text-align: right;\n",
       "    }\n",
       "</style>\n",
       "<table border=\"1\" class=\"dataframe\">\n",
       "  <thead>\n",
       "    <tr style=\"text-align: right;\">\n",
       "      <th></th>\n",
       "      <th>source</th>\n",
       "      <th>type</th>\n",
       "      <th>target</th>\n",
       "      <th>sType</th>\n",
       "      <th>tType</th>\n",
       "      <th>coverage</th>\n",
       "    </tr>\n",
       "  </thead>\n",
       "  <tbody>\n",
       "    <tr>\n",
       "      <th>0</th>\n",
       "      <td>&lt;http://example.com/ns#8.0&gt;</td>\n",
       "      <td>&lt;https://schema.org/spatialCoverage&gt;</td>\n",
       "      <td>&lt;https://example.org/.well-known/genid/8.0&gt;</td>\n",
       "      <td>&lt;https://schema.org/Dataset&gt;</td>\n",
       "      <td>&lt;https://schema.org/Place&gt;</td>\n",
       "      <td>\"United States|Florida\"^^&lt;http://www.w3.org/20...</td>\n",
       "    </tr>\n",
       "    <tr>\n",
       "      <th>1</th>\n",
       "      <td>&lt;http://example.com/ns#22.0&gt;</td>\n",
       "      <td>&lt;https://schema.org/spatialCoverage&gt;</td>\n",
       "      <td>&lt;https://example.org/.well-known/genid/22.0&gt;</td>\n",
       "      <td>&lt;https://schema.org/Dataset&gt;</td>\n",
       "      <td>&lt;https://schema.org/Place&gt;</td>\n",
       "      <td>\"United States|Florida|Miami Dade County\"^^&lt;ht...</td>\n",
       "    </tr>\n",
       "    <tr>\n",
       "      <th>2</th>\n",
       "      <td>&lt;http://example.com/ns#75.0&gt;</td>\n",
       "      <td>&lt;https://schema.org/spatialCoverage&gt;</td>\n",
       "      <td>&lt;https://example.org/.well-known/genid/75.0&gt;</td>\n",
       "      <td>&lt;https://schema.org/Dataset&gt;</td>\n",
       "      <td>&lt;https://schema.org/Place&gt;</td>\n",
       "      <td>\"United States\"^^&lt;http://www.w3.org/2000/01/rd...</td>\n",
       "    </tr>\n",
       "    <tr>\n",
       "      <th>3</th>\n",
       "      <td>&lt;http://example.com/ns#28.0&gt;</td>\n",
       "      <td>&lt;https://schema.org/spatialCoverage&gt;</td>\n",
       "      <td>&lt;https://example.org/.well-known/genid/28.0&gt;</td>\n",
       "      <td>&lt;https://schema.org/Dataset&gt;</td>\n",
       "      <td>&lt;https://schema.org/Place&gt;</td>\n",
       "      <td>\"United States|Florida|Miami Dade County\"^^&lt;ht...</td>\n",
       "    </tr>\n",
       "    <tr>\n",
       "      <th>4</th>\n",
       "      <td>&lt;http://example.com/ns#81.0&gt;</td>\n",
       "      <td>&lt;https://schema.org/spatialCoverage&gt;</td>\n",
       "      <td>&lt;https://example.org/.well-known/genid/81.0&gt;</td>\n",
       "      <td>&lt;https://schema.org/Dataset&gt;</td>\n",
       "      <td>&lt;https://schema.org/Place&gt;</td>\n",
       "      <td>\"United States|Florida\"^^&lt;http://www.w3.org/20...</td>\n",
       "    </tr>\n",
       "  </tbody>\n",
       "</table>\n",
       "</div>"
      ],
      "text/plain": [
       "                         source                                  type  \\\n",
       "0   <http://example.com/ns#8.0>  <https://schema.org/spatialCoverage>   \n",
       "1  <http://example.com/ns#22.0>  <https://schema.org/spatialCoverage>   \n",
       "2  <http://example.com/ns#75.0>  <https://schema.org/spatialCoverage>   \n",
       "3  <http://example.com/ns#28.0>  <https://schema.org/spatialCoverage>   \n",
       "4  <http://example.com/ns#81.0>  <https://schema.org/spatialCoverage>   \n",
       "\n",
       "                                         target                         sType  \\\n",
       "0   <https://example.org/.well-known/genid/8.0>  <https://schema.org/Dataset>   \n",
       "1  <https://example.org/.well-known/genid/22.0>  <https://schema.org/Dataset>   \n",
       "2  <https://example.org/.well-known/genid/75.0>  <https://schema.org/Dataset>   \n",
       "3  <https://example.org/.well-known/genid/28.0>  <https://schema.org/Dataset>   \n",
       "4  <https://example.org/.well-known/genid/81.0>  <https://schema.org/Dataset>   \n",
       "\n",
       "                        tType  \\\n",
       "0  <https://schema.org/Place>   \n",
       "1  <https://schema.org/Place>   \n",
       "2  <https://schema.org/Place>   \n",
       "3  <https://schema.org/Place>   \n",
       "4  <https://schema.org/Place>   \n",
       "\n",
       "                                            coverage  \n",
       "0  \"United States|Florida\"^^<http://www.w3.org/20...  \n",
       "1  \"United States|Florida|Miami Dade County\"^^<ht...  \n",
       "2  \"United States\"^^<http://www.w3.org/2000/01/rd...  \n",
       "3  \"United States|Florida|Miami Dade County\"^^<ht...  \n",
       "4  \"United States|Florida\"^^<http://www.w3.org/20...  "
      ]
     },
     "execution_count": 52,
     "metadata": {},
     "output_type": "execute_result"
    }
   ],
   "source": [
    "dfq.head(5)"
   ]
  },
  {
   "cell_type": "code",
   "execution_count": 53,
   "id": "6498370b-7669-41dd-8d47-68c80c2f92dc",
   "metadata": {
    "ExecuteTime": {
     "end_time": "2024-05-17T13:05:43.975776Z",
     "start_time": "2024-05-17T13:05:43.959724Z"
    },
    "execution": {
     "iopub.execute_input": "2024-05-17T14:25:17.612602Z",
     "iopub.status.busy": "2024-05-17T14:25:17.612434Z",
     "iopub.status.idle": "2024-05-17T14:25:17.632918Z",
     "shell.execute_reply": "2024-05-17T14:25:17.632441Z",
     "shell.execute_reply.started": "2024-05-17T14:25:17.612588Z"
    }
   },
   "outputs": [],
   "source": [
    "#  yeah, I get it...   don't iterate rows...  PR's welcome for this, being bad is too easy!  \n",
    "# for index, row in nodes.iterrows():\n",
    "#    g.add_node(row['Id'])\n",
    "g = GraphML()\n",
    "g.directed = False\n",
    "\n",
    "for index, row in dfq.iterrows():\n",
    "    n1 = g.add_node(row['source'])\n",
    "    n1['type'] = row['sType']\n",
    "\n",
    "    n2 = g.add_node(row['coverage'])\n",
    "    n2['type'] = row['tType']\n",
    "\n",
    "    e1 = g.add_edge(n1, n2)\n",
    "    e1['type'] = row['type']\n",
    "\n",
    "\n",
    "fname = \"testGraphML_hashed.graphml\"\n",
    "parser = GraphMLParser()\n",
    "parser.write(g, fname)"
   ]
  },
  {
   "cell_type": "code",
   "execution_count": 54,
   "id": "ec4d9570-dcdb-4762-b142-4682444e0e3c",
   "metadata": {
    "ExecuteTime": {
     "end_time": "2024-05-17T13:05:46.637122Z",
     "start_time": "2024-05-17T13:05:46.628913Z"
    },
    "execution": {
     "iopub.execute_input": "2024-05-17T14:25:19.021034Z",
     "iopub.status.busy": "2024-05-17T14:25:19.020726Z",
     "iopub.status.idle": "2024-05-17T14:25:19.027422Z",
     "shell.execute_reply": "2024-05-17T14:25:19.027010Z",
     "shell.execute_reply.started": "2024-05-17T14:25:19.021020Z"
    }
   },
   "outputs": [],
   "source": [
    "g = nx.read_graphml(\"testGraphML_hashed.graphml\")"
   ]
  },
  {
   "cell_type": "code",
   "execution_count": 55,
   "id": "19b9c21f-866d-4abb-b3e5-0b0ab6aad110",
   "metadata": {
    "ExecuteTime": {
     "end_time": "2024-05-17T13:05:53.334476Z",
     "start_time": "2024-05-17T13:05:53.323943Z"
    },
    "execution": {
     "iopub.execute_input": "2024-05-17T14:25:19.839537Z",
     "iopub.status.busy": "2024-05-17T14:25:19.839362Z",
     "iopub.status.idle": "2024-05-17T14:25:19.848990Z",
     "shell.execute_reply": "2024-05-17T14:25:19.848638Z",
     "shell.execute_reply.started": "2024-05-17T14:25:19.839522Z"
    }
   },
   "outputs": [
    {
     "data": {
      "application/vnd.jupyter.widget-view+json": {
       "model_id": "08d78b1bec0c4aaaa8aec287f4ce4dac",
       "version_major": 2,
       "version_minor": 0
      },
      "text/plain": [
       "Sigma(nx.Graph with 118 nodes and 104 edges)"
      ]
     },
     "metadata": {},
     "output_type": "display_data"
    }
   ],
   "source": [
    "Sigma(\n",
    "    g,\n",
    "    node_size=g.degree,\n",
    "    default_edge_type='curve',\n",
    "    node_border_color_from='node',\n",
    "    node_metrics=['louvain'],\n",
    "    node_color='type',\n",
    "    start_layout=5,\n",
    "    edge_size=lambda u, v: g.degree(u) + g.degree(v),\n",
    "    edge_size_range=(0.5, 5),\n",
    "    label_font='cursive',\n",
    "    node_label_size=g.degree,\n",
    "    label_density=0\n",
    ")"
   ]
  },
  {
   "cell_type": "code",
   "execution_count": 56,
   "id": "d9cd96f7-ac35-4017-a339-5b4071829113",
   "metadata": {
    "ExecuteTime": {
     "end_time": "2024-05-17T13:05:58.437603Z",
     "start_time": "2024-05-17T13:05:58.434817Z"
    },
    "execution": {
     "iopub.execute_input": "2024-05-17T14:25:49.934371Z",
     "iopub.status.busy": "2024-05-17T14:25:49.933932Z",
     "iopub.status.idle": "2024-05-17T14:25:49.937081Z",
     "shell.execute_reply": "2024-05-17T14:25:49.936723Z",
     "shell.execute_reply.started": "2024-05-17T14:25:49.934325Z"
    }
   },
   "outputs": [],
   "source": [
    "from typing import Union, Any\n",
    "\n",
    "def custom_node_color_mapping(node: dict[str, Any]):\n",
    "    \"\"\"let the color be orange or blue if the index is even or odd respectively\"\"\"\n",
    "    return (\"#eb4934\" if node['properties']['type'] == \"Dataset\" else \"#2456d4\")"
   ]
  },
  {
   "cell_type": "code",
   "execution_count": 57,
   "id": "ec884a6a-a4ef-46c9-9704-5ab0f3f225c7",
   "metadata": {
    "ExecuteTime": {
     "end_time": "2024-05-17T13:05:58.661488Z",
     "start_time": "2024-05-17T13:05:58.631803Z"
    },
    "execution": {
     "iopub.execute_input": "2024-05-17T14:25:51.293302Z",
     "iopub.status.busy": "2024-05-17T14:25:51.293136Z",
     "iopub.status.idle": "2024-05-17T14:25:51.316753Z",
     "shell.execute_reply": "2024-05-17T14:25:51.316408Z",
     "shell.execute_reply.started": "2024-05-17T14:25:51.293289Z"
    }
   },
   "outputs": [
    {
     "data": {
      "application/vnd.jupyter.widget-view+json": {
       "model_id": "be1324c1feb2411ba2296227f6669677",
       "version_major": 2,
       "version_minor": 0
      },
      "text/plain": [
       "GraphWidget(layout=Layout(height='800px', width='100%'))"
      ]
     },
     "metadata": {},
     "output_type": "display_data"
    }
   ],
   "source": [
    "from yfiles_jupyter_graphs import GraphWidget\n",
    "\n",
    "w = GraphWidget(graph=g)\n",
    "w.set_sidebar(enabled=False)\n",
    "w.set_node_color_mapping(custom_node_color_mapping)\n",
    "\n",
    "display(w)"
   ]
  },
  {
   "cell_type": "code",
   "execution_count": null,
   "id": "a0cddb40-536f-4db1-90df-5b8d3d003151",
   "metadata": {},
   "outputs": [],
   "source": []
  }
 ],
 "metadata": {
  "kernelspec": {
   "display_name": "Python 3 (ipykernel)",
   "language": "python",
   "name": "python3"
  },
  "language_info": {
   "codemirror_mode": {
    "name": "ipython",
    "version": 3
   },
   "file_extension": ".py",
   "mimetype": "text/x-python",
   "name": "python",
   "nbconvert_exporter": "python",
   "pygments_lexer": "ipython3",
   "version": "3.10.12"
  }
 },
 "nbformat": 4,
 "nbformat_minor": 5
}
