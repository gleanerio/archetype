{
 "cells": [
  {
   "cell_type": "markdown",
   "id": "6a6857b586072514",
   "metadata": {},
   "source": [
    " # Graph Exploring\n",
    " Simple notebook to load and query the JSON-LD documents.\n",
    " "
   ]
  },
  {
   "cell_type": "code",
   "execution_count": 1,
   "id": "2882bcf2-836c-453c-96fb-f0e634887de6",
   "metadata": {
    "tags": []
   },
   "outputs": [
    {
     "name": "stdout",
     "output_type": "stream",
     "text": [
      "The graph_notebook.magics extension is already loaded. To reload it, use:\n",
      "  %reload_ext graph_notebook.magics\n"
     ]
    }
   ],
   "source": [
    "%load_ext graph_notebook.magics"
   ]
  },
  {
   "cell_type": "code",
   "execution_count": 2,
   "id": "initial_id",
   "metadata": {
    "tags": []
   },
   "outputs": [
    {
     "name": "stdout",
     "output_type": "stream",
     "text": [
      "set notebook config to:\n",
      "{\n",
      "  \"host\": \"localhost\",\n",
      "  \"port\": 7878,\n",
      "  \"proxy_host\": \"\",\n",
      "  \"proxy_port\": 8182,\n",
      "  \"ssl\": false,\n",
      "  \"ssl_verify\": true,\n",
      "  \"sparql\": {\n",
      "    \"path\": \"query\"\n",
      "  },\n",
      "  \"gremlin\": {\n",
      "    \"traversal_source\": \"g\",\n",
      "    \"username\": \"\",\n",
      "    \"password\": \"\",\n",
      "    \"message_serializer\": \"graphsonv3\"\n",
      "  },\n",
      "  \"neo4j\": {\n",
      "    \"username\": \"neo4j\",\n",
      "    \"password\": \"password\",\n",
      "    \"auth\": true,\n",
      "    \"database\": null\n",
      "  }\n",
      "}\n"
     ]
    },
    {
     "data": {
      "text/plain": [
       "<graph_notebook.configuration.generate_config.Configuration at 0x7fe309973ac0>"
      ]
     },
     "execution_count": 2,
     "metadata": {},
     "output_type": "execute_result"
    }
   ],
   "source": [
    "%%graph_notebook_config\n",
    "\n",
    "{\n",
    "  \"host\": \"localhost\",\n",
    "  \"port\": 7878,\n",
    "  \"ssl\": false,\n",
    "  \"sparql\": {\n",
    "    \"path\": \"query\"\n",
    "  }\n",
    "}"
   ]
  },
  {
   "cell_type": "code",
   "execution_count": 3,
   "id": "05836b65-fbfe-4af5-a93a-4159d3444cf2",
   "metadata": {
    "tags": []
   },
   "outputs": [
    {
     "data": {
      "application/vnd.jupyter.widget-view+json": {
       "model_id": "94a45d841ff3424aae06421fac57685a",
       "version_major": 2,
       "version_minor": 0
      },
      "text/plain": [
       "Tab(children=(Output(layout=Layout(max_height='600px', max_width='940px', overflow='scroll')), Force(network=<…"
      ]
     },
     "metadata": {},
     "output_type": "display_data"
    }
   ],
   "source": [
    "%%sparql\n",
    "SELECT ?s ?p ?o WHERE {?s ?p ?o} LIMIT 1000"
   ]
  },
  {
   "cell_type": "code",
   "execution_count": null,
   "id": "40380a16-fbf7-47d1-9684-4985a8683e8f",
   "metadata": {},
   "outputs": [],
   "source": []
  }
 ],
 "metadata": {
  "kernelspec": {
   "display_name": "Python 3",
   "language": "python",
   "name": "python3"
  },
  "language_info": {
   "codemirror_mode": {
    "name": "ipython",
    "version": 3
   },
   "file_extension": ".py",
   "mimetype": "text/x-python",
   "name": "python",
   "nbconvert_exporter": "python",
   "pygments_lexer": "ipython3",
   "version": "3.10.12"
  }
 },
 "nbformat": 4,
 "nbformat_minor": 5
}
